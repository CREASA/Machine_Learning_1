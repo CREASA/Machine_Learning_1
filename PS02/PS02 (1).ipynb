{
 "cells": [
  {
   "cell_type": "markdown",
   "id": "bb28274b-7486-4e01-8e4e-66f9b50c5a13",
   "metadata": {},
   "source": [
    "# PS 02"
   ]
  },
  {
   "cell_type": "markdown",
   "id": "a8c3eebb-fc6a-4de8-9a53-9f22758e29ef",
   "metadata": {},
   "source": [
    "### 1 Cleaning data "
   ]
  },
  {
   "cell_type": "code",
   "execution_count": 2,
   "id": "36edc34d-fed0-4f70-a7dc-2f69f4eaecc8",
   "metadata": {},
   "outputs": [],
   "source": [
    "# import the library\n",
    "import pandas as pd\n",
    "import numpy as np\n",
    "import matplotlib.pyplot as plt\n",
    "import seaborn as sns"
   ]
  },
  {
   "cell_type": "code",
   "execution_count": 3,
   "id": "34b29e8e-3248-4f43-ad1a-0707dda073bb",
   "metadata": {},
   "outputs": [],
   "source": [
    "# 1.1 Load the “gapminder” dataset\n",
    "gap_data = pd.read_csv('gapminder.csv', sep = '\\t')"
   ]
  },
  {
   "cell_type": "code",
   "execution_count": 4,
   "id": "72993a8f-06bf-460f-895c-d19ddcd17050",
   "metadata": {},
   "outputs": [
    {
     "data": {
      "text/plain": [
       "(13055, 25)"
      ]
     },
     "execution_count": 4,
     "metadata": {},
     "output_type": "execute_result"
    }
   ],
   "source": [
    "# 1.2 Check how many rows and columns do we have\n",
    "gap_data.shape"
   ]
  },
  {
   "cell_type": "code",
   "execution_count": 5,
   "id": "7d3d5c9c-ce35-4649-b1cd-005c5a314e2b",
   "metadata": {},
   "outputs": [
    {
     "data": {
      "text/html": [
       "<div>\n",
       "<style scoped>\n",
       "    .dataframe tbody tr th:only-of-type {\n",
       "        vertical-align: middle;\n",
       "    }\n",
       "\n",
       "    .dataframe tbody tr th {\n",
       "        vertical-align: top;\n",
       "    }\n",
       "\n",
       "    .dataframe thead th {\n",
       "        text-align: right;\n",
       "    }\n",
       "</style>\n",
       "<table border=\"1\" class=\"dataframe\">\n",
       "  <thead>\n",
       "    <tr style=\"text-align: right;\">\n",
       "      <th></th>\n",
       "      <th>iso3</th>\n",
       "      <th>name</th>\n",
       "      <th>iso2</th>\n",
       "      <th>region</th>\n",
       "      <th>sub-region</th>\n",
       "      <th>intermediate-region</th>\n",
       "      <th>time</th>\n",
       "      <th>totalPopulation</th>\n",
       "      <th>fertilityRate</th>\n",
       "      <th>lifeExpectancy</th>\n",
       "      <th>...</th>\n",
       "      <th>accessElectricity</th>\n",
       "      <th>agriculturalLand</th>\n",
       "      <th>agricultureTractors</th>\n",
       "      <th>cerealProduction</th>\n",
       "      <th>fertilizerHa</th>\n",
       "      <th>co2</th>\n",
       "      <th>greenhouseGases</th>\n",
       "      <th>co2_PC</th>\n",
       "      <th>pm2.5_35</th>\n",
       "      <th>battleDeaths</th>\n",
       "    </tr>\n",
       "  </thead>\n",
       "  <tbody>\n",
       "    <tr>\n",
       "      <th>0</th>\n",
       "      <td>ABW</td>\n",
       "      <td>Aruba</td>\n",
       "      <td>AW</td>\n",
       "      <td>Americas</td>\n",
       "      <td>Latin America and the Caribbean</td>\n",
       "      <td>Caribbean</td>\n",
       "      <td>1960.0</td>\n",
       "      <td>54211.0</td>\n",
       "      <td>4.820</td>\n",
       "      <td>65.662</td>\n",
       "      <td>...</td>\n",
       "      <td>NaN</td>\n",
       "      <td>NaN</td>\n",
       "      <td>NaN</td>\n",
       "      <td>NaN</td>\n",
       "      <td>NaN</td>\n",
       "      <td>11092.675</td>\n",
       "      <td>NaN</td>\n",
       "      <td>204.62037</td>\n",
       "      <td>NaN</td>\n",
       "      <td>NaN</td>\n",
       "    </tr>\n",
       "    <tr>\n",
       "      <th>1</th>\n",
       "      <td>ABW</td>\n",
       "      <td>Aruba</td>\n",
       "      <td>AW</td>\n",
       "      <td>Americas</td>\n",
       "      <td>Latin America and the Caribbean</td>\n",
       "      <td>Caribbean</td>\n",
       "      <td>1961.0</td>\n",
       "      <td>55438.0</td>\n",
       "      <td>4.655</td>\n",
       "      <td>66.074</td>\n",
       "      <td>...</td>\n",
       "      <td>NaN</td>\n",
       "      <td>20.0</td>\n",
       "      <td>NaN</td>\n",
       "      <td>NaN</td>\n",
       "      <td>NaN</td>\n",
       "      <td>11576.719</td>\n",
       "      <td>NaN</td>\n",
       "      <td>208.82281</td>\n",
       "      <td>NaN</td>\n",
       "      <td>NaN</td>\n",
       "    </tr>\n",
       "    <tr>\n",
       "      <th>2</th>\n",
       "      <td>ABW</td>\n",
       "      <td>Aruba</td>\n",
       "      <td>AW</td>\n",
       "      <td>Americas</td>\n",
       "      <td>Latin America and the Caribbean</td>\n",
       "      <td>Caribbean</td>\n",
       "      <td>1962.0</td>\n",
       "      <td>56225.0</td>\n",
       "      <td>4.471</td>\n",
       "      <td>66.444</td>\n",
       "      <td>...</td>\n",
       "      <td>NaN</td>\n",
       "      <td>20.0</td>\n",
       "      <td>NaN</td>\n",
       "      <td>NaN</td>\n",
       "      <td>NaN</td>\n",
       "      <td>12713.489</td>\n",
       "      <td>NaN</td>\n",
       "      <td>226.11808</td>\n",
       "      <td>NaN</td>\n",
       "      <td>NaN</td>\n",
       "    </tr>\n",
       "    <tr>\n",
       "      <th>3</th>\n",
       "      <td>ABW</td>\n",
       "      <td>Aruba</td>\n",
       "      <td>AW</td>\n",
       "      <td>Americas</td>\n",
       "      <td>Latin America and the Caribbean</td>\n",
       "      <td>Caribbean</td>\n",
       "      <td>1963.0</td>\n",
       "      <td>56695.0</td>\n",
       "      <td>4.271</td>\n",
       "      <td>66.787</td>\n",
       "      <td>...</td>\n",
       "      <td>NaN</td>\n",
       "      <td>20.0</td>\n",
       "      <td>NaN</td>\n",
       "      <td>NaN</td>\n",
       "      <td>NaN</td>\n",
       "      <td>12178.107</td>\n",
       "      <td>NaN</td>\n",
       "      <td>214.80037</td>\n",
       "      <td>NaN</td>\n",
       "      <td>NaN</td>\n",
       "    </tr>\n",
       "    <tr>\n",
       "      <th>4</th>\n",
       "      <td>ABW</td>\n",
       "      <td>Aruba</td>\n",
       "      <td>AW</td>\n",
       "      <td>Americas</td>\n",
       "      <td>Latin America and the Caribbean</td>\n",
       "      <td>Caribbean</td>\n",
       "      <td>1964.0</td>\n",
       "      <td>57032.0</td>\n",
       "      <td>4.059</td>\n",
       "      <td>67.113</td>\n",
       "      <td>...</td>\n",
       "      <td>NaN</td>\n",
       "      <td>20.0</td>\n",
       "      <td>NaN</td>\n",
       "      <td>NaN</td>\n",
       "      <td>NaN</td>\n",
       "      <td>11840.743</td>\n",
       "      <td>NaN</td>\n",
       "      <td>207.61578</td>\n",
       "      <td>NaN</td>\n",
       "      <td>NaN</td>\n",
       "    </tr>\n",
       "  </tbody>\n",
       "</table>\n",
       "<p>5 rows × 25 columns</p>\n",
       "</div>"
      ],
      "text/plain": [
       "  iso3   name iso2    region                       sub-region  \\\n",
       "0  ABW  Aruba   AW  Americas  Latin America and the Caribbean   \n",
       "1  ABW  Aruba   AW  Americas  Latin America and the Caribbean   \n",
       "2  ABW  Aruba   AW  Americas  Latin America and the Caribbean   \n",
       "3  ABW  Aruba   AW  Americas  Latin America and the Caribbean   \n",
       "4  ABW  Aruba   AW  Americas  Latin America and the Caribbean   \n",
       "\n",
       "  intermediate-region    time  totalPopulation  fertilityRate  lifeExpectancy  \\\n",
       "0           Caribbean  1960.0          54211.0          4.820          65.662   \n",
       "1           Caribbean  1961.0          55438.0          4.655          66.074   \n",
       "2           Caribbean  1962.0          56225.0          4.471          66.444   \n",
       "3           Caribbean  1963.0          56695.0          4.271          66.787   \n",
       "4           Caribbean  1964.0          57032.0          4.059          67.113   \n",
       "\n",
       "   ...  accessElectricity  agriculturalLand  agricultureTractors  \\\n",
       "0  ...                NaN               NaN                  NaN   \n",
       "1  ...                NaN              20.0                  NaN   \n",
       "2  ...                NaN              20.0                  NaN   \n",
       "3  ...                NaN              20.0                  NaN   \n",
       "4  ...                NaN              20.0                  NaN   \n",
       "\n",
       "   cerealProduction  fertilizerHa        co2  greenhouseGases     co2_PC  \\\n",
       "0               NaN           NaN  11092.675              NaN  204.62037   \n",
       "1               NaN           NaN  11576.719              NaN  208.82281   \n",
       "2               NaN           NaN  12713.489              NaN  226.11808   \n",
       "3               NaN           NaN  12178.107              NaN  214.80037   \n",
       "4               NaN           NaN  11840.743              NaN  207.61578   \n",
       "\n",
       "   pm2.5_35  battleDeaths  \n",
       "0       NaN           NaN  \n",
       "1       NaN           NaN  \n",
       "2       NaN           NaN  \n",
       "3       NaN           NaN  \n",
       "4       NaN           NaN  \n",
       "\n",
       "[5 rows x 25 columns]"
      ]
     },
     "execution_count": 5,
     "metadata": {},
     "output_type": "execute_result"
    }
   ],
   "source": [
    "# 1.2 Check does the first five lines of data look reasonable\n",
    "gap_data.head(5)"
   ]
  },
  {
   "cell_type": "markdown",
   "id": "59d76254-90ef-4010-b9c1-b8f0d447c9a4",
   "metadata": {},
   "source": [
    "From the output, we can see that the dataset has 25 rows and 13055 columns. The first 10 lines of data look reasonable and the data fits the type that the column defines.But it is noticable that there is some NaN value in the dataset."
   ]
  },
  {
   "cell_type": "code",
   "execution_count": 6,
   "id": "5c623813-c10b-47a9-920c-ea499dda083a",
   "metadata": {},
   "outputs": [
    {
     "data": {
      "text/plain": [
       "iso3                       0\n",
       "name                     240\n",
       "iso2                     300\n",
       "region                   241\n",
       "sub-region               241\n",
       "intermediate-region     7697\n",
       "time                      36\n",
       "totalPopulation           76\n",
       "fertilityRate           1307\n",
       "lifeExpectancy          1325\n",
       "childMortality          2600\n",
       "youthFemaleLiteracy    12134\n",
       "youthMaleLiteracy      12134\n",
       "adultLiteracy          12118\n",
       "GDP_PC                  3585\n",
       "accessElectricity       7608\n",
       "agriculturalLand        1910\n",
       "agricultureTractors     6947\n",
       "cerealProduction        3606\n",
       "fertilizerHa            4929\n",
       "co2                     2658\n",
       "greenhouseGases         4994\n",
       "co2_PC                  2661\n",
       "pm2.5_35               10727\n",
       "battleDeaths           12051\n",
       "dtype: int64"
      ]
     },
     "execution_count": 6,
     "metadata": {},
     "output_type": "execute_result"
    }
   ],
   "source": [
    "# 1.3 Check how many missing values are there in each variable\n",
    "gap_data.isna().sum()"
   ]
  },
  {
   "cell_type": "markdown",
   "id": "ac8c26b2-2c34-4d14-8bb5-eb92f1937c21",
   "metadata": {},
   "source": [
    "According to the output, nearly all variables has NaN values. Nonetheless, some variables contain a substantial number of NaN values, rendering them nearly ineffective for analysis. For instance, \"intermediate-region\", \"youthFemaleLiteracy\", \"youthMaleLiteracy\", \"adultLiteracy\", \"accessElectricity\", \"agricultureTractors\", \"pm2.5_35\", and \"battleDeaths\" contain a significant number of missing values and may not be suitable for analysis.\n",
    "\n",
    "In contrast, variables such as \"iso3\", \"iso2\", \"region\", \"sub-region\", \"time\", and \"totalPopulation\" have comparatively fewer NaNvalues and can still be used for analysis. Variables such as \"fertilityRate\", \"lifeExpectancy\", \"childMortality\", \"GDP_PC\", \"agriculturalLand\", \"cerealProduction\", \"fertilizerHa\", \"co2\", \"greenhouseGases\", and \"co2_PC\" have a moderate number of missing values and can be used for analysis after the appropriate management of the missing values."
   ]
  },
  {
   "cell_type": "code",
   "execution_count": 8,
   "id": "82df2a97-5286-410c-bbcb-f878b912bc59",
   "metadata": {},
   "outputs": [
    {
     "data": {
      "text/html": [
       "<div>\n",
       "<style scoped>\n",
       "    .dataframe tbody tr th:only-of-type {\n",
       "        vertical-align: middle;\n",
       "    }\n",
       "\n",
       "    .dataframe tbody tr th {\n",
       "        vertical-align: top;\n",
       "    }\n",
       "\n",
       "    .dataframe thead th {\n",
       "        text-align: right;\n",
       "    }\n",
       "</style>\n",
       "<table border=\"1\" class=\"dataframe\">\n",
       "  <thead>\n",
       "    <tr style=\"text-align: right;\">\n",
       "      <th></th>\n",
       "      <th>name</th>\n",
       "      <th>iso2</th>\n",
       "      <th>totalPopulation</th>\n",
       "    </tr>\n",
       "  </thead>\n",
       "  <tbody>\n",
       "    <tr>\n",
       "      <th>11610</th>\n",
       "      <td>Tokelau</td>\n",
       "      <td>TK</td>\n",
       "      <td>NaN</td>\n",
       "    </tr>\n",
       "    <tr>\n",
       "      <th>9205</th>\n",
       "      <td>Pitcairn</td>\n",
       "      <td>PN</td>\n",
       "      <td>NaN</td>\n",
       "    </tr>\n",
       "    <tr>\n",
       "      <th>964</th>\n",
       "      <td>Bonaire, Sint Eustatius and Saba</td>\n",
       "      <td>BQ</td>\n",
       "      <td>NaN</td>\n",
       "    </tr>\n",
       "    <tr>\n",
       "      <th>181</th>\n",
       "      <td>Åland Islands</td>\n",
       "      <td>AX</td>\n",
       "      <td>NaN</td>\n",
       "    </tr>\n",
       "    <tr>\n",
       "      <th>8664</th>\n",
       "      <td>Niue</td>\n",
       "      <td>NU</td>\n",
       "      <td>NaN</td>\n",
       "    </tr>\n",
       "    <tr>\n",
       "      <th>5779</th>\n",
       "      <td>Jersey</td>\n",
       "      <td>JE</td>\n",
       "      <td>NaN</td>\n",
       "    </tr>\n",
       "    <tr>\n",
       "      <th>8180</th>\n",
       "      <td>Montserrat</td>\n",
       "      <td>MS</td>\n",
       "      <td>NaN</td>\n",
       "    </tr>\n",
       "    <tr>\n",
       "      <th>4213</th>\n",
       "      <td>Guernsey</td>\n",
       "      <td>GG</td>\n",
       "      <td>NaN</td>\n",
       "    </tr>\n",
       "    <tr>\n",
       "      <th>1806</th>\n",
       "      <td>Bouvet Island</td>\n",
       "      <td>BV</td>\n",
       "      <td>NaN</td>\n",
       "    </tr>\n",
       "    <tr>\n",
       "      <th>1987</th>\n",
       "      <td>Cocos (Keeling) Islands</td>\n",
       "      <td>CC</td>\n",
       "      <td>NaN</td>\n",
       "    </tr>\n",
       "  </tbody>\n",
       "</table>\n",
       "</div>"
      ],
      "text/plain": [
       "                                   name iso2  totalPopulation\n",
       "11610                           Tokelau   TK              NaN\n",
       "9205                           Pitcairn   PN              NaN\n",
       "964    Bonaire, Sint Eustatius and Saba   BQ              NaN\n",
       "181                       Åland Islands   AX              NaN\n",
       "8664                               Niue   NU              NaN\n",
       "5779                             Jersey   JE              NaN\n",
       "8180                         Montserrat   MS              NaN\n",
       "4213                           Guernsey   GG              NaN\n",
       "1806                      Bouvet Island   BV              NaN\n",
       "1987            Cocos (Keeling) Islands   CC              NaN"
      ]
     },
     "execution_count": 8,
     "metadata": {},
     "output_type": "execute_result"
    }
   ],
   "source": [
    "# 1.4 Analyze the cases with missing time\n",
    "time_miss_data = gap_data[gap_data['time'].isna()][['name', 'iso2', 'totalPopulation']]\n",
    "time_miss_data.sample(10)"
   ]
  },
  {
   "cell_type": "markdown",
   "id": "a2e81d12-be96-4c13-b444-fdbbe752d94a",
   "metadata": {},
   "source": [
    "#### 1.5\n",
    "From the output, we can see that there are several cases where time is missing, and the total population is also missing in these cases. These cases are for territories rather than countries, and some of them, such as Tokelau and Pitcairn Territories, are not inhabited by a permanent population. The reasons may include difficulties in data collections, political complexities, small populations, or limited data sources. Therefore, it is understandable that the year of observation and the total population may not be available for these territories."
   ]
  },
  {
   "cell_type": "code",
   "execution_count": 9,
   "id": "e9148218-45c5-4720-83ca-46a06ab565e2",
   "metadata": {},
   "outputs": [
    {
     "data": {
      "text/plain": [
       "0"
      ]
     },
     "execution_count": 9,
     "metadata": {},
     "output_type": "execute_result"
    }
   ],
   "source": [
    "# 1.6 Check the name is missing but iso-2 code is there\n",
    "len(gap_data[gap_data['name'].isna() & gap_data['iso2'].notna()])"
   ]
  },
  {
   "cell_type": "code",
   "execution_count": 10,
   "id": "87136489-5bd9-417b-868a-8ba3bbe639e4",
   "metadata": {},
   "outputs": [
    {
     "data": {
      "text/plain": [
       "60"
      ]
     },
     "execution_count": 10,
     "metadata": {},
     "output_type": "execute_result"
    }
   ],
   "source": [
    "# 1.6 Check iso-2 code is missing but name is there\n",
    "len(gap_data[gap_data['name'].notna() & gap_data['iso2'].isna()])"
   ]
  },
  {
   "cell_type": "code",
   "execution_count": 11,
   "id": "dba5381f-81fb-458f-a8a6-e177f45511ab",
   "metadata": {},
   "outputs": [
    {
     "data": {
      "text/plain": [
       "Namibia    60\n",
       "Name: name, dtype: int64"
      ]
     },
     "execution_count": 11,
     "metadata": {},
     "output_type": "execute_result"
    }
   ],
   "source": [
    "# 1.6 The case where iso-2 code is missing but name is there\n",
    "gap_data[gap_data['name'].notna() & gap_data['iso2'].isna()][['name', 'iso2']].name.value_counts()"
   ]
  },
  {
   "cell_type": "code",
   "execution_count": 12,
   "id": "23401197-3237-402f-944f-c37960b2b30d",
   "metadata": {},
   "outputs": [
    {
     "data": {
      "text/html": [
       "<div>\n",
       "<style scoped>\n",
       "    .dataframe tbody tr th:only-of-type {\n",
       "        vertical-align: middle;\n",
       "    }\n",
       "\n",
       "    .dataframe tbody tr th {\n",
       "        vertical-align: top;\n",
       "    }\n",
       "\n",
       "    .dataframe thead th {\n",
       "        text-align: right;\n",
       "    }\n",
       "</style>\n",
       "<table border=\"1\" class=\"dataframe\">\n",
       "  <thead>\n",
       "    <tr style=\"text-align: right;\">\n",
       "      <th></th>\n",
       "      <th>name</th>\n",
       "      <th>iso2</th>\n",
       "    </tr>\n",
       "  </thead>\n",
       "  <tbody>\n",
       "    <tr>\n",
       "      <th>8363</th>\n",
       "      <td>Namibia</td>\n",
       "      <td>NaN</td>\n",
       "    </tr>\n",
       "    <tr>\n",
       "      <th>8364</th>\n",
       "      <td>Namibia</td>\n",
       "      <td>NaN</td>\n",
       "    </tr>\n",
       "    <tr>\n",
       "      <th>8365</th>\n",
       "      <td>Namibia</td>\n",
       "      <td>NaN</td>\n",
       "    </tr>\n",
       "    <tr>\n",
       "      <th>8366</th>\n",
       "      <td>Namibia</td>\n",
       "      <td>NaN</td>\n",
       "    </tr>\n",
       "    <tr>\n",
       "      <th>8367</th>\n",
       "      <td>Namibia</td>\n",
       "      <td>NaN</td>\n",
       "    </tr>\n",
       "  </tbody>\n",
       "</table>\n",
       "</div>"
      ],
      "text/plain": [
       "         name iso2\n",
       "8363  Namibia  NaN\n",
       "8364  Namibia  NaN\n",
       "8365  Namibia  NaN\n",
       "8366  Namibia  NaN\n",
       "8367  Namibia  NaN"
      ]
     },
     "execution_count": 12,
     "metadata": {},
     "output_type": "execute_result"
    }
   ],
   "source": [
    "# Provide examples\n",
    "gap_data[gap_data['name'].notna() & gap_data['iso2'].isna()][['name', 'iso2']].head()"
   ]
  },
  {
   "cell_type": "markdown",
   "id": "5b287dc1-76e9-4710-bdb9-6d8781f549f7",
   "metadata": {},
   "source": [
    "From the output, we can see that there is only Namibia has NaN values where iso-2 code is missing but name is there."
   ]
  },
  {
   "cell_type": "code",
   "execution_count": 13,
   "id": "97a2300e-e626-4f4b-b34c-bb47a2aa592c",
   "metadata": {},
   "outputs": [
    {
     "data": {
      "text/plain": [
       "Series([], Name: iso2, dtype: int64)"
      ]
     },
     "execution_count": 13,
     "metadata": {},
     "output_type": "execute_result"
    }
   ],
   "source": [
    "# 1.6 The case where name is missing but iso-2 code is there\n",
    "gap_data[gap_data['name'].isna() & gap_data['iso2'].notna()][['name', 'iso2']].iso2.value_counts()"
   ]
  },
  {
   "cell_type": "code",
   "execution_count": 14,
   "id": "5fbe6337-a52a-4532-a41c-ddc139a792dd",
   "metadata": {},
   "outputs": [
    {
     "data": {
      "text/html": [
       "<div>\n",
       "<style scoped>\n",
       "    .dataframe tbody tr th:only-of-type {\n",
       "        vertical-align: middle;\n",
       "    }\n",
       "\n",
       "    .dataframe tbody tr th {\n",
       "        vertical-align: top;\n",
       "    }\n",
       "\n",
       "    .dataframe thead th {\n",
       "        text-align: right;\n",
       "    }\n",
       "</style>\n",
       "<table border=\"1\" class=\"dataframe\">\n",
       "  <thead>\n",
       "    <tr style=\"text-align: right;\">\n",
       "      <th></th>\n",
       "      <th>name</th>\n",
       "      <th>iso2</th>\n",
       "    </tr>\n",
       "  </thead>\n",
       "  <tbody>\n",
       "  </tbody>\n",
       "</table>\n",
       "</div>"
      ],
      "text/plain": [
       "Empty DataFrame\n",
       "Columns: [name, iso2]\n",
       "Index: []"
      ]
     },
     "execution_count": 14,
     "metadata": {},
     "output_type": "execute_result"
    }
   ],
   "source": [
    "# Provide examples\n",
    "gap_data[gap_data['name'].isna() & gap_data['iso2'].notna()][['name', 'iso2']].head()"
   ]
  },
  {
   "cell_type": "markdown",
   "id": "cf35c2ac-0eee-4b58-8706-d12f413c579e",
   "metadata": {},
   "source": [
    "From the output, there are 0 cases where the name is missing and iso-2 code is there."
   ]
  },
  {
   "cell_type": "code",
   "execution_count": 15,
   "id": "7f173d77-41fb-449c-a90f-6e2c2fa5d46d",
   "metadata": {},
   "outputs": [
    {
     "data": {
      "text/plain": [
       "nan"
      ]
     },
     "execution_count": 15,
     "metadata": {},
     "output_type": "execute_result"
    }
   ],
   "source": [
    "# 1.7 Check the iso-2 code for Namibia in the datset\n",
    "gap_data[gap_data['name'] == 'Namibia']['iso2'].values[0]"
   ]
  },
  {
   "cell_type": "markdown",
   "id": "0b1974e5-d591-40c1-96ef-4cb472740be1",
   "metadata": {},
   "source": [
    "#### 1.7\n",
    "The iso2 code for Namibia is NA. From the above output, we can see that the iso-2 code for Namibia is missing(nan) in this dataset. It is possible that the iso-2 code for Namibia was not available at the time when the dataset was created or that there was an error in recording the iso-2 code for Namibia.The reason for this is not entirely clear, but it may be due to a number of factors, including historical reasons, administrative issues, or simply an oversight."
   ]
  },
  {
   "cell_type": "code",
   "execution_count": 19,
   "id": "9ef71043-d29d-4515-bc98-6432130288be",
   "metadata": {},
   "outputs": [
    {
     "data": {
      "text/plain": [
       "249"
      ]
     },
     "execution_count": 19,
     "metadata": {},
     "output_type": "execute_result"
    }
   ],
   "source": [
    "# 1.8 Check how many different countries are there in these data\n",
    "gap_data['name'].nunique()"
   ]
  },
  {
   "cell_type": "markdown",
   "id": "2d08f33c-d319-47e2-b452-6c29acfdb860",
   "metadata": {},
   "source": [
    "From the output, there are 249 countries in the dataset."
   ]
  },
  {
   "cell_type": "code",
   "execution_count": 20,
   "id": "6a591c0a-83a3-4183-ae97-17909ce9e090",
   "metadata": {},
   "outputs": [
    {
     "data": {
      "text/plain": [
       "1960.0"
      ]
     },
     "execution_count": 20,
     "metadata": {},
     "output_type": "execute_result"
    }
   ],
   "source": [
    "# 1.9 Check what is the earliest year in the dataset\n",
    "gap_data['time'].min()"
   ]
  },
  {
   "cell_type": "code",
   "execution_count": 21,
   "id": "9e2d9605-92da-4445-9e9d-926947d72f17",
   "metadata": {},
   "outputs": [
    {
     "data": {
      "text/plain": [
       "2019.0"
      ]
     },
     "execution_count": 21,
     "metadata": {},
     "output_type": "execute_result"
    }
   ],
   "source": [
    "# 1.9 Check what is the most recent year in the dataset\n",
    "gap_data['time'].max()"
   ]
  },
  {
   "cell_type": "markdown",
   "id": "f1adf682-7a96-4419-b377-aa587192ec12",
   "metadata": {},
   "source": [
    "The earliest year is 1960 and the most recent year is 2019."
   ]
  },
  {
   "cell_type": "markdown",
   "id": "72c1dab1-8740-4dfd-b174-9ca10bfdf553",
   "metadata": {},
   "source": [
    "### 2 Wealth"
   ]
  },
  {
   "cell_type": "code",
   "execution_count": 22,
   "id": "806dc53f-8cfe-4a0d-b0d1-3b48b05f993b",
   "metadata": {},
   "outputs": [
    {
     "data": {
      "text/plain": [
       "2019.0"
      ]
     },
     "execution_count": 22,
     "metadata": {},
     "output_type": "execute_result"
    }
   ],
   "source": [
    "# 2.1 Find the most recent year in the data set that includes GDP data\n",
    "filtered_data = gap_data.dropna(subset=['GDP_PC'])\n",
    "filtered_data['time'].max()"
   ]
  },
  {
   "cell_type": "markdown",
   "id": "255dd35d-2ddc-4a32-9faf-9826e07c66bb",
   "metadata": {},
   "source": [
    "The most recent year in the data set that includes GDP data is 2019."
   ]
  },
  {
   "cell_type": "code",
   "execution_count": 23,
   "id": "f1e61887-766f-4af9-9874-e1e0398d4077",
   "metadata": {},
   "outputs": [
    {
     "data": {
      "text/plain": [
       "15055.352217243239"
      ]
     },
     "execution_count": 23,
     "metadata": {},
     "output_type": "execute_result"
    }
   ],
   "source": [
    "# 2.2 Check the average wealth on this planet as of 2019\n",
    "GDP_2019 = filtered_data[filtered_data[\"time\"]== 2019]\n",
    "average_gdp_2019 = GDP_2019[\"GDP_PC\"].mean()\n",
    "average_gdp_2019"
   ]
  },
  {
   "cell_type": "markdown",
   "id": "d7d8eefe-9f26-4ee5-8855-2c71ad930ec0",
   "metadata": {},
   "source": [
    "The average GDP per capita across all countries in 2019 is 15055.352217."
   ]
  },
  {
   "cell_type": "code",
   "execution_count": 24,
   "id": "262869bc-c38c-4030-9145-0f6774a991b6",
   "metadata": {},
   "outputs": [],
   "source": [
    "# 2.3 Check which 5 countries countries have the largest number of the most recent years missing\n",
    "time_max = filtered_data.groupby('name').time.max()\n",
    "time_max_data = time_max.nsmallest(5)"
   ]
  },
  {
   "cell_type": "code",
   "execution_count": 25,
   "id": "3f91a2e8-e126-4103-9179-800aee2218dd",
   "metadata": {},
   "outputs": [
    {
     "data": {
      "text/html": [
       "<div>\n",
       "<style scoped>\n",
       "    .dataframe tbody tr th:only-of-type {\n",
       "        vertical-align: middle;\n",
       "    }\n",
       "\n",
       "    .dataframe tbody tr th {\n",
       "        vertical-align: top;\n",
       "    }\n",
       "\n",
       "    .dataframe thead th {\n",
       "        text-align: right;\n",
       "    }\n",
       "</style>\n",
       "<table border=\"1\" class=\"dataframe\">\n",
       "  <thead>\n",
       "    <tr style=\"text-align: right;\">\n",
       "      <th></th>\n",
       "      <th>Country</th>\n",
       "      <th>Last year of GDP</th>\n",
       "    </tr>\n",
       "  </thead>\n",
       "  <tbody>\n",
       "    <tr>\n",
       "      <th>0</th>\n",
       "      <td>Djibouti</td>\n",
       "      <td>2010.0</td>\n",
       "    </tr>\n",
       "    <tr>\n",
       "      <th>1</th>\n",
       "      <td>Eritrea</td>\n",
       "      <td>2011.0</td>\n",
       "    </tr>\n",
       "    <tr>\n",
       "      <th>2</th>\n",
       "      <td>Faroe Islands</td>\n",
       "      <td>2010.0</td>\n",
       "    </tr>\n",
       "    <tr>\n",
       "      <th>3</th>\n",
       "      <td>Liechtenstein</td>\n",
       "      <td>2010.0</td>\n",
       "    </tr>\n",
       "    <tr>\n",
       "      <th>4</th>\n",
       "      <td>Turks and Caicos Islands</td>\n",
       "      <td>2010.0</td>\n",
       "    </tr>\n",
       "  </tbody>\n",
       "</table>\n",
       "</div>"
      ],
      "text/plain": [
       "                    Country  Last year of GDP\n",
       "0                  Djibouti            2010.0\n",
       "1                   Eritrea            2011.0\n",
       "2             Faroe Islands            2010.0\n",
       "3             Liechtenstein            2010.0\n",
       "4  Turks and Caicos Islands            2010.0"
      ]
     },
     "execution_count": 25,
     "metadata": {},
     "output_type": "execute_result"
    }
   ],
   "source": [
    "check_index = filtered_data.set_index(['name', 'time']).index.isin(time_max_data.items())\n",
    "most_recent_gdp = filtered_data.set_index(['name', 'time'])[check_index].reset_index()[['name', 'time']]\n",
    "most_recent_gdp.columns = ['Country', 'Last year of GDP']\n",
    "most_recent_gdp"
   ]
  },
  {
   "cell_type": "markdown",
   "id": "a16604cf-c5db-49b5-b3fc-be03d31fb1b1",
   "metadata": {},
   "source": [
    "The 5 countries with the largest number of the most recent years missing are Djibouti, Faroe Islands, Liechtenstein, Turks and Caicos Islands, Eritrea. The reasons why these countries have issues with newer data without further analysis is possible because the lack of resources or infrastructure to collect and report accurate data, political instability or conflicts that affect the economy, or simply a lack of priority given to collecting and reporting economic data."
   ]
  },
  {
   "cell_type": "code",
   "execution_count": 26,
   "id": "b6dbd05e-78a4-4d9e-8692-6e5a49c4cfe1",
   "metadata": {},
   "outputs": [
    {
     "data": {
      "text/plain": [
       "region\n",
       "Europe      33227.983767\n",
       "Americas    14516.826303\n",
       "Asia        14116.124163\n",
       "Oceania     11817.735554\n",
       "Africa       2765.708956\n",
       "Name: GDP_PC, dtype: float64"
      ]
     },
     "execution_count": 26,
     "metadata": {},
     "output_type": "execute_result"
    }
   ],
   "source": [
    "# 2.4 Compare the continents\n",
    "sorted_gdp = GDP_2019.groupby('region')['GDP_PC'].mean().sort_values(ascending=False)\n",
    "sorted_gdp"
   ]
  },
  {
   "cell_type": "markdown",
   "id": "e8e96ec9-287d-4529-b006-65abf5ed92d6",
   "metadata": {},
   "source": [
    "From the output, it looks reasonable. The Europe has the richest average wealth (i.e. average GDP per capita) in 2019, but the Africa has the poorest average wealth (i.e. average GDP per capita) in 2019. Europe has historically been an affluent continent with numerous high-income countries, whereas Africa has faced numerous economic obstacles and struggled with destitution. It is essential to note, however, that this is a simplification of the complex reality of global wealth distribution, as there are significant differences in GDP per capita between countries within each continent."
   ]
  },
  {
   "cell_type": "markdown",
   "id": "31813fab-e85a-4d14-8d85-d26c20360c31",
   "metadata": {},
   "source": [
    "### 3 Descriptive Stats"
   ]
  },
  {
   "cell_type": "code",
   "execution_count": 27,
   "id": "f3d183c5-d047-4c1f-a5d1-87e9443f734d",
   "metadata": {},
   "outputs": [
    {
     "name": "stdout",
     "output_type": "stream",
     "text": [
      "Data for 1960:\n",
      "Min wealth in 1960: 153.34393\n",
      "Max wealth in 1960: 33362.70762\n",
      "Median wealth in 1960: 1751.86291\n",
      "Mean wealth in 1960: 5050.295039780219\n"
     ]
    }
   ],
   "source": [
    "3.1 # Compute minimum, maximum, median and mean wealth both in 1960\n",
    "data_1960 = filtered_data[filtered_data['time'] == 1960]\n",
    "min_wealth_1960 = data_1960.GDP_PC.min()\n",
    "max_wealth_1960 = data_1960.GDP_PC.max()\n",
    "median_wealth_1960 = data_1960.GDP_PC.median()\n",
    "mean_wealth_1960 = data_1960.GDP_PC.mean()\n",
    "print(\"Data for 1960:\")\n",
    "print(\"Min wealth in 1960:\", min_wealth_1960)\n",
    "print(\"Max wealth in 1960:\", max_wealth_1960)\n",
    "print(\"Median wealth in 1960:\", median_wealth_1960)\n",
    "print(\"Mean wealth in 1960:\", mean_wealth_1960)"
   ]
  },
  {
   "cell_type": "code",
   "execution_count": 28,
   "id": "767f8900-b8b7-4d2f-aa30-4599d73a7c3f",
   "metadata": {},
   "outputs": [
    {
     "name": "stdout",
     "output_type": "stream",
     "text": [
      "Data for 2019:\n",
      "Min wealth in 2019: 208.07473\n",
      "Max wealth in 2019: 111043.5317\n",
      "Median wealth in 2019: 5922.52759\n",
      "Mean wealth in 2019: 15055.352217243239\n"
     ]
    }
   ],
   "source": [
    "# Compute minimum, maximum, median and mean wealth both in 2019\n",
    "data_2019 = filtered_data[filtered_data['time'] == 2019]\n",
    "min_wealth_2019 = data_2019.GDP_PC.min()\n",
    "max_wealth_2019 = data_2019.GDP_PC.max()\n",
    "median_wealth_2019 = data_2019.GDP_PC.median()\n",
    "mean_wealth_2019 = data_2019.GDP_PC.mean()\n",
    "print(\"Data for 2019:\")\n",
    "print(\"Min wealth in 2019:\", min_wealth_2019)\n",
    "print(\"Max wealth in 2019:\", max_wealth_2019)\n",
    "print(\"Median wealth in 2019:\", median_wealth_2019)\n",
    "print(\"Mean wealth in 2019:\", mean_wealth_2019)"
   ]
  },
  {
   "cell_type": "markdown",
   "id": "7389861d-4bf7-4e90-ab62-1e9766d75004",
   "metadata": {},
   "source": [
    "From the output, in 1960, the minimum GDP per capita was 153.34393(USD), the maximum was 33362.70762(USD), the median was 1751.86291(USD), and the mean was 5050.2950(USD). In 2019, the minimum GDP per capita was 208.07473(USD), the maximum was 111043.53(USD), the median was 5922.52759(USD), and the mean was 15055.3522(USD)."
   ]
  },
  {
   "cell_type": "markdown",
   "id": "0a3384fc-a79b-4173-ae6c-008f8f6c5100",
   "metadata": {},
   "source": [
    "#### 3.2\n",
    "Between 1960 and 2019, both the median and mean GDP per capita have increased substantially, indicating that the world has become considerably wealthier. Minimum GDP per capita has not increased as much as maximum GDP per capita, indicating that some nations have not experienced the same level of economic growth as others. It is difficult to determine whether the world has become more or less equal based solely on these numbers because we lack information on the distribution of wealth within countries."
   ]
  },
  {
   "cell_type": "code",
   "execution_count": 29,
   "id": "fb6b0134-de2c-4656-bd7e-1f18d4a78839",
   "metadata": {},
   "outputs": [
    {
     "data": {
      "image/png": "[encoded data removed]",
      "text/plain": [
       "<Figure size 432x288 with 1 Axes>"
      ]
     },
     "metadata": {
      "needs_background": "light"
     },
     "output_type": "display_data"
    }
   ],
   "source": [
    "# 3.3 Plot histograms of world wealth for 1960\n",
    "GDP_1960 = filtered_data[filtered_data['time'] == 1960]\n",
    "GDP_1960_hist = plt.hist(GDP_1960.GDP_PC, bins = 30, edgecolor = 'black')"
   ]
  },
  {
   "cell_type": "code",
   "execution_count": 30,
   "id": "b955827e-a040-4d14-8a99-ec0179c22aaf",
   "metadata": {},
   "outputs": [
    {
     "data": {
      "image/png": "[encoded data removed]",
      "text/plain": [
       "<Figure size 432x288 with 1 Axes>"
      ]
     },
     "metadata": {
      "needs_background": "light"
     },
     "output_type": "display_data"
    }
   ],
   "source": [
    "# Plot histograms of world wealth for 2019\n",
    "GDP_2019 = filtered_data[filtered_data['time'] == 2019]\n",
    "GDP_2019_hist = plt.hist(GDP_2019.GDP_PC, bins = 30, edgecolor = 'black')"
   ]
  },
  {
   "cell_type": "markdown",
   "id": "16de6c2b-451c-4c92-bc71-6db2f73c9464",
   "metadata": {},
   "source": [
    "#### 3.4\n",
    "Comparing the world wealth histograms for 1960 and 2019, we can see that the distribution of two histogram are all right skewed with a large proportion of countries having low GDP per capita.It is noticable that the GDP per capita of 2019 is higher than the GDP per capita of 1996 because the maximum value of the x-scale of the GDP_2019_hist is 100,000 is higher than that value in GDP_1996_hist with the value of 35,000. The increasing GDP per capita over time can be explained by various factors such as technological advancements, globalization, and economic policies. Technological advancements have allowed for increased productivity and efficiency in many industries, leading to economic growth. However, it is also true that there are almost 70 countries with a GDP per capita of 0 in 2019, which indicates a high level of economic struggle in those countries. In contrast, there were only 35 countries with a GDP per capita of 0 in 1960, indicating that economic struggles may have increased in some parts of the world over time.This can contribute to the gap and inequality between rich and poor, as some countries and individuals may have significantly more resources and opportunities than others."
   ]
  },
  {
   "cell_type": "code",
   "execution_count": 31,
   "id": "7e925278-3501-4ae2-a9d3-55269ec26287",
   "metadata": {},
   "outputs": [
    {
     "name": "stdout",
     "output_type": "stream",
     "text": [
      "quintile ratio of 1960: 48.44796581082919\n"
     ]
    }
   ],
   "source": [
    "# 3.5 Compute the quintile share ratio of GDP per capita for 1960\n",
    "q80_1960 = GDP_1960.GDP_PC.quantile(0.8)\n",
    "q20_1960 = GDP_1960.GDP_PC.quantile(0.2)\n",
    "sum_q20_1960 = np.sum(GDP_1960['GDP_PC'][GDP_1960['GDP_PC'] < q20_1960])\n",
    "sum_q80_1960 = np.sum(GDP_1960['GDP_PC'][GDP_1960['GDP_PC'] > q80_1960])\n",
    "quintile_ratio_1960 = sum_q80_1960 / sum_q20_1960\n",
    "print(\"quintile ratio of 1960:\", quintile_ratio_1960)"
   ]
  },
  {
   "cell_type": "code",
   "execution_count": 32,
   "id": "6c777907-02d1-475e-b72b-c954ae9e7f10",
   "metadata": {},
   "outputs": [
    {
     "name": "stdout",
     "output_type": "stream",
     "text": [
      "quintile ratio of 2019: 57.22513517688509\n"
     ]
    }
   ],
   "source": [
    "# Compute the quintile share ratio of GDP per capita for 2019\n",
    "q80_2019 = GDP_2019.GDP_PC.quantile(0.8)\n",
    "q20_2019 = GDP_2019.GDP_PC.quantile(0.2)\n",
    "sum_q20_2019 = np.sum(GDP_2019['GDP_PC'][GDP_2019['GDP_PC'] < q20_2019])\n",
    "sum_q80_2019 = np.sum(GDP_2019['GDP_PC'][GDP_2019['GDP_PC'] > q80_2019])\n",
    "quintile_ratio_2019 = sum_q80_2019 / sum_q20_2019\n",
    "print(\"quintile ratio of 2019:\", quintile_ratio_2019)"
   ]
  },
  {
   "cell_type": "markdown",
   "id": "260f26a0-eb2f-439d-9e22-9261ca559087",
   "metadata": {},
   "source": [
    "The quintile share ratio is the ratio of the 80th percentile (the highest 20% of observations) to the 20th percentile (the lowest 20% of observations) of a given variable.The quintile share ratio of GDP per capita for 1960 is 48.44796581082919. This indicates that the best 20% of countries by GDP per capita in 1960 had a roughly 48.44 times greater income than the bottom 20% of countries.The quintile share ratio of GDP per capita for the year 2019 is 57.22513517688509. This indicates that the income of the highest 20% of countries by GDP per capita in 2019 was approximately 57.26 times that of the lowest 20% of countries. This suggests an increase in income inequality between 1960 and 2019."
   ]
  },
  {
   "cell_type": "code",
   "execution_count": 33,
   "id": "b3d018bf-501a-4ad5-8cff-2ad1709d6b05",
   "metadata": {},
   "outputs": [
    {
     "name": "stdout",
     "output_type": "stream",
     "text": [
      "75 0.7539576669722627\n"
     ]
    }
   ],
   "source": [
    "# 3.6 Compute the Pareto ratio for the 1960\n",
    "GDP_1960_sum = GDP_1960.GDP_PC.sum()\n",
    "GDP_in_1960 = data_1960.GDP_PC\n",
    "for i in range(99, 50, -1):\n",
    "    GDP_1 = np.percentile(GDP_1960.GDP_PC, i)\n",
    "    GDP_pct = GDP_in_1960[GDP_in_1960 > GDP_1].sum()/GDP_1960_sum\n",
    "    if 100 * GDP_pct > i:\n",
    "        print(i, GDP_pct)\n",
    "        break"
   ]
  },
  {
   "cell_type": "code",
   "execution_count": 34,
   "id": "2b3fd590-921e-4dfe-a096-8d76396707d7",
   "metadata": {},
   "outputs": [
    {
     "name": "stdout",
     "output_type": "stream",
     "text": [
      "74 0.7523323215392158\n"
     ]
    }
   ],
   "source": [
    "# Compute the Pareto ratio for the 2019\n",
    "GDP_2019_sum = GDP_2019.GDP_PC.sum()\n",
    "GDP_in_2019 = GDP_2019.GDP_PC\n",
    "for i in range(99, 50, -1):\n",
    "    GDP_1 = np.percentile(GDP_2019.GDP_PC, i)\n",
    "    GDP_pct = GDP_in_2019[GDP_in_2019 > GDP_1].sum()/GDP_2019_sum\n",
    "    if 100 * GDP_pct > i:\n",
    "        print(i, GDP_pct)\n",
    "        break"
   ]
  },
  {
   "cell_type": "markdown",
   "id": "4d6a6280-e0e0-48b4-b9fd-16724d5fee02",
   "metadata": {},
   "source": [
    "The Pareto ratio for 1960 is 25%. It means that the richest 25% owns 75.396% of total GDP. The Pareto ratio for 2019 is 26%. It means that the richest 26% owns 75.233% of total GDP. Based on the Pareto ratio, it can be concluded that there has been a slight increase in income inequality between 1960 and 2019, based on the Pareto ratio."
   ]
  },
  {
   "cell_type": "markdown",
   "id": "df379b46-66a2-4acd-a5cd-8cb38f69edf8",
   "metadata": {},
   "source": [
    "#### 3.7 \n",
    "The data provided can be useful to provide some insight into how world inequality has changed over the last 60 years, but they have limitations and should be used in combination with other measures to get a more comprehensive picture.The quintile share ratio provides insights into the distribution of wealth among the top and bottom quintiles of the population, while the Pareto ratio measures the concentration of wealth held by the top 25% of the population. They are all efficient tools tell something about how the world inequality has changed over the last 60 years to us.However, they do not provide information on the distribution of income within each quintile or among the other 60% of countries. Moreover, other measures such as the Gini coefficient or income share of the top 1% can provide a more nuanced picture of income inequality, so we need more comprehensive data and detailed analysis to fully understand the nature and causes of inequality on a global scale. Nonetheless, they are useful tools to assess global trends in inequality and track changes over time."
   ]
  },
  {
   "cell_type": "markdown",
   "id": "a97f162d-6ff2-4fc0-b83d-975807c1307f",
   "metadata": {},
   "source": [
    "### 4 Health "
   ]
  },
  {
   "cell_type": "code",
   "execution_count": 35,
   "id": "33fc0a26-d18b-48ad-abde-934e1f4224d8",
   "metadata": {},
   "outputs": [
    {
     "data": {
      "text/plain": [
       "104"
      ]
     },
     "execution_count": 35,
     "metadata": {},
     "output_type": "execute_result"
    }
   ],
   "source": [
    "# 4.1 Count how many countries do not have CM data for year 1960\n",
    "gap_data[gap_data['time'] == 1960].childMortality.isna().sum()"
   ]
  },
  {
   "cell_type": "code",
   "execution_count": 36,
   "id": "79aa8729-0356-4def-809f-dbe56cebf2c1",
   "metadata": {},
   "outputs": [
    {
     "data": {
      "text/plain": [
       "24"
      ]
     },
     "execution_count": 36,
     "metadata": {},
     "output_type": "execute_result"
    }
   ],
   "source": [
    "# Count how many countries do not have CM data for year 2019\n",
    "gap_data[gap_data['time'] == 2019].childMortality.isna().sum()"
   ]
  },
  {
   "cell_type": "markdown",
   "id": "e75489e4-6b28-4c8b-b787-afde381f88c5",
   "metadata": {},
   "source": [
    "There are 104 countries lacking 1960 CM data. In 2019, there are 24 countries without CM data. From 1960 to 2019, the missing data for CM decreased, so the data have improved over time."
   ]
  },
  {
   "cell_type": "code",
   "execution_count": 37,
   "id": "717c9256-6f19-4db7-94de-591d7c5ede4c",
   "metadata": {},
   "outputs": [
    {
     "data": {
      "text/html": [
       "<div>\n",
       "<style scoped>\n",
       "    .dataframe tbody tr th:only-of-type {\n",
       "        vertical-align: middle;\n",
       "    }\n",
       "\n",
       "    .dataframe tbody tr th {\n",
       "        vertical-align: top;\n",
       "    }\n",
       "\n",
       "    .dataframe thead th {\n",
       "        text-align: right;\n",
       "    }\n",
       "</style>\n",
       "<table border=\"1\" class=\"dataframe\">\n",
       "  <thead>\n",
       "    <tr style=\"text-align: right;\">\n",
       "      <th></th>\n",
       "      <th>childMortality</th>\n",
       "      <th>name</th>\n",
       "      <th>time</th>\n",
       "    </tr>\n",
       "  </thead>\n",
       "  <tbody>\n",
       "    <tr>\n",
       "      <th>7703</th>\n",
       "      <td>420.6</td>\n",
       "      <td>Mali</td>\n",
       "      <td>1963.0</td>\n",
       "    </tr>\n",
       "  </tbody>\n",
       "</table>\n",
       "</div>"
      ],
      "text/plain": [
       "      childMortality  name    time\n",
       "7703           420.6  Mali  1963.0"
      ]
     },
     "execution_count": 37,
     "metadata": {},
     "output_type": "execute_result"
    }
   ],
   "source": [
    "# 4.2 Compute the largest CM in data and find which years/countries does this correspond to\n",
    "gap_data.nlargest(1, 'childMortality')[['childMortality', 'name', 'time']]"
   ]
  },
  {
   "cell_type": "code",
   "execution_count": 38,
   "id": "e4ee2850-058a-45d0-b261-79b1096eaf6e",
   "metadata": {},
   "outputs": [
    {
     "data": {
      "text/html": [
       "<div>\n",
       "<style scoped>\n",
       "    .dataframe tbody tr th:only-of-type {\n",
       "        vertical-align: middle;\n",
       "    }\n",
       "\n",
       "    .dataframe tbody tr th {\n",
       "        vertical-align: top;\n",
       "    }\n",
       "\n",
       "    .dataframe thead th {\n",
       "        text-align: right;\n",
       "    }\n",
       "</style>\n",
       "<table border=\"1\" class=\"dataframe\">\n",
       "  <thead>\n",
       "    <tr style=\"text-align: right;\">\n",
       "      <th></th>\n",
       "      <th>childMortality</th>\n",
       "      <th>name</th>\n",
       "      <th>time</th>\n",
       "    </tr>\n",
       "  </thead>\n",
       "  <tbody>\n",
       "    <tr>\n",
       "      <th>10587</th>\n",
       "      <td>1.7</td>\n",
       "      <td>San Marino</td>\n",
       "      <td>2018.0</td>\n",
       "    </tr>\n",
       "  </tbody>\n",
       "</table>\n",
       "</div>"
      ],
      "text/plain": [
       "       childMortality        name    time\n",
       "10587             1.7  San Marino  2018.0"
      ]
     },
     "execution_count": 38,
     "metadata": {},
     "output_type": "execute_result"
    }
   ],
   "source": [
    "# Compute the smallest CM in data and find which years/countries does this correspond to\n",
    "gap_data.nsmallest(1, 'childMortality')[['childMortality', 'name', 'time']]"
   ]
  },
  {
   "cell_type": "markdown",
   "id": "7328ebd0-43e2-43c2-9d4a-928182682806",
   "metadata": {},
   "source": [
    "Mail has the maximum child mortality in 1963 with the number of 420.6. However, San Marino has the minimum child mortality in 2018 with the value of 1.7."
   ]
  },
  {
   "cell_type": "code",
   "execution_count": 39,
   "id": "d137f7b5-611e-4974-a889-799b99d02d2e",
   "metadata": {},
   "outputs": [
    {
     "data": {
      "text/html": [
       "<div>\n",
       "<style scoped>\n",
       "    .dataframe tbody tr th:only-of-type {\n",
       "        vertical-align: middle;\n",
       "    }\n",
       "\n",
       "    .dataframe tbody tr th {\n",
       "        vertical-align: top;\n",
       "    }\n",
       "\n",
       "    .dataframe thead th {\n",
       "        text-align: right;\n",
       "    }\n",
       "</style>\n",
       "<table border=\"1\" class=\"dataframe\">\n",
       "  <thead>\n",
       "    <tr style=\"text-align: right;\">\n",
       "      <th></th>\n",
       "      <th>childMortality</th>\n",
       "      <th>name</th>\n",
       "      <th>region</th>\n",
       "    </tr>\n",
       "  </thead>\n",
       "  <tbody>\n",
       "    <tr>\n",
       "      <th>8603</th>\n",
       "      <td>117.2</td>\n",
       "      <td>Nigeria</td>\n",
       "      <td>Africa</td>\n",
       "    </tr>\n",
       "    <tr>\n",
       "      <th>5176</th>\n",
       "      <td>62.8</td>\n",
       "      <td>Haiti</td>\n",
       "      <td>Americas</td>\n",
       "    </tr>\n",
       "    <tr>\n",
       "      <th>9144</th>\n",
       "      <td>67.2</td>\n",
       "      <td>Pakistan</td>\n",
       "      <td>Asia</td>\n",
       "    </tr>\n",
       "    <tr>\n",
       "      <th>7399</th>\n",
       "      <td>14.4</td>\n",
       "      <td>Moldova, Republic of</td>\n",
       "      <td>Europe</td>\n",
       "    </tr>\n",
       "    <tr>\n",
       "      <th>6199</th>\n",
       "      <td>50.9</td>\n",
       "      <td>Kiribati</td>\n",
       "      <td>Oceania</td>\n",
       "    </tr>\n",
       "  </tbody>\n",
       "</table>\n",
       "</div>"
      ],
      "text/plain": [
       "      childMortality                  name    region\n",
       "8603           117.2               Nigeria    Africa\n",
       "5176            62.8                 Haiti  Americas\n",
       "9144            67.2              Pakistan      Asia\n",
       "7399            14.4  Moldova, Republic of    Europe\n",
       "6199            50.9              Kiribati   Oceania"
      ]
     },
     "execution_count": 39,
     "metadata": {},
     "output_type": "execute_result"
    }
   ],
   "source": [
    "# 4.3 For each continent, check which country has largest CM (in 2019)\n",
    "continent_group_2019 = gap_data[gap_data['time'] == 2019].groupby('region')\n",
    "max_ids = continent_group_2019.childMortality.idxmax()\n",
    "gap_data.loc[max_ids][['childMortality', 'name', 'region']]"
   ]
  },
  {
   "cell_type": "code",
   "execution_count": 103,
   "id": "15b9155c-dff9-466c-b5b1-418b4703597d",
   "metadata": {},
   "outputs": [
    {
     "data": {
      "text/html": [
       "<div>\n",
       "<style scoped>\n",
       "    .dataframe tbody tr th:only-of-type {\n",
       "        vertical-align: middle;\n",
       "    }\n",
       "\n",
       "    .dataframe tbody tr th {\n",
       "        vertical-align: top;\n",
       "    }\n",
       "\n",
       "    .dataframe thead th {\n",
       "        text-align: right;\n",
       "    }\n",
       "</style>\n",
       "<table border=\"1\" class=\"dataframe\">\n",
       "  <thead>\n",
       "    <tr style=\"text-align: right;\">\n",
       "      <th></th>\n",
       "      <th>childMortality</th>\n",
       "      <th>name</th>\n",
       "      <th>region</th>\n",
       "    </tr>\n",
       "  </thead>\n",
       "  <tbody>\n",
       "    <tr>\n",
       "      <th>6679</th>\n",
       "      <td>11.5</td>\n",
       "      <td>Libya</td>\n",
       "      <td>Africa</td>\n",
       "    </tr>\n",
       "    <tr>\n",
       "      <th>1986</th>\n",
       "      <td>4.9</td>\n",
       "      <td>Canada</td>\n",
       "      <td>Americas</td>\n",
       "    </tr>\n",
       "    <tr>\n",
       "      <th>2890</th>\n",
       "      <td>2.3</td>\n",
       "      <td>Cyprus</td>\n",
       "      <td>Asia</td>\n",
       "    </tr>\n",
       "    <tr>\n",
       "      <th>10588</th>\n",
       "      <td>1.7</td>\n",
       "      <td>San Marino</td>\n",
       "      <td>Europe</td>\n",
       "    </tr>\n",
       "    <tr>\n",
       "      <th>663</th>\n",
       "      <td>3.6</td>\n",
       "      <td>Australia</td>\n",
       "      <td>Oceania</td>\n",
       "    </tr>\n",
       "  </tbody>\n",
       "</table>\n",
       "</div>"
      ],
      "text/plain": [
       "       childMortality        name    region\n",
       "6679             11.5       Libya    Africa\n",
       "1986              4.9      Canada  Americas\n",
       "2890              2.3      Cyprus      Asia\n",
       "10588             1.7  San Marino    Europe\n",
       "663               3.6   Australia   Oceania"
      ]
     },
     "execution_count": 103,
     "metadata": {},
     "output_type": "execute_result"
    }
   ],
   "source": [
    "# For each continent, check which country has smallest CM (in 2019)\n",
    "min_ids = continent_group_2019.childMortality.idxmin()\n",
    "gap_data.loc[min_ids][['childMortality', 'name', 'region']]"
   ]
  },
  {
   "cell_type": "markdown",
   "id": "76adbc8b-6cd6-4c6a-b37e-29d8690c0651",
   "metadata": {},
   "source": [
    "From the output, we know that Nigeria has the largest CM (in 2019) with the value of 117.2 and San Marino has the smallest CM (in 2019) with the value of 1.7."
   ]
  },
  {
   "cell_type": "markdown",
   "id": "0869c35b-c9b0-43da-8b4c-54aa99d0c545",
   "metadata": {},
   "source": [
    "### 5 Graphical Analysis "
   ]
  },
  {
   "cell_type": "code",
   "execution_count": 104,
   "id": "4337dd7c-9e2b-4bd8-8c57-03ed6df7f6bf",
   "metadata": {},
   "outputs": [
    {
     "name": "stdout",
     "output_type": "stream",
     "text": [
      "Nigeria\n",
      "San Marino\n"
     ]
    }
   ],
   "source": [
    "# Find the max and min country\n",
    "cm_2019 = gap_data[gap_data['time'] == 2019]\n",
    "max_cm_id = cm_2019.childMortality.idxmax()\n",
    "min_cm_id = cm_2019.childMortality.idxmin()\n",
    "max_country = gap_data.loc[max_cm_id]['name']\n",
    "min_country = gap_data.loc[min_cm_id][\"name\"]\n",
    "print(max_country)\n",
    "print(min_country)"
   ]
  },
  {
   "cell_type": "code",
   "execution_count": 105,
   "id": "8c30bfef-a055-41ff-ab61-0f58a4ccbe18",
   "metadata": {},
   "outputs": [],
   "source": [
    "# Filter countries\n",
    "cm_Nigeria = gap_data[gap_data.name == \"Nigeria\"][[\"name\",\"childMortality\",\"time\"]]\n",
    "cm_SM = gap_data[gap_data.name == \"San Marino\"][[\"name\",\"childMortality\",\"time\"]]\n",
    "cm_Turkey = gap_data[gap_data.name == \"Turkey\"][[\"name\",\"childMortality\",\"time\"]]\n",
    "cm_China = gap_data[gap_data.name == \"China\"][[\"name\",\"childMortality\",\"time\"]]\n",
    "cm_Japan = gap_data[gap_data.name == \"Japan\"][[\"name\",\"childMortality\",\"time\"]]"
   ]
  },
  {
   "cell_type": "code",
   "execution_count": 106,
   "id": "887ff0bf-b9f6-4766-98fc-3756bfd3b837",
   "metadata": {},
   "outputs": [
    {
     "data": {
      "image/png": "[encoded data removed]",
      "text/plain": [
       "<Figure size 432x288 with 1 Axes>"
      ]
     },
     "metadata": {
      "needs_background": "light"
     },
     "output_type": "display_data"
    }
   ],
   "source": [
    "# Make the plot\n",
    "plt.plot(cm_SM.time, cm_SM.childMortality, label=\"San Marino\", color=\"Red\")\n",
    "plt.plot(cm_Nigeria.time, cm_Nigeria.childMortality, label=\"Nigeria\", color=\"Green\")\n",
    "plt.plot(cm_Turkey.time, cm_Turkey.childMortality, label=\"Turkey\", color=\"Grey\")\n",
    "plt.plot(cm_China.time, cm_China.childMortality, label=\"China\", color=\"Black\")\n",
    "plt.plot(cm_Japan.time, cm_Japan.childMortality, label=\"Japan\", color=\"Brown\")\n",
    "_ = plt.xlabel(\"Year\")\n",
    "_ = plt.ylabel(\"Child Mortality\")\n",
    "_ = plt.title(\"The ChildMortality For Five Different Countries\")  \n",
    "plt.legend()\n",
    "plt.show()"
   ]
  },
  {
   "cell_type": "markdown",
   "id": "be315fda-d7e9-4e92-be2d-de159264aee2",
   "metadata": {},
   "source": [
    "From the graph, we can notice that the all the countries have a downward trends. Nigeria has the highest Child Mortality from 1960 to 2019, followed by the Turkey and the China with a dramatic downward trend. It is noticeable that the Child Mortality of Turkey and China almost tends to be overlap from year 1998.The last two countries are Japan and San Morino. They are almost flat in this time period but the San Marino has the lowest value in 2019."
   ]
  },
  {
   "cell_type": "markdown",
   "id": "6d9d6262-c35a-4e95-80a6-7e39147b1182",
   "metadata": {},
   "source": [
    "### How much time did you spend on this PS?\n",
    "I spent almost 7h on this PS."
   ]
  }
 ],
 "metadata": {
  "kernelspec": {
   "display_name": "Python 3 (ipykernel)",
   "language": "python",
   "name": "python3"
  },
  "language_info": {
   "codemirror_mode": {
    "name": "ipython",
    "version": 3
   },
   "file_extension": ".py",
   "mimetype": "text/x-python",
   "name": "python",
   "nbconvert_exporter": "python",
   "pygments_lexer": "ipython3",
   "version": "3.9.7"
  }
 },
 "nbformat": 4,
 "nbformat_minor": 5
}
