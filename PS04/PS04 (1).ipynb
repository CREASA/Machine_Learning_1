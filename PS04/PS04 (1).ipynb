{
 "cells": [
  {
   "cell_type": "markdown",
   "id": "307ac9ac-7900-44ec-b9fa-f8311dacfdcc",
   "metadata": {},
   "source": [
    "# PS 04"
   ]
  },
  {
   "cell_type": "markdown",
   "id": "2768296a-f6ff-45e1-95ad-6968ec0fe340",
   "metadata": {},
   "source": [
    "## Name: Xinyu Chang"
   ]
  },
  {
   "cell_type": "markdown",
   "id": "4c708e30-5d65-4eda-bfd8-54bfab7cbb63",
   "metadata": {},
   "source": [
    "---"
   ]
  },
  {
   "cell_type": "code",
   "execution_count": 5,
   "id": "40865c07-4fe1-4454-bed6-55b43af849da",
   "metadata": {},
   "outputs": [],
   "source": [
    "# import the packages\n",
    "import numpy as np\n",
    "import matplotlib.pyplot as plt\n",
    "import pandas as pd"
   ]
  },
  {
   "cell_type": "markdown",
   "id": "c325ec2f-b30a-46bd-8e9e-eaeaf3fd710e",
   "metadata": {},
   "source": [
    "### 1 Explore Central Limit Theorem"
   ]
  },
  {
   "cell_type": "markdown",
   "id": "9175cc6d-9878-4b6b-a0cf-bcfc1952b4ec",
   "metadata": {},
   "source": [
    "#### Q1 What is Random Variable (RV)? What makes X a RV?"
   ]
  },
  {
   "cell_type": "markdown",
   "id": "8309a68f-e04c-4d31-8a8a-965b96f0b850",
   "metadata": {},
   "source": [
    "A Random Variable (RV) is a central concept that connects probability theory to statistics, enabling the use of mathematical tools to analyze random processes. It is essential to remember that a random variable is not random and not a variable.Essentially, a random variable (RV) is a function that allocates numeric values to the outcomes of a random process. It allows us to represent uncertain experimental outcomes using real numbers. Depending on the type of values they may assume, random variables may be discrete or continuous. **It is a function that assigns a number to each event in the sample space S of a random phenomenon.**\n",
    "\n",
    "When we conduct an experiment, like flipping a coin, we often use a random variable X to convert the realized outcome into a number, such as 1 or 0 in the case of a coin toss. These numerical values are the possible observed values or realizations of the random variable. While random variables are traditionally denoted by uppercase Latin letters like X or Y, their observed values (realizations) are denoted with corresponding lowercase letters, such as x and y.\n",
    "\n",
    "For example, the random variable X assigns a numerical value to the outcome of flipping a fair coin (heads or tails). The function X is defined as:\n",
    "\n",
    "X(E) = { -1 if E = T, 1 if E = H }\n",
    "\n",
    "Here, E represents the event, T is tails, and H is heads. So, X is a random variable because it maps the outcome of flipping a fair coin to numerical values (-1 and 1) with respective probabilities (0.5 and 0.5)."
   ]
  },
  {
   "cell_type": "markdown",
   "id": "52fa66cc-6c46-4ac1-90cd-8cf0bc88f9a3",
   "metadata": {},
   "source": [
    "#### Q2 Calculate the expected value and variance of this random variable. Explain what is the difference between expected value and the sample mean."
   ]
  },
  {
   "cell_type": "markdown",
   "id": "ae1157d4-98d6-4550-ba27-039e38cbac4a",
   "metadata": {},
   "source": [
    "The formula for calculating the expected value (E(X)) of a discrete random variable is: \n",
    "$E(X) = \\sum_i x_i * P(x_i)$:"
   ]
  },
  {
   "cell_type": "code",
   "execution_count": 6,
   "id": "99cea610-b377-48d7-97c6-01840acc1619",
   "metadata": {},
   "outputs": [
    {
     "data": {
      "text/plain": [
       "0.0"
      ]
     },
     "execution_count": 6,
     "metadata": {},
     "output_type": "execute_result"
    }
   ],
   "source": [
    "expected_value_1 = 1 * 0.5 + (-1) * 0.5\n",
    "expected_value_1"
   ]
  },
  {
   "cell_type": "markdown",
   "id": "6cfba2e9-d105-4e32-a2b5-7c1c0dd2b5b8",
   "metadata": {},
   "source": [
    "The expected value of the random variable is 0."
   ]
  },
  {
   "cell_type": "markdown",
   "id": "9b966b98-c799-4ed4-bc96-2302c0524aa8",
   "metadata": {},
   "source": [
    "The variance (Var(X)) is a measure of how much the values of a random variable deviate from its expected value. Using the formula Var(X) = E(X^2) - (E(X))^2:"
   ]
  },
  {
   "cell_type": "code",
   "execution_count": 7,
   "id": "0795f657-b8e3-4307-b6e2-e0a89072fcf8",
   "metadata": {},
   "outputs": [
    {
     "data": {
      "text/plain": [
       "1.0"
      ]
     },
     "execution_count": 7,
     "metadata": {},
     "output_type": "execute_result"
    }
   ],
   "source": [
    "variance_1 = (0.5 * 1 ** 2 + 0.5 * (-1) ** 2) - expected_value_1 ** 2\n",
    "variance_1"
   ]
  },
  {
   "cell_type": "markdown",
   "id": "a0430556-6a86-46df-8939-5c6bdd595731",
   "metadata": {},
   "source": [
    "The variance of the random variable is 1."
   ]
  },
  {
   "cell_type": "markdown",
   "id": "5559263a-1f7e-42a4-b5e7-e19adf0b6ba7",
   "metadata": {},
   "source": [
    "Sample mean is the average of the random realizations in a given sample. To calculate the sample mean, we add up all the outcomes in the random realizations and divide the sum by the total number of realizations. The sample mean is an empirical value obtained from data and takes the sample size into account.Expected value, on the other hand, is a property of the random variable, which represents the random process we are analyzing. It is a theoretical value that takes probability into account, representing the \"center\" of a probability distribution. The expected value is not random and is not related to the sample.The main difference between the sample mean and the expected value is that the sample mean is an empirical value derived from data and considers the sample size, while the expected value is a theoretical value that considers probabilities and is a property of the random variable itself."
   ]
  },
  {
   "cell_type": "markdown",
   "id": "88f1a372-952f-4653-852c-d0da7e34a6d8",
   "metadata": {},
   "source": [
    "#### Q3  Choose your number of repetitions R."
   ]
  },
  {
   "cell_type": "code",
   "execution_count": 8,
   "id": "f4adfa4e-7db9-4bef-b6b4-4f24ff56b397",
   "metadata": {},
   "outputs": [],
   "source": [
    "R = 1000"
   ]
  },
  {
   "cell_type": "code",
   "execution_count": 9,
   "id": "791f5c74-5ba7-4fbc-8fc1-42a9b4e4a7d5",
   "metadata": {},
   "outputs": [],
   "source": [
    "# Create the function for later computing\n",
    "def random_realizations(S, R):\n",
    "    X = []\n",
    "    for p in range(R):\n",
    "        x = np.random.randint(0, 2, size=S) * 2 - 1\n",
    "        X.append(np.mean(x))\n",
    "    return X\n",
    "\n",
    "def plot_histogram(X, S, R):\n",
    "    plt.hist(X, bins=100, edgecolor='black')\n",
    "    plt.xlabel('Mean Value')\n",
    "    plt.ylabel('Frequency')\n",
    "    plt.title(f'Histogram of R={R} Random Realizations of X with Sample Size S={S}')\n",
    "    plt.show()\n",
    "\n",
    "def calculate_sample_stats(X):\n",
    "    mean = np.mean(X)\n",
    "    var = np.var(X)\n",
    "    return mean, var\n",
    "\n",
    "def calculate_theoretical_stats(S):\n",
    "    E_X = 0\n",
    "    var_X = 1\n",
    "    E_mean = E_X\n",
    "    var_mean = var_X / S\n",
    "    return E_mean, var_mean"
   ]
  },
  {
   "cell_type": "markdown",
   "id": "1e3892a5-94c8-4d00-9443-2a71c6adfc45",
   "metadata": {},
   "source": [
    "#### Q4 Create a vector of R random realizations of X. Make a histogram of those. Comment the shape of the histogram.\n",
    "#### Q5 Compute and report mean and variance of the sample you created (just use np.mean and np.var)"
   ]
  },
  {
   "cell_type": "code",
   "execution_count": 10,
   "id": "9abace83-3954-40c2-a2b8-9d23f0356fe5",
   "metadata": {},
   "outputs": [
    {
     "data": {
      "image/png": "[encoded data removed]",
      "text/plain": [
       "<Figure size 432x288 with 1 Axes>"
      ]
     },
     "metadata": {
      "needs_background": "light"
     },
     "output_type": "display_data"
    },
    {
     "name": "stdout",
     "output_type": "stream",
     "text": [
      "Sample Size S = 1\n",
      "Sample Mean: 0.014, Theoretical Mean: 0\n",
      "Sample Variance: 0.999804, Theoretical Variance: 1.0\n"
     ]
    }
   ],
   "source": [
    "S = 1\n",
    "X = random_realizations(S, R)\n",
    "plot_histogram(X, S, R)\n",
    "\n",
    "sample_mean, sample_var = calculate_sample_stats(X)\n",
    "theoretical_mean, theoretical_var = calculate_theoretical_stats(S)\n",
    "\n",
    "print(f'Sample Size S = {S}')\n",
    "print(f'Sample Mean: {sample_mean}, Theoretical Mean: {theoretical_mean}')\n",
    "print(f'Sample Variance: {sample_var}, Theoretical Variance: {theoretical_var}')"
   ]
  },
  {
   "cell_type": "markdown",
   "id": "5301c086-8fba-4310-978d-7ce9628bab62",
   "metadata": {},
   "source": [
    "For sample size S=1:  \n",
    "The histogram shows two peaks at -1 and 1, as there are only two possible values for the mean of a single realization. There will be no central tendency in this case.The sample mean and sample variance(0.014 and 0.9998) are close to the theoretical values computed in question 2 (E(X) = 0 and Var(X) = 1)."
   ]
  },
  {
   "cell_type": "markdown",
   "id": "76139c79-e0bb-49a5-a9f8-de6a983048f4",
   "metadata": {},
   "source": [
    "#### Q6  Now create R pairs of random realizations of X (i.e. sample size S = 2).\n",
    "#### Q7  Compute and report mean of the R pair means, and variance of the means\n",
    "#### Q8 Compute the expected value and variance of the pair means, i.e. the theoretical concepts."
   ]
  },
  {
   "cell_type": "code",
   "execution_count": 36,
   "id": "d522d51c-8433-4b85-a1cc-18444c06073e",
   "metadata": {},
   "outputs": [
    {
     "data": {
      "image/png": "[encoded data removed]",
      "text/plain": [
       "<Figure size 432x288 with 1 Axes>"
      ]
     },
     "metadata": {
      "needs_background": "light"
     },
     "output_type": "display_data"
    },
    {
     "name": "stdout",
     "output_type": "stream",
     "text": [
      "Sample Size S = 2\n",
      "Sample Mean: 0.01, Theoretical Mean: 0\n",
      "Sample Variance: 0.5119, Theoretical Variance: 0.5\n"
     ]
    }
   ],
   "source": [
    "S = 2\n",
    "X = random_realizations(S, R)\n",
    "plot_histogram(X, S, R)\n",
    "\n",
    "sample_mean, sample_var = calculate_sample_stats(X)\n",
    "theoretical_mean, theoretical_var = calculate_theoretical_stats(S)\n",
    "\n",
    "print(f'Sample Size S = {S}')\n",
    "print(f'Sample Mean: {sample_mean}, Theoretical Mean: {theoretical_mean}')\n",
    "print(f'Sample Variance: {sample_var}, Theoretical Variance: {theoretical_var}')"
   ]
  },
  {
   "cell_type": "markdown",
   "id": "4b530bb3-f687-439a-a6d4-782b2e18ca6f",
   "metadata": {},
   "source": [
    "The resulting histogram should show a symmetric distribution centered around the mean value of 0. Compared with the last question, there is a new column for the mean value of 0 which has the highest frequency with almost 500. Now the graph shows three columns instead of two columns. Since in this question, we introduce one more coin, we can get one with head and one with tail. The sample mean and sample variance(0.01, 0.5119) are close to the theoretical values(0 and 0.5).The variance of a pair mean is 1/2 of what I got above（S = 1) as for pairs S = 2."
   ]
  },
  {
   "cell_type": "markdown",
   "id": "a8b571aa-0850-4979-8515-91bb6206410b",
   "metadata": {},
   "source": [
    "#### Q9 Now instead of pairs of random numbers, repeat this with 5-tuples of random numbers"
   ]
  },
  {
   "cell_type": "code",
   "execution_count": 37,
   "id": "e806a2b5-ebb4-4b1e-91e8-51a68e4c761b",
   "metadata": {},
   "outputs": [
    {
     "data": {
      "image/png": "[encoded data removed]",
      "text/plain": [
       "<Figure size 432x288 with 1 Axes>"
      ]
     },
     "metadata": {
      "needs_background": "light"
     },
     "output_type": "display_data"
    },
    {
     "name": "stdout",
     "output_type": "stream",
     "text": [
      "Sample Size S = 5\n",
      "Sample Mean: -0.0048000000000000004, Theoretical Mean: 0\n",
      "Sample Variance: 0.18845696, Theoretical Variance: 0.2\n"
     ]
    }
   ],
   "source": [
    "S = 5\n",
    "X = random_realizations(S, R)\n",
    "plot_histogram(X, S, R)\n",
    "\n",
    "sample_mean, sample_var = calculate_sample_stats(X)\n",
    "theoretical_mean, theoretical_var = calculate_theoretical_stats(S)\n",
    "\n",
    "print(f'Sample Size S = {S}')\n",
    "print(f'Sample Mean: {sample_mean}, Theoretical Mean: {theoretical_mean}')\n",
    "print(f'Sample Variance: {sample_var}, Theoretical Variance: {theoretical_var}')"
   ]
  },
  {
   "cell_type": "markdown",
   "id": "55356c49-7711-4ca5-a960-40cf7d1acb4c",
   "metadata": {},
   "source": [
    "For sample size S=5:  \n",
    "The sample mean(-0.0048) is getting closer to the theoretical mean(0) and the sample variance(0.18846) is also getting closer to the thereotical variance(0.2). The variance also become smaller than the previous variance. The histogram will resemble a more bell-like shape, with the peak at -0.25 and the distribution spreading out symmetrically around the central tendency. The distribution will be narrower than the S=2 case, as the larger sample size reduces variability."
   ]
  },
  {
   "cell_type": "markdown",
   "id": "2335b9a7-3d50-4360-acb7-bba2badc83d9",
   "metadata": {},
   "source": [
    "#### Q10 Repeat with 25-tuples..."
   ]
  },
  {
   "cell_type": "code",
   "execution_count": 38,
   "id": "8876d2c8-5f91-4b45-9049-cdbbc13b6da4",
   "metadata": {},
   "outputs": [
    {
     "data": {
      "image/png": "[encoded data removed]",
      "text/plain": [
       "<Figure size 432x288 with 1 Axes>"
      ]
     },
     "metadata": {
      "needs_background": "light"
     },
     "output_type": "display_data"
    },
    {
     "name": "stdout",
     "output_type": "stream",
     "text": [
      "Sample Size S = 25\n",
      "Sample Mean: 0.0028800000000000006, Theoretical Mean: 0\n",
      "Sample Variance: 0.0388269056, Theoretical Variance: 0.04\n"
     ]
    }
   ],
   "source": [
    "S = 25\n",
    "X = random_realizations(S, R)\n",
    "plot_histogram(X, S, R)\n",
    "\n",
    "sample_mean, sample_var = calculate_sample_stats(X)\n",
    "theoretical_mean, theoretical_var = calculate_theoretical_stats(S)\n",
    "\n",
    "print(f'Sample Size S = {S}')\n",
    "print(f'Sample Mean: {sample_mean}, Theoretical Mean: {theoretical_mean}')\n",
    "print(f'Sample Variance: {sample_var}, Theoretical Variance: {theoretical_var}')"
   ]
  },
  {
   "cell_type": "markdown",
   "id": "8f75e862-e65d-4afc-9f7b-d231d8aaa130",
   "metadata": {},
   "source": [
    "For sample size S=25:  \n",
    "The histogram will be even more bell-shaped and narrower, centered around 0. As the sample size increases, the distribution of the means becomes more concentrated around the theoretical mean, which is about 0 in this case.The sample variance become more smaller than the former cases.The sample mean and sample variance(0.0028, 0.0388) are more closer to the theoretical values(0, 0.04)."
   ]
  },
  {
   "cell_type": "markdown",
   "id": "1afefddd-8c94-4dde-86ac-d85ea0f088fc",
   "metadata": {},
   "source": [
    "#### Q11 With 1000-tuples"
   ]
  },
  {
   "cell_type": "code",
   "execution_count": 39,
   "id": "bedd21c5-ef62-4cc2-8524-e0b5373cabec",
   "metadata": {},
   "outputs": [
    {
     "data": {
      "image/png": "[encoded data removed]",
      "text/plain": [
       "<Figure size 432x288 with 1 Axes>"
      ]
     },
     "metadata": {
      "needs_background": "light"
     },
     "output_type": "display_data"
    },
    {
     "name": "stdout",
     "output_type": "stream",
     "text": [
      "Sample Size S = 1000\n",
      "Sample Mean: -0.0009199999999999999, Theoretical Mean: 0\n",
      "Sample Variance: 0.0010460576000000002, Theoretical Variance: 0.001\n"
     ]
    }
   ],
   "source": [
    "S = 1000\n",
    "X = random_realizations(S, R)\n",
    "plot_histogram(X, S, R)\n",
    "\n",
    "sample_mean, sample_var = calculate_sample_stats(X)\n",
    "theoretical_mean, theoretical_var = calculate_theoretical_stats(S)\n",
    "\n",
    "print(f'Sample Size S = {S}')\n",
    "print(f'Sample Mean: {sample_mean}, Theoretical Mean: {theoretical_mean}')\n",
    "print(f'Sample Variance: {sample_var}, Theoretical Variance: {theoretical_var}')"
   ]
  },
  {
   "cell_type": "markdown",
   "id": "74af60c8-80fc-4b77-8c50-ebab727962c9",
   "metadata": {},
   "source": [
    "For a sample size S = 1000:  \n",
    "The histogram distribution of the means of random realizations of the binary variable X with values {-1, 1} will be even more concentrated around the theoretical mean (which is 0 in this case) compared to the distributions for smaller sample sizes. The histogram will resemble a bell-shaped curve (a normal distribution).The sample mean is much closer to theoretical mean with the value of 0.The sample variance tend to be much closer with the theoretical variance with the value of 0.001."
   ]
  },
  {
   "cell_type": "markdown",
   "id": "edee61ad-4f80-4b0f-94ed-0e2b51f86a9d",
   "metadata": {},
   "source": [
    "#### Q12 Comment on the tuple size, and how the shape of the histogram changes when the tuple size increases."
   ]
  },
  {
   "cell_type": "markdown",
   "id": "5021b07f-7be9-4272-89e3-73f38c792dcf",
   "metadata": {},
   "source": [
    "As the tuple size (sample size, S) increases, the shape of the histogram changes significantly. When the sample size is small, the histogram displays distinct peaks at specific values, with no clear central tendency and a non-symmetric distribution. However, as the sample size increases, the histogram becomes more symmetric and concentrated around the theoretical mean, eventually resembling a normal distribution. As the sample size S increases, each individual observation has a diminishing effect on the sample mean. In other words, the mean of the sample becomes more stable and less susceptible to random fluctuations in the data. This implies that the variance of the sample mean decreases as sample size increases, as the sources of variability in the sample mean diminish. Also, the increasing sample size leads to a wider range of mean values for the realizations, resulting in a smoother and more continuous distribution. "
   ]
  },
  {
   "cell_type": "markdown",
   "id": "3ee545b0-6fd8-4994-af6a-57e3e9565d19",
   "metadata": {},
   "source": [
    "#### Q13 Explain why do the histograms resemble normal distribution as S grows.Why did two equal peaks turn into a “山”-shaped histogram?"
   ]
  },
  {
   "cell_type": "markdown",
   "id": "786a35ad-63ac-4229-9fd9-1a0e40cb3c6d",
   "metadata": {},
   "source": [
    "The histograms resemble a normal distribution as S grows due to the Central Limit Theorem(The means of a sample of random numbers tend to be normally distributed if the sample gets large.), which states that the distribution of the means of a large number of independent and identically distributed random variables converges to a normal distribution as the sample size increases.The histogram now has three columns instead of two, reflecting the three possible mean values: -1, 0, and 1. The column at 0 corresponds to the cases where one coin shows heads and the other shows tails (or vice versa). This probability is higher than the probabilities of obtaining a mean of -1 (two tails) or 1 (two heads). Therefore, the height of the middle column (0) is greater than the height of the other two columns (-1 and 1)."
   ]
  },
  {
   "cell_type": "markdown",
   "id": "8a6503e2-5f71-485e-86af-210c1d7867a0",
   "metadata": {},
   "source": [
    "#### Q14 Explain what is the difference between R and S. How do changing these values affect the histograms?"
   ]
  },
  {
   "cell_type": "markdown",
   "id": "098da8bc-ccfa-4168-a822-c672ea1ef978",
   "metadata": {},
   "source": [
    "R represent the number of replications or trials in an experiment, while S could represent the sample size (number of observations) in each trial. Changing the values of R and S can have different effects on the histograms:  \n",
    "\n",
    "Changing R (number of replications or trials):  \n",
    "\n",
    "As we increase the number of replications, the histograms will provide a more accurate representation of the underlying probability distribution. With more replications, the histograms tend to converge to the true distribution, as the law of large numbers comes into play. Conversely, if we decrease the number of replications, the histograms may not accurately represent the true distribution, as the sample might not capture all the possible variations in the random process.In conclusion, increasing R leads to a smoother histogram because the distribution of the averages becomes a better approximation of the underlying distribution, as described by the Central Limit Theorem.\n",
    "\n",
    "Changing S (sample size):\n",
    "\n",
    "Increasing the sample size generally results in a more accurate estimation of the population parameters (e.g., mean, variance). As the sample size increases, the Central Limit Theorem (CLT) comes into play, and the distribution of the sample means tends to be normally distributed, regardless of the shape of the original distribution. This allows for more precise inference and more reliable confidence intervals.\n",
    "\n",
    "\n",
    "\n",
    "\n",
    "\n"
   ]
  },
  {
   "cell_type": "markdown",
   "id": "6a14e27d-aa38-4857-ba2a-dff06389f79b",
   "metadata": {},
   "source": [
    "### 2 Is povery in Azraq refugee camp falling?"
   ]
  },
  {
   "cell_type": "markdown",
   "id": "b836003c-f13b-44ed-9390-89b5333280f7",
   "metadata": {},
   "source": [
    "### 2.1 Background"
   ]
  },
  {
   "cell_type": "markdown",
   "id": "18c13298-b0ba-4352-91bf-e466e15fcde7",
   "metadata": {},
   "source": [
    "#### Q1 What was the abject poverty in Azraq camp in Q1 and Q2 2022 (when including all assistance)? Lets call these variables p1 and p2."
   ]
  },
  {
   "cell_type": "markdown",
   "id": "2018092d-2027-4881-bbdc-f246fb4b3be8",
   "metadata": {},
   "source": [
    "p1 is 66%, and p2 is 51%.The abject poverty in Azraq camp in Q1 2022 including all assistance is 66%. The abject poverty in Azraq camp in Q2 2022 including all assistance is 51%."
   ]
  },
  {
   "cell_type": "markdown",
   "id": "39931690-d0b4-439a-936d-d6c302a30efa",
   "metadata": {},
   "source": [
    "#### Q2  How many households were surveyed in the camp?"
   ]
  },
  {
   "cell_type": "markdown",
   "id": "3240155e-3482-427b-96b6-a899bfce00e6",
   "metadata": {},
   "source": [
    "In the camp, there are 650 households have been surveyed. 325 are from the Azraq camp and 325 are from the Zaatari camp. Considering that we are analyzing the Azraq faction, the sample size is 325 individuals."
   ]
  },
  {
   "cell_type": "markdown",
   "id": "9930c0fe-4071-4aed-9230-2ffef58fba4a",
   "metadata": {},
   "source": [
    "### 2.2 Simulations"
   ]
  },
  {
   "cell_type": "markdown",
   "id": "b2d8df0b-bee1-44f9-92a0-2bbfa2b3a9a4",
   "metadata": {},
   "source": [
    "#### Q1 Create a random sample using the correct values of S and p2 you found in 2.1 above."
   ]
  },
  {
   "cell_type": "code",
   "execution_count": 40,
   "id": "8030cd38-8211-4acd-96f2-cfaa17e70bc5",
   "metadata": {},
   "outputs": [],
   "source": [
    "S = 325\n",
    "p1 = 0.66\n",
    "p2 = 0.51"
   ]
  },
  {
   "cell_type": "code",
   "execution_count": 41,
   "id": "6605f073-3d45-4225-b3d9-898e67cf5bea",
   "metadata": {},
   "outputs": [
    {
     "data": {
      "text/plain": [
       "array([1, 0, 0, 0, 1, 1, 1, 0, 0, 0])"
      ]
     },
     "execution_count": 41,
     "metadata": {},
     "output_type": "execute_result"
    }
   ],
   "source": [
    "np.random.seed(42)\n",
    "sample_2 = np.random.binomial(1, p2, size=S)\n",
    "sample_2[:10]  # just for check"
   ]
  },
  {
   "cell_type": "markdown",
   "id": "b23854ad-3a35-4261-bfb6-acba0e177b28",
   "metadata": {},
   "source": [
    "#### Q2 Compute the sample mean and compare it with p1 and p2 above. How close is it to these figures?"
   ]
  },
  {
   "cell_type": "code",
   "execution_count": 42,
   "id": "82964f8c-22b2-4fa8-af62-72c62fa2ba8e",
   "metadata": {},
   "outputs": [
    {
     "name": "stdout",
     "output_type": "stream",
     "text": [
      "Sample mean for p2 is: 0.48923076923076925\n"
     ]
    }
   ],
   "source": [
    "mean_2 = np.mean(sample_2)\n",
    "print(\"Sample mean for p2 is:\", mean_2)"
   ]
  },
  {
   "cell_type": "markdown",
   "id": "a98813fe-4300-44a1-86da-a75780da3952",
   "metadata": {},
   "source": [
    "The sample means(0.489) is quite close to the true probabilities p2(0.51). However, the sample mean(0.48) is quite far away from the p1(0.66)."
   ]
  },
  {
   "cell_type": "markdown",
   "id": "07db8aa7-0382-4c8f-a641-01e08b06bf74",
   "metadata": {},
   "source": [
    "#### Q3 Pick your number of replications R"
   ]
  },
  {
   "cell_type": "code",
   "execution_count": 43,
   "id": "899434fe-57b2-409b-acb6-8ac9e1a8aa13",
   "metadata": {},
   "outputs": [],
   "source": [
    "R = 1000"
   ]
  },
  {
   "cell_type": "markdown",
   "id": "3b5e26c1-7c6d-4cd9-8e10-450a64bdb278",
   "metadata": {},
   "source": [
    "#### Q4 Repeat the points 1 and 2 for R times: create the sample, compute the average, but also store the average in an array. "
   ]
  },
  {
   "cell_type": "code",
   "execution_count": 44,
   "id": "a9547882-1e4f-4557-8167-5b5447db1fe5",
   "metadata": {},
   "outputs": [],
   "source": [
    "sample_means_2 = []\n",
    "for i in range(R):\n",
    "    sample_2 = np.random.binomial(1, p2, size=S)\n",
    "    sample_means_2.append(np.mean(sample_2))"
   ]
  },
  {
   "cell_type": "markdown",
   "id": "b7a5643c-3cf8-4b43-a849-b80fe1ec5d1c",
   "metadata": {},
   "source": [
    "#### Q5 What is the average of the averages? Which probability from 1 does it resemble? Why?"
   ]
  },
  {
   "cell_type": "code",
   "execution_count": 45,
   "id": "ca018756-f2e0-442e-a2fa-c2328a4f6001",
   "metadata": {},
   "outputs": [
    {
     "data": {
      "text/plain": [
       "0.5093138461538461"
      ]
     },
     "execution_count": 45,
     "metadata": {},
     "output_type": "execute_result"
    }
   ],
   "source": [
    "np.random.seed(42)\n",
    "avg_of_avgs_2 = np.mean(sample_means_2)\n",
    "avg_of_avgs_2"
   ]
  },
  {
   "cell_type": "markdown",
   "id": "ec995568-2f54-4491-8750-ea05e183b1bc",
   "metadata": {},
   "source": [
    "Based on the ouput, the average of the averages for p2 (0.509) is very close to the original probability p2 (0.51) but it is not close to p1(0.66).The reason is the average of the averages values resemble its respective probabilities is due to the Law of Large Numbers. As we repeat the sampling process for a large number of replications (R), the average of the sample means converges to the true probability. This means that the more replications we perform, the closer our estimated probabilities (average of the averages) will be to the actual probabilities p2."
   ]
  },
  {
   "cell_type": "markdown",
   "id": "b8851bba-81ed-48ed-9def-5e4e880dae76",
   "metadata": {},
   "source": [
    "#### Q6 Plot a histogram of the averages. "
   ]
  },
  {
   "cell_type": "code",
   "execution_count": 46,
   "id": "f87b9c02-a98f-47ee-9c66-af59dce848b3",
   "metadata": {},
   "outputs": [
    {
     "data": {
      "image/png": "[encoded data removed]",
      "text/plain": [
       "<Figure size 432x288 with 1 Axes>"
      ]
     },
     "metadata": {
      "needs_background": "light"
     },
     "output_type": "display_data"
    }
   ],
   "source": [
    "plt.hist(sample_means_2, bins=30, edgecolor='black')\n",
    "plt.xlabel(\"Sample mean p2\")\n",
    "plt.ylabel(\"Frequency\")\n",
    "plt.show()"
   ]
  },
  {
   "cell_type": "markdown",
   "id": "f3cb6fdd-5512-4743-ade1-f3355e40a290",
   "metadata": {},
   "source": [
    "The histogram of the averages should resemble a normal distribution, as the sample means of a large number of Bernoulli-distributed samples tend to be normally distributed according to the Central Limit Theorem. From the graph, the largest frequency is about 0.51 and the smallest frequency is about 0.43 and 0.58. "
   ]
  },
  {
   "cell_type": "markdown",
   "id": "3d7b2339-2e1a-42ab-aca7-c00fdf2ec24d",
   "metadata": {},
   "source": [
    "#### Q7 Finally, compute 2.5th and 97.5th percentile and the 95% confidence intervals.Does the Q1 poverty value fall into this interval?"
   ]
  },
  {
   "cell_type": "code",
   "execution_count": 47,
   "id": "88bf2698-0b18-42f4-992f-5b8e21f4408e",
   "metadata": {},
   "outputs": [
    {
     "name": "stdout",
     "output_type": "stream",
     "text": [
      "2.5th percentile for p2 is: 0.4553846153846154\n",
      "97.5th percentile for p2 is: 0.5661538461538461\n",
      "95% Confidence interval for p2 is: [0.45538462 0.56615385]\n"
     ]
    }
   ],
   "source": [
    "low_percentile_2 = np.percentile(sample_means_2, 2.5)\n",
    "high_percentile_2 = np.percentile(sample_means_2, 97.5)\n",
    "CI_2 = np.percentile(sample_means_2, [2.5, 97.5])\n",
    "print(\"2.5th percentile for p2 is:\", low_percentile_2)\n",
    "print(\"97.5th percentile for p2 is:\", high_percentile_2)\n",
    "print(\"95% Confidence interval for p2 is:\", CI_2)"
   ]
  },
  {
   "cell_type": "markdown",
   "id": "1c35e6b1-9a21-459b-a7cc-e43cc2a3330e",
   "metadata": {},
   "source": [
    "For the 2022-Q2 survey (p2), its 95% confidence interval is [0.45538462 0.56615385]. The 2.5th percentile is 0.455 and the 97.5% percentile is 0.566. Since the 2022-Q1 result (p1 = 0.66) is not within the range [0.45538462 0.56615385], so we can say the 2022-Q1 poverty value does not fall into the 95% confidence interval of the 2022-Q2 survey."
   ]
  },
  {
   "cell_type": "markdown",
   "id": "ebff9f05-0266-4c99-bdc0-53ea69f58bc4",
   "metadata": {},
   "source": [
    "### 2.3 Theoretical CI"
   ]
  },
  {
   "cell_type": "markdown",
   "id": "c9616c26-f1d0-407c-b6b4-f04a30a091d6",
   "metadata": {},
   "source": [
    "#### Q1 Compute variance of your sample of X."
   ]
  },
  {
   "cell_type": "code",
   "execution_count": 48,
   "id": "90c37b0c-12ec-4be0-8336-8741b034c8eb",
   "metadata": {},
   "outputs": [
    {
     "name": "stdout",
     "output_type": "stream",
     "text": [
      "Variance for p2 is: 0.2499\n"
     ]
    }
   ],
   "source": [
    "sample_var_2 = p2 * (1 - p2)\n",
    "print(\"Variance for p2 is:\", sample_var_2)"
   ]
  },
  {
   "cell_type": "markdown",
   "id": "1148fe8e-dfff-4821-ae03-aeb22bc9e075",
   "metadata": {},
   "source": [
    "The variance for p2 is 0.2499."
   ]
  },
  {
   "cell_type": "markdown",
   "id": "ca7206f6-f84d-4abf-ba52-907cf8f01493",
   "metadata": {},
   "source": [
    "#### Q2 But this was variance of X (or sample variance if that was what you computed).What we need is variance of sample mean. What does CLT tell about relationship b/w sample variance and variance of the sample mean?"
   ]
  },
  {
   "cell_type": "code",
   "execution_count": 49,
   "id": "b99aac7d-1b61-49b9-a559-dda16f5dc6c1",
   "metadata": {},
   "outputs": [
    {
     "name": "stdout",
     "output_type": "stream",
     "text": [
      "Variance of the sample mean for p2 is: 0.000768923076923077\n"
     ]
    }
   ],
   "source": [
    "sample_mean_var_2 = sample_var_2 / S\n",
    "print(\"Variance of the sample mean for p2 is:\", sample_mean_var_2)"
   ]
  },
  {
   "cell_type": "markdown",
   "id": "3ceeb45f-3ae1-493f-b158-128dfb8720f9",
   "metadata": {},
   "source": [
    "The variance of sample mean for p2 is 0.0007689. The Central Limit Theorem (CLT) establishes a relationship between the sample variance and the variance of the sample mean. According to the CLT, when we have a large number of independent and identically distributed random variables, their means tend to be normally distributed.\n",
    "\n",
    "The relationship between the sample variance (Var(X)) and the variance of the sample mean (Var(𝑋̅)) is given by:\n",
    "\n",
    "Var(𝑋̅) = Var(X) / n\n",
    "\n",
    "where n is the sample size.\n",
    "\n",
    "In other words, the variance of the sample mean is equal to the variance of the individual random variables (sample variance) divided by the sample size. This relationship holds true for large sample sizes and is a key aspect of the Central Limit Theorem."
   ]
  },
  {
   "cell_type": "markdown",
   "id": "0e5b9c2b-9425-45b3-b0ba-38bb54c02d45",
   "metadata": {},
   "source": [
    "#### Q3 Compute the standard deviation of sample mean using CLT."
   ]
  },
  {
   "cell_type": "code",
   "execution_count": 25,
   "id": "dab1a00d-3e11-430c-9c2a-a7fbac385b4e",
   "metadata": {},
   "outputs": [
    {
     "name": "stdout",
     "output_type": "stream",
     "text": [
      "Standard deviation of the sample mean for p2 is: 0.02772946225448804\n"
     ]
    }
   ],
   "source": [
    "sample_mean_std_2 = np.sqrt(sample_mean_var_2)\n",
    "print(\"Standard deviation of the sample mean for p2 is:\", sample_mean_std_2)"
   ]
  },
  {
   "cell_type": "markdown",
   "id": "7dcc0eab-25d0-41d7-9320-9e841e462c6a",
   "metadata": {},
   "source": [
    "By using the CLT, the p2 standard deviation of sample mean using CLT is 0.027729."
   ]
  },
  {
   "cell_type": "markdown",
   "id": "ae388dc9-fb64-4466-a7cb-c31696e1e47c",
   "metadata": {},
   "source": [
    "#### Q4 Compare the standard deviation you got here with the standard deviation of the sample of averages you computed in 2.2.4."
   ]
  },
  {
   "cell_type": "code",
   "execution_count": 26,
   "id": "9e0f2635-f72d-483a-9078-321b9a5f5898",
   "metadata": {},
   "outputs": [
    {
     "name": "stdout",
     "output_type": "stream",
     "text": [
      "Sample standard deviation: 0.028046836735852655\n",
      "Theoretical standard deviation: 0.02772946225448804\n"
     ]
    }
   ],
   "source": [
    "sample_std_2 = np.std(sample_means_2)\n",
    "print(\"Sample standard deviation:\", sample_std_2)\n",
    "print(\"Theoretical standard deviation:\", sample_mean_std_2)"
   ]
  },
  {
   "cell_type": "markdown",
   "id": "23d31eff-48ae-4116-948e-c06ed15e63ce",
   "metadata": {},
   "source": [
    "The sample standard deviation of the sample mean for p2 is 0.028.The theoretical standard deviation of the sample mean for p2 calculated using the Central Limit Theorem (CLT) is 0.0277.The sample and theoretical standard deviations are similar in this question.The results show that the sample standard deviations of the sample means are very close to the theoretical standard deviations calculated using the CLT. This confirms that the CLT provides an accurate estimation of the standard deviation of the sample mean, especially when the sample size is large and the number of simulations (R) is also large."
   ]
  },
  {
   "cell_type": "markdown",
   "id": "6a459b4a-5d79-4d1f-8c64-534202ec83ed",
   "metadata": {},
   "source": [
    "#### Q5 Use this standard deviation to compute the confidence interval. "
   ]
  },
  {
   "cell_type": "code",
   "execution_count": 27,
   "id": "7579290b-aefb-40bb-a473-ce87bd4fc4f7",
   "metadata": {},
   "outputs": [
    {
     "data": {
      "text/plain": [
       "(0.4348810232119727, 0.5435805152495659)"
      ]
     },
     "execution_count": 27,
     "metadata": {},
     "output_type": "execute_result"
    }
   ],
   "source": [
    "CI_p2 = (mean_2 - 1.96 * sample_mean_std_2, mean_2 + 1.96 * sample_mean_std_2)\n",
    "CI_p2"
   ]
  },
  {
   "cell_type": "markdown",
   "id": "81eec2ef-5fb5-4e84-8983-d46f52c5a68a",
   "metadata": {},
   "source": [
    "In this method, 2022-Q1 result (p1 = 0.66) does not fall within this 2022-Q2 confidence interval(0.4348810232119727, 0.5435805152495659), which is the same conclusion we drawn from question 2.2.7. In both methods, the 95% confidence interval for p2 does not includes the true value of p1 (0.66). "
   ]
  },
  {
   "cell_type": "markdown",
   "id": "e33917ff-b37d-4792-a40d-09a8c9a2c6ff",
   "metadata": {},
   "source": [
    "### 2.4 Challenge"
   ]
  },
  {
   "cell_type": "code",
   "execution_count": 28,
   "id": "afca0f6c-6f28-4905-a726-390ff63e44bf",
   "metadata": {},
   "outputs": [],
   "source": [
    "# import the packages\n",
    "import time\n",
    "from scipy import stats"
   ]
  },
  {
   "cell_type": "code",
   "execution_count": 29,
   "id": "f2f0887a-afac-4a0c-ad21-c7a72e437069",
   "metadata": {},
   "outputs": [],
   "source": [
    "R2 = 1000000"
   ]
  },
  {
   "cell_type": "code",
   "execution_count": 30,
   "id": "3ccd6d06-62b2-41d8-957c-ce70dc1abc55",
   "metadata": {},
   "outputs": [],
   "source": [
    "def simulation_without_storage():\n",
    "    counter = 0\n",
    "    for i in range(R2):\n",
    "        sample_2 = np.random.binomial(1, p2, size=S)\n",
    "        _ = np.mean(sample_2)\n",
    "        counter += 1\n",
    "    return counter"
   ]
  },
  {
   "cell_type": "code",
   "execution_count": 31,
   "id": "a7aa34b5-f1d6-4c41-aa48-45d59cd1903e",
   "metadata": {},
   "outputs": [
    {
     "name": "stdout",
     "output_type": "stream",
     "text": [
      "Elapsed time: 23.58946990966797 seconds\n",
      "Iterations: 1000000\n"
     ]
    }
   ],
   "source": [
    "start_time = time.time()\n",
    "iterations = simulation_without_storage()\n",
    "elapsed_time = time.time() - start_time\n",
    "\n",
    "print(f\"Elapsed time: {elapsed_time} seconds\")\n",
    "print(f\"Iterations: {iterations}\")"
   ]
  },
  {
   "cell_type": "code",
   "execution_count": 32,
   "id": "3e14cb8e-d0ec-4085-a9f3-b98329fb02f5",
   "metadata": {},
   "outputs": [
    {
     "name": "stdout",
     "output_type": "stream",
     "text": [
      "Estimated time for 1,000,000,000,000 simulations: 23589469909.66797 seconds\n"
     ]
    }
   ],
   "source": [
    "simulations_needed = 10**12\n",
    "time_for_needed_simulations = (elapsed_time / R) * simulations_needed\n",
    "print(f\"Estimated time for {simulations_needed:,} simulations: {time_for_needed_simulations} seconds\")"
   ]
  },
  {
   "cell_type": "markdown",
   "id": "960d2c19-86a6-4408-9ca6-e64dcf2e6478",
   "metadata": {},
   "source": [
    "#### Q2 Find the t-value."
   ]
  },
  {
   "cell_type": "code",
   "execution_count": 63,
   "id": "3090a354-dc20-45c6-986f-4de0e8025486",
   "metadata": {},
   "outputs": [
    {
     "data": {
      "text/plain": [
       "5.348196711547615"
      ]
     },
     "execution_count": 63,
     "metadata": {},
     "output_type": "execute_result"
    }
   ],
   "source": [
    "t = abs(p2 - p1) / sample_std_2\n",
    "t"
   ]
  },
  {
   "cell_type": "markdown",
   "id": "729f0946-67c7-45c3-bd46-7cb849b3b25f",
   "metadata": {},
   "source": [
    "The t-value for the difference assuming the Q1 value is 0.66 with no error is 5.3482."
   ]
  },
  {
   "cell_type": "markdown",
   "id": "08568e33-f8ba-441b-83ba-1c86625c6948",
   "metadata": {},
   "source": [
    "#### Q3 Second, what is the probability to receive such t-values?"
   ]
  },
  {
   "cell_type": "code",
   "execution_count": 65,
   "id": "7754aea5-b9f0-40a0-999f-537f375aaa0b",
   "metadata": {},
   "outputs": [
    {
     "data": {
      "text/plain": [
       "4.441744239080947e-08"
      ]
     },
     "execution_count": 65,
     "metadata": {},
     "output_type": "execute_result"
    }
   ],
   "source": [
    "norm = stats.norm()\n",
    "probability = 1 - norm.cdf(t)\n",
    "probability"
   ]
  },
  {
   "cell_type": "markdown",
   "id": "c7c92e1c-cd39-48f9-9077-98f00b93b1df",
   "metadata": {},
   "source": [
    "The probability to receive such t-values is 4.441744239080947e-08.   \n",
    "\n",
    "norm.cdf(-1.96) returns the probability of observing a standard normal random variable less than or equal to -1.96. Since the standard normal distribution is symmetric about 0, this also gives the probability of observing a standard normal random variable greater than or equal to 1.96. From the computation, norm.cdf(-1.96) = 0.024997895148220435 and norm.cdf(1.96) = 0.9750021048517795, represent the areas under the standard normal distribution curve to the left of -1.96 and to the left of 1.96, respectively. These probabilities can be interpreted as the proportion of values that fall below these thresholds.To obtain the values below 2.5% and above 97.5%, we need to find the thresholds that correspond to these probabilities. Since the standard normal distribution is symmetric, the thresholds will be equidistant from the mean."
   ]
  },
  {
   "cell_type": "markdown",
   "id": "0798382e-1957-4dc4-bb7c-4833b3407479",
   "metadata": {},
   "source": [
    "#### Q4 How many iterations do you need?"
   ]
  },
  {
   "cell_type": "code",
   "execution_count": 67,
   "id": "8c6ba8e5-99d1-42d5-85c6-770a4dbd7e05",
   "metadata": {},
   "outputs": [
    {
     "name": "stdout",
     "output_type": "stream",
     "text": [
      "Iterations needed: 67541034.29919094\n"
     ]
    }
   ],
   "source": [
    "iterations_needed = 3 / probability\n",
    "print(\"Iterations needed:\", iterations_needed)"
   ]
  },
  {
   "cell_type": "markdown",
   "id": "c9b9faf6-f371-48b4-8b7b-3e7ede5939ef",
   "metadata": {},
   "source": [
    "There are  67541034.29919094 iterations we need."
   ]
  },
  {
   "cell_type": "markdown",
   "id": "6cd888b9-5471-493e-ab10-df27a366b358",
   "metadata": {},
   "source": [
    "#### Q5 Based on the timings you did above, how many years do you have to run the simulations? "
   ]
  },
  {
   "cell_type": "markdown",
   "id": "796b10f5-b480-4416-b7c9-bfdf4109171c",
   "metadata": {},
   "source": [
    "iteration_needs = 67541034.32195295 / 1,000,000 = 67.54103432195295 million  \n",
    "Elapsed time for 1 million iteration (R = 1000000) is 23.296139001846313    \n",
    "\n",
    "time = Elapsed time * iterations needed = 23.296139001846313 * 67.5 = 1572.4893826246262  \n",
    "hours = time / (60 * 60) = 1572.4893826246262 / 3600 = 0.4368 hour  \n",
    "years = time / (60 * 60 * 24 * 365.25) = 1572.4893826246262 / (60 * 60 * 24 * 365) = 0.000049863 year"
   ]
  },
  {
   "cell_type": "markdown",
   "id": "18af790b-a7af-4f6c-ac84-07f4e97de930",
   "metadata": {},
   "source": [
    "The simulation would need approximately 0.000049863 years. In other words, the simulations would need to run for about 0.4368 hours (assuming 24-hour days) to complete the required iterations.It is possible to complete the simulations by the assignment deadline(April 30).As the total time required for the simulations is only 0.4368 years, and my grandfather's age is more than that (which is very likely), the simulations would have been completed a long time ago if started when my grandfather was born.Similarly, if the first Seattle inhabitants had started the simulations 10,000 years ago, the simulations would have been completed almost instantly in comparison to that timescale, as the total time required is only 0.4368 years."
   ]
  },
  {
   "cell_type": "markdown",
   "id": "301caf3a-1157-4eae-92ea-4dab203bee64",
   "metadata": {
    "tags": []
   },
   "source": [
    "### I spent alomost 7.5 hours in this PS."
   ]
  }
 ],
 "metadata": {
  "kernelspec": {
   "display_name": "Python 3 (ipykernel)",
   "language": "python",
   "name": "python3"
  },
  "language_info": {
   "codemirror_mode": {
    "name": "ipython",
    "version": 3
   },
   "file_extension": ".py",
   "mimetype": "text/x-python",
   "name": "python",
   "nbconvert_exporter": "python",
   "pygments_lexer": "ipython3",
   "version": "3.9.7"
  }
 },
 "nbformat": 4,
 "nbformat_minor": 5
}
