{
 "cells": [
  {
   "cell_type": "markdown",
   "id": "4fc23f15-6d3d-4921-8d54-6838210574a3",
   "metadata": {},
   "source": [
    "# Lab 01 "
   ]
  },
  {
   "cell_type": "code",
   "execution_count": 1,
   "id": "53268a9b-554c-443a-8c60-364aa2bf4351",
   "metadata": {},
   "outputs": [
    {
     "data": {
      "text/html": [
       "<div>\n",
       "<style scoped>\n",
       "    .dataframe tbody tr th:only-of-type {\n",
       "        vertical-align: middle;\n",
       "    }\n",
       "\n",
       "    .dataframe tbody tr th {\n",
       "        vertical-align: top;\n",
       "    }\n",
       "\n",
       "    .dataframe thead th {\n",
       "        text-align: right;\n",
       "    }\n",
       "</style>\n",
       "<table border=\"1\" class=\"dataframe\">\n",
       "  <thead>\n",
       "    <tr style=\"text-align: right;\">\n",
       "      <th></th>\n",
       "      <th>code2</th>\n",
       "      <th>country</th>\n",
       "      <th>state</th>\n",
       "      <th>date</th>\n",
       "      <th>type</th>\n",
       "      <th>count</th>\n",
       "      <th>lockdown</th>\n",
       "      <th>population</th>\n",
       "      <th>countPC</th>\n",
       "      <th>growth</th>\n",
       "      <th>growthPC</th>\n",
       "    </tr>\n",
       "  </thead>\n",
       "  <tbody>\n",
       "    <tr>\n",
       "      <th>0</th>\n",
       "      <td>DK</td>\n",
       "      <td>Denmark</td>\n",
       "      <td>NaN</td>\n",
       "      <td>2020-01-22</td>\n",
       "      <td>Confirmed</td>\n",
       "      <td>0</td>\n",
       "      <td>2020-03-11</td>\n",
       "      <td>5837213</td>\n",
       "      <td>0.0</td>\n",
       "      <td>NaN</td>\n",
       "      <td>NaN</td>\n",
       "    </tr>\n",
       "    <tr>\n",
       "      <th>1</th>\n",
       "      <td>DK</td>\n",
       "      <td>Denmark</td>\n",
       "      <td>NaN</td>\n",
       "      <td>2020-01-22</td>\n",
       "      <td>Deaths</td>\n",
       "      <td>0</td>\n",
       "      <td>2020-03-11</td>\n",
       "      <td>5837213</td>\n",
       "      <td>0.0</td>\n",
       "      <td>NaN</td>\n",
       "      <td>NaN</td>\n",
       "    </tr>\n",
       "    <tr>\n",
       "      <th>2</th>\n",
       "      <td>DK</td>\n",
       "      <td>Denmark</td>\n",
       "      <td>NaN</td>\n",
       "      <td>2020-01-23</td>\n",
       "      <td>Confirmed</td>\n",
       "      <td>0</td>\n",
       "      <td>2020-03-11</td>\n",
       "      <td>5837213</td>\n",
       "      <td>0.0</td>\n",
       "      <td>0.0</td>\n",
       "      <td>0.0</td>\n",
       "    </tr>\n",
       "    <tr>\n",
       "      <th>3</th>\n",
       "      <td>DK</td>\n",
       "      <td>Denmark</td>\n",
       "      <td>NaN</td>\n",
       "      <td>2020-01-23</td>\n",
       "      <td>Deaths</td>\n",
       "      <td>0</td>\n",
       "      <td>2020-03-11</td>\n",
       "      <td>5837213</td>\n",
       "      <td>0.0</td>\n",
       "      <td>0.0</td>\n",
       "      <td>0.0</td>\n",
       "    </tr>\n",
       "    <tr>\n",
       "      <th>4</th>\n",
       "      <td>DK</td>\n",
       "      <td>Denmark</td>\n",
       "      <td>NaN</td>\n",
       "      <td>2020-01-24</td>\n",
       "      <td>Confirmed</td>\n",
       "      <td>0</td>\n",
       "      <td>2020-03-11</td>\n",
       "      <td>5837213</td>\n",
       "      <td>0.0</td>\n",
       "      <td>0.0</td>\n",
       "      <td>0.0</td>\n",
       "    </tr>\n",
       "  </tbody>\n",
       "</table>\n",
       "</div>"
      ],
      "text/plain": [
       "  code2  country  state        date       type  count    lockdown  population  \\\n",
       "0    DK  Denmark    NaN  2020-01-22  Confirmed      0  2020-03-11     5837213   \n",
       "1    DK  Denmark    NaN  2020-01-22     Deaths      0  2020-03-11     5837213   \n",
       "2    DK  Denmark    NaN  2020-01-23  Confirmed      0  2020-03-11     5837213   \n",
       "3    DK  Denmark    NaN  2020-01-23     Deaths      0  2020-03-11     5837213   \n",
       "4    DK  Denmark    NaN  2020-01-24  Confirmed      0  2020-03-11     5837213   \n",
       "\n",
       "   countPC  growth  growthPC  \n",
       "0      0.0     NaN       NaN  \n",
       "1      0.0     NaN       NaN  \n",
       "2      0.0     0.0       0.0  \n",
       "3      0.0     0.0       0.0  \n",
       "4      0.0     0.0       0.0  "
      ]
     },
     "execution_count": 1,
     "metadata": {},
     "output_type": "execute_result"
    }
   ],
   "source": [
    "# 1.1\n",
    "# Import the package and read the data\n",
    "import pandas as pd\n",
    "covid = pd.read_csv(\"covid-scandinavia.csv\", sep = '\\t')\n",
    "covid.head()"
   ]
  },
  {
   "cell_type": "code",
   "execution_count": 2,
   "id": "16500ebe-68e3-4a0f-ac49-9290caf7d20f",
   "metadata": {},
   "outputs": [
    {
     "data": {
      "text/plain": [
       "(6528, 11)"
      ]
     },
     "execution_count": 2,
     "metadata": {},
     "output_type": "execute_result"
    }
   ],
   "source": [
    "# 1.2\n",
    "# Report the number of rows and columns in the dataset\n",
    "covid.shape"
   ]
  },
  {
   "cell_type": "markdown",
   "id": "83d190a1-b312-46bd-8cc8-c8eac902fe09",
   "metadata": {},
   "source": [
    "There are 6528 rows and 11 columns for this dataset."
   ]
  },
  {
   "cell_type": "code",
   "execution_count": 3,
   "id": "1d44846b-a699-4d55-90dd-99a11dd25754",
   "metadata": {},
   "outputs": [
    {
     "data": {
      "text/plain": [
       "code2          object\n",
       "country        object\n",
       "state         float64\n",
       "date           object\n",
       "type           object\n",
       "count           int64\n",
       "lockdown       object\n",
       "population      int64\n",
       "countPC       float64\n",
       "growth        float64\n",
       "growthPC      float64\n",
       "dtype: object"
      ]
     },
     "execution_count": 3,
     "metadata": {},
     "output_type": "execute_result"
    }
   ],
   "source": [
    "# 1.3 \n",
    "# Report the variable names along with the data type of each variable\n",
    "covid.dtypes"
   ]
  },
  {
   "cell_type": "markdown",
   "id": "05c2fa18-f528-4020-8a40-ee3fde734154",
   "metadata": {},
   "source": [
    "Based on the information, the dataset has the following variables:\n",
    "code2: object (assumed to be a two-letter country code);\n",
    "country: object (name of the country);\n",
    "state: float64 (assumed to be a code for a state or province, but can be missing);\n",
    "date: object (date of the observation in yyyy-mm-dd format);\n",
    "type: object (type of the observation, e.g., cases or deaths);\n",
    "count: int64 (number of cases or deaths);\n",
    "lockdown: object (assumed to be a binary variable indicating if a lockdown was in effect on the observation date);\n",
    "population: int64 (estimated population of the region);\n",
    "countPC: float64 (assumed to be the count per capita);\n",
    "growth: float64 (assumed to be the growth rate of the count compared to the previous day);\n",
    "growthPC: float64 (assumed to be the growth rate per capita);\n",
    "The dtypes method provides information on the data type of each column in the DataFrame."
   ]
  },
  {
   "cell_type": "code",
   "execution_count": 4,
   "id": "d5bca3af-fb3a-4127-9027-5c36bd91e593",
   "metadata": {},
   "outputs": [
    {
     "name": "stdout",
     "output_type": "stream",
     "text": [
      "Number of rows and columns: (6528, 5)\n",
      "   country        date       type  count  population\n",
      "0  Denmark  2020-01-22  Confirmed      0     5837213\n",
      "1  Denmark  2020-01-22     Deaths      0     5837213\n",
      "2  Denmark  2020-01-23  Confirmed      0     5837213\n",
      "3  Denmark  2020-01-23     Deaths      0     5837213\n",
      "4  Denmark  2020-01-24  Confirmed      0     5837213\n"
     ]
    }
   ],
   "source": [
    "# 1.4 \n",
    "# Create a new sub-dataframe that contains all observations but only variables country, date, type, count, and population.\n",
    "sub_dataframe = covid[[\"country\", \"date\", \"type\", \"count\", \"population\"]]\n",
    "print(\"Number of rows and columns:\", sub_dataframe.shape)\n",
    "print(sub_dataframe.head())"
   ]
  },
  {
   "cell_type": "code",
   "execution_count": 5,
   "id": "8ea1274e-44a2-45eb-96e9-e5484bd0832e",
   "metadata": {},
   "outputs": [
    {
     "data": {
      "text/html": [
       "<div>\n",
       "<style scoped>\n",
       "    .dataframe tbody tr th:only-of-type {\n",
       "        vertical-align: middle;\n",
       "    }\n",
       "\n",
       "    .dataframe tbody tr th {\n",
       "        vertical-align: top;\n",
       "    }\n",
       "\n",
       "    .dataframe thead th {\n",
       "        text-align: right;\n",
       "    }\n",
       "</style>\n",
       "<table border=\"1\" class=\"dataframe\">\n",
       "  <thead>\n",
       "    <tr style=\"text-align: right;\">\n",
       "      <th></th>\n",
       "      <th>country</th>\n",
       "      <th>date</th>\n",
       "      <th>type</th>\n",
       "      <th>count</th>\n",
       "      <th>population</th>\n",
       "    </tr>\n",
       "  </thead>\n",
       "  <tbody>\n",
       "    <tr>\n",
       "      <th>0</th>\n",
       "      <td>Denmark</td>\n",
       "      <td>2020-01-22</td>\n",
       "      <td>Confirmed</td>\n",
       "      <td>0</td>\n",
       "      <td>5837213</td>\n",
       "    </tr>\n",
       "    <tr>\n",
       "      <th>2</th>\n",
       "      <td>Denmark</td>\n",
       "      <td>2020-01-23</td>\n",
       "      <td>Confirmed</td>\n",
       "      <td>0</td>\n",
       "      <td>5837213</td>\n",
       "    </tr>\n",
       "    <tr>\n",
       "      <th>4</th>\n",
       "      <td>Denmark</td>\n",
       "      <td>2020-01-24</td>\n",
       "      <td>Confirmed</td>\n",
       "      <td>0</td>\n",
       "      <td>5837213</td>\n",
       "    </tr>\n",
       "    <tr>\n",
       "      <th>6</th>\n",
       "      <td>Denmark</td>\n",
       "      <td>2020-01-25</td>\n",
       "      <td>Confirmed</td>\n",
       "      <td>0</td>\n",
       "      <td>5837213</td>\n",
       "    </tr>\n",
       "    <tr>\n",
       "      <th>8</th>\n",
       "      <td>Denmark</td>\n",
       "      <td>2020-01-26</td>\n",
       "      <td>Confirmed</td>\n",
       "      <td>0</td>\n",
       "      <td>5837213</td>\n",
       "    </tr>\n",
       "    <tr>\n",
       "      <th>...</th>\n",
       "      <td>...</td>\n",
       "      <td>...</td>\n",
       "      <td>...</td>\n",
       "      <td>...</td>\n",
       "      <td>...</td>\n",
       "    </tr>\n",
       "    <tr>\n",
       "      <th>6518</th>\n",
       "      <td>Sweden</td>\n",
       "      <td>2022-04-12</td>\n",
       "      <td>Confirmed</td>\n",
       "      <td>2491980</td>\n",
       "      <td>10377781</td>\n",
       "    </tr>\n",
       "    <tr>\n",
       "      <th>6520</th>\n",
       "      <td>Sweden</td>\n",
       "      <td>2022-04-13</td>\n",
       "      <td>Confirmed</td>\n",
       "      <td>2491980</td>\n",
       "      <td>10377781</td>\n",
       "    </tr>\n",
       "    <tr>\n",
       "      <th>6522</th>\n",
       "      <td>Sweden</td>\n",
       "      <td>2022-04-14</td>\n",
       "      <td>Confirmed</td>\n",
       "      <td>2495996</td>\n",
       "      <td>10377781</td>\n",
       "    </tr>\n",
       "    <tr>\n",
       "      <th>6524</th>\n",
       "      <td>Sweden</td>\n",
       "      <td>2022-04-15</td>\n",
       "      <td>Confirmed</td>\n",
       "      <td>2495996</td>\n",
       "      <td>10377781</td>\n",
       "    </tr>\n",
       "    <tr>\n",
       "      <th>6526</th>\n",
       "      <td>Sweden</td>\n",
       "      <td>2022-04-16</td>\n",
       "      <td>Confirmed</td>\n",
       "      <td>2495996</td>\n",
       "      <td>10377781</td>\n",
       "    </tr>\n",
       "  </tbody>\n",
       "</table>\n",
       "<p>3264 rows × 5 columns</p>\n",
       "</div>"
      ],
      "text/plain": [
       "      country        date       type    count  population\n",
       "0     Denmark  2020-01-22  Confirmed        0     5837213\n",
       "2     Denmark  2020-01-23  Confirmed        0     5837213\n",
       "4     Denmark  2020-01-24  Confirmed        0     5837213\n",
       "6     Denmark  2020-01-25  Confirmed        0     5837213\n",
       "8     Denmark  2020-01-26  Confirmed        0     5837213\n",
       "...       ...         ...        ...      ...         ...\n",
       "6518   Sweden  2022-04-12  Confirmed  2491980    10377781\n",
       "6520   Sweden  2022-04-13  Confirmed  2491980    10377781\n",
       "6522   Sweden  2022-04-14  Confirmed  2495996    10377781\n",
       "6524   Sweden  2022-04-15  Confirmed  2495996    10377781\n",
       "6526   Sweden  2022-04-16  Confirmed  2495996    10377781\n",
       "\n",
       "[3264 rows x 5 columns]"
      ]
     },
     "execution_count": 5,
     "metadata": {},
     "output_type": "execute_result"
    }
   ],
   "source": [
    "# 2.1\n",
    "# create a subset with only confirmed cases\n",
    "confirmed = sub_dataframe[sub_dataframe['type'] == 'Confirmed']\n",
    "confirmed"
   ]
  },
  {
   "cell_type": "markdown",
   "id": "b99c6032-0095-419f-805e-e5fa536f83fd",
   "metadata": {},
   "source": [
    "There are 3264 cases in the subset."
   ]
  },
  {
   "cell_type": "code",
   "execution_count": 6,
   "id": "fbd421a1-eb47-4a24-b802-c6510633a69b",
   "metadata": {},
   "outputs": [
    {
     "data": {
      "text/plain": [
       "(3264, 5)"
      ]
     },
     "execution_count": 6,
     "metadata": {},
     "output_type": "execute_result"
    }
   ],
   "source": [
    "confirmed.shape"
   ]
  },
  {
   "cell_type": "code",
   "execution_count": 10,
   "id": "ca7503a9-e330-4562-8320-959dead24f0a",
   "metadata": {},
   "outputs": [
    {
     "name": "stderr",
     "output_type": "stream",
     "text": [
      "/tmp/ipykernel_137/2928224583.py:3: SettingWithCopyWarning: \n",
      "A value is trying to be set on a copy of a slice from a DataFrame.\n",
      "Try using .loc[row_indexer,col_indexer] = value instead\n",
      "\n",
      "See the caveats in the documentation: https://pandas.pydata.org/pandas-docs/stable/user_guide/indexing.html#returning-a-view-versus-a-copy\n",
      "  confirmed['cases_per_capita'] = confirmed['count'] / confirmed['population']\n"
     ]
    },
    {
     "data": {
      "text/html": [
       "<div>\n",
       "<style scoped>\n",
       "    .dataframe tbody tr th:only-of-type {\n",
       "        vertical-align: middle;\n",
       "    }\n",
       "\n",
       "    .dataframe tbody tr th {\n",
       "        vertical-align: top;\n",
       "    }\n",
       "\n",
       "    .dataframe thead th {\n",
       "        text-align: right;\n",
       "    }\n",
       "</style>\n",
       "<table border=\"1\" class=\"dataframe\">\n",
       "  <thead>\n",
       "    <tr style=\"text-align: right;\">\n",
       "      <th></th>\n",
       "      <th>country</th>\n",
       "      <th>date</th>\n",
       "      <th>type</th>\n",
       "      <th>count</th>\n",
       "      <th>population</th>\n",
       "      <th>cases_per_capita</th>\n",
       "    </tr>\n",
       "  </thead>\n",
       "  <tbody>\n",
       "    <tr>\n",
       "      <th>0</th>\n",
       "      <td>Denmark</td>\n",
       "      <td>2020-01-22</td>\n",
       "      <td>Confirmed</td>\n",
       "      <td>0</td>\n",
       "      <td>5837213</td>\n",
       "      <td>0.000000</td>\n",
       "    </tr>\n",
       "    <tr>\n",
       "      <th>2</th>\n",
       "      <td>Denmark</td>\n",
       "      <td>2020-01-23</td>\n",
       "      <td>Confirmed</td>\n",
       "      <td>0</td>\n",
       "      <td>5837213</td>\n",
       "      <td>0.000000</td>\n",
       "    </tr>\n",
       "    <tr>\n",
       "      <th>4</th>\n",
       "      <td>Denmark</td>\n",
       "      <td>2020-01-24</td>\n",
       "      <td>Confirmed</td>\n",
       "      <td>0</td>\n",
       "      <td>5837213</td>\n",
       "      <td>0.000000</td>\n",
       "    </tr>\n",
       "    <tr>\n",
       "      <th>6</th>\n",
       "      <td>Denmark</td>\n",
       "      <td>2020-01-25</td>\n",
       "      <td>Confirmed</td>\n",
       "      <td>0</td>\n",
       "      <td>5837213</td>\n",
       "      <td>0.000000</td>\n",
       "    </tr>\n",
       "    <tr>\n",
       "      <th>8</th>\n",
       "      <td>Denmark</td>\n",
       "      <td>2020-01-26</td>\n",
       "      <td>Confirmed</td>\n",
       "      <td>0</td>\n",
       "      <td>5837213</td>\n",
       "      <td>0.000000</td>\n",
       "    </tr>\n",
       "    <tr>\n",
       "      <th>...</th>\n",
       "      <td>...</td>\n",
       "      <td>...</td>\n",
       "      <td>...</td>\n",
       "      <td>...</td>\n",
       "      <td>...</td>\n",
       "      <td>...</td>\n",
       "    </tr>\n",
       "    <tr>\n",
       "      <th>6518</th>\n",
       "      <td>Sweden</td>\n",
       "      <td>2022-04-12</td>\n",
       "      <td>Confirmed</td>\n",
       "      <td>2491980</td>\n",
       "      <td>10377781</td>\n",
       "      <td>0.240126</td>\n",
       "    </tr>\n",
       "    <tr>\n",
       "      <th>6520</th>\n",
       "      <td>Sweden</td>\n",
       "      <td>2022-04-13</td>\n",
       "      <td>Confirmed</td>\n",
       "      <td>2491980</td>\n",
       "      <td>10377781</td>\n",
       "      <td>0.240126</td>\n",
       "    </tr>\n",
       "    <tr>\n",
       "      <th>6522</th>\n",
       "      <td>Sweden</td>\n",
       "      <td>2022-04-14</td>\n",
       "      <td>Confirmed</td>\n",
       "      <td>2495996</td>\n",
       "      <td>10377781</td>\n",
       "      <td>0.240513</td>\n",
       "    </tr>\n",
       "    <tr>\n",
       "      <th>6524</th>\n",
       "      <td>Sweden</td>\n",
       "      <td>2022-04-15</td>\n",
       "      <td>Confirmed</td>\n",
       "      <td>2495996</td>\n",
       "      <td>10377781</td>\n",
       "      <td>0.240513</td>\n",
       "    </tr>\n",
       "    <tr>\n",
       "      <th>6526</th>\n",
       "      <td>Sweden</td>\n",
       "      <td>2022-04-16</td>\n",
       "      <td>Confirmed</td>\n",
       "      <td>2495996</td>\n",
       "      <td>10377781</td>\n",
       "      <td>0.240513</td>\n",
       "    </tr>\n",
       "  </tbody>\n",
       "</table>\n",
       "<p>3264 rows × 6 columns</p>\n",
       "</div>"
      ],
      "text/plain": [
       "      country        date       type    count  population  cases_per_capita\n",
       "0     Denmark  2020-01-22  Confirmed        0     5837213          0.000000\n",
       "2     Denmark  2020-01-23  Confirmed        0     5837213          0.000000\n",
       "4     Denmark  2020-01-24  Confirmed        0     5837213          0.000000\n",
       "6     Denmark  2020-01-25  Confirmed        0     5837213          0.000000\n",
       "8     Denmark  2020-01-26  Confirmed        0     5837213          0.000000\n",
       "...       ...         ...        ...      ...         ...               ...\n",
       "6518   Sweden  2022-04-12  Confirmed  2491980    10377781          0.240126\n",
       "6520   Sweden  2022-04-13  Confirmed  2491980    10377781          0.240126\n",
       "6522   Sweden  2022-04-14  Confirmed  2495996    10377781          0.240513\n",
       "6524   Sweden  2022-04-15  Confirmed  2495996    10377781          0.240513\n",
       "6526   Sweden  2022-04-16  Confirmed  2495996    10377781          0.240513\n",
       "\n",
       "[3264 rows x 6 columns]"
      ]
     },
     "execution_count": 10,
     "metadata": {},
     "output_type": "execute_result"
    }
   ],
   "source": [
    "# 2.2\n",
    "# create a new column for confirmed cases per capita\n",
    "confirmed['cases_per_capita'] = confirmed['count'] / confirmed['population']\n",
    "confirmed"
   ]
  },
  {
   "cell_type": "code",
   "execution_count": 8,
   "id": "fa85cbb7-e911-4432-a71f-2bb433738024",
   "metadata": {},
   "outputs": [
    {
     "ename": "TypeError",
     "evalue": "unsupported operand type(s) for /: 'method' and 'int'",
     "output_type": "error",
     "traceback": [
      "\u001b[0;31m---------------------------------------------------------------------------\u001b[0m",
      "\u001b[0;31mTypeError\u001b[0m                                 Traceback (most recent call last)",
      "\u001b[0;32m/tmp/ipykernel_137/3284633278.py\u001b[0m in \u001b[0;36m<module>\u001b[0;34m\u001b[0m\n\u001b[1;32m      1\u001b[0m \u001b[0;31m# 2.3\u001b[0m\u001b[0;34m\u001b[0m\u001b[0;34m\u001b[0m\u001b[0m\n\u001b[0;32m----> 2\u001b[0;31m \u001b[0mconfirmed\u001b[0m\u001b[0;34m.\u001b[0m\u001b[0mcount\u001b[0m \u001b[0;34m/\u001b[0m \u001b[0mconfirmed\u001b[0m\u001b[0;34m.\u001b[0m\u001b[0mpopulation\u001b[0m\u001b[0;34m\u001b[0m\u001b[0;34m\u001b[0m\u001b[0m\n\u001b[0m",
      "\u001b[0;32m/opt/conda/lib/python3.9/site-packages/pandas/core/ops/common.py\u001b[0m in \u001b[0;36mnew_method\u001b[0;34m(self, other)\u001b[0m\n\u001b[1;32m     67\u001b[0m         \u001b[0mother\u001b[0m \u001b[0;34m=\u001b[0m \u001b[0mitem_from_zerodim\u001b[0m\u001b[0;34m(\u001b[0m\u001b[0mother\u001b[0m\u001b[0;34m)\u001b[0m\u001b[0;34m\u001b[0m\u001b[0;34m\u001b[0m\u001b[0m\n\u001b[1;32m     68\u001b[0m \u001b[0;34m\u001b[0m\u001b[0m\n\u001b[0;32m---> 69\u001b[0;31m         \u001b[0;32mreturn\u001b[0m \u001b[0mmethod\u001b[0m\u001b[0;34m(\u001b[0m\u001b[0mself\u001b[0m\u001b[0;34m,\u001b[0m \u001b[0mother\u001b[0m\u001b[0;34m)\u001b[0m\u001b[0;34m\u001b[0m\u001b[0;34m\u001b[0m\u001b[0m\n\u001b[0m\u001b[1;32m     70\u001b[0m \u001b[0;34m\u001b[0m\u001b[0m\n\u001b[1;32m     71\u001b[0m     \u001b[0;32mreturn\u001b[0m \u001b[0mnew_method\u001b[0m\u001b[0;34m\u001b[0m\u001b[0;34m\u001b[0m\u001b[0m\n",
      "\u001b[0;32m/opt/conda/lib/python3.9/site-packages/pandas/core/arraylike.py\u001b[0m in \u001b[0;36m__rtruediv__\u001b[0;34m(self, other)\u001b[0m\n\u001b[1;32m    118\u001b[0m     \u001b[0;34m@\u001b[0m\u001b[0munpack_zerodim_and_defer\u001b[0m\u001b[0;34m(\u001b[0m\u001b[0;34m\"__rtruediv__\"\u001b[0m\u001b[0;34m)\u001b[0m\u001b[0;34m\u001b[0m\u001b[0;34m\u001b[0m\u001b[0m\n\u001b[1;32m    119\u001b[0m     \u001b[0;32mdef\u001b[0m \u001b[0m__rtruediv__\u001b[0m\u001b[0;34m(\u001b[0m\u001b[0mself\u001b[0m\u001b[0;34m,\u001b[0m \u001b[0mother\u001b[0m\u001b[0;34m)\u001b[0m\u001b[0;34m:\u001b[0m\u001b[0;34m\u001b[0m\u001b[0;34m\u001b[0m\u001b[0m\n\u001b[0;32m--> 120\u001b[0;31m         \u001b[0;32mreturn\u001b[0m \u001b[0mself\u001b[0m\u001b[0;34m.\u001b[0m\u001b[0m_arith_method\u001b[0m\u001b[0;34m(\u001b[0m\u001b[0mother\u001b[0m\u001b[0;34m,\u001b[0m \u001b[0mroperator\u001b[0m\u001b[0;34m.\u001b[0m\u001b[0mrtruediv\u001b[0m\u001b[0;34m)\u001b[0m\u001b[0;34m\u001b[0m\u001b[0;34m\u001b[0m\u001b[0m\n\u001b[0m\u001b[1;32m    121\u001b[0m \u001b[0;34m\u001b[0m\u001b[0m\n\u001b[1;32m    122\u001b[0m     \u001b[0;34m@\u001b[0m\u001b[0munpack_zerodim_and_defer\u001b[0m\u001b[0;34m(\u001b[0m\u001b[0;34m\"__floordiv__\"\u001b[0m\u001b[0;34m)\u001b[0m\u001b[0;34m\u001b[0m\u001b[0;34m\u001b[0m\u001b[0m\n",
      "\u001b[0;32m/opt/conda/lib/python3.9/site-packages/pandas/core/series.py\u001b[0m in \u001b[0;36m_arith_method\u001b[0;34m(self, other, op)\u001b[0m\n\u001b[1;32m   5524\u001b[0m \u001b[0;34m\u001b[0m\u001b[0m\n\u001b[1;32m   5525\u001b[0m         \u001b[0;32mwith\u001b[0m \u001b[0mnp\u001b[0m\u001b[0;34m.\u001b[0m\u001b[0merrstate\u001b[0m\u001b[0;34m(\u001b[0m\u001b[0mall\u001b[0m\u001b[0;34m=\u001b[0m\u001b[0;34m\"ignore\"\u001b[0m\u001b[0;34m)\u001b[0m\u001b[0;34m:\u001b[0m\u001b[0;34m\u001b[0m\u001b[0;34m\u001b[0m\u001b[0m\n\u001b[0;32m-> 5526\u001b[0;31m             \u001b[0mresult\u001b[0m \u001b[0;34m=\u001b[0m \u001b[0mops\u001b[0m\u001b[0;34m.\u001b[0m\u001b[0marithmetic_op\u001b[0m\u001b[0;34m(\u001b[0m\u001b[0mlvalues\u001b[0m\u001b[0;34m,\u001b[0m \u001b[0mrvalues\u001b[0m\u001b[0;34m,\u001b[0m \u001b[0mop\u001b[0m\u001b[0;34m)\u001b[0m\u001b[0;34m\u001b[0m\u001b[0;34m\u001b[0m\u001b[0m\n\u001b[0m\u001b[1;32m   5527\u001b[0m \u001b[0;34m\u001b[0m\u001b[0m\n\u001b[1;32m   5528\u001b[0m         \u001b[0;32mreturn\u001b[0m \u001b[0mself\u001b[0m\u001b[0;34m.\u001b[0m\u001b[0m_construct_result\u001b[0m\u001b[0;34m(\u001b[0m\u001b[0mresult\u001b[0m\u001b[0;34m,\u001b[0m \u001b[0mname\u001b[0m\u001b[0;34m=\u001b[0m\u001b[0mres_name\u001b[0m\u001b[0;34m)\u001b[0m\u001b[0;34m\u001b[0m\u001b[0;34m\u001b[0m\u001b[0m\n",
      "\u001b[0;32m/opt/conda/lib/python3.9/site-packages/pandas/core/ops/array_ops.py\u001b[0m in \u001b[0;36marithmetic_op\u001b[0;34m(left, right, op)\u001b[0m\n\u001b[1;32m    222\u001b[0m         \u001b[0m_bool_arith_check\u001b[0m\u001b[0;34m(\u001b[0m\u001b[0mop\u001b[0m\u001b[0;34m,\u001b[0m \u001b[0mleft\u001b[0m\u001b[0;34m,\u001b[0m \u001b[0mright\u001b[0m\u001b[0;34m)\u001b[0m\u001b[0;34m\u001b[0m\u001b[0;34m\u001b[0m\u001b[0m\n\u001b[1;32m    223\u001b[0m \u001b[0;34m\u001b[0m\u001b[0m\n\u001b[0;32m--> 224\u001b[0;31m         \u001b[0mres_values\u001b[0m \u001b[0;34m=\u001b[0m \u001b[0m_na_arithmetic_op\u001b[0m\u001b[0;34m(\u001b[0m\u001b[0mleft\u001b[0m\u001b[0;34m,\u001b[0m \u001b[0mright\u001b[0m\u001b[0;34m,\u001b[0m \u001b[0mop\u001b[0m\u001b[0;34m)\u001b[0m\u001b[0;34m\u001b[0m\u001b[0;34m\u001b[0m\u001b[0m\n\u001b[0m\u001b[1;32m    225\u001b[0m \u001b[0;34m\u001b[0m\u001b[0m\n\u001b[1;32m    226\u001b[0m     \u001b[0;32mreturn\u001b[0m \u001b[0mres_values\u001b[0m\u001b[0;34m\u001b[0m\u001b[0;34m\u001b[0m\u001b[0m\n",
      "\u001b[0;32m/opt/conda/lib/python3.9/site-packages/pandas/core/ops/array_ops.py\u001b[0m in \u001b[0;36m_na_arithmetic_op\u001b[0;34m(left, right, op, is_cmp)\u001b[0m\n\u001b[1;32m    164\u001b[0m \u001b[0;34m\u001b[0m\u001b[0m\n\u001b[1;32m    165\u001b[0m     \u001b[0;32mtry\u001b[0m\u001b[0;34m:\u001b[0m\u001b[0;34m\u001b[0m\u001b[0;34m\u001b[0m\u001b[0m\n\u001b[0;32m--> 166\u001b[0;31m         \u001b[0mresult\u001b[0m \u001b[0;34m=\u001b[0m \u001b[0mfunc\u001b[0m\u001b[0;34m(\u001b[0m\u001b[0mleft\u001b[0m\u001b[0;34m,\u001b[0m \u001b[0mright\u001b[0m\u001b[0;34m)\u001b[0m\u001b[0;34m\u001b[0m\u001b[0;34m\u001b[0m\u001b[0m\n\u001b[0m\u001b[1;32m    167\u001b[0m     \u001b[0;32mexcept\u001b[0m \u001b[0mTypeError\u001b[0m\u001b[0;34m:\u001b[0m\u001b[0;34m\u001b[0m\u001b[0;34m\u001b[0m\u001b[0m\n\u001b[1;32m    168\u001b[0m         \u001b[0;32mif\u001b[0m \u001b[0mis_object_dtype\u001b[0m\u001b[0;34m(\u001b[0m\u001b[0mleft\u001b[0m\u001b[0;34m)\u001b[0m \u001b[0;32mor\u001b[0m \u001b[0mis_object_dtype\u001b[0m\u001b[0;34m(\u001b[0m\u001b[0mright\u001b[0m\u001b[0;34m)\u001b[0m \u001b[0;32mand\u001b[0m \u001b[0;32mnot\u001b[0m \u001b[0mis_cmp\u001b[0m\u001b[0;34m:\u001b[0m\u001b[0;34m\u001b[0m\u001b[0;34m\u001b[0m\u001b[0m\n",
      "\u001b[0;32m/opt/conda/lib/python3.9/site-packages/pandas/core/computation/expressions.py\u001b[0m in \u001b[0;36mevaluate\u001b[0;34m(op, a, b, use_numexpr)\u001b[0m\n\u001b[1;32m    237\u001b[0m         \u001b[0;32mif\u001b[0m \u001b[0muse_numexpr\u001b[0m\u001b[0;34m:\u001b[0m\u001b[0;34m\u001b[0m\u001b[0;34m\u001b[0m\u001b[0m\n\u001b[1;32m    238\u001b[0m             \u001b[0;31m# error: \"None\" not callable\u001b[0m\u001b[0;34m\u001b[0m\u001b[0;34m\u001b[0m\u001b[0m\n\u001b[0;32m--> 239\u001b[0;31m             \u001b[0;32mreturn\u001b[0m \u001b[0m_evaluate\u001b[0m\u001b[0;34m(\u001b[0m\u001b[0mop\u001b[0m\u001b[0;34m,\u001b[0m \u001b[0mop_str\u001b[0m\u001b[0;34m,\u001b[0m \u001b[0ma\u001b[0m\u001b[0;34m,\u001b[0m \u001b[0mb\u001b[0m\u001b[0;34m)\u001b[0m  \u001b[0;31m# type: ignore[misc]\u001b[0m\u001b[0;34m\u001b[0m\u001b[0;34m\u001b[0m\u001b[0m\n\u001b[0m\u001b[1;32m    240\u001b[0m     \u001b[0;32mreturn\u001b[0m \u001b[0m_evaluate_standard\u001b[0m\u001b[0;34m(\u001b[0m\u001b[0mop\u001b[0m\u001b[0;34m,\u001b[0m \u001b[0mop_str\u001b[0m\u001b[0;34m,\u001b[0m \u001b[0ma\u001b[0m\u001b[0;34m,\u001b[0m \u001b[0mb\u001b[0m\u001b[0;34m)\u001b[0m\u001b[0;34m\u001b[0m\u001b[0;34m\u001b[0m\u001b[0m\n\u001b[1;32m    241\u001b[0m \u001b[0;34m\u001b[0m\u001b[0m\n",
      "\u001b[0;32m/opt/conda/lib/python3.9/site-packages/pandas/core/computation/expressions.py\u001b[0m in \u001b[0;36m_evaluate_numexpr\u001b[0;34m(op, op_str, a, b)\u001b[0m\n\u001b[1;32m    126\u001b[0m \u001b[0;34m\u001b[0m\u001b[0m\n\u001b[1;32m    127\u001b[0m     \u001b[0;32mif\u001b[0m \u001b[0mresult\u001b[0m \u001b[0;32mis\u001b[0m \u001b[0;32mNone\u001b[0m\u001b[0;34m:\u001b[0m\u001b[0;34m\u001b[0m\u001b[0;34m\u001b[0m\u001b[0m\n\u001b[0;32m--> 128\u001b[0;31m         \u001b[0mresult\u001b[0m \u001b[0;34m=\u001b[0m \u001b[0m_evaluate_standard\u001b[0m\u001b[0;34m(\u001b[0m\u001b[0mop\u001b[0m\u001b[0;34m,\u001b[0m \u001b[0mop_str\u001b[0m\u001b[0;34m,\u001b[0m \u001b[0ma\u001b[0m\u001b[0;34m,\u001b[0m \u001b[0mb\u001b[0m\u001b[0;34m)\u001b[0m\u001b[0;34m\u001b[0m\u001b[0;34m\u001b[0m\u001b[0m\n\u001b[0m\u001b[1;32m    129\u001b[0m \u001b[0;34m\u001b[0m\u001b[0m\n\u001b[1;32m    130\u001b[0m     \u001b[0;32mreturn\u001b[0m \u001b[0mresult\u001b[0m\u001b[0;34m\u001b[0m\u001b[0;34m\u001b[0m\u001b[0m\n",
      "\u001b[0;32m/opt/conda/lib/python3.9/site-packages/pandas/core/computation/expressions.py\u001b[0m in \u001b[0;36m_evaluate_standard\u001b[0;34m(op, op_str, a, b)\u001b[0m\n\u001b[1;32m     67\u001b[0m     \u001b[0;32mif\u001b[0m \u001b[0m_TEST_MODE\u001b[0m\u001b[0;34m:\u001b[0m\u001b[0;34m\u001b[0m\u001b[0;34m\u001b[0m\u001b[0m\n\u001b[1;32m     68\u001b[0m         \u001b[0m_store_test_result\u001b[0m\u001b[0;34m(\u001b[0m\u001b[0;32mFalse\u001b[0m\u001b[0;34m)\u001b[0m\u001b[0;34m\u001b[0m\u001b[0;34m\u001b[0m\u001b[0m\n\u001b[0;32m---> 69\u001b[0;31m     \u001b[0;32mreturn\u001b[0m \u001b[0mop\u001b[0m\u001b[0;34m(\u001b[0m\u001b[0ma\u001b[0m\u001b[0;34m,\u001b[0m \u001b[0mb\u001b[0m\u001b[0;34m)\u001b[0m\u001b[0;34m\u001b[0m\u001b[0;34m\u001b[0m\u001b[0m\n\u001b[0m\u001b[1;32m     70\u001b[0m \u001b[0;34m\u001b[0m\u001b[0m\n\u001b[1;32m     71\u001b[0m \u001b[0;34m\u001b[0m\u001b[0m\n",
      "\u001b[0;32m/opt/conda/lib/python3.9/site-packages/pandas/core/roperator.py\u001b[0m in \u001b[0;36mrtruediv\u001b[0;34m(left, right)\u001b[0m\n\u001b[1;32m     23\u001b[0m \u001b[0;34m\u001b[0m\u001b[0m\n\u001b[1;32m     24\u001b[0m \u001b[0;32mdef\u001b[0m \u001b[0mrtruediv\u001b[0m\u001b[0;34m(\u001b[0m\u001b[0mleft\u001b[0m\u001b[0;34m,\u001b[0m \u001b[0mright\u001b[0m\u001b[0;34m)\u001b[0m\u001b[0;34m:\u001b[0m\u001b[0;34m\u001b[0m\u001b[0;34m\u001b[0m\u001b[0m\n\u001b[0;32m---> 25\u001b[0;31m     \u001b[0;32mreturn\u001b[0m \u001b[0mright\u001b[0m \u001b[0;34m/\u001b[0m \u001b[0mleft\u001b[0m\u001b[0;34m\u001b[0m\u001b[0;34m\u001b[0m\u001b[0m\n\u001b[0m\u001b[1;32m     26\u001b[0m \u001b[0;34m\u001b[0m\u001b[0m\n\u001b[1;32m     27\u001b[0m \u001b[0;34m\u001b[0m\u001b[0m\n",
      "\u001b[0;31mTypeError\u001b[0m: unsupported operand type(s) for /: 'method' and 'int'"
     ]
    }
   ],
   "source": [
    "# 2.3\n",
    "confirmed.count / confirmed.population"
   ]
  },
  {
   "cell_type": "markdown",
   "id": "4c8fe35b-5d7f-4ed2-8ebf-05f811f243f5",
   "metadata": {},
   "source": [
    "\n",
    "The expression data.count/data.population results in an type error because count is a method in pandas DataFrames and Series, and it is not intended to be used as a column name. To get around this problem, we can use the square bracket notation to access the 'count' column, like this: data['count']/data['population']."
   ]
  },
  {
   "cell_type": "code",
   "execution_count": 15,
   "id": "2265847d-71d8-4fea-be8f-98c9b97ee10d",
   "metadata": {},
   "outputs": [
    {
     "data": {
      "text/plain": [
       "0       0.000000\n",
       "2       0.000000\n",
       "4       0.000000\n",
       "6       0.000000\n",
       "8       0.000000\n",
       "          ...   \n",
       "6518    0.240126\n",
       "6520    0.240126\n",
       "6522    0.240513\n",
       "6524    0.240513\n",
       "6526    0.240513\n",
       "Name: cases_per_capita, Length: 3264, dtype: float64"
      ]
     },
     "execution_count": 15,
     "metadata": {},
     "output_type": "execute_result"
    }
   ],
   "source": [
    "# 2.4\n",
    "# create a new DataFrame for confirmed cases and copy the subset into it\n",
    "confirmed_cases = sub_dataframe[sub_dataframe['type'] == 'Confirmed'].copy()\n",
    "confirmed_cases['cases_per_capita'] = confirmed_cases['count'] / confirmed_cases['population']\n",
    "confirmed_cases['cases_per_capita']"
   ]
  },
  {
   "cell_type": "code",
   "execution_count": 12,
   "id": "78f9691c-ca16-4ce7-a8b7-7183cd9792d2",
   "metadata": {},
   "outputs": [],
   "source": [
    "# 2.5\n",
    "# extract the cases per capita variable for Sweden and Norway\n",
    "sweden_cases = confirmed_cases[confirmed_cases['country'] == 'Sweden']['cases_per_capita']\n",
    "norway_cases = confirmed_cases[confirmed_cases['country'] == 'Norway']['cases_per_capita']"
   ]
  },
  {
   "cell_type": "code",
   "execution_count": 13,
   "id": "44d7ac33-2d93-4e74-8cd0-c8d6d6c4db37",
   "metadata": {},
   "outputs": [
    {
     "data": {
      "text/plain": [
       "4896    0.000000\n",
       "4898    0.000000\n",
       "4900    0.000000\n",
       "4902    0.000000\n",
       "4904    0.000000\n",
       "          ...   \n",
       "6518    0.240126\n",
       "6520    0.240126\n",
       "6522    0.240513\n",
       "6524    0.240513\n",
       "6526    0.240513\n",
       "Name: cases_per_capita, Length: 816, dtype: float64"
      ]
     },
     "execution_count": 13,
     "metadata": {},
     "output_type": "execute_result"
    }
   ],
   "source": [
    "sweden_cases"
   ]
  },
  {
   "cell_type": "code",
   "execution_count": 14,
   "id": "97d634e4-a02c-428c-9f0b-9acbbb7fc727",
   "metadata": {},
   "outputs": [
    {
     "data": {
      "text/plain": [
       "3264    0.000000\n",
       "3266    0.000000\n",
       "3268    0.000000\n",
       "3270    0.000000\n",
       "3272    0.000000\n",
       "          ...   \n",
       "4886    0.263276\n",
       "4888    0.263425\n",
       "4890    0.263496\n",
       "4892    0.263548\n",
       "4894    0.263625\n",
       "Name: cases_per_capita, Length: 816, dtype: float64"
      ]
     },
     "execution_count": 14,
     "metadata": {},
     "output_type": "execute_result"
    }
   ],
   "source": [
    "norway_cases"
   ]
  },
  {
   "cell_type": "code",
   "execution_count": null,
   "id": "cab919a6-4de9-4286-a550-b342940ce0db",
   "metadata": {},
   "outputs": [],
   "source": [
    "# 2.6\n",
    "# check the data structure of the newly created variables\n",
    "print(\"Data structure of sweden_cases:\", type(sweden_cases))\n",
    "print(\"Data structure of norway_cases:\", type(norway_cases))"
   ]
  },
  {
   "cell_type": "markdown",
   "id": "1c8a183b-d9b2-41bb-a0f6-9867b0ab3b47",
   "metadata": {},
   "source": [
    "### 2.7\n",
    "The index of these Series is currently the row number of each observation in the DataFrame. While this is a valid index, it is not particularly useful for analyzing time series data. A better index would be the date of each observation, as it would allow us to easily compare the number of cases per capita over time.Currently, the index of these Series is the row number of each DataFrame observation. This is a legitimate index, although it is not especially useful for time series data analysis. The date of each observation would be a superior indicator since it would allow us to readily compare the number of instances per capita across time."
   ]
  },
  {
   "cell_type": "code",
   "execution_count": null,
   "id": "2b0b7635-2731-4700-b638-22474a272692",
   "metadata": {},
   "outputs": [],
   "source": [
    "# 2.8\n",
    "# set the index of each series to the date column\n",
    "sweden_cases.index = confirmed_cases[confirmed_cases['country'] == 'Sweden']['date']\n",
    "norway_cases.index = confirmed_cases[confirmed_cases['country'] == 'Norway']['date']\n",
    "\n",
    "# print the first few rows to check the new index\n",
    "print(\"Sweden cases per capita:\")\n",
    "print(sweden_cases.head())\n",
    "print(\"\\nNorway cases per capita:\")\n",
    "print(norway_cases.head())"
   ]
  },
  {
   "cell_type": "code",
   "execution_count": null,
   "id": "473e10b3-56fc-4c2d-b374-991cb24d6dd5",
   "metadata": {},
   "outputs": [],
   "source": [
    "# 3.1\n",
    "# Method 1: print the confirmed cases per capita in Sweden and Norway for different dates by using .loc\n",
    "print(sweden_cases.loc['2020-05-01'])\n",
    "print(norway_cases.loc['2020-05-01'])\n",
    "\n",
    "print(sweden_cases.loc['2020-12-01'])\n",
    "print(norway_cases.loc['2020-12-01'])\n",
    "\n",
    "print(sweden_cases.loc['2021-07-01'])\n",
    "print(norway_cases.loc['2021-07-01'])\n",
    "\n",
    "print(sweden_cases.loc['2022-01-01'])\n",
    "print(norway_cases.loc['2022-01-01'])"
   ]
  },
  {
   "cell_type": "code",
   "execution_count": null,
   "id": "6a7274e1-ed47-4a32-9967-156c01014715",
   "metadata": {},
   "outputs": [],
   "source": [
    "# Method 2: print the confirmed cases per capita in Sweden and Norway for different dates by using index\n",
    "print(norway_cases[norway_cases.index == '2020-05-01'])\n",
    "print(norway_cases[norway_cases.index == '2020-12-01'])\n",
    "print(norway_cases[norway_cases.index == '2021-07-01'])\n",
    "print(norway_cases[norway_cases.index == '2022-01-01'])\n",
    "\n",
    "print(sweden_cases[sweden_cases.index == '2020-05-01'])\n",
    "print(sweden_cases[sweden_cases.index == '2021-07-01'])\n",
    "print(sweden_cases[sweden_cases.index == '2020-05-01'])\n",
    "print(sweden_cases[sweden_cases.index == '2020-05-01'])"
   ]
  },
  {
   "cell_type": "markdown",
   "id": "b7d86095-0bb9-4732-82f8-9f47f021f16d",
   "metadata": {},
   "source": [
    "According to the output, confirmed cases per capita in Sweden were typically greater than in Norway at each of the four time periods. This might imply that Sweden's \"hands-off\" attitude may have had some effect on the virus's spread in the country. However, it is crucial to emphasize that many other factors may have contributed to the discrepancies between Sweden and Norway, and a more thorough research would need to investigate a broader variety of variables and data sources."
   ]
  }
 ],
 "metadata": {
  "kernelspec": {
   "display_name": "Python 3 (ipykernel)",
   "language": "python",
   "name": "python3"
  },
  "language_info": {
   "codemirror_mode": {
    "name": "ipython",
    "version": 3
   },
   "file_extension": ".py",
   "mimetype": "text/x-python",
   "name": "python",
   "nbconvert_exporter": "python",
   "pygments_lexer": "ipython3",
   "version": "3.9.7"
  }
 },
 "nbformat": 4,
 "nbformat_minor": 5
}
