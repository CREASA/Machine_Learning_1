{
 "cells": [
  {
   "cell_type": "markdown",
   "id": "4302c9f3-5324-499c-a725-6e10bef9546f",
   "metadata": {},
   "source": [
    "# Lab 08"
   ]
  },
  {
   "cell_type": "markdown",
   "id": "6c0eedc6-07e8-4f8e-aec2-1ff3f3f3bdd1",
   "metadata": {},
   "source": [
    "## Name: Xinyu Chang"
   ]
  },
  {
   "cell_type": "markdown",
   "id": "7992dcfe-9cdf-4375-927b-e4bda42505ac",
   "metadata": {},
   "source": [
    "---"
   ]
  },
  {
   "cell_type": "code",
   "execution_count": 39,
   "id": "f021c25a-3904-4031-a577-ee9af75c55bc",
   "metadata": {},
   "outputs": [],
   "source": [
    "# import the packages\n",
    "import pandas as pd\n",
    "import numpy as np\n",
    "import matplotlib.pyplot as plt\n",
    "from sklearn.linear_model import LogisticRegression\n",
    "from sklearn.model_selection import train_test_split\n",
    "from sklearn.metrics import accuracy_score\n",
    "from sklearn.neighbors import KNeighborsClassifier\n",
    "from sklearn.tree import DecisionTreeClassifier"
   ]
  },
  {
   "cell_type": "markdown",
   "id": "493c8e83-060e-4778-8825-b40fa6b4d568",
   "metadata": {},
   "source": [
    "## 1 Preparation"
   ]
  },
  {
   "cell_type": "markdown",
   "id": "e6a1985d-97c8-457f-a72e-7bd19acbeeae",
   "metadata": {},
   "source": [
    "#### 1. Load data airbnb-bangkok-score.csv.bz2."
   ]
  },
  {
   "cell_type": "code",
   "execution_count": 40,
   "id": "b34cddf7-3c42-42f5-ab12-47064ff7a68f",
   "metadata": {},
   "outputs": [
    {
     "data": {
      "text/html": [
       "<div>\n",
       "<style scoped>\n",
       "    .dataframe tbody tr th:only-of-type {\n",
       "        vertical-align: middle;\n",
       "    }\n",
       "\n",
       "    .dataframe tbody tr th {\n",
       "        vertical-align: top;\n",
       "    }\n",
       "\n",
       "    .dataframe thead th {\n",
       "        text-align: right;\n",
       "    }\n",
       "</style>\n",
       "<table border=\"1\" class=\"dataframe\">\n",
       "  <thead>\n",
       "    <tr style=\"text-align: right;\">\n",
       "      <th></th>\n",
       "      <th>price</th>\n",
       "      <th>minimum_nights</th>\n",
       "      <th>maximum_nights</th>\n",
       "      <th>instant_bookable</th>\n",
       "      <th>neighbourhood</th>\n",
       "      <th>reviews_per_month</th>\n",
       "      <th>calculated_host_listings_count</th>\n",
       "      <th>number_of_reviews</th>\n",
       "      <th>x1</th>\n",
       "      <th>x2</th>\n",
       "      <th>...</th>\n",
       "      <th>x24</th>\n",
       "      <th>x25</th>\n",
       "      <th>x26</th>\n",
       "      <th>x27</th>\n",
       "      <th>x28</th>\n",
       "      <th>x29</th>\n",
       "      <th>x30</th>\n",
       "      <th>highScore</th>\n",
       "      <th>firstReview</th>\n",
       "      <th>lastReview</th>\n",
       "    </tr>\n",
       "  </thead>\n",
       "  <tbody>\n",
       "    <tr>\n",
       "      <th>0</th>\n",
       "      <td>2300.0</td>\n",
       "      <td>1</td>\n",
       "      <td>1125</td>\n",
       "      <td>t</td>\n",
       "      <td>Bangkok, Thailand</td>\n",
       "      <td>0.04</td>\n",
       "      <td>8</td>\n",
       "      <td>1</td>\n",
       "      <td>O</td>\n",
       "      <td>N</td>\n",
       "      <td>...</td>\n",
       "      <td>P</td>\n",
       "      <td>N</td>\n",
       "      <td>E</td>\n",
       "      <td>P</td>\n",
       "      <td>B</td>\n",
       "      <td>O</td>\n",
       "      <td>H</td>\n",
       "      <td>False</td>\n",
       "      <td>2019</td>\n",
       "      <td>2019</td>\n",
       "    </tr>\n",
       "    <tr>\n",
       "      <th>1</th>\n",
       "      <td>360.0</td>\n",
       "      <td>1</td>\n",
       "      <td>1125</td>\n",
       "      <td>f</td>\n",
       "      <td>Khet Phra Nakhon, Krung Thep Maha Nakhon, Thai...</td>\n",
       "      <td>0.04</td>\n",
       "      <td>1</td>\n",
       "      <td>1</td>\n",
       "      <td>L</td>\n",
       "      <td>U</td>\n",
       "      <td>...</td>\n",
       "      <td>M</td>\n",
       "      <td>N</td>\n",
       "      <td>M</td>\n",
       "      <td>T</td>\n",
       "      <td>W</td>\n",
       "      <td>K</td>\n",
       "      <td>L</td>\n",
       "      <td>True</td>\n",
       "      <td>2020</td>\n",
       "      <td>2020</td>\n",
       "    </tr>\n",
       "    <tr>\n",
       "      <th>2</th>\n",
       "      <td>1017.0</td>\n",
       "      <td>1</td>\n",
       "      <td>180</td>\n",
       "      <td>t</td>\n",
       "      <td>NaN</td>\n",
       "      <td>0.13</td>\n",
       "      <td>188</td>\n",
       "      <td>2</td>\n",
       "      <td>K</td>\n",
       "      <td>K</td>\n",
       "      <td>...</td>\n",
       "      <td>A</td>\n",
       "      <td>T</td>\n",
       "      <td>Q</td>\n",
       "      <td>G</td>\n",
       "      <td>J</td>\n",
       "      <td>B</td>\n",
       "      <td>D</td>\n",
       "      <td>True</td>\n",
       "      <td>2020</td>\n",
       "      <td>2021</td>\n",
       "    </tr>\n",
       "    <tr>\n",
       "      <th>3</th>\n",
       "      <td>3500.0</td>\n",
       "      <td>1</td>\n",
       "      <td>30</td>\n",
       "      <td>t</td>\n",
       "      <td>NaN</td>\n",
       "      <td>0.04</td>\n",
       "      <td>5</td>\n",
       "      <td>1</td>\n",
       "      <td>U</td>\n",
       "      <td>D</td>\n",
       "      <td>...</td>\n",
       "      <td>L</td>\n",
       "      <td>M</td>\n",
       "      <td>N</td>\n",
       "      <td>M</td>\n",
       "      <td>G</td>\n",
       "      <td>X</td>\n",
       "      <td>I</td>\n",
       "      <td>True</td>\n",
       "      <td>2019</td>\n",
       "      <td>2019</td>\n",
       "    </tr>\n",
       "    <tr>\n",
       "      <th>4</th>\n",
       "      <td>729.0</td>\n",
       "      <td>1</td>\n",
       "      <td>180</td>\n",
       "      <td>t</td>\n",
       "      <td>NaN</td>\n",
       "      <td>0.28</td>\n",
       "      <td>188</td>\n",
       "      <td>8</td>\n",
       "      <td>S</td>\n",
       "      <td>H</td>\n",
       "      <td>...</td>\n",
       "      <td>V</td>\n",
       "      <td>G</td>\n",
       "      <td>U</td>\n",
       "      <td>K</td>\n",
       "      <td>O</td>\n",
       "      <td>M</td>\n",
       "      <td>P</td>\n",
       "      <td>True</td>\n",
       "      <td>2019</td>\n",
       "      <td>2019</td>\n",
       "    </tr>\n",
       "  </tbody>\n",
       "</table>\n",
       "<p>5 rows × 41 columns</p>\n",
       "</div>"
      ],
      "text/plain": [
       "    price  minimum_nights  maximum_nights instant_bookable  \\\n",
       "0  2300.0               1            1125                t   \n",
       "1   360.0               1            1125                f   \n",
       "2  1017.0               1             180                t   \n",
       "3  3500.0               1              30                t   \n",
       "4   729.0               1             180                t   \n",
       "\n",
       "                                       neighbourhood  reviews_per_month  \\\n",
       "0                                  Bangkok, Thailand               0.04   \n",
       "1  Khet Phra Nakhon, Krung Thep Maha Nakhon, Thai...               0.04   \n",
       "2                                                NaN               0.13   \n",
       "3                                                NaN               0.04   \n",
       "4                                                NaN               0.28   \n",
       "\n",
       "   calculated_host_listings_count  number_of_reviews x1 x2  ... x24 x25 x26  \\\n",
       "0                               8                  1  O  N  ...   P   N   E   \n",
       "1                               1                  1  L  U  ...   M   N   M   \n",
       "2                             188                  2  K  K  ...   A   T   Q   \n",
       "3                               5                  1  U  D  ...   L   M   N   \n",
       "4                             188                  8  S  H  ...   V   G   U   \n",
       "\n",
       "  x27 x28 x29 x30 highScore firstReview lastReview  \n",
       "0   P   B   O   H     False        2019       2019  \n",
       "1   T   W   K   L      True        2020       2020  \n",
       "2   G   J   B   D      True        2020       2021  \n",
       "3   M   G   X   I      True        2019       2019  \n",
       "4   K   O   M   P      True        2019       2019  \n",
       "\n",
       "[5 rows x 41 columns]"
      ]
     },
     "execution_count": 40,
     "metadata": {},
     "output_type": "execute_result"
    }
   ],
   "source": [
    "air_df = pd.read_csv(\"airbnb-bangkok-score.csv.bz2\", sep = \"\\t\")\n",
    "air_df.head()"
   ]
  },
  {
   "cell_type": "markdown",
   "id": "1ccf4aac-457e-4331-8b5c-be6867f16a9b",
   "metadata": {},
   "source": [
    "#### 2. A quick descriptive analysis: \n",
    "#### a. how many cases do we have? "
   ]
  },
  {
   "cell_type": "code",
   "execution_count": 41,
   "id": "3bc0f1e8-f923-4320-9553-72453984af85",
   "metadata": {},
   "outputs": [
    {
     "data": {
      "text/plain": [
       "2000"
      ]
     },
     "execution_count": 41,
     "metadata": {},
     "output_type": "execute_result"
    }
   ],
   "source": [
    "air_df.shape[0]"
   ]
  },
  {
   "cell_type": "markdown",
   "id": "68f32f0e-4d3e-407d-88bf-2eb0443992f2",
   "metadata": {},
   "source": [
    "There are 2000 cases we have in the dataset."
   ]
  },
  {
   "cell_type": "markdown",
   "id": "db928212-623c-440c-b833-22506955020f",
   "metadata": {},
   "source": [
    "#### b. How many variables do we have? "
   ]
  },
  {
   "cell_type": "code",
   "execution_count": 42,
   "id": "75fffc84-6071-4cb2-9508-30a0da15956a",
   "metadata": {},
   "outputs": [
    {
     "data": {
      "text/plain": [
       "41"
      ]
     },
     "execution_count": 42,
     "metadata": {},
     "output_type": "execute_result"
    }
   ],
   "source": [
    "air_df.shape[1]"
   ]
  },
  {
   "cell_type": "markdown",
   "id": "57e96db7-1ff7-4c98-8ed3-7eefc5c59b8d",
   "metadata": {},
   "source": [
    "There are 41 variables we have in the dataset."
   ]
  },
  {
   "cell_type": "markdown",
   "id": "ea5f27e7-785c-498b-aaa7-5cebc0f85503",
   "metadata": {},
   "source": [
    "#### c. What are the variable names?"
   ]
  },
  {
   "cell_type": "code",
   "execution_count": 43,
   "id": "9bc93cad-007f-422d-a6a1-0973078b308e",
   "metadata": {},
   "outputs": [
    {
     "data": {
      "text/plain": [
       "['price',\n",
       " 'minimum_nights',\n",
       " 'maximum_nights',\n",
       " 'instant_bookable',\n",
       " 'neighbourhood',\n",
       " 'reviews_per_month',\n",
       " 'calculated_host_listings_count',\n",
       " 'number_of_reviews',\n",
       " 'x1',\n",
       " 'x2',\n",
       " 'x3',\n",
       " 'x4',\n",
       " 'x5',\n",
       " 'x6',\n",
       " 'x7',\n",
       " 'x8',\n",
       " 'x9',\n",
       " 'x10',\n",
       " 'x11',\n",
       " 'x12',\n",
       " 'x13',\n",
       " 'x14',\n",
       " 'x15',\n",
       " 'x16',\n",
       " 'x17',\n",
       " 'x18',\n",
       " 'x19',\n",
       " 'x20',\n",
       " 'x21',\n",
       " 'x22',\n",
       " 'x23',\n",
       " 'x24',\n",
       " 'x25',\n",
       " 'x26',\n",
       " 'x27',\n",
       " 'x28',\n",
       " 'x29',\n",
       " 'x30',\n",
       " 'highScore',\n",
       " 'firstReview',\n",
       " 'lastReview']"
      ]
     },
     "execution_count": 43,
     "metadata": {},
     "output_type": "execute_result"
    }
   ],
   "source": [
    "air_df.columns.tolist()"
   ]
  },
  {
   "cell_type": "markdown",
   "id": "c34c4c7d-d16e-49ff-b807-356a519c324a",
   "metadata": {},
   "source": [
    "#### d. What are the data types?"
   ]
  },
  {
   "cell_type": "code",
   "execution_count": 44,
   "id": "ff195ecb-62fb-470b-9741-f43c94285852",
   "metadata": {},
   "outputs": [
    {
     "data": {
      "text/plain": [
       "price                             float64\n",
       "minimum_nights                      int64\n",
       "maximum_nights                      int64\n",
       "instant_bookable                   object\n",
       "neighbourhood                      object\n",
       "reviews_per_month                 float64\n",
       "calculated_host_listings_count      int64\n",
       "number_of_reviews                   int64\n",
       "x1                                 object\n",
       "x2                                 object\n",
       "x3                                 object\n",
       "x4                                 object\n",
       "x5                                 object\n",
       "x6                                 object\n",
       "x7                                 object\n",
       "x8                                 object\n",
       "x9                                 object\n",
       "x10                                object\n",
       "x11                                object\n",
       "x12                                object\n",
       "x13                                object\n",
       "x14                                object\n",
       "x15                                object\n",
       "x16                                object\n",
       "x17                                object\n",
       "x18                                object\n",
       "x19                                object\n",
       "x20                                object\n",
       "x21                                object\n",
       "x22                                object\n",
       "x23                                object\n",
       "x24                                object\n",
       "x25                                object\n",
       "x26                                object\n",
       "x27                                object\n",
       "x28                                object\n",
       "x29                                object\n",
       "x30                                object\n",
       "highScore                            bool\n",
       "firstReview                         int64\n",
       "lastReview                          int64\n",
       "dtype: object"
      ]
     },
     "execution_count": 44,
     "metadata": {},
     "output_type": "execute_result"
    }
   ],
   "source": [
    "air_df.dtypes"
   ]
  },
  {
   "cell_type": "markdown",
   "id": "13d04240-416c-4280-b848-c52d871fc7ec",
   "metadata": {},
   "source": [
    "#### 3. Your outcome variable is highScore. Let’s call it y for consistency. Check what kind of values does it contain."
   ]
  },
  {
   "cell_type": "code",
   "execution_count": 45,
   "id": "2469063c-d50a-4d50-8337-4e24d64fabd6",
   "metadata": {},
   "outputs": [
    {
     "data": {
      "text/plain": [
       "True     1017\n",
       "False     983\n",
       "Name: highScore, dtype: int64"
      ]
     },
     "execution_count": 45,
     "metadata": {},
     "output_type": "execute_result"
    }
   ],
   "source": [
    "air_df['highScore'].value_counts()"
   ]
  },
  {
   "cell_type": "markdown",
   "id": "d54f27ab-291e-4f2d-9424-5fb9bccc8818",
   "metadata": {},
   "source": [
    "The 'highScore' variable in the dataset is a binary variable, as it contains only two distinct values: True and False. This suggests that it is likely a categorical variable that has been encoded.In this context, the 'highScore' variable probably indicates whether a particular listing received a high score or not, with True indicating a high score and False indicating that the listing did not receive a high score. The output shows that there are 1017 listings with a high score and 983 listings without a high score."
   ]
  },
  {
   "cell_type": "markdown",
   "id": "fde4ab1b-d3ac-4851-b0fd-189c4edb9e6d",
   "metadata": {},
   "source": [
    "#### 4. Create “full” design matrices X for training and validation, those should contain all variables there, except “highScore”."
   ]
  },
  {
   "cell_type": "code",
   "execution_count": 46,
   "id": "7f51ce40-71a0-45ab-a150-8fe413e46ca4",
   "metadata": {},
   "outputs": [],
   "source": [
    "X = air_df.drop('highScore', axis=1)\n",
    "y = air_df[\"highScore\"]"
   ]
  },
  {
   "cell_type": "markdown",
   "id": "aa4576c4-7f3e-4cc4-aa7f-5650962c6048",
   "metadata": {},
   "source": [
    "#### 5. Why do we want to remove highScore from the design matrix?"
   ]
  },
  {
   "cell_type": "markdown",
   "id": "0a96934d-64e5-44a3-a132-626ded665ab0",
   "metadata": {},
   "source": [
    "'highScore' is removed from the design matrix because it is the target variable that we want to predict. The model is trained using the features (the predictors or X variables) to predict the target (the outcome or y variable). Including the target variable in the predictors would lead to an overly optimistic model performance, as the model would have direct access to the values it is trying to predict during the training phase. This is unrealistic in practice, as the goal is to be able to make accurate predictions for new, unseen data where the target values are not known."
   ]
  },
  {
   "cell_type": "markdown",
   "id": "fad39042-d3b6-4854-a64a-d32b8df37401",
   "metadata": {},
   "source": [
    "## 2 Train and validate"
   ]
  },
  {
   "cell_type": "markdown",
   "id": "03aa4c00-8921-49c9-8f0c-ba0b9295b743",
   "metadata": {},
   "source": [
    "#### 1. Write a loop over all columns of your design matrix as suggested above. Inside the loop:"
   ]
  },
  {
   "cell_type": "markdown",
   "id": "615bfa4f-7cc1-44bd-8ff1-477452968d11",
   "metadata": {},
   "source": [
    "#### a. Create a smaller design matrix Xj that only contains the first j columns. (See above.)"
   ]
  },
  {
   "cell_type": "markdown",
   "id": "53c037ae-c030-4afe-8ec2-03b32bc67a26",
   "metadata": {},
   "source": [
    "#### b. Convert this matrix to dummies (use pd.get dummies). How many columns are now in your “dummy” design matrix Xd?"
   ]
  },
  {
   "cell_type": "markdown",
   "id": "5aa9fc76-f50b-4440-b606-87f721c3bebe",
   "metadata": {},
   "source": [
    "#### c. Split the dummy-matrix into training and validation parts."
   ]
  },
  {
   "cell_type": "markdown",
   "id": "8c43e6e7-995d-441e-be22-37bd27ff1d0f",
   "metadata": {},
   "source": [
    "#### d. Fit the logistic regression on the training chunk."
   ]
  },
  {
   "cell_type": "markdown",
   "id": "207f0305-3e88-4d82-960a-b31f32e3fadb",
   "metadata": {},
   "source": [
    "#### e. Compute, and store, both the training and validation accuracy"
   ]
  },
  {
   "cell_type": "code",
   "execution_count": 47,
   "id": "71302459-cb8d-4c18-8f17-be89d73302b6",
   "metadata": {},
   "outputs": [
    {
     "name": "stdout",
     "output_type": "stream",
     "text": [
      "There are now 1 columns in the dummy design matrix Xd.\n",
      "There are now 2 columns in the dummy design matrix Xd.\n",
      "There are now 3 columns in the dummy design matrix Xd.\n",
      "There are now 5 columns in the dummy design matrix Xd.\n",
      "There are now 229 columns in the dummy design matrix Xd.\n",
      "There are now 230 columns in the dummy design matrix Xd.\n",
      "There are now 231 columns in the dummy design matrix Xd.\n",
      "There are now 232 columns in the dummy design matrix Xd.\n",
      "There are now 258 columns in the dummy design matrix Xd.\n",
      "There are now 284 columns in the dummy design matrix Xd.\n",
      "There are now 310 columns in the dummy design matrix Xd.\n",
      "There are now 336 columns in the dummy design matrix Xd.\n",
      "There are now 362 columns in the dummy design matrix Xd.\n",
      "There are now 388 columns in the dummy design matrix Xd.\n",
      "There are now 414 columns in the dummy design matrix Xd.\n",
      "There are now 440 columns in the dummy design matrix Xd.\n",
      "There are now 466 columns in the dummy design matrix Xd.\n",
      "There are now 492 columns in the dummy design matrix Xd.\n",
      "There are now 518 columns in the dummy design matrix Xd.\n",
      "There are now 544 columns in the dummy design matrix Xd.\n",
      "There are now 570 columns in the dummy design matrix Xd.\n",
      "There are now 596 columns in the dummy design matrix Xd.\n",
      "There are now 622 columns in the dummy design matrix Xd.\n",
      "There are now 648 columns in the dummy design matrix Xd.\n",
      "There are now 674 columns in the dummy design matrix Xd.\n",
      "There are now 700 columns in the dummy design matrix Xd.\n",
      "There are now 726 columns in the dummy design matrix Xd.\n",
      "There are now 752 columns in the dummy design matrix Xd.\n",
      "There are now 778 columns in the dummy design matrix Xd.\n",
      "There are now 804 columns in the dummy design matrix Xd.\n",
      "There are now 830 columns in the dummy design matrix Xd.\n",
      "There are now 856 columns in the dummy design matrix Xd.\n",
      "There are now 882 columns in the dummy design matrix Xd.\n",
      "There are now 908 columns in the dummy design matrix Xd.\n",
      "There are now 934 columns in the dummy design matrix Xd.\n",
      "There are now 960 columns in the dummy design matrix Xd.\n",
      "There are now 986 columns in the dummy design matrix Xd.\n",
      "There are now 1012 columns in the dummy design matrix Xd.\n",
      "There are now 1013 columns in the dummy design matrix Xd.\n",
      "There are now 1014 columns in the dummy design matrix Xd.\n"
     ]
    }
   ],
   "source": [
    "train_accuracy = []\n",
    "val_accuracy = []\n",
    "\n",
    "for j in range(1, X.shape[1]+1):\n",
    "    Xj = X.iloc[:, :j]\n",
    "\n",
    "    Xd = pd.get_dummies(Xj)\n",
    "    print(f\"There are now {Xd.shape[1]} columns in the dummy design matrix Xd.\")\n",
    "\n",
    "    Xd_train, Xd_val, yd_train, yd_val = train_test_split(Xd, y, test_size=0.5)\n",
    "\n",
    "    model = LogisticRegression(max_iter=5000)\n",
    "    model.fit(Xd_train, yd_train)\n",
    "\n",
    "    train_accuracy.append(model.score(Xd_train, yd_train))\n",
    "    val_accuracy.append(model.score(Xd_val, yd_val))"
   ]
  },
  {
   "cell_type": "markdown",
   "id": "7d9f4a45-a648-46c2-9cd6-c93f4980343f",
   "metadata": {},
   "source": [
    "There are 1014 columns I get in the “dummy” design matrix Xd."
   ]
  },
  {
   "cell_type": "markdown",
   "id": "bd493ab8-9e96-41df-baa9-e40ab3f60080",
   "metadata": {},
   "source": [
    "#### 2. Plot your results: accuracy versus number of columns."
   ]
  },
  {
   "cell_type": "code",
   "execution_count": 49,
   "id": "d4927d3b-d632-42d6-b1ff-11f586cdb604",
   "metadata": {},
   "outputs": [
    {
     "data": {
      "image/png": "[encoded data removed]",
      "text/plain": [
       "<Figure size 720x432 with 1 Axes>"
      ]
     },
     "metadata": {
      "needs_background": "light"
     },
     "output_type": "display_data"
    }
   ],
   "source": [
    "plt.figure(figsize=(10,6))\n",
    "plt.plot(range(1, X.shape[1]+1), train_accuracy, label='Training Accuracy')\n",
    "plt.plot(range(1, X.shape[1]+1), val_accuracy, label='Validation Accuracy')\n",
    "plt.title('Accuracy vs. Number of Columns')\n",
    "plt.xlabel('Number of Columns')\n",
    "plt.ylabel('Accuracy')\n",
    "plt.legend()\n",
    "plt.show()"
   ]
  },
  {
   "cell_type": "markdown",
   "id": "0b455968-2efa-45bf-b45f-fe2dae5f4415",
   "metadata": {},
   "source": [
    "#### 3. Which number of columns will give you the best results? (Based on validation data.)"
   ]
  },
  {
   "cell_type": "code",
   "execution_count": 50,
   "id": "fcbae382-f934-473c-a6a1-864c85c954b1",
   "metadata": {},
   "outputs": [
    {
     "data": {
      "text/plain": [
       "8"
      ]
     },
     "execution_count": 50,
     "metadata": {},
     "output_type": "execute_result"
    }
   ],
   "source": [
    "val_accuracy.index(max(val_accuracy)) + 1"
   ]
  },
  {
   "cell_type": "markdown",
   "id": "191c56c7-8f69-474c-a49c-7a216d14fcd9",
   "metadata": {},
   "source": [
    "I got the best results when the column number is 8. As the graphs shows, it starts to increase from n=8 onward. The gap between the training accuracy and the validation accuracy is becoming larger.This is evident as the model exhibits high performance on the training data, but the validation one rather falls which performs poorly, suggesting that it fails to generalize well to unseen data. so we can say it is an overfitting phenomenon. When the n is less than 8, it shows an undefitting phenomenon.When both the training and validation accuracies are low and exhibit a similar trend on the graph, it suggests that the model is underfitting. This means that the model is not complex enough or does not have enough capacity to capture the patterns in the data, leading to poor performance both during training and on new data."
   ]
  },
  {
   "cell_type": "markdown",
   "id": "ee472f58-b08a-4f35-8446-37721135609c",
   "metadata": {},
   "source": [
    "## 3 Other models"
   ]
  },
  {
   "cell_type": "markdown",
   "id": "ab2dbaf7-7b5f-4e57-aaac-8cc35a0901d5",
   "metadata": {},
   "source": [
    "### 3.1 Decision trees"
   ]
  },
  {
   "cell_type": "markdown",
   "id": "ed74c6bd-b19c-4c78-90e4-e42796928796",
   "metadata": {},
   "source": [
    "\n",
    "#### 1. Create new design matrix out of 8 first columns of X and convert it to dummes."
   ]
  },
  {
   "cell_type": "code",
   "execution_count": 51,
   "id": "6540d78c-da22-4b28-924d-c7e084b765b7",
   "metadata": {},
   "outputs": [],
   "source": [
    "Xd = pd.get_dummies(X.iloc[:, :8])"
   ]
  },
  {
   "cell_type": "markdown",
   "id": "308cb6fd-81da-4d18-b233-9e56419d88c4",
   "metadata": {},
   "source": [
    "#### 2. Split it to training and validation chunks."
   ]
  },
  {
   "cell_type": "code",
   "execution_count": 52,
   "id": "a5c73964-2508-45ae-b8ef-e6fcb97aa14c",
   "metadata": {},
   "outputs": [],
   "source": [
    "Xd_train, Xd_val, yd_train, yd_val = train_test_split(Xd, y, test_size=0.5)"
   ]
  },
  {
   "cell_type": "markdown",
   "id": "79f3e8b6-879c-4530-b1bf-c3af7426ff20",
   "metadata": {},
   "source": [
    "---"
   ]
  },
  {
   "cell_type": "markdown",
   "id": "3ac32dce-cc8a-4289-98c0-e98e2368c9a9",
   "metadata": {},
   "source": [
    "#### 1. Now loop over a decision trees with max depth from 1 to 20. Inside of the loop:"
   ]
  },
  {
   "cell_type": "markdown",
   "id": "0f226f04-7f1c-4e65-9dfb-65681b759e65",
   "metadata": {},
   "source": [
    "#### (a) fit the decision tree of the respective depth on the training data"
   ]
  },
  {
   "cell_type": "markdown",
   "id": "d9190327-c630-4999-bed5-c0d05bc1e473",
   "metadata": {},
   "source": [
    "#### (b) Compute, and store, both the training and validation accuracy."
   ]
  },
  {
   "cell_type": "code",
   "execution_count": 53,
   "id": "98678f70-fdbd-46df-a27b-136abe47d105",
   "metadata": {},
   "outputs": [],
   "source": [
    "train_accuracy = []\n",
    "val_accuracy = []\n",
    "\n",
    "for d in range(1, 21):\n",
    "    model = DecisionTreeClassifier(max_depth=d)\n",
    "    model.fit(Xd_train, yd_train)\n",
    "\n",
    "    train_accuracy.append(model.score(Xd_train, yd_train))\n",
    "    val_accuracy.append(model.score(Xd_val, yd_val))"
   ]
  },
  {
   "cell_type": "markdown",
   "id": "f0b09f62-c705-4ebf-b497-c9397d0cbe0b",
   "metadata": {},
   "source": [
    "#### 2. Plot your results: accuracy versus number of columns."
   ]
  },
  {
   "cell_type": "code",
   "execution_count": 54,
   "id": "8bb840dc-6018-416c-a539-00daa65cf0f8",
   "metadata": {},
   "outputs": [
    {
     "data": {
      "image/png": "[encoded data removed]",
      "text/plain": [
       "<Figure size 720x432 with 1 Axes>"
      ]
     },
     "metadata": {
      "needs_background": "light"
     },
     "output_type": "display_data"
    }
   ],
   "source": [
    "plt.figure(figsize=(10,6))\n",
    "plt.plot(range(1, 21), train_accuracy, label='Training Accuracy')\n",
    "plt.plot(range(1, 21), val_accuracy, label='Validation Accuracy')\n",
    "plt.title('Accuracy vs. Tree Depth')\n",
    "plt.xlabel('Tree Depth')\n",
    "plt.ylabel('Accuracy')\n",
    "plt.legend()\n",
    "plt.show()"
   ]
  },
  {
   "cell_type": "markdown",
   "id": "60505176-d176-4747-9717-978a6f35fadc",
   "metadata": {},
   "source": [
    "#### 3. Which number of columns will give you the best results? (Based on validation data.)"
   ]
  },
  {
   "cell_type": "code",
   "execution_count": 55,
   "id": "a9668681-358e-4b53-b6cc-7077308d24d6",
   "metadata": {},
   "outputs": [
    {
     "data": {
      "text/plain": [
       "8"
      ]
     },
     "execution_count": 55,
     "metadata": {},
     "output_type": "execute_result"
    }
   ],
   "source": [
    "val_accuracy.index(max(val_accuracy)) + 1"
   ]
  },
  {
   "cell_type": "markdown",
   "id": "1e9bbe80-a92b-4f3d-8c35-380ce37c3e8f",
   "metadata": {},
   "source": [
    "I got the best results when the column number is 8. As the graphs shows, it starts to increase from n=8 onward. The gap between the training accuracy and the validation accuracy is becoming larger.This is evident as the model exhibits high performance on the training data, but the validation one rather falls which performs poorly, suggesting that it fails to generalize well to unseen data. so we can say it is an overfitting phenomenon. When the n is less than 8, it shows an undefitting phenomenon.When both the training and validation accuracies are low and exhibit a similar trend on the graph, it suggests that the model is underfitting. This means that the model is not complex enough or does not have enough capacity to capture the patterns in the data, leading to poor performance both during training and on new data."
   ]
  },
  {
   "cell_type": "markdown",
   "id": "78f81187-ed9b-434a-be4f-2a0c6d0c04a1",
   "metadata": {},
   "source": [
    "### 3.2 Extra task: k-NN (not graded)"
   ]
  },
  {
   "cell_type": "markdown",
   "id": "d857091f-04ad-454a-9346-f5ba3fe822da",
   "metadata": {},
   "source": [
    "#### If you have time and interest, repeat the previous task (decision trees) with k-NN:\n",
    "#### 1. This time try models with different number of neighbors, k, instead of max depth. Test k in range 1-20."
   ]
  },
  {
   "cell_type": "code",
   "execution_count": 56,
   "id": "c71a8abf-7310-499e-95ed-8b296cd38090",
   "metadata": {},
   "outputs": [],
   "source": [
    "train_accuracy = []\n",
    "val_accuracy = []\n",
    "\n",
    "for k in range(1, 21):\n",
    "    model = KNeighborsClassifier(n_neighbors=k)\n",
    "    model.fit(Xd_train, yd_train)\n",
    "\n",
    "    train_accuracy.append(model.score(Xd_train, yd_train))\n",
    "    val_accuracy.append(model.score(Xd_val, yd_val))"
   ]
  },
  {
   "cell_type": "markdown",
   "id": "b06e3a7f-abc7-47b2-92f9-333b7188be9d",
   "metadata": {},
   "source": [
    "#### Make a similar plot and discuss what is the best k range."
   ]
  },
  {
   "cell_type": "code",
   "execution_count": 57,
   "id": "c9ee0ce8-4105-4412-a13b-230a448e5c82",
   "metadata": {},
   "outputs": [
    {
     "data": {
      "image/png": "[encoded data removed]",
      "text/plain": [
       "<Figure size 720x432 with 1 Axes>"
      ]
     },
     "metadata": {
      "needs_background": "light"
     },
     "output_type": "display_data"
    }
   ],
   "source": [
    "plt.figure(figsize=(10,6))\n",
    "plt.plot(range(1, 21), train_accuracy, label='Training Accuracy')\n",
    "plt.plot(range(1, 21), val_accuracy, label='Validation Accuracy')\n",
    "plt.title('Accuracy vs. Number of Neighbors (k)')\n",
    "plt.xlabel('Number of Neighbors (k)')\n",
    "plt.ylabel('Accuracy')\n",
    "plt.legend()\n",
    "plt.show()"
   ]
  },
  {
   "cell_type": "code",
   "execution_count": 58,
   "id": "3f695ea9-53e7-456c-8ae4-3eab3ae66927",
   "metadata": {},
   "outputs": [
    {
     "data": {
      "text/plain": [
       "18"
      ]
     },
     "execution_count": 58,
     "metadata": {},
     "output_type": "execute_result"
    }
   ],
   "source": [
    "val_accuracy.index(max(val_accuracy)) + 1"
   ]
  },
  {
   "cell_type": "markdown",
   "id": "006423d1-83ff-4187-83cc-87bc5857ce90",
   "metadata": {},
   "source": [
    "#### 2. Explain why the training accuracy curve is decreasing in k, not increasing in number of columns, or in max depth as in case of logistic and trees."
   ]
  },
  {
   "cell_type": "markdown",
   "id": "022889ec-4192-4c6d-9a80-07a261155316",
   "metadata": {},
   "source": [
    "In logistic regression and decision trees, as we add more columns or increase the tree depth, we're essentially making the model more complex. A more complex model can capture more patterns in the data, which can improve accuracy on the training set. However, this also makes the model more prone to overfitting, which can harm its performance on the validation set.\n",
    "\n",
    "In k-NN, as we increase k, we're essentially making the model less complex. A k-NN model with a small k value is highly sensitive to noise in the training data, since it only considers the nearest few points. As we increase k, the model becomes more robust to noise, but it also becomes less sensitive to useful patterns in the data. This is why training accuracy tends to decrease as k increases.\n",
    "\n",
    "For the optimal k, it will typically be a balance between overfitting (choosing too small a k) and underfitting (choosing too large a k). This balance will be reflected in the validation accuracy, which should peak at the optimal k."
   ]
  }
 ],
 "metadata": {
  "kernelspec": {
   "display_name": "Python 3 (ipykernel)",
   "language": "python",
   "name": "python3"
  },
  "language_info": {
   "codemirror_mode": {
    "name": "ipython",
    "version": 3
   },
   "file_extension": ".py",
   "mimetype": "text/x-python",
   "name": "python",
   "nbconvert_exporter": "python",
   "pygments_lexer": "ipython3",
   "version": "3.9.7"
  }
 },
 "nbformat": 4,
 "nbformat_minor": 5
}
