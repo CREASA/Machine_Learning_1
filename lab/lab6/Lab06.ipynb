{
 "cells": [
  {
   "cell_type": "markdown",
   "id": "f35269ab-c809-4346-87ee-a371cd884db0",
   "metadata": {},
   "source": [
    "# Lab 06"
   ]
  },
  {
   "cell_type": "markdown",
   "id": "570fe072-db74-40cf-981d-881e0ce1a5d0",
   "metadata": {},
   "source": [
    "## Xinyu Chang"
   ]
  },
  {
   "cell_type": "code",
   "execution_count": 2,
   "id": "55e4af06-3854-4dba-87cb-8f751d287d12",
   "metadata": {},
   "outputs": [],
   "source": [
    "# import the packages\n",
    "import pandas as pd\n",
    "import numpy as np\n",
    "import matplotlib.pyplot as plt\n",
    "import statsmodels.formula.api as smf"
   ]
  },
  {
   "cell_type": "markdown",
   "id": "72f4850b-d0f9-4f3a-b147-edd7b28ea3b9",
   "metadata": {},
   "source": [
    "### 1 Logistic Regression"
   ]
  },
  {
   "cell_type": "markdown",
   "id": "049740fc-e3a9-4770-bff7-4b0ad084bb86",
   "metadata": {},
   "source": [
    "#### 1. load file titanic.csv, and do quick sanity checks. Note that age has ∼ 260 missing observations, the other relevant variables are pretty good."
   ]
  },
  {
   "cell_type": "code",
   "execution_count": 3,
   "id": "9303e85d-b609-46df-a28f-13c3a56d441b",
   "metadata": {},
   "outputs": [
    {
     "data": {
      "text/html": [
       "<div>\n",
       "<style scoped>\n",
       "    .dataframe tbody tr th:only-of-type {\n",
       "        vertical-align: middle;\n",
       "    }\n",
       "\n",
       "    .dataframe tbody tr th {\n",
       "        vertical-align: top;\n",
       "    }\n",
       "\n",
       "    .dataframe thead th {\n",
       "        text-align: right;\n",
       "    }\n",
       "</style>\n",
       "<table border=\"1\" class=\"dataframe\">\n",
       "  <thead>\n",
       "    <tr style=\"text-align: right;\">\n",
       "      <th></th>\n",
       "      <th>pclass</th>\n",
       "      <th>survived</th>\n",
       "      <th>name</th>\n",
       "      <th>sex</th>\n",
       "      <th>age</th>\n",
       "      <th>sibsp</th>\n",
       "      <th>parch</th>\n",
       "      <th>ticket</th>\n",
       "      <th>fare</th>\n",
       "      <th>cabin</th>\n",
       "      <th>embarked</th>\n",
       "      <th>boat</th>\n",
       "      <th>body</th>\n",
       "      <th>home.dest</th>\n",
       "    </tr>\n",
       "  </thead>\n",
       "  <tbody>\n",
       "    <tr>\n",
       "      <th>0</th>\n",
       "      <td>1</td>\n",
       "      <td>1</td>\n",
       "      <td>Allen, Miss. Elisabeth Walton</td>\n",
       "      <td>female</td>\n",
       "      <td>29.0000</td>\n",
       "      <td>0</td>\n",
       "      <td>0</td>\n",
       "      <td>24160</td>\n",
       "      <td>211.3375</td>\n",
       "      <td>B5</td>\n",
       "      <td>S</td>\n",
       "      <td>2</td>\n",
       "      <td>NaN</td>\n",
       "      <td>St Louis, MO</td>\n",
       "    </tr>\n",
       "    <tr>\n",
       "      <th>1</th>\n",
       "      <td>1</td>\n",
       "      <td>1</td>\n",
       "      <td>Allison, Master. Hudson Trevor</td>\n",
       "      <td>male</td>\n",
       "      <td>0.9167</td>\n",
       "      <td>1</td>\n",
       "      <td>2</td>\n",
       "      <td>113781</td>\n",
       "      <td>151.5500</td>\n",
       "      <td>C22 C26</td>\n",
       "      <td>S</td>\n",
       "      <td>11</td>\n",
       "      <td>NaN</td>\n",
       "      <td>Montreal, PQ / Chesterville, ON</td>\n",
       "    </tr>\n",
       "    <tr>\n",
       "      <th>2</th>\n",
       "      <td>1</td>\n",
       "      <td>0</td>\n",
       "      <td>Allison, Miss. Helen Loraine</td>\n",
       "      <td>female</td>\n",
       "      <td>2.0000</td>\n",
       "      <td>1</td>\n",
       "      <td>2</td>\n",
       "      <td>113781</td>\n",
       "      <td>151.5500</td>\n",
       "      <td>C22 C26</td>\n",
       "      <td>S</td>\n",
       "      <td>NaN</td>\n",
       "      <td>NaN</td>\n",
       "      <td>Montreal, PQ / Chesterville, ON</td>\n",
       "    </tr>\n",
       "    <tr>\n",
       "      <th>3</th>\n",
       "      <td>1</td>\n",
       "      <td>0</td>\n",
       "      <td>Allison, Mr. Hudson Joshua Creighton</td>\n",
       "      <td>male</td>\n",
       "      <td>30.0000</td>\n",
       "      <td>1</td>\n",
       "      <td>2</td>\n",
       "      <td>113781</td>\n",
       "      <td>151.5500</td>\n",
       "      <td>C22 C26</td>\n",
       "      <td>S</td>\n",
       "      <td>NaN</td>\n",
       "      <td>135.0</td>\n",
       "      <td>Montreal, PQ / Chesterville, ON</td>\n",
       "    </tr>\n",
       "    <tr>\n",
       "      <th>4</th>\n",
       "      <td>1</td>\n",
       "      <td>0</td>\n",
       "      <td>Allison, Mrs. Hudson J C (Bessie Waldo Daniels)</td>\n",
       "      <td>female</td>\n",
       "      <td>25.0000</td>\n",
       "      <td>1</td>\n",
       "      <td>2</td>\n",
       "      <td>113781</td>\n",
       "      <td>151.5500</td>\n",
       "      <td>C22 C26</td>\n",
       "      <td>S</td>\n",
       "      <td>NaN</td>\n",
       "      <td>NaN</td>\n",
       "      <td>Montreal, PQ / Chesterville, ON</td>\n",
       "    </tr>\n",
       "  </tbody>\n",
       "</table>\n",
       "</div>"
      ],
      "text/plain": [
       "   pclass  survived                                             name     sex  \\\n",
       "0       1         1                    Allen, Miss. Elisabeth Walton  female   \n",
       "1       1         1                   Allison, Master. Hudson Trevor    male   \n",
       "2       1         0                     Allison, Miss. Helen Loraine  female   \n",
       "3       1         0             Allison, Mr. Hudson Joshua Creighton    male   \n",
       "4       1         0  Allison, Mrs. Hudson J C (Bessie Waldo Daniels)  female   \n",
       "\n",
       "       age  sibsp  parch  ticket      fare    cabin embarked boat   body  \\\n",
       "0  29.0000      0      0   24160  211.3375       B5        S    2    NaN   \n",
       "1   0.9167      1      2  113781  151.5500  C22 C26        S   11    NaN   \n",
       "2   2.0000      1      2  113781  151.5500  C22 C26        S  NaN    NaN   \n",
       "3  30.0000      1      2  113781  151.5500  C22 C26        S  NaN  135.0   \n",
       "4  25.0000      1      2  113781  151.5500  C22 C26        S  NaN    NaN   \n",
       "\n",
       "                         home.dest  \n",
       "0                     St Louis, MO  \n",
       "1  Montreal, PQ / Chesterville, ON  \n",
       "2  Montreal, PQ / Chesterville, ON  \n",
       "3  Montreal, PQ / Chesterville, ON  \n",
       "4  Montreal, PQ / Chesterville, ON  "
      ]
     },
     "execution_count": 3,
     "metadata": {},
     "output_type": "execute_result"
    }
   ],
   "source": [
    "titanic = pd.read_csv(\"titanic.csv\", sep=\",\")\n",
    "titanic.head()"
   ]
  },
  {
   "cell_type": "code",
   "execution_count": 4,
   "id": "59b79ae0-d8cc-4406-874c-e5766c4325cd",
   "metadata": {},
   "outputs": [
    {
     "data": {
      "text/plain": [
       "(1309, 14)"
      ]
     },
     "execution_count": 4,
     "metadata": {},
     "output_type": "execute_result"
    }
   ],
   "source": [
    "titanic.shape"
   ]
  },
  {
   "cell_type": "code",
   "execution_count": 5,
   "id": "be34dfcf-6ac8-4f12-a54b-d5f24c10d122",
   "metadata": {},
   "outputs": [
    {
     "data": {
      "text/plain": [
       "pclass          0\n",
       "survived        0\n",
       "name            0\n",
       "sex             0\n",
       "age           263\n",
       "sibsp           0\n",
       "parch           0\n",
       "ticket          0\n",
       "fare            1\n",
       "cabin        1014\n",
       "embarked        2\n",
       "boat          823\n",
       "body         1188\n",
       "home.dest     564\n",
       "dtype: int64"
      ]
     },
     "execution_count": 5,
     "metadata": {},
     "output_type": "execute_result"
    }
   ],
   "source": [
    "titanic.isna().sum()"
   ]
  },
  {
   "cell_type": "markdown",
   "id": "176d838a-2b4e-4112-bdfc-67636aa7635e",
   "metadata": {},
   "source": [
    "There are 1309 rows and 14 columns in the dataset. The first 5 lines of data look reasonable and the data fits the type that the column defines. However, there are some missing values for the age, cabin, boat, body, and home.dest."
   ]
  },
  {
   "cell_type": "markdown",
   "id": "ca30e802-fb3a-4d7b-aac1-0ee6e25439ed",
   "metadata": {},
   "source": [
    "#### 2. Based on the survivors’ accounts, described above, which variables do you think are the most important ones to describe titanic survival?"
   ]
  },
  {
   "cell_type": "markdown",
   "id": "9d67c087-0786-4778-aa97-369abcb4640b",
   "metadata": {},
   "source": [
    "Based on survivors' accounts and general understanding of the event, the most important variables could be: pclass, sex, age."
   ]
  },
  {
   "cell_type": "markdown",
   "id": "8d360a26-6f8c-49fb-836a-97510cfb33b5",
   "metadata": {},
   "source": [
    "#### 3. Create a new dummy variable child, that is 1 if the passenger was youger than 14 and 0 otherwise"
   ]
  },
  {
   "cell_type": "code",
   "execution_count": 6,
   "id": "e35169a2-d262-4ef7-b927-07f94d43e508",
   "metadata": {},
   "outputs": [],
   "source": [
    "titanic['child'] = (titanic['age'] < 14).astype(int)"
   ]
  },
  {
   "cell_type": "markdown",
   "id": "00b08db5-4ae7-4420-813e-bacfe8fa2b04",
   "metadata": {},
   "source": [
    "#### 4. Estimate a multiple logistic regression model where you explain survival by these variables.Remember: pclass should be treated as categorical! Wrap it into C()"
   ]
  },
  {
   "cell_type": "code",
   "execution_count": 7,
   "id": "fd2c1fe8-6df1-4929-b882-032472db7ca2",
   "metadata": {},
   "outputs": [
    {
     "name": "stdout",
     "output_type": "stream",
     "text": [
      "Optimization terminated successfully.\n",
      "         Current function value: 0.468021\n",
      "         Iterations 6\n"
     ]
    },
    {
     "data": {
      "text/html": [
       "<table class=\"simpletable\">\n",
       "<caption>Logit Regression Results</caption>\n",
       "<tr>\n",
       "  <th>Dep. Variable:</th>       <td>survived</td>     <th>  No. Observations:  </th>  <td>  1046</td>  \n",
       "</tr>\n",
       "<tr>\n",
       "  <th>Model:</th>                 <td>Logit</td>      <th>  Df Residuals:      </th>  <td>  1040</td>  \n",
       "</tr>\n",
       "<tr>\n",
       "  <th>Method:</th>                 <td>MLE</td>       <th>  Df Model:          </th>  <td>     5</td>  \n",
       "</tr>\n",
       "<tr>\n",
       "  <th>Date:</th>            <td>Tue, 09 May 2023</td> <th>  Pseudo R-squ.:     </th>  <td>0.3079</td>  \n",
       "</tr>\n",
       "<tr>\n",
       "  <th>Time:</th>                <td>00:42:04</td>     <th>  Log-Likelihood:    </th> <td> -489.55</td> \n",
       "</tr>\n",
       "<tr>\n",
       "  <th>converged:</th>             <td>True</td>       <th>  LL-Null:           </th> <td> -707.31</td> \n",
       "</tr>\n",
       "<tr>\n",
       "  <th>Covariance Type:</th>     <td>nonrobust</td>    <th>  LLR p-value:       </th> <td>6.522e-92</td>\n",
       "</tr>\n",
       "</table>\n",
       "<table class=\"simpletable\">\n",
       "<tr>\n",
       "         <td></td>           <th>coef</th>     <th>std err</th>      <th>z</th>      <th>P>|z|</th>  <th>[0.025</th>    <th>0.975]</th>  \n",
       "</tr>\n",
       "<tr>\n",
       "  <th>Intercept</th>      <td>    3.1956</td> <td>    0.367</td> <td>    8.709</td> <td> 0.000</td> <td>    2.476</td> <td>    3.915</td>\n",
       "</tr>\n",
       "<tr>\n",
       "  <th>C(pclass)[T.2]</th> <td>   -1.2295</td> <td>    0.226</td> <td>   -5.437</td> <td> 0.000</td> <td>   -1.673</td> <td>   -0.786</td>\n",
       "</tr>\n",
       "<tr>\n",
       "  <th>C(pclass)[T.3]</th> <td>   -2.2406</td> <td>    0.226</td> <td>   -9.904</td> <td> 0.000</td> <td>   -2.684</td> <td>   -1.797</td>\n",
       "</tr>\n",
       "<tr>\n",
       "  <th>sex[T.male]</th>    <td>   -2.5016</td> <td>    0.167</td> <td>  -15.014</td> <td> 0.000</td> <td>   -2.828</td> <td>   -2.175</td>\n",
       "</tr>\n",
       "<tr>\n",
       "  <th>age</th>            <td>   -0.0266</td> <td>    0.008</td> <td>   -3.521</td> <td> 0.000</td> <td>   -0.041</td> <td>   -0.012</td>\n",
       "</tr>\n",
       "<tr>\n",
       "  <th>child</th>          <td>    0.5858</td> <td>    0.320</td> <td>    1.828</td> <td> 0.068</td> <td>   -0.042</td> <td>    1.214</td>\n",
       "</tr>\n",
       "</table>"
      ],
      "text/plain": [
       "<class 'statsmodels.iolib.summary.Summary'>\n",
       "\"\"\"\n",
       "                           Logit Regression Results                           \n",
       "==============================================================================\n",
       "Dep. Variable:               survived   No. Observations:                 1046\n",
       "Model:                          Logit   Df Residuals:                     1040\n",
       "Method:                           MLE   Df Model:                            5\n",
       "Date:                Tue, 09 May 2023   Pseudo R-squ.:                  0.3079\n",
       "Time:                        00:42:04   Log-Likelihood:                -489.55\n",
       "converged:                       True   LL-Null:                       -707.31\n",
       "Covariance Type:            nonrobust   LLR p-value:                 6.522e-92\n",
       "==================================================================================\n",
       "                     coef    std err          z      P>|z|      [0.025      0.975]\n",
       "----------------------------------------------------------------------------------\n",
       "Intercept          3.1956      0.367      8.709      0.000       2.476       3.915\n",
       "C(pclass)[T.2]    -1.2295      0.226     -5.437      0.000      -1.673      -0.786\n",
       "C(pclass)[T.3]    -2.2406      0.226     -9.904      0.000      -2.684      -1.797\n",
       "sex[T.male]       -2.5016      0.167    -15.014      0.000      -2.828      -2.175\n",
       "age               -0.0266      0.008     -3.521      0.000      -0.041      -0.012\n",
       "child              0.5858      0.320      1.828      0.068      -0.042       1.214\n",
       "==================================================================================\n",
       "\"\"\""
      ]
     },
     "execution_count": 7,
     "metadata": {},
     "output_type": "execute_result"
    }
   ],
   "source": [
    "m = smf.logit('survived ~ C(pclass) + sex + age + child', data=titanic).fit()\n",
    "m.summary()"
   ]
  },
  {
   "cell_type": "markdown",
   "id": "f93c28af-3e59-46ae-9c4a-603c1bf7bc3c",
   "metadata": {},
   "source": [
    "(1)Pclass: The coefficients for C(pclass)[T.2] (-1.2295) and C(pclass)[T.3] (-2.2406) represent the difference in log-odds of survival for passengers in class 2 and class 3, respectively, compared to the reference class (class 1). Both coefficients are negative, indicating that passengers in class 2 and class 3 had lower chances of survival than those in class 1. The effect is stronger for class 3 passengers, as its coefficient is more negative.\n",
    "\n",
    "(2)Sex: The coefficient for sex[T.male] (-2.5016) indicates that the log-odds of survival for males were lower than for females (reference category). This negative coefficient suggests that men had lower chances of survival compared to women.\n",
    "\n",
    "(3)Age: The coefficient for age (-0.0266) shows that the log-odds of survival decrease as age increases. This negative coefficient implies that older passengers had lower chances of survival compared to younger passengers.\n",
    "\n",
    "(4)Child: The coefficient for child (0.5858) represents the difference in log-odds of survival for children (age < 18) compared to non-children (reference category). The coefficient is positive but not statistically significant at the 0.05 level (p-value = 0.068), suggesting that there may not be a strong relationship between being a child and survival chances."
   ]
  },
  {
   "cell_type": "markdown",
   "id": "7ed019dc-e80d-4d3c-ad88-de09cdb7a024",
   "metadata": {},
   "source": [
    "#### 5. Interpret the results. Did men or women, old or young have larger chances to survive？"
   ]
  },
  {
   "cell_type": "code",
   "execution_count": 8,
   "id": "eaa2f3bd-9f1f-49be-bc06-9bd5d9676e21",
   "metadata": {},
   "outputs": [
    {
     "data": {
      "text/html": [
       "<table class=\"simpletable\">\n",
       "<caption>Logit Marginal Effects</caption>\n",
       "<tr>\n",
       "  <th>Dep. Variable:</th> <td>survived</td>\n",
       "</tr>\n",
       "<tr>\n",
       "  <th>Method:</th>          <td>dydx</td>  \n",
       "</tr>\n",
       "<tr>\n",
       "  <th>At:</th>             <td>overall</td>\n",
       "</tr>\n",
       "</table>\n",
       "<table class=\"simpletable\">\n",
       "<tr>\n",
       "         <th></th>           <th>dy/dx</th>    <th>std err</th>      <th>z</th>      <th>P>|z|</th>  <th>[0.025</th>    <th>0.975]</th>  \n",
       "</tr>\n",
       "<tr>\n",
       "  <th>C(pclass)[T.2]</th> <td>   -0.1855</td> <td>    0.033</td> <td>   -5.679</td> <td> 0.000</td> <td>   -0.250</td> <td>   -0.121</td>\n",
       "</tr>\n",
       "<tr>\n",
       "  <th>C(pclass)[T.3]</th> <td>   -0.3380</td> <td>    0.029</td> <td>  -11.560</td> <td> 0.000</td> <td>   -0.395</td> <td>   -0.281</td>\n",
       "</tr>\n",
       "<tr>\n",
       "  <th>sex[T.male]</th>    <td>   -0.3774</td> <td>    0.013</td> <td>  -29.342</td> <td> 0.000</td> <td>   -0.403</td> <td>   -0.352</td>\n",
       "</tr>\n",
       "<tr>\n",
       "  <th>age</th>            <td>   -0.0040</td> <td>    0.001</td> <td>   -3.586</td> <td> 0.000</td> <td>   -0.006</td> <td>   -0.002</td>\n",
       "</tr>\n",
       "<tr>\n",
       "  <th>child</th>          <td>    0.0884</td> <td>    0.048</td> <td>    1.836</td> <td> 0.066</td> <td>   -0.006</td> <td>    0.183</td>\n",
       "</tr>\n",
       "</table>"
      ],
      "text/plain": [
       "<class 'statsmodels.iolib.summary.Summary'>\n",
       "\"\"\"\n",
       "        Logit Marginal Effects       \n",
       "=====================================\n",
       "Dep. Variable:               survived\n",
       "Method:                          dydx\n",
       "At:                           overall\n",
       "==================================================================================\n",
       "                    dy/dx    std err          z      P>|z|      [0.025      0.975]\n",
       "----------------------------------------------------------------------------------\n",
       "C(pclass)[T.2]    -0.1855      0.033     -5.679      0.000      -0.250      -0.121\n",
       "C(pclass)[T.3]    -0.3380      0.029    -11.560      0.000      -0.395      -0.281\n",
       "sex[T.male]       -0.3774      0.013    -29.342      0.000      -0.403      -0.352\n",
       "age               -0.0040      0.001     -3.586      0.000      -0.006      -0.002\n",
       "child              0.0884      0.048      1.836      0.066      -0.006       0.183\n",
       "==================================================================================\n",
       "\"\"\""
      ]
     },
     "execution_count": 8,
     "metadata": {},
     "output_type": "execute_result"
    }
   ],
   "source": [
    "m.get_margeff().summary()"
   ]
  },
  {
   "cell_type": "markdown",
   "id": "c5fc0427-53f6-46ae-92eb-4f392d4a5674",
   "metadata": {},
   "source": [
    "In conclusion, based on the logistic regression results, women had larger chances of survival compared to men, and younger passengers had larger chances of survival compared to older passengers. Passengers in higher classes (class 1) also had better chances of survival than those in lower classes (classes 2 and 3). The relationship between being a child and survival chances is not statistically significant at the 0.05 level.\n",
    "\n",
    "C(pclass)[T.2]: This represents the marginal effect of being in passenger class 2 (second class) compared to the reference category (passenger class 1). A negative effect (-0.1855) indicates that being in the second class reduces the probability of survival by 18.55% pt compared to first class, holding all other variables constant. This effect is statistically significant at the 0.1% level (p-value < 0.001).\n",
    "\n",
    "C(pclass)[T.3]: This represents the marginal effect of being in passenger class 3 (third class) compared to the reference category (passenger class 1). A negative effect (-0.3380) indicates that being in the third class reduces the probability of survival by 33.80% pt compared to first class, holding all other variables constant. This effect is statistically significant at the 0.1% level (p-value < 0.001).\n",
    "\n",
    "sex[T.male]: This represents the marginal effect of being male compared to the reference category (female). A negative effect (-0.3774) indicates that being male reduces the probability of survival by 37.74% pt compared to being female, holding all other variables constant. This effect is statistically significant at the 0.1% level (p-value < 0.001).\n",
    "\n",
    "age: This represents the marginal effect of age on the probability of survival. A negative effect (-0.0040) indicates that a one-year increase in age reduces the probability of survival by 0.40% pt, holding all other variables constant. This effect is statistically significant at the 0.1% level (p-value < 0.001).\n",
    "\n",
    "child: This represents the marginal effect of being a child on the probability of survival. A positive effect (0.0884) indicates that being a child increases the probability of survival by 8.84% compared to not being a child, holding all other variables constant. However, this effect is not statistically significant at the 5% level (p-value = 0.066), but it is significant at the 10% level."
   ]
  },
  {
   "cell_type": "markdown",
   "id": "fc14d209-f858-49e7-ba61-0d65c198db87",
   "metadata": {},
   "source": [
    "#### 6. Based on the results above, explain what can you tell about the last hours on Titanic. Are the survivors’ accounts broadly accurate? Did the order break down? Can you find anything else interesting?"
   ]
  },
  {
   "cell_type": "markdown",
   "id": "ebdb3dc8-24a6-4f86-92ae-7dd573041464",
   "metadata": {},
   "source": [
    "While it is not possible to reconstruct the exact events of the last hours on the Titanic based solely on the logistic regression results, we can infer some general patterns that are in line with the survivors' accounts and historical records.\n",
    "\n",
    "(1)Women and children first: The logistic regression results show that women had higher chances of survival compared to men. This is consistent with the widely reported policy of \"women and children first\" during the evacuation. However, the results regarding children are not statistically significant, which may suggest that the policy may not have been implemented consistently across all passengers.\n",
    "\n",
    "(2)Socio-economic status: The results show that passengers in higher classes (class 1) had better chances of survival than those in lower classes (classes 2 and 3). This could indicate that there was a certain level of social stratification during the evacuation, where wealthier passengers were given priority or had easier access to lifeboats.\n",
    "\n",
    "(3)Age factor: The analysis indicates that younger passengers had higher chances of survival compared to older passengers. This could be due to a variety of reasons, including younger individuals being more physically able to reach lifeboats or withstand the harsh conditions after the sinking.\n",
    "\n",
    "(4)Order and breakdown: The results do not directly address whether the order broke down during the last hours on the Titanic. However, the fact that certain groups (e.g., women and passengers in higher classes) had higher survival chances might suggest that there was some level of organization during the evacuation process."
   ]
  }
 ],
 "metadata": {
  "kernelspec": {
   "display_name": "Python 3 (ipykernel)",
   "language": "python",
   "name": "python3"
  },
  "language_info": {
   "codemirror_mode": {
    "name": "ipython",
    "version": 3
   },
   "file_extension": ".py",
   "mimetype": "text/x-python",
   "name": "python",
   "nbconvert_exporter": "python",
   "pygments_lexer": "ipython3",
   "version": "3.9.7"
  }
 },
 "nbformat": 4,
 "nbformat_minor": 5
}
