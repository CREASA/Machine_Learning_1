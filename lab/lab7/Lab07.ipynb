{
 "cells": [
  {
   "cell_type": "markdown",
   "id": "587adf80-d642-41b6-87a6-5d2e64ea1e9f",
   "metadata": {},
   "source": [
    "# Lab 07"
   ]
  },
  {
   "cell_type": "markdown",
   "id": "bedf19a0-2462-4616-b268-23661367bf38",
   "metadata": {},
   "source": [
    "## Name: Xinyu Chang"
   ]
  },
  {
   "cell_type": "markdown",
   "id": "c5ac8496-1358-4eee-a970-5f1414c81c5d",
   "metadata": {},
   "source": [
    "---"
   ]
  },
  {
   "cell_type": "markdown",
   "id": "87ac7d74-7472-4133-9bfd-c6018d7c96df",
   "metadata": {},
   "source": [
    "## 1 Confusion Matrix"
   ]
  },
  {
   "cell_type": "markdown",
   "id": "1fb378a5-925b-4de9-8439-7bf27bed1a24",
   "metadata": {},
   "source": [
    "### 1.1 Poisonous mushrooms"
   ]
  },
  {
   "cell_type": "markdown",
   "id": "4c9ddfc0-d6ce-471b-a92a-30003efb99ea",
   "metadata": {},
   "source": [
    "#### You get an internship at the mycology department. You are designing an image recognition app for prof. Joffe to distinguish between poisonous (P) and edible (E) mushrooms.You design two models: M1 and M2. The performance on test data is in Table 1, left panel.Let’s consider edible as positive."
   ]
  },
  {
   "cell_type": "markdown",
   "id": "7fae60da-14ad-4e2b-b26b-9aeebf91941f",
   "metadata": {},
   "source": [
    "#### 1. Show the confusion matrices for models M1 and M2."
   ]
  },
  {
   "cell_type": "markdown",
   "id": "f20b6e44-8485-4944-81cc-89fff425018d",
   "metadata": {},
   "source": [
    "#### M1"
   ]
  },
  {
   "cell_type": "markdown",
   "id": "ca7dc040-a93d-4a2c-a30d-fa74b01fea23",
   "metadata": {},
   "source": [
    "| | **Predicted** | |\n",
    "| -------- | ------------: | ------:|\n",
    "|| Poisonous | Edible |\n",
    "| Actual Poisonous | 3 | 0 |\n",
    "| Actual Edible | 3 | 4 |"
   ]
  },
  {
   "cell_type": "markdown",
   "id": "d1906169-8367-409b-a0a4-4390f9a23895",
   "metadata": {},
   "source": [
    "#### M2"
   ]
  },
  {
   "cell_type": "markdown",
   "id": "1719b764-8467-4603-8954-294fa786117f",
   "metadata": {},
   "source": [
    "| | **Predicted** | |\n",
    "| -------- | ------------: | ------:|\n",
    "|| Poisonous | Edible |\n",
    "| Actual Poisonous |2  | 1 |\n",
    "| Actual Edible | 0 | 7 |"
   ]
  },
  {
   "cell_type": "markdown",
   "id": "8458055a-2820-4180-b2fe-c5492c57eb5c",
   "metadata": {},
   "source": [
    "#### 2. Compute accuracy, precision, recall for both models."
   ]
  },
  {
   "cell_type": "markdown",
   "id": "3e824dc6-2b37-4b26-999d-689d7f11490c",
   "metadata": {},
   "source": [
    "accuracy_M1 = (TP + TN) / T = (3 + 4) / (3 + 0 + 3 + 4) = 7 / 10 = 0.7  \n",
    "precision_M1 = TP / (TP + FP) =  4 / (4 + 0) = 1  \n",
    "recall_M1 = TP / (TP + FN) = 4 / (4 + 3) = 0.57  \n",
    "\n",
    "accuracy_M2 = (TP + TN) / T = (2 + 7) / (2 + 1 + 0 + 7) = 9 / 10 = 0.9  \n",
    "precision_M2 = TP / (TP + FP) =  7 / (7 + 1) = 0.88  \n",
    "recall_M2 = TP / (TP + FN) = 7 / (7 + 0) = 1  "
   ]
  },
  {
   "cell_type": "markdown",
   "id": "fe98c5e8-f7f1-4f66-986c-f1cdbef9313d",
   "metadata": {},
   "source": [
    "#### 3. Prof. Joffe wants to get the app out tomorrow. Which model, M1 or M2 will you recommend him to use? Explain your reasoning!Remember: prof Joffe is a mycologist who knows nothing about coding and data science. Explain it in a way that he can understand!"
   ]
  },
  {
   "cell_type": "markdown",
   "id": "9078a0f9-232e-4b8c-b464-7cf5dd7e02f0",
   "metadata": {},
   "source": [
    "I think choose Model 1 is better. For this question, we need to consider about the situation of the Type 1 Errors(false Edible in this question).The cost or risk of a Type 1 error is really high in this problem (for instance, if incorrectly identifying something as edible but they are actually poisonous), then it would be sensible to choose a model that minimizes the chance of such errors.For Model 1, the false Edible value is 0 means that all the cases predict as edible are all edible in the reality and the false Edible number of that in M2 is 1 means that all the cases predict as edible are not all edible in the reality but contains one poisonous mushroom.It contains some poisonous cases that we didn't identify. So we have to choose the M1 model."
   ]
  },
  {
   "cell_type": "markdown",
   "id": "2a72a7b1-5e15-48e1-ae0c-8c84608f4f66",
   "metadata": {},
   "source": [
    "### 1.2 Defendants"
   ]
  },
  {
   "cell_type": "markdown",
   "id": "682eec7a-7263-4652-905c-a4afb6d53c0f",
   "metadata": {},
   "source": [
    "#### Afterwards you get a summer job in King County Superior Court. Sheriff Patti ColeTindall wants you to develop an ML algorithm that classifies the defendants as guilty (G) or innocent (I) based on accessible evidence. Although the final decision is done by the judge, your results will weight heavily in that decision. You devise two models, M3 and M4. The test run results are in Table 1, right panel. Let’s consider innocent as positive."
   ]
  },
  {
   "cell_type": "markdown",
   "id": "823a89b6-01f0-4c6a-bec1-053986de80aa",
   "metadata": {},
   "source": [
    "#### 1. Show the confusion matrices for M3 and M4"
   ]
  },
  {
   "cell_type": "markdown",
   "id": "e98962da-84bc-4660-934f-32d44763ea52",
   "metadata": {},
   "source": [
    "#### M3"
   ]
  },
  {
   "cell_type": "markdown",
   "id": "c79dc5ff-6cf7-4a22-9ef4-69eb336839c9",
   "metadata": {},
   "source": [
    "| | **Predicted** | |\n",
    "| -------- | ------------: | ------:|\n",
    "|| Guilty | Innocent |\n",
    "| Actual Guilty | 4 | 1 |\n",
    "| Actual Innocent | 2 | 3 |"
   ]
  },
  {
   "cell_type": "markdown",
   "id": "f640a3aa-c377-462a-b7cb-157e6ab98940",
   "metadata": {},
   "source": [
    "#### M4"
   ]
  },
  {
   "cell_type": "markdown",
   "id": "f85c2f36-b5cc-4e7f-917a-f0f141ccf649",
   "metadata": {},
   "source": [
    "| | **Predicted** | |\n",
    "| -------- | ------------: | ------:|\n",
    "|| Guilty | Innocent |\n",
    "| Actual Guilty | 2 | 3 |\n",
    "| Actual Innocent | 0 | 5 |"
   ]
  },
  {
   "cell_type": "markdown",
   "id": "e4acb40e-512c-4fbc-8e95-450a1d0075e2",
   "metadata": {},
   "source": [
    "#### 2. Compute the accuracy, precision, recall for both models"
   ]
  },
  {
   "cell_type": "markdown",
   "id": "27999f4b-faad-418a-b842-c77e60ca4e07",
   "metadata": {},
   "source": [
    "accuracy_M3 = (TP + TN) / T = (4 + 3) / (4 + 1 + 2 + 3) = 7 / 10 = 0.7    \n",
    "precision_M3 = TP / (TP + FP) =  3 / (3 + 1) = 0.75  \n",
    "recall_M3 = TP / (TP + FN) = 3 / (3 + 2) = 0.6  \n",
    "\n",
    "accuracy_M4 = (TP + TN) / T = (2 + 5) / (2 + 3 + 0 + 5) = 7 / 10 = 0.7     \n",
    "precision_M4 = TP / (TP + FP) = 5 / (5 + 3) = 0.625  \n",
    "recall_M4 = TP / (TP + FN) = 5 / (5 + 0) = 1 "
   ]
  },
  {
   "cell_type": "markdown",
   "id": "b90cc3b4-34c3-4051-89a5-16e1e8cb766b",
   "metadata": {},
   "source": [
    "#### 3. Cole-Tindall wants to commission the AI system tomorrow. Which model would you recommend her to use? Explain your reasoning! Be aware that Cole-Tindall is a policewoman who knows nothing about data science and coding. Explain it in a way that she can understand!"
   ]
  },
  {
   "cell_type": "markdown",
   "id": "9690cd46-c53b-4478-b639-9045c09fc1bd",
   "metadata": {},
   "source": [
    "As a policewoman, Cole-Tindall would likely want to minimize the chance of wrongly accusing innocent people (false positives). This is important for justice and community trust. Model M4 didn't wrongly accuse any innocent individuals, so it would be a better choice for this reason.However, M4 also wrongly identified 3 guilty individuals as innocent (false negatives). This means some guilty people might go free. In contrast, M1 only wrongly identified 1 guilty person as innocent.So, the decision between M3 and M4 depends on which type of mistake is considered worse: accusing innocent people or letting guilty ones go free.If the primary goal is to avoid accusing innocent people at all costs, then M4 is better because it didn't make any such mistakes. But if the aim is to catch as many guilty people as possible, even if it means sometimes accusing innocent people, then M3 might be a better choice."
   ]
  },
  {
   "cell_type": "markdown",
   "id": "aa8ff47e-115d-4d8e-8e39-b617a7aab56b",
   "metadata": {},
   "source": [
    "### 1.3 Defendants again"
   ]
  },
  {
   "cell_type": "markdown",
   "id": "78c19d1b-bcf3-4947-92c1-681c8a3c9603",
   "metadata": {},
   "source": [
    "#### Now repeat the previous exercise, but this time take guilty as positive:"
   ]
  },
  {
   "cell_type": "markdown",
   "id": "f47d8ede-fdbf-4388-885c-7fd9a28c16b2",
   "metadata": {},
   "source": [
    "#### 1. Construct the corresponding confusion matrices"
   ]
  },
  {
   "cell_type": "markdown",
   "id": "299d53d6-bfdc-4947-96a2-d99aa3c6b206",
   "metadata": {},
   "source": [
    "#### M3"
   ]
  },
  {
   "cell_type": "markdown",
   "id": "d9b7116e-2c5a-4a16-a47d-5347778abb26",
   "metadata": {},
   "source": [
    "| | **Predicted** | |\n",
    "| -------- | ------------: | ------:|\n",
    "|| Innocent | Guilty  |\n",
    "| Actual Innocent | 3 | 2 |\n",
    "| Actual Guilty  | 1 | 4 |"
   ]
  },
  {
   "cell_type": "markdown",
   "id": "3f2dfc10-8cd5-45fb-99ca-930005deb9c1",
   "metadata": {},
   "source": [
    "#### M4"
   ]
  },
  {
   "cell_type": "markdown",
   "id": "15a3075f-d3e4-48b7-a663-6b2a6e5fcf4c",
   "metadata": {},
   "source": [
    "| | **Predicted** | |\n",
    "| -------- | ------------: | ------:|\n",
    "|| Innocent | Guilty  |\n",
    "| Actual Innocent | 5 | 0 |\n",
    "| Actual Guilty  | 3 | 2 |"
   ]
  },
  {
   "cell_type": "markdown",
   "id": "5a059fae-25e7-4277-9b27-075e6df693c5",
   "metadata": {},
   "source": [
    "#### 2. Compute accuracy, precision, recall for both models"
   ]
  },
  {
   "cell_type": "markdown",
   "id": "d8d46f1f-8f4f-4cf0-b79a-a0bd29bf07c0",
   "metadata": {},
   "source": [
    "accuracy_M5 = (3 + 4) / (3 + 2 + 1 + 4) = 7 / 10 = 0.7  \n",
    "precision_M5 = 4 / (4 + 2) = 0.67  \n",
    "recall_M5 = 4 / (4 + 1) = 0.8  \n",
    "\n",
    "accuracy_M6 = (5 + 2) / (5 + 0 + 3 + 2) = 7 / 10 = 0.7   \n",
    "precision_M6 = 2 / (2 + 0) = 1    \n",
    "recall_M6 = 2 / (2 + 3) = 0.4"
   ]
  },
  {
   "cell_type": "markdown",
   "id": "5d149e68-68a8-4675-bae5-4a5390e3bc35",
   "metadata": {},
   "source": [
    "#### 3. Explain the differences between this and the previous approach: what difference does it make if you swap around which class is taken as positive?"
   ]
  },
  {
   "cell_type": "markdown",
   "id": "efcd948d-cc7b-421b-af93-25411c8c560c",
   "metadata": {},
   "source": [
    "Swapping the positive class doesn't change the model's performance, but it does change how we think about Type 1 and Type 2 errors. In this case, a Type 1 error now means that a guilty person is incorrectly identified as innocent, and a Type 2 error means that an innocent person is incorrectly identified as guilty. Notice that the models' true positive, false positive, true negative, and false negative rates remain the same when comparing them to each other. It's just that we're now looking at them from the perspective of identifying innocent people instead of identifying guilty people.The decision on which model to use will depend on the values and priorities of the police department. If minimizing the risk of falsely accusing innocent people is more important, M4 remains the better choice. If maximizing the number of correctly identified innocent people is more important, M3 may be preferred."
   ]
  }
 ],
 "metadata": {
  "kernelspec": {
   "display_name": "Python 3 (ipykernel)",
   "language": "python",
   "name": "python3"
  },
  "language_info": {
   "codemirror_mode": {
    "name": "ipython",
    "version": 3
   },
   "file_extension": ".py",
   "mimetype": "text/x-python",
   "name": "python",
   "nbconvert_exporter": "python",
   "pygments_lexer": "ipython3",
   "version": "3.9.7"
  }
 },
 "nbformat": 4,
 "nbformat_minor": 5
}
