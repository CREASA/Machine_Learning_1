{
 "cells": [
  {
   "cell_type": "markdown",
   "id": "006e8e6d-e348-42a3-a3d7-bcebc16507ef",
   "metadata": {},
   "source": [
    "# Lab 05"
   ]
  },
  {
   "cell_type": "markdown",
   "id": "e187895a-3ee4-4b85-bba5-6ac431acd7b3",
   "metadata": {},
   "source": [
    "### Name : Xinyu Chang"
   ]
  },
  {
   "cell_type": "code",
   "execution_count": 32,
   "id": "493ac0ad-44b6-4be5-995a-ea4c07086623",
   "metadata": {},
   "outputs": [],
   "source": [
    "import numpy as np\n",
    "import matplotlib.pyplot as plt"
   ]
  },
  {
   "cell_type": "markdown",
   "id": "1170aeeb-348d-471a-a2b7-bc2acd5cb57a",
   "metadata": {},
   "source": [
    "### Part 1"
   ]
  },
  {
   "cell_type": "markdown",
   "id": "a445294d-d333-42bc-b666-e877bde87c48",
   "metadata": {},
   "source": [
    "#### Q1 What is your H0–the claim about the world you want to test? Explain!"
   ]
  },
  {
   "cell_type": "markdown",
   "id": "776713fb-4fa6-4c26-b017-22ee785ea11c",
   "metadata": {},
   "source": [
    "The H0 (null hypothesis) in this case would be that the true proportion of voters who prefer the Greens is equal to 0.5, i.e., p = 0.5. The alternative hypothesis (Ha) would be that the true proportion of Greens voters is greater than 0.5, i.e., p > 0.5.Using a standard normal distribution table, we can find that the probability of observing a z-score of 1.52 or greater under the null hypothesis is approximately 0.064. This means that there is a 6.4% chance of obtaining a sample proportion of 0.53 or greater if the true proportion of Greens voters is actually 0.5.To be confident in our claim that the Greens are leading in the polls, we typically use a significance level of 0.05 (or 5%). This means that we reject the null hypothesis if the p-value (the probability of observing a result as extreme or more extreme than the sample result under the null hypothesis) is less than 0.05."
   ]
  },
  {
   "cell_type": "markdown",
   "id": "4d4e08e5-2ca4-4118-bb12-a5576c2b0acd",
   "metadata": {},
   "source": [
    "#### Q2 Choose the number of polls (repetitions R) you conduct."
   ]
  },
  {
   "cell_type": "code",
   "execution_count": 33,
   "id": "b749e65b-d409-4aed-b162-a3cbd8ed9ef5",
   "metadata": {},
   "outputs": [],
   "source": [
    "R = 1000"
   ]
  },
  {
   "cell_type": "markdown",
   "id": "2146e93b-e922-45f1-ba0d-5e4e63db13e4",
   "metadata": {},
   "source": [
    "#### Q3 Now conduct R polls of N respondents. Each respondent should be represented as 0 or 1, with 1 occuring with the probability 0.5 (your H0)."
   ]
  },
  {
   "cell_type": "code",
   "execution_count": 34,
   "id": "c1dcf648-fa42-4e5e-b765-c4b65766c9ec",
   "metadata": {},
   "outputs": [
    {
     "data": {
      "image/png": "[encoded data removed]",
      "text/plain": [
       "<Figure size 432x288 with 1 Axes>"
      ]
     },
     "metadata": {
      "needs_background": "light"
     },
     "output_type": "display_data"
    }
   ],
   "source": [
    "# Set the random seed for reproducibility\n",
    "np.random.seed(42)\n",
    "\n",
    "avgs = np.zeros(R)\n",
    "for i in range (R):\n",
    "    poll = np.random.binomial(1, 0.5, size = 1000)\n",
    "    avgs[i] = np.mean(poll)\n",
    "    \n",
    "_ = plt.hist(avgs, bins=30, edgecolor=\"k\")"
   ]
  },
  {
   "cell_type": "code",
   "execution_count": 35,
   "id": "50821756-7c7d-421a-9ef0-02f1132897a5",
   "metadata": {},
   "outputs": [
    {
     "data": {
      "text/plain": [
       "0.509"
      ]
     },
     "execution_count": 35,
     "metadata": {},
     "output_type": "execute_result"
    }
   ],
   "source": [
    "# Calculate the average value (proportion of respondents who prefer G) for each poll\n",
    "averages_1 = np.mean(poll)\n",
    "averages_1"
   ]
  },
  {
   "cell_type": "markdown",
   "id": "4b426201-958d-467a-a5d8-9e09b9214de4",
   "metadata": {},
   "source": [
    "The average value (proportion of respondents who prefer G) for each poll is 0.509."
   ]
  },
  {
   "cell_type": "markdown",
   "id": "57951f35-6f02-40e8-b882-05a7b13e81a8",
   "metadata": {},
   "source": [
    "#### Q4 Find the 95% CI of your means by computing 2.5-th and 97.5-th percentiles."
   ]
  },
  {
   "cell_type": "code",
   "execution_count": 36,
   "id": "cae18f20-0f64-4ffa-bb87-e6568e0e5ffc",
   "metadata": {},
   "outputs": [
    {
     "data": {
      "text/plain": [
       "array([0.466975, 0.531   ])"
      ]
     },
     "execution_count": 36,
     "metadata": {},
     "output_type": "execute_result"
    }
   ],
   "source": [
    "CI_1 = np.percentile(avgs, [2.5, 97.5])\n",
    "CI_1"
   ]
  },
  {
   "cell_type": "markdown",
   "id": "0fc341af-bacd-4e5d-9245-13b7c4e38615",
   "metadata": {},
   "source": [
    "#### Q5 Does your actual poll result (0.53) fall into the CI?"
   ]
  },
  {
   "cell_type": "markdown",
   "id": "5adb71aa-de03-4012-8597-760fe3d62e53",
   "metadata": {},
   "source": [
    "The confidence interval is [0.466975, 0.531] so I think the value of poll result (0.53) fall into the CI."
   ]
  },
  {
   "cell_type": "markdown",
   "id": "f5c45614-7412-47f4-93cf-55d195ac48eb",
   "metadata": {},
   "source": [
    "#### Q6 Based on the CI you computed answer the question: can you confidently (at 5% confidence level) say that Greens are leading in the polls?"
   ]
  },
  {
   "cell_type": "markdown",
   "id": "9fc113d9-46f9-4127-8e83-b7a1e38570b3",
   "metadata": {},
   "source": [
    "Based on the result, the actual poll result (0.53) falls within the 95% confidence interval, we cannot confidently (at the 5% significance level) say that the Greens are leading in the polls, as we cannot reject the null hypothesis."
   ]
  },
  {
   "cell_type": "markdown",
   "id": "4249794e-2a95-4db4-862d-68511935b6f9",
   "metadata": {},
   "source": [
    "### Part 2"
   ]
  },
  {
   "cell_type": "markdown",
   "id": "b6a30458-7adf-41f2-8c0e-046d8bf315b2",
   "metadata": {},
   "source": [
    "#### Q1 Now conduct R polls of N respondents. Each respondent should be represented as 0 or 1, with 1 occuring with the probability 0.53 (this is the probability in data)."
   ]
  },
  {
   "cell_type": "code",
   "execution_count": 37,
   "id": "054e3533-5440-433e-9b10-098c68bd765f",
   "metadata": {},
   "outputs": [
    {
     "data": {
      "image/png": "[encoded data removed]",
      "text/plain": [
       "<Figure size 432x288 with 1 Axes>"
      ]
     },
     "metadata": {
      "needs_background": "light"
     },
     "output_type": "display_data"
    }
   ],
   "source": [
    "np.random.seed(42)\n",
    "\n",
    "avgs_2 = np.zeros(R)\n",
    "for i in range (R):\n",
    "    polls = np.random.binomial(1, 0.53, size = 1000)\n",
    "    avgs_2[i] = np.mean(polls)\n",
    "    \n",
    "_ = plt.hist(avgs, bins=30, edgecolor=\"k\")"
   ]
  },
  {
   "cell_type": "code",
   "execution_count": 38,
   "id": "07b40ac2-290d-4e34-9965-9350c7862578",
   "metadata": {},
   "outputs": [
    {
     "data": {
      "text/plain": [
       "0.527"
      ]
     },
     "execution_count": 38,
     "metadata": {},
     "output_type": "execute_result"
    }
   ],
   "source": [
    "averages_2 = np.mean(polls)\n",
    "averages_2"
   ]
  },
  {
   "cell_type": "markdown",
   "id": "0dcbe409-099c-4bc8-9543-fa31efb7352b",
   "metadata": {},
   "source": [
    "#### Q2 Find the 95% CI of your means by computing 2.5-th and 97.5-th percentiles"
   ]
  },
  {
   "cell_type": "code",
   "execution_count": 39,
   "id": "6f0a4bab-69d0-40a1-8bd7-3282b377642f",
   "metadata": {},
   "outputs": [
    {
     "data": {
      "text/plain": [
       "array([0.499, 0.561])"
      ]
     },
     "execution_count": 39,
     "metadata": {},
     "output_type": "execute_result"
    }
   ],
   "source": [
    "CI_2 = np.percentile(avgs_2, [2.5, 97.5])\n",
    "CI_2"
   ]
  },
  {
   "cell_type": "markdown",
   "id": "c0274430-8c08-42cb-b20e-685fea4f346f",
   "metadata": {
    "tags": []
   },
   "source": [
    "#### Q3 Is 0.5—your H0 inside of the CI?"
   ]
  },
  {
   "cell_type": "markdown",
   "id": "d016df26-c797-407f-90e7-62d2d2fc2449",
   "metadata": {},
   "source": [
    "The confidence interval is [0.499, 0.561] so the H0(0.5) is inside the CI."
   ]
  },
  {
   "cell_type": "markdown",
   "id": "a162c4f6-b39e-4958-bed1-8530b7ccb030",
   "metadata": {},
   "source": [
    "#### Q4 Based on the CI you computed answer the question: can you confidently (at 5% confidence level) say that Greens are leading in the polls?"
   ]
  },
  {
   "cell_type": "markdown",
   "id": "97596c3e-903f-4253-853e-59cfdf28aaa6",
   "metadata": {},
   "source": [
    "Based on the result, the null hypothesis(0.5) falls within the 95% confidence interval, we cannot confidently (at the 5% significance level) say that the Greens are leading in the polls, as we cannot reject the null hypothesis."
   ]
  }
 ],
 "metadata": {
  "kernelspec": {
   "display_name": "Python 3 (ipykernel)",
   "language": "python",
   "name": "python3"
  },
  "language_info": {
   "codemirror_mode": {
    "name": "ipython",
    "version": 3
   },
   "file_extension": ".py",
   "mimetype": "text/x-python",
   "name": "python",
   "nbconvert_exporter": "python",
   "pygments_lexer": "ipython3",
   "version": "3.9.7"
  }
 },
 "nbformat": 4,
 "nbformat_minor": 5
}
