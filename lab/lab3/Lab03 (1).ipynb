{
 "cells": [
  {
   "cell_type": "markdown",
   "id": "0bff8286-47b8-4046-8992-043daa01e37f",
   "metadata": {},
   "source": [
    "# Lab3: Probability"
   ]
  },
  {
   "cell_type": "markdown",
   "id": "7041c632-4d93-4544-9283-99e34f861176",
   "metadata": {},
   "source": [
    "## Name: Xinyu Chang"
   ]
  },
  {
   "cell_type": "code",
   "execution_count": 4,
   "id": "bada8da0-c12e-403c-98bb-bbefad1a9893",
   "metadata": {},
   "outputs": [],
   "source": [
    "import numpy as np\n",
    "import math\n",
    "import matplotlib.pyplot as plt"
   ]
  },
  {
   "cell_type": "markdown",
   "id": "e8706737-2b31-45be-8bc8-0b3d3710ce87",
   "metadata": {},
   "source": [
    "### Toss two coins"
   ]
  },
  {
   "cell_type": "markdown",
   "id": "ff3f48db-c666-4d9c-82f4-5437a7413fb1",
   "metadata": {},
   "source": [
    "#### 1. Explain which object(s) are you flipping, and if you had two of these or just a single object"
   ]
  },
  {
   "cell_type": "markdown",
   "id": "a06baf12-e807-48e9-99cd-49262835814e",
   "metadata": {},
   "source": [
    "I am flipping two coins and I had two of these coins."
   ]
  },
  {
   "cell_type": "markdown",
   "id": "5676b491-c01f-48dd-bdce-adc95e2033eb",
   "metadata": {},
   "source": [
    "#### 2. For each toss, add a row in the table about the number of heads in each trial"
   ]
  },
  {
   "cell_type": "markdown",
   "id": "f49ca27e-b7e4-4a94-b711-f4a82b44ddd4",
   "metadata": {},
   "source": [
    "| Trial | Heads |\n",
    "| :----: | :--------: |\n",
    "| 1 | 0 |\n",
    "| 2 | 1 |\n",
    "| 3 | 0 |\n",
    "| 4 | 2 |\n",
    "| 5 | 0 |\n",
    "| 6 | 1 |\n",
    "| 7 | 0 |\n",
    "| 8 | 0 |\n",
    "| 9 | 1 |\n",
    "| 10 | 1 |\n",
    "| 11 | 0 |\n",
    "| 12 | 1 |\n",
    "| 13 | 2 |\n",
    "| 14 | 1 |\n",
    "| 15 | 2 |\n",
    "| 16 | 0 |\n",
    "| 17 | 2 |\n",
    "| 18 | 1 |\n",
    "| 19 | 1 |\n",
    "| 20 | 0 |\n",
    "| ... | ... |"
   ]
  },
  {
   "cell_type": "markdown",
   "id": "9ca0d8e6-b4dc-400d-a931-e59bc0fb9fca",
   "metadata": {},
   "source": [
    "#### 3. Show a summary of your results: how many times did you get 0 heads, 1 hears, 2 heads."
   ]
  },
  {
   "cell_type": "markdown",
   "id": "99ad3b5f-f088-4666-8d2d-d66efabd68c4",
   "metadata": {},
   "source": [
    "There are 8 times I got 0 heads, 8 times I got 1 heads and 4 times I got 2 heads."
   ]
  },
  {
   "cell_type": "markdown",
   "id": "64a0fdc1-32eb-4dca-96bf-210dbed0961d",
   "metadata": {},
   "source": [
    "| Head | Counts |\n",
    "| :----: | :--------: |\n",
    "| 0 | 8 |\n",
    "| 1 | 8 |\n",
    "| 2 | 4 |"
   ]
  },
  {
   "cell_type": "markdown",
   "id": "b7c33f74-168b-48ce-ad96-6e508e629225",
   "metadata": {},
   "source": [
    "#### 4. Compute the mean of your results (the number of the heads you got)"
   ]
  },
  {
   "cell_type": "code",
   "execution_count": 5,
   "id": "609a5418-8d82-4c1d-a8b7-c571b5729d07",
   "metadata": {},
   "outputs": [
    {
     "data": {
      "text/plain": [
       "0.8"
      ]
     },
     "execution_count": 5,
     "metadata": {},
     "output_type": "execute_result"
    }
   ],
   "source": [
    "Mean = (0 + 1 + 0 + 2 + 0 + 1 + 0 + 0 + 1 + 1 + 0 + 1 + 2 + 1 + 2 + 0 + 2 + 1 + 1 + 0) / 20\n",
    "Mean"
   ]
  },
  {
   "cell_type": "markdown",
   "id": "7e668ed2-f385-4bb1-9e6d-6a9c9be949cb",
   "metadata": {},
   "source": [
    "The mean of the results is 0.8. We need to add up the number of heads and divide by the total number of trials to get the mean of the results."
   ]
  },
  {
   "cell_type": "markdown",
   "id": "326cad7f-748b-4675-924c-8d992eaa67d0",
   "metadata": {},
   "source": [
    "#### 5. Compute the median (do not use the “median” function). Explain how do you do it."
   ]
  },
  {
   "cell_type": "markdown",
   "id": "7be0e273-2f0d-4234-8eff-578af325dc6d",
   "metadata": {},
   "source": [
    "The median number is 1. In order to find the median number, the first step is to arrange the values in ascending order.  \n",
    "Here is the sorted number list: 0, 0, 0, 0, 0, 0, 0, 0, 1, 1, 1, 1, 1, 1, 1, 1, 2, 2, 2, 2.  \n",
    "Since there are 20 values in the dataset, the median is the average of the 10th and 11th values, which are both equal to 1.  \n",
    "Therefore, the median number of heads we got in the given trials is 1.  "
   ]
  },
  {
   "cell_type": "markdown",
   "id": "7740dad4-74fe-49f5-b15e-33d0846a7054",
   "metadata": {},
   "source": [
    "#### 6. Compute the variance of your results (the number of heads in your individual trials)."
   ]
  },
  {
   "cell_type": "markdown",
   "id": "0754a3c3-d8ca-47cc-9212-549efa1734e7",
   "metadata": {},
   "source": [
    "The mean of the number of heads (x): 0.8  \n",
    "The mean of the square of the number of heads (x^2): 1.2  \n",
    "The square of the mean of the number of heads (x)^2: 0.64  \n",
    "variance is var X = mean(X^2) - mean(X)^2 =  1.2 - 0.64 = 0.56  \n",
    "Therefore, the variance(difference between the mean of the number of heads squared and the square of the mean of the number of heads) for this dataset is 0.56."
   ]
  },
  {
   "cell_type": "markdown",
   "id": "6b705450-58a7-40d8-b1c4-0dd6e1899fae",
   "metadata": {},
   "source": [
    "#### 7. Compute standard deviation of your results"
   ]
  },
  {
   "cell_type": "code",
   "execution_count": 6,
   "id": "a3306cc5-521f-4188-9b0d-45919ccc0c0b",
   "metadata": {},
   "outputs": [
    {
     "name": "stdout",
     "output_type": "stream",
     "text": [
      "0.7483314773547883\n"
     ]
    }
   ],
   "source": [
    "x = 0.56\n",
    "sqrt_x = math.sqrt(x)\n",
    "print(sqrt_x)"
   ]
  },
  {
   "cell_type": "markdown",
   "id": "1c46e97c-831e-4d3d-a38b-ffe1c7636db1",
   "metadata": {},
   "source": [
    "The standard deviation for the result is 0.748."
   ]
  },
  {
   "cell_type": "markdown",
   "id": "b545767b-9047-4ac7-ba6e-2ac52220855a",
   "metadata": {},
   "source": [
    "#### 8. Plot (or manually sketch) a histogram of your results."
   ]
  },
  {
   "cell_type": "code",
   "execution_count": 9,
   "id": "8afa61a7-1aa8-48c5-90c9-5a09930bce8d",
   "metadata": {},
   "outputs": [
    {
     "data": {
      "image/png": "[encoded data removed]",
      "text/plain": [
       "<Figure size 432x288 with 1 Axes>"
      ]
     },
     "metadata": {
      "needs_background": "light"
     },
     "output_type": "display_data"
    }
   ],
   "source": [
    "# Data\n",
    "data = [0, 1, 0, 2, 0, 1, 0, 0, 1, 1, 0, 1, 2, 1, 2, 0, 2, 1, 1, 0]\n",
    "\n",
    "# Plot histogram\n",
    "plt.hist(data, bins=10)\n",
    "plt.title(\"Histogram of Heads in Trials\")\n",
    "plt.xlabel(\"Number of Heads\")\n",
    "plt.ylabel(\"Frequency\")\n",
    "plt.show()"
   ]
  },
  {
   "cell_type": "markdown",
   "id": "b7c8be00-e438-49dc-8d73-e2ed7ebabe21",
   "metadata": {},
   "source": [
    "#### 9. Does you data contain outliers? Can it contain outliers?"
   ]
  },
  {
   "cell_type": "markdown",
   "id": "55cbe9af-665c-4ab3-b23a-373d95753ee8",
   "metadata": {},
   "source": [
    "An outlier in the supplied data is a value that deviates considerably from the other values. In relation to the number of heads observed in the trials, an outlier would be a trial with an atypically high or low number of heads.It does not appear that the data contains any outliers. The values range from 0.00 to 2.00, and they are all within two standard deviations of the mean (0.8). In addition, the standard deviation is comparatively low (0.748) indicating that the values are densely clustered around the mean."
   ]
  },
  {
   "cell_type": "markdown",
   "id": "c544c5dd-af07-4db3-ae87-11f6998f583a",
   "metadata": {},
   "source": [
    "#### 10. Compute 20th percentile of your results (do not use the “percentile” function.) Explain how do you do it."
   ]
  },
  {
   "cell_type": "markdown",
   "id": "771aae8c-2755-4a54-895f-87355b9b7f93",
   "metadata": {},
   "source": [
    "Sort the data in ascending order: 0, 0, 0, 0, 0, 0, 0, 0, 1, 1, 1, 1, 1, 1, 1, 1, 2, 2, 2, 2.  \n",
    "Compute the index of the 20th percentile as a fraction of the total number of observations: (20 / 100) * 20 = 4  \n",
    "Take the value at the computed index: 0  \n",
    "Therefore, the 20th percentile of my result is 0."
   ]
  },
  {
   "cell_type": "markdown",
   "id": "a929ffd2-7350-4081-886f-22f4575f9195",
   "metadata": {},
   "source": [
    "#### 11. Compute 80th percentile of the results."
   ]
  },
  {
   "cell_type": "markdown",
   "id": "8fd5e99d-d4dc-41f2-a0ff-09f74b5349ec",
   "metadata": {},
   "source": [
    "Sort the data in ascending order:0, 0, 0, 0, 0, 0, 0, 0, 1, 1, 1, 1, 1, 1, 1, 1, 2, 2, 2, 2.  \n",
    "Calculate the index of the 80th percentile:(80 / 100) * 20 = 16  \n",
    "Since the index is an integer, the 80th percentile is: (1 + 2)/ 2 = 1.5  "
   ]
  },
  {
   "cell_type": "markdown",
   "id": "ebe2ff7c-0d49-4613-a068-0274b5bcaf59",
   "metadata": {},
   "source": [
    "#### 12. Compute QSR (quintile share ratio)."
   ]
  },
  {
   "cell_type": "markdown",
   "id": "f6da261d-1030-4df4-a7fe-fac66e8cfca3",
   "metadata": {},
   "source": [
    "I  computed QSR as a sum of all values above the 0.8-th percentile, divided by the sum of values below 0.2-th percentile.\n",
    "\n",
    "Sort the data in ascending order:0, 0, 0, 0, 0, 0, 0, 0, 1, 1, 1, 1, 1, 1, 1, 1, 2, 2, 2, 2.  \n",
    "The sum of all values above the 0.8-th percentile(after 16th): 2+2+2+2=8  \n",
    "The sum of values below 0.2-th percentile(before 4th):0  \n",
    "The QSR is equal to : 8/0 = 0  \n",
    "\n",
    "Because the distribution contains more than 20% of zero values, the total value in the bottom quintile is zero so QSR cannot be calculated because division by zero is undefined and QSR is infinite. It carries little information in such case. "
   ]
  }
 ],
 "metadata": {
  "kernelspec": {
   "display_name": "Python 3 (ipykernel)",
   "language": "python",
   "name": "python3"
  },
  "language_info": {
   "codemirror_mode": {
    "name": "ipython",
    "version": 3
   },
   "file_extension": ".py",
   "mimetype": "text/x-python",
   "name": "python",
   "nbconvert_exporter": "python",
   "pygments_lexer": "ipython3",
   "version": "3.9.7"
  }
 },
 "nbformat": 4,
 "nbformat_minor": 5
}
