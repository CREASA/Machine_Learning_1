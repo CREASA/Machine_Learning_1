{
 "cells": [
  {
   "cell_type": "markdown",
   "id": "cb617ddb-f778-44fd-9388-e3d4f6d0d8e2",
   "metadata": {},
   "source": [
    "# Lab 05"
   ]
  },
  {
   "cell_type": "markdown",
   "id": "1364dfe5-fd4c-47f1-b0b8-876940380ae9",
   "metadata": {},
   "source": [
    "### Name：Xinyu Chang"
   ]
  },
  {
   "cell_type": "code",
   "execution_count": 8,
   "id": "136845ea-24a8-45c9-a8b7-09630d5535b5",
   "metadata": {},
   "outputs": [],
   "source": [
    "# import the packages\n",
    "import pandas as pd\n",
    "import matplotlib.pyplot as plt\n",
    "import statsmodels.formula.api as smf\n",
    "import seaborn as sns"
   ]
  },
  {
   "cell_type": "markdown",
   "id": "a95918b1-259d-4dda-a92c-eb806037af2e",
   "metadata": {},
   "source": [
    "### 1 Boston Housing Data"
   ]
  },
  {
   "cell_type": "markdown",
   "id": "f02c14d2-ca51-46f2-ae80-16908fc168f5",
   "metadata": {},
   "source": [
    "#### 1. load file boston.csv and ensure the file loaded good"
   ]
  },
  {
   "cell_type": "code",
   "execution_count": 9,
   "id": "3fa239f7-1b48-4033-926a-c21db8520fc8",
   "metadata": {},
   "outputs": [
    {
     "data": {
      "text/html": [
       "<div>\n",
       "<style scoped>\n",
       "    .dataframe tbody tr th:only-of-type {\n",
       "        vertical-align: middle;\n",
       "    }\n",
       "\n",
       "    .dataframe tbody tr th {\n",
       "        vertical-align: top;\n",
       "    }\n",
       "\n",
       "    .dataframe thead th {\n",
       "        text-align: right;\n",
       "    }\n",
       "</style>\n",
       "<table border=\"1\" class=\"dataframe\">\n",
       "  <thead>\n",
       "    <tr style=\"text-align: right;\">\n",
       "      <th></th>\n",
       "      <th>crim</th>\n",
       "      <th>zn</th>\n",
       "      <th>indus</th>\n",
       "      <th>chas</th>\n",
       "      <th>nox</th>\n",
       "      <th>rm</th>\n",
       "      <th>age</th>\n",
       "      <th>dis</th>\n",
       "      <th>rad</th>\n",
       "      <th>tax</th>\n",
       "      <th>ptratio</th>\n",
       "      <th>black</th>\n",
       "      <th>lstat</th>\n",
       "      <th>medv</th>\n",
       "    </tr>\n",
       "  </thead>\n",
       "  <tbody>\n",
       "    <tr>\n",
       "      <th>0</th>\n",
       "      <td>0.00632</td>\n",
       "      <td>18.0</td>\n",
       "      <td>2.31</td>\n",
       "      <td>0</td>\n",
       "      <td>0.538</td>\n",
       "      <td>6.575</td>\n",
       "      <td>65.2</td>\n",
       "      <td>4.0900</td>\n",
       "      <td>1</td>\n",
       "      <td>296</td>\n",
       "      <td>15.3</td>\n",
       "      <td>396.90</td>\n",
       "      <td>4.98</td>\n",
       "      <td>24.0</td>\n",
       "    </tr>\n",
       "    <tr>\n",
       "      <th>1</th>\n",
       "      <td>0.02731</td>\n",
       "      <td>0.0</td>\n",
       "      <td>7.07</td>\n",
       "      <td>0</td>\n",
       "      <td>0.469</td>\n",
       "      <td>6.421</td>\n",
       "      <td>78.9</td>\n",
       "      <td>4.9671</td>\n",
       "      <td>2</td>\n",
       "      <td>242</td>\n",
       "      <td>17.8</td>\n",
       "      <td>396.90</td>\n",
       "      <td>9.14</td>\n",
       "      <td>21.6</td>\n",
       "    </tr>\n",
       "    <tr>\n",
       "      <th>2</th>\n",
       "      <td>0.02729</td>\n",
       "      <td>0.0</td>\n",
       "      <td>7.07</td>\n",
       "      <td>0</td>\n",
       "      <td>0.469</td>\n",
       "      <td>7.185</td>\n",
       "      <td>61.1</td>\n",
       "      <td>4.9671</td>\n",
       "      <td>2</td>\n",
       "      <td>242</td>\n",
       "      <td>17.8</td>\n",
       "      <td>392.83</td>\n",
       "      <td>4.03</td>\n",
       "      <td>34.7</td>\n",
       "    </tr>\n",
       "    <tr>\n",
       "      <th>3</th>\n",
       "      <td>0.03237</td>\n",
       "      <td>0.0</td>\n",
       "      <td>2.18</td>\n",
       "      <td>0</td>\n",
       "      <td>0.458</td>\n",
       "      <td>6.998</td>\n",
       "      <td>45.8</td>\n",
       "      <td>6.0622</td>\n",
       "      <td>3</td>\n",
       "      <td>222</td>\n",
       "      <td>18.7</td>\n",
       "      <td>394.63</td>\n",
       "      <td>2.94</td>\n",
       "      <td>33.4</td>\n",
       "    </tr>\n",
       "    <tr>\n",
       "      <th>4</th>\n",
       "      <td>0.06905</td>\n",
       "      <td>0.0</td>\n",
       "      <td>2.18</td>\n",
       "      <td>0</td>\n",
       "      <td>0.458</td>\n",
       "      <td>7.147</td>\n",
       "      <td>54.2</td>\n",
       "      <td>6.0622</td>\n",
       "      <td>3</td>\n",
       "      <td>222</td>\n",
       "      <td>18.7</td>\n",
       "      <td>396.90</td>\n",
       "      <td>5.33</td>\n",
       "      <td>36.2</td>\n",
       "    </tr>\n",
       "  </tbody>\n",
       "</table>\n",
       "</div>"
      ],
      "text/plain": [
       "      crim    zn  indus  chas    nox     rm   age     dis  rad  tax  ptratio  \\\n",
       "0  0.00632  18.0   2.31     0  0.538  6.575  65.2  4.0900    1  296     15.3   \n",
       "1  0.02731   0.0   7.07     0  0.469  6.421  78.9  4.9671    2  242     17.8   \n",
       "2  0.02729   0.0   7.07     0  0.469  7.185  61.1  4.9671    2  242     17.8   \n",
       "3  0.03237   0.0   2.18     0  0.458  6.998  45.8  6.0622    3  222     18.7   \n",
       "4  0.06905   0.0   2.18     0  0.458  7.147  54.2  6.0622    3  222     18.7   \n",
       "\n",
       "    black  lstat  medv  \n",
       "0  396.90   4.98  24.0  \n",
       "1  396.90   9.14  21.6  \n",
       "2  392.83   4.03  34.7  \n",
       "3  394.63   2.94  33.4  \n",
       "4  396.90   5.33  36.2  "
      ]
     },
     "execution_count": 9,
     "metadata": {},
     "output_type": "execute_result"
    }
   ],
   "source": [
    "df = pd.read_csv(\"boston.csv.bz2\", sep=\"\\t\")\n",
    "df.head()"
   ]
  },
  {
   "cell_type": "code",
   "execution_count": 10,
   "id": "5ff51ae3-8dd2-4f40-aca8-3304da99fc24",
   "metadata": {},
   "outputs": [
    {
     "data": {
      "text/plain": [
       "(506, 14)"
      ]
     },
     "execution_count": 10,
     "metadata": {},
     "output_type": "execute_result"
    }
   ],
   "source": [
    "df.shape"
   ]
  },
  {
   "cell_type": "markdown",
   "id": "9aa86c76-1417-401b-8ea8-e03d4b751000",
   "metadata": {},
   "source": [
    "There are 506 rows(observations) and 14 columns(variables) in the dataset."
   ]
  },
  {
   "cell_type": "markdown",
   "id": "f46471c6-b18b-40a6-a76b-ef2f93330242",
   "metadata": {},
   "source": [
    "### 2 Simple Regression"
   ]
  },
  {
   "cell_type": "markdown",
   "id": "02863e18-8be9-4b28-bf66-dcb578c9060b",
   "metadata": {},
   "source": [
    "#### 1. Let’s start the average house size (rm: average number of rooms). Do the following:  \n",
    "#### (a) run the linear regression in the form medvi = β0 + β1 · rmi + ϵi and show the regression output."
   ]
  },
  {
   "cell_type": "code",
   "execution_count": 11,
   "id": "d6cb84f3-9df8-45ae-af6d-359c8f13e6ca",
   "metadata": {},
   "outputs": [
    {
     "data": {
      "text/html": [
       "<table class=\"simpletable\">\n",
       "<caption>OLS Regression Results</caption>\n",
       "<tr>\n",
       "  <th>Dep. Variable:</th>          <td>medv</td>       <th>  R-squared:         </th> <td>   0.484</td>\n",
       "</tr>\n",
       "<tr>\n",
       "  <th>Model:</th>                   <td>OLS</td>       <th>  Adj. R-squared:    </th> <td>   0.483</td>\n",
       "</tr>\n",
       "<tr>\n",
       "  <th>Method:</th>             <td>Least Squares</td>  <th>  F-statistic:       </th> <td>   471.8</td>\n",
       "</tr>\n",
       "<tr>\n",
       "  <th>Date:</th>             <td>Wed, 03 May 2023</td> <th>  Prob (F-statistic):</th> <td>2.49e-74</td>\n",
       "</tr>\n",
       "<tr>\n",
       "  <th>Time:</th>                 <td>00:20:53</td>     <th>  Log-Likelihood:    </th> <td> -1673.1</td>\n",
       "</tr>\n",
       "<tr>\n",
       "  <th>No. Observations:</th>      <td>   506</td>      <th>  AIC:               </th> <td>   3350.</td>\n",
       "</tr>\n",
       "<tr>\n",
       "  <th>Df Residuals:</th>          <td>   504</td>      <th>  BIC:               </th> <td>   3359.</td>\n",
       "</tr>\n",
       "<tr>\n",
       "  <th>Df Model:</th>              <td>     1</td>      <th>                     </th>     <td> </td>   \n",
       "</tr>\n",
       "<tr>\n",
       "  <th>Covariance Type:</th>      <td>nonrobust</td>    <th>                     </th>     <td> </td>   \n",
       "</tr>\n",
       "</table>\n",
       "<table class=\"simpletable\">\n",
       "<tr>\n",
       "      <td></td>         <th>coef</th>     <th>std err</th>      <th>t</th>      <th>P>|t|</th>  <th>[0.025</th>    <th>0.975]</th>  \n",
       "</tr>\n",
       "<tr>\n",
       "  <th>Intercept</th> <td>  -34.6706</td> <td>    2.650</td> <td>  -13.084</td> <td> 0.000</td> <td>  -39.877</td> <td>  -29.465</td>\n",
       "</tr>\n",
       "<tr>\n",
       "  <th>rm</th>        <td>    9.1021</td> <td>    0.419</td> <td>   21.722</td> <td> 0.000</td> <td>    8.279</td> <td>    9.925</td>\n",
       "</tr>\n",
       "</table>\n",
       "<table class=\"simpletable\">\n",
       "<tr>\n",
       "  <th>Omnibus:</th>       <td>102.585</td> <th>  Durbin-Watson:     </th> <td>   0.684</td> \n",
       "</tr>\n",
       "<tr>\n",
       "  <th>Prob(Omnibus):</th> <td> 0.000</td>  <th>  Jarque-Bera (JB):  </th> <td> 612.449</td> \n",
       "</tr>\n",
       "<tr>\n",
       "  <th>Skew:</th>          <td> 0.726</td>  <th>  Prob(JB):          </th> <td>1.02e-133</td>\n",
       "</tr>\n",
       "<tr>\n",
       "  <th>Kurtosis:</th>      <td> 8.190</td>  <th>  Cond. No.          </th> <td>    58.4</td> \n",
       "</tr>\n",
       "</table><br/><br/>Notes:<br/>[1] Standard Errors assume that the covariance matrix of the errors is correctly specified."
      ],
      "text/plain": [
       "<class 'statsmodels.iolib.summary.Summary'>\n",
       "\"\"\"\n",
       "                            OLS Regression Results                            \n",
       "==============================================================================\n",
       "Dep. Variable:                   medv   R-squared:                       0.484\n",
       "Model:                            OLS   Adj. R-squared:                  0.483\n",
       "Method:                 Least Squares   F-statistic:                     471.8\n",
       "Date:                Wed, 03 May 2023   Prob (F-statistic):           2.49e-74\n",
       "Time:                        00:20:53   Log-Likelihood:                -1673.1\n",
       "No. Observations:                 506   AIC:                             3350.\n",
       "Df Residuals:                     504   BIC:                             3359.\n",
       "Df Model:                           1                                         \n",
       "Covariance Type:            nonrobust                                         \n",
       "==============================================================================\n",
       "                 coef    std err          t      P>|t|      [0.025      0.975]\n",
       "------------------------------------------------------------------------------\n",
       "Intercept    -34.6706      2.650    -13.084      0.000     -39.877     -29.465\n",
       "rm             9.1021      0.419     21.722      0.000       8.279       9.925\n",
       "==============================================================================\n",
       "Omnibus:                      102.585   Durbin-Watson:                   0.684\n",
       "Prob(Omnibus):                  0.000   Jarque-Bera (JB):              612.449\n",
       "Skew:                           0.726   Prob(JB):                    1.02e-133\n",
       "Kurtosis:                       8.190   Cond. No.                         58.4\n",
       "==============================================================================\n",
       "\n",
       "Notes:\n",
       "[1] Standard Errors assume that the covariance matrix of the errors is correctly specified.\n",
       "\"\"\""
      ]
     },
     "execution_count": 11,
     "metadata": {},
     "output_type": "execute_result"
    }
   ],
   "source": [
    "m = smf.ols(\"medv ~ rm\", data=df).fit()\n",
    "m.summary()"
   ]
  },
  {
   "cell_type": "markdown",
   "id": "167881f1-ecd8-442b-99eb-f1386b62c866",
   "metadata": {},
   "source": [
    "#### (b) interpret the coefficients (β0 and β1). What do these numbers mean? Are these statistically significant?"
   ]
  },
  {
   "cell_type": "markdown",
   "id": "b310a2c7-2f8d-41fe-b023-3404495c8749",
   "metadata": {},
   "source": [
    "From the table, we can know that:  \n",
    "\n",
    "The Intercept is -34.6706 with a p-value of 0.000(less than 0.05), which is statistically significant at a 95% confidence level. This suggests that when the average number of rooms per dwelling (rm) is zero, the predicted median value of owner-occupied homes (medv) is -34.6706(USD dollars). However, this interpretation does not make sense practically, as it is impossible to have a dwelling with zero rooms.\n",
    "\n",
    "The rm coefficient is 9.1021 with a p-value of 0.000(less than 0.05), which is statistically significant at a 95% confidence level. This means that, on average, for each additional room in a dwelling, the median value of owner-occupied homes (medv) is expected to increase by 9.1021(USD dollars)."
   ]
  },
  {
   "cell_type": "markdown",
   "id": "34bca0ff-6e80-452b-b66a-94582e7dfd15",
   "metadata": {},
   "source": [
    "#### (c) What do you think, why is the intercept negative? Does it tell us anything about house prices?"
   ]
  },
  {
   "cell_type": "markdown",
   "id": "876cd77f-1185-48f9-93e3-6aa67cfe5340",
   "metadata": {},
   "source": [
    "If the intercept is negative, it indicates that the predicted median value of owner-occupied residences (medvi) would be negative when the average number of rooms per domicile is zero (rm = 0). It is inconceivable for a residence to have zero chambers in the actual world. Consequently, a negative intercept in this context might not be interpretable. However, the sign of the intercept does not inherently influence the aggregate correlation between the number of rooms and house prices. Focus on the positive and significant slope, which indicates that house prices increase with the average number of rooms per dwelling, as that relationship is more relevant and informative."
   ]
  },
  {
   "cell_type": "markdown",
   "id": "40b26bce-d27e-4127-ad25-d6aaecc0d4a3",
   "metadata": {},
   "source": [
    "#### (d)Try to think about what do these numbers tell about the city and society. Remember: this is not about house price versus house size, this is neighborhood’s median house price versus neighborhood’s average house size.Try to think in terms of poor and rich neighborhoods!"
   ]
  },
  {
   "cell_type": "markdown",
   "id": "3a15c68f-00d9-4156-8133-ce641c36e0d9",
   "metadata": {},
   "source": [
    "These figures suggest that there is a correlation between the average house size (as measured by the average number of rooms per residence) and the median house price in a neighborhood. This suggests that larger homes tend to be found in neighborhoods with higher median house prices.This relationship could suggest the following in terms of impoverished and wealthy neighborhoods.Richer neighborhoods typically feature larger residences with more rooms. Consequently, both the average number of rooms per domicile and the median house price have increased. Richer neighborhoods typically provide superior amenities, access to quality education, lower crime rates, and well-kept public spaces, all of which contribute to their higher property values.In contrast, homes in impoverished communities are typically smaller and have fewer rooms, resulting in a lower average number of rooms per dwelling. The median home price is also lower in these communities. It is possible that factors such as limited access to quality education, increased crime rates, and inadequate public services contributed to the decrease in property values.The positive correlation between neighborhood's average house size and median house price may reflect the city's wealth inequality and distribution. It emphasizes the socioeconomic differences between communities, where larger homes in more affluent areas command higher prices and smaller homes in less affluent areas command lower prices."
   ]
  },
  {
   "cell_type": "markdown",
   "id": "3c3dea93-2006-49fe-96f5-ec4b1705dd25",
   "metadata": {},
   "source": [
    "#### (e) create a plot of medv (vertical) versus rm (horizontal)"
   ]
  },
  {
   "cell_type": "markdown",
   "id": "c593c7e9-f093-4c10-b6f1-0e4f131d9d08",
   "metadata": {},
   "source": [
    "#### (f) add your regression line on the plot."
   ]
  },
  {
   "cell_type": "code",
   "execution_count": 12,
   "id": "34d3c2d1-fba3-4497-9ca1-f31a1330c079",
   "metadata": {},
   "outputs": [
    {
     "data": {
      "image/png": "[encoded data removed]",
      "text/plain": [
       "<Figure size 720x432 with 1 Axes>"
      ]
     },
     "metadata": {
      "needs_background": "light"
     },
     "output_type": "display_data"
    }
   ],
   "source": [
    "plt.figure(figsize=(10, 6))\n",
    "sns.scatterplot(x='rm', y='medv', data=df)\n",
    "sns.regplot(x='rm', y='medv', data=df, scatter=False, line_kws={'color': 'red'})\n",
    "plt.xlabel('Average Number of Rooms per Dwelling (rm)')\n",
    "plt.ylabel('Median Value of Owner-Occupied Homes (medv)')\n",
    "plt.title('Median House Value vs. Average Number of Rooms per Dwelling')\n",
    "plt.show()"
   ]
  },
  {
   "cell_type": "markdown",
   "id": "4fee9231-f5b2-48d2-849d-afbd758622bd",
   "metadata": {},
   "source": [
    "The regression line is upward sloping, indicating a positive relationship between the average number of rooms per dwelling (rm) and the median value of owner-occupied homes (medv).\n",
    "\n",
    "The dots in the scatter plot is generally trend upward, similar to the regression line. This means that as the average number of rooms per dwelling (rm) increases, the median value of owner-occupied homes (medv) also tends to increase. It is noticeable that most of the dots focus on the range of 5-7 of the average number of rooms per dwelling, and the correspond median value of owener-occupied homes is about 10-40. However, there are some deviations from this trend, as other factors may influence house values."
   ]
  },
  {
   "cell_type": "markdown",
   "id": "99d72c11-0495-4b91-a130-4fc5a884ac91",
   "metadata": {
    "tags": []
   },
   "source": [
    "#### 2. Now repeat the above with age"
   ]
  },
  {
   "cell_type": "markdown",
   "id": "17a65790-bae8-495d-9889-55d792003ec7",
   "metadata": {},
   "source": [
    "#### Do the following:(a) run the linear regression in the form medvi = β0 + β1 · age + ϵi and show the regression output."
   ]
  },
  {
   "cell_type": "code",
   "execution_count": 27,
   "id": "cecd4549-3c7c-4e20-8f6f-6a60b3bf0d61",
   "metadata": {},
   "outputs": [
    {
     "data": {
      "text/html": [
       "<table class=\"simpletable\">\n",
       "<caption>OLS Regression Results</caption>\n",
       "<tr>\n",
       "  <th>Dep. Variable:</th>          <td>medv</td>       <th>  R-squared:         </th> <td>   0.142</td>\n",
       "</tr>\n",
       "<tr>\n",
       "  <th>Model:</th>                   <td>OLS</td>       <th>  Adj. R-squared:    </th> <td>   0.140</td>\n",
       "</tr>\n",
       "<tr>\n",
       "  <th>Method:</th>             <td>Least Squares</td>  <th>  F-statistic:       </th> <td>   83.48</td>\n",
       "</tr>\n",
       "<tr>\n",
       "  <th>Date:</th>             <td>Mon, 01 May 2023</td> <th>  Prob (F-statistic):</th> <td>1.57e-18</td>\n",
       "</tr>\n",
       "<tr>\n",
       "  <th>Time:</th>                 <td>19:44:31</td>     <th>  Log-Likelihood:    </th> <td> -1801.5</td>\n",
       "</tr>\n",
       "<tr>\n",
       "  <th>No. Observations:</th>      <td>   506</td>      <th>  AIC:               </th> <td>   3607.</td>\n",
       "</tr>\n",
       "<tr>\n",
       "  <th>Df Residuals:</th>          <td>   504</td>      <th>  BIC:               </th> <td>   3615.</td>\n",
       "</tr>\n",
       "<tr>\n",
       "  <th>Df Model:</th>              <td>     1</td>      <th>                     </th>     <td> </td>   \n",
       "</tr>\n",
       "<tr>\n",
       "  <th>Covariance Type:</th>      <td>nonrobust</td>    <th>                     </th>     <td> </td>   \n",
       "</tr>\n",
       "</table>\n",
       "<table class=\"simpletable\">\n",
       "<tr>\n",
       "      <td></td>         <th>coef</th>     <th>std err</th>      <th>t</th>      <th>P>|t|</th>  <th>[0.025</th>    <th>0.975]</th>  \n",
       "</tr>\n",
       "<tr>\n",
       "  <th>Intercept</th> <td>   30.9787</td> <td>    0.999</td> <td>   31.006</td> <td> 0.000</td> <td>   29.016</td> <td>   32.942</td>\n",
       "</tr>\n",
       "<tr>\n",
       "  <th>age</th>       <td>   -0.1232</td> <td>    0.013</td> <td>   -9.137</td> <td> 0.000</td> <td>   -0.150</td> <td>   -0.097</td>\n",
       "</tr>\n",
       "</table>\n",
       "<table class=\"simpletable\">\n",
       "<tr>\n",
       "  <th>Omnibus:</th>       <td>170.034</td> <th>  Durbin-Watson:     </th> <td>   0.613</td> \n",
       "</tr>\n",
       "<tr>\n",
       "  <th>Prob(Omnibus):</th> <td> 0.000</td>  <th>  Jarque-Bera (JB):  </th> <td> 456.983</td> \n",
       "</tr>\n",
       "<tr>\n",
       "  <th>Skew:</th>          <td> 1.671</td>  <th>  Prob(JB):          </th> <td>5.85e-100</td>\n",
       "</tr>\n",
       "<tr>\n",
       "  <th>Kurtosis:</th>      <td> 6.240</td>  <th>  Cond. No.          </th> <td>    195.</td> \n",
       "</tr>\n",
       "</table><br/><br/>Notes:<br/>[1] Standard Errors assume that the covariance matrix of the errors is correctly specified."
      ],
      "text/plain": [
       "<class 'statsmodels.iolib.summary.Summary'>\n",
       "\"\"\"\n",
       "                            OLS Regression Results                            \n",
       "==============================================================================\n",
       "Dep. Variable:                   medv   R-squared:                       0.142\n",
       "Model:                            OLS   Adj. R-squared:                  0.140\n",
       "Method:                 Least Squares   F-statistic:                     83.48\n",
       "Date:                Mon, 01 May 2023   Prob (F-statistic):           1.57e-18\n",
       "Time:                        19:44:31   Log-Likelihood:                -1801.5\n",
       "No. Observations:                 506   AIC:                             3607.\n",
       "Df Residuals:                     504   BIC:                             3615.\n",
       "Df Model:                           1                                         \n",
       "Covariance Type:            nonrobust                                         \n",
       "==============================================================================\n",
       "                 coef    std err          t      P>|t|      [0.025      0.975]\n",
       "------------------------------------------------------------------------------\n",
       "Intercept     30.9787      0.999     31.006      0.000      29.016      32.942\n",
       "age           -0.1232      0.013     -9.137      0.000      -0.150      -0.097\n",
       "==============================================================================\n",
       "Omnibus:                      170.034   Durbin-Watson:                   0.613\n",
       "Prob(Omnibus):                  0.000   Jarque-Bera (JB):              456.983\n",
       "Skew:                           1.671   Prob(JB):                    5.85e-100\n",
       "Kurtosis:                       6.240   Cond. No.                         195.\n",
       "==============================================================================\n",
       "\n",
       "Notes:\n",
       "[1] Standard Errors assume that the covariance matrix of the errors is correctly specified.\n",
       "\"\"\""
      ]
     },
     "execution_count": 27,
     "metadata": {},
     "output_type": "execute_result"
    }
   ],
   "source": [
    "m2 = smf.ols(\"medv ~ age\", data=df).fit()\n",
    "m2.summary()"
   ]
  },
  {
   "cell_type": "markdown",
   "id": "39bdd988-adfe-4865-9231-9d8f0de009e1",
   "metadata": {},
   "source": [
    "#### (b) interpret the coefficients (β0 and β1). What do these numbers mean? Are these statistically significant?"
   ]
  },
  {
   "cell_type": "markdown",
   "id": "21bc2c7c-4415-446c-b518-67873fc539f8",
   "metadata": {},
   "source": [
    "This OLS regression analysis investigates the relationship between the median value of owner-occupied homes (medv) and the proportion of owner-occupied units built before 1940 (age).The intercept (β0) is 30.9787 with a p-value of 0.000(less than 0.05), which is statistically significant at a 95% confidence level. This suggests that when the proportion of owner-occupied units built before 1940 (age) is zero, the predicted median value of owner-occupied homes (medv) is 30.9787(USD dollars). However, it's important to note that having zero proportion of units built before 1940 might not be a practical scenario in real-world neighborhoods. The Age coefficient (β1) is -0.1232 with a p-value of 0.000(less than 0.05), which is statistically significant at a 95% confidence level. This means that, on average, for each additional 1% increase in the proportion of owner-occupied units built before 1940 (age), the median value of owner-occupied homes (medv) is expected to decrease by -0.1232(USD dollars). This indicates that neighborhoods with a higher proportion of older houses tend to have lower median house values."
   ]
  },
  {
   "cell_type": "markdown",
   "id": "a5a73351-f4ff-41f5-a7b6-45c1bd166bf0",
   "metadata": {},
   "source": [
    "#### (c) What do you think, why is the slope negative? Does it tell us anything about house prices?"
   ]
  },
  {
   "cell_type": "markdown",
   "id": "49b74f6e-bb82-41d6-afe4-7950aa2d6af1",
   "metadata": {},
   "source": [
    "The negative coefficient for the proportion of owner-occupied units built before 1940 (age) in the regression model suggests that there is a negative relationship between the age of the houses and the median value of owner-occupied homes (medv). This means that as the proportion of older houses in a neighborhood increases, the median house value in that neighborhood tends to decrease."
   ]
  },
  {
   "cell_type": "markdown",
   "id": "d56e1fe2-f9ec-4685-9285-5997ca5ad157",
   "metadata": {},
   "source": [
    "#### (d) Try to think about what do these numbers tell about the city and society. Remember: this is not about house price versus house size, this is neighborhood’s median house price versus neighborhood’s average house size.Try to think in terms of poor and rich neighborhoods!"
   ]
  },
  {
   "cell_type": "markdown",
   "id": "2ade53ec-b02c-4c22-a4f2-79cc5274b3d0",
   "metadata": {},
   "source": [
    "The results of the OLS regression indicate that neighborhoods with a greater proportion of elder homes tend to have lower median home values. This may be indicative of socioeconomic disparities between the city's impoverished and wealthy communities.There may be a greater proportion of older houses in poorer communities, which may be in poorer condition due to a lack of maintenance and renovations. These homes may have outmoded designs and amenities, resulting in a decrease in demand and, consequently, a decrease in home prices in these areas."
   ]
  },
  {
   "cell_type": "markdown",
   "id": "135a07d8-048e-4f2f-b551-757ff5fcfd7b",
   "metadata": {},
   "source": [
    "#### (e) create a plot of medv (vertical) versus rm (horizontal)"
   ]
  },
  {
   "cell_type": "markdown",
   "id": "14e293cf-eb82-4605-840b-3eb42f810694",
   "metadata": {},
   "source": [
    "#### (f) add your regression line on the plot."
   ]
  },
  {
   "cell_type": "code",
   "execution_count": 15,
   "id": "cba60947-990e-423a-9cf2-ddea7242f579",
   "metadata": {},
   "outputs": [
    {
     "data": {
      "image/png": "[encoded data removed]",
      "text/plain": [
       "<Figure size 720x432 with 1 Axes>"
      ]
     },
     "metadata": {
      "needs_background": "light"
     },
     "output_type": "display_data"
    }
   ],
   "source": [
    "plt.figure(figsize=(10, 6))\n",
    "sns.scatterplot(x='age', y='medv', data=df)\n",
    "sns.regplot(x='age', y='medv', data=df, scatter=False, line_kws={'color': 'red'})\n",
    "plt.xlabel('Average Number of Rooms per Dwelling (rm)')\n",
    "plt.ylabel('Median Value of Owner-Occupied Homes (medv)')\n",
    "plt.title('Median House Value vs. Average Number of Rooms per Dwelling')\n",
    "plt.show()"
   ]
  },
  {
   "cell_type": "markdown",
   "id": "b9c16893-4332-40bc-b947-9d3d793857e3",
   "metadata": {},
   "source": [
    "The regression line has a downward sloping, indicating a negative relationship between the proportion of owner-occupied units built before 1940 (age) and the median value of owner-occupied homes (medv).\n",
    "\n",
    "The dots in the scatter plot has a trend downward, similar to the regression line. This means that as the proportion of owner-occupied units built before 1940 (age) increases, the median value of owner-occupied homes (medv) tends to decrease. However, we can observe some deviations from this trend, as other factors may influence house values."
   ]
  },
  {
   "cell_type": "markdown",
   "id": "94e7628e-955c-49ec-80ce-e435c7656d03",
   "metadata": {},
   "source": [
    "### 3  Multiple regression"
   ]
  },
  {
   "cell_type": "markdown",
   "id": "a3ae363a-5748-4169-80ce-65a79eeaa54f",
   "metadata": {},
   "source": [
    "#### 1. Now use multiple regression to estimate the relationship between median house price and the neighborhood characteristics. Include all variables (except medv) as the explanatory variables. Print the output."
   ]
  },
  {
   "cell_type": "code",
   "execution_count": 16,
   "id": "8bad1244-433d-40b4-a291-5cfbc1dd9bb8",
   "metadata": {},
   "outputs": [
    {
     "data": {
      "text/html": [
       "<table class=\"simpletable\">\n",
       "<caption>OLS Regression Results</caption>\n",
       "<tr>\n",
       "  <th>Dep. Variable:</th>          <td>medv</td>       <th>  R-squared:         </th> <td>   0.741</td> \n",
       "</tr>\n",
       "<tr>\n",
       "  <th>Model:</th>                   <td>OLS</td>       <th>  Adj. R-squared:    </th> <td>   0.734</td> \n",
       "</tr>\n",
       "<tr>\n",
       "  <th>Method:</th>             <td>Least Squares</td>  <th>  F-statistic:       </th> <td>   108.1</td> \n",
       "</tr>\n",
       "<tr>\n",
       "  <th>Date:</th>             <td>Wed, 03 May 2023</td> <th>  Prob (F-statistic):</th> <td>6.72e-135</td>\n",
       "</tr>\n",
       "<tr>\n",
       "  <th>Time:</th>                 <td>01:40:13</td>     <th>  Log-Likelihood:    </th> <td> -1498.8</td> \n",
       "</tr>\n",
       "<tr>\n",
       "  <th>No. Observations:</th>      <td>   506</td>      <th>  AIC:               </th> <td>   3026.</td> \n",
       "</tr>\n",
       "<tr>\n",
       "  <th>Df Residuals:</th>          <td>   492</td>      <th>  BIC:               </th> <td>   3085.</td> \n",
       "</tr>\n",
       "<tr>\n",
       "  <th>Df Model:</th>              <td>    13</td>      <th>                     </th>     <td> </td>    \n",
       "</tr>\n",
       "<tr>\n",
       "  <th>Covariance Type:</th>      <td>nonrobust</td>    <th>                     </th>     <td> </td>    \n",
       "</tr>\n",
       "</table>\n",
       "<table class=\"simpletable\">\n",
       "<tr>\n",
       "      <td></td>         <th>coef</th>     <th>std err</th>      <th>t</th>      <th>P>|t|</th>  <th>[0.025</th>    <th>0.975]</th>  \n",
       "</tr>\n",
       "<tr>\n",
       "  <th>Intercept</th> <td>   36.4595</td> <td>    5.103</td> <td>    7.144</td> <td> 0.000</td> <td>   26.432</td> <td>   46.487</td>\n",
       "</tr>\n",
       "<tr>\n",
       "  <th>crim</th>      <td>   -0.1080</td> <td>    0.033</td> <td>   -3.287</td> <td> 0.001</td> <td>   -0.173</td> <td>   -0.043</td>\n",
       "</tr>\n",
       "<tr>\n",
       "  <th>zn</th>        <td>    0.0464</td> <td>    0.014</td> <td>    3.382</td> <td> 0.001</td> <td>    0.019</td> <td>    0.073</td>\n",
       "</tr>\n",
       "<tr>\n",
       "  <th>indus</th>     <td>    0.0206</td> <td>    0.061</td> <td>    0.334</td> <td> 0.738</td> <td>   -0.100</td> <td>    0.141</td>\n",
       "</tr>\n",
       "<tr>\n",
       "  <th>chas</th>      <td>    2.6867</td> <td>    0.862</td> <td>    3.118</td> <td> 0.002</td> <td>    0.994</td> <td>    4.380</td>\n",
       "</tr>\n",
       "<tr>\n",
       "  <th>nox</th>       <td>  -17.7666</td> <td>    3.820</td> <td>   -4.651</td> <td> 0.000</td> <td>  -25.272</td> <td>  -10.262</td>\n",
       "</tr>\n",
       "<tr>\n",
       "  <th>rm</th>        <td>    3.8099</td> <td>    0.418</td> <td>    9.116</td> <td> 0.000</td> <td>    2.989</td> <td>    4.631</td>\n",
       "</tr>\n",
       "<tr>\n",
       "  <th>age</th>       <td>    0.0007</td> <td>    0.013</td> <td>    0.052</td> <td> 0.958</td> <td>   -0.025</td> <td>    0.027</td>\n",
       "</tr>\n",
       "<tr>\n",
       "  <th>dis</th>       <td>   -1.4756</td> <td>    0.199</td> <td>   -7.398</td> <td> 0.000</td> <td>   -1.867</td> <td>   -1.084</td>\n",
       "</tr>\n",
       "<tr>\n",
       "  <th>rad</th>       <td>    0.3060</td> <td>    0.066</td> <td>    4.613</td> <td> 0.000</td> <td>    0.176</td> <td>    0.436</td>\n",
       "</tr>\n",
       "<tr>\n",
       "  <th>tax</th>       <td>   -0.0123</td> <td>    0.004</td> <td>   -3.280</td> <td> 0.001</td> <td>   -0.020</td> <td>   -0.005</td>\n",
       "</tr>\n",
       "<tr>\n",
       "  <th>ptratio</th>   <td>   -0.9527</td> <td>    0.131</td> <td>   -7.283</td> <td> 0.000</td> <td>   -1.210</td> <td>   -0.696</td>\n",
       "</tr>\n",
       "<tr>\n",
       "  <th>black</th>     <td>    0.0093</td> <td>    0.003</td> <td>    3.467</td> <td> 0.001</td> <td>    0.004</td> <td>    0.015</td>\n",
       "</tr>\n",
       "<tr>\n",
       "  <th>lstat</th>     <td>   -0.5248</td> <td>    0.051</td> <td>  -10.347</td> <td> 0.000</td> <td>   -0.624</td> <td>   -0.425</td>\n",
       "</tr>\n",
       "</table>\n",
       "<table class=\"simpletable\">\n",
       "<tr>\n",
       "  <th>Omnibus:</th>       <td>178.041</td> <th>  Durbin-Watson:     </th> <td>   1.078</td> \n",
       "</tr>\n",
       "<tr>\n",
       "  <th>Prob(Omnibus):</th> <td> 0.000</td>  <th>  Jarque-Bera (JB):  </th> <td> 783.126</td> \n",
       "</tr>\n",
       "<tr>\n",
       "  <th>Skew:</th>          <td> 1.521</td>  <th>  Prob(JB):          </th> <td>8.84e-171</td>\n",
       "</tr>\n",
       "<tr>\n",
       "  <th>Kurtosis:</th>      <td> 8.281</td>  <th>  Cond. No.          </th> <td>1.51e+04</td> \n",
       "</tr>\n",
       "</table><br/><br/>Notes:<br/>[1] Standard Errors assume that the covariance matrix of the errors is correctly specified.<br/>[2] The condition number is large, 1.51e+04. This might indicate that there are<br/>strong multicollinearity or other numerical problems."
      ],
      "text/plain": [
       "<class 'statsmodels.iolib.summary.Summary'>\n",
       "\"\"\"\n",
       "                            OLS Regression Results                            \n",
       "==============================================================================\n",
       "Dep. Variable:                   medv   R-squared:                       0.741\n",
       "Model:                            OLS   Adj. R-squared:                  0.734\n",
       "Method:                 Least Squares   F-statistic:                     108.1\n",
       "Date:                Wed, 03 May 2023   Prob (F-statistic):          6.72e-135\n",
       "Time:                        01:40:13   Log-Likelihood:                -1498.8\n",
       "No. Observations:                 506   AIC:                             3026.\n",
       "Df Residuals:                     492   BIC:                             3085.\n",
       "Df Model:                          13                                         \n",
       "Covariance Type:            nonrobust                                         \n",
       "==============================================================================\n",
       "                 coef    std err          t      P>|t|      [0.025      0.975]\n",
       "------------------------------------------------------------------------------\n",
       "Intercept     36.4595      5.103      7.144      0.000      26.432      46.487\n",
       "crim          -0.1080      0.033     -3.287      0.001      -0.173      -0.043\n",
       "zn             0.0464      0.014      3.382      0.001       0.019       0.073\n",
       "indus          0.0206      0.061      0.334      0.738      -0.100       0.141\n",
       "chas           2.6867      0.862      3.118      0.002       0.994       4.380\n",
       "nox          -17.7666      3.820     -4.651      0.000     -25.272     -10.262\n",
       "rm             3.8099      0.418      9.116      0.000       2.989       4.631\n",
       "age            0.0007      0.013      0.052      0.958      -0.025       0.027\n",
       "dis           -1.4756      0.199     -7.398      0.000      -1.867      -1.084\n",
       "rad            0.3060      0.066      4.613      0.000       0.176       0.436\n",
       "tax           -0.0123      0.004     -3.280      0.001      -0.020      -0.005\n",
       "ptratio       -0.9527      0.131     -7.283      0.000      -1.210      -0.696\n",
       "black          0.0093      0.003      3.467      0.001       0.004       0.015\n",
       "lstat         -0.5248      0.051    -10.347      0.000      -0.624      -0.425\n",
       "==============================================================================\n",
       "Omnibus:                      178.041   Durbin-Watson:                   1.078\n",
       "Prob(Omnibus):                  0.000   Jarque-Bera (JB):              783.126\n",
       "Skew:                           1.521   Prob(JB):                    8.84e-171\n",
       "Kurtosis:                       8.281   Cond. No.                     1.51e+04\n",
       "==============================================================================\n",
       "\n",
       "Notes:\n",
       "[1] Standard Errors assume that the covariance matrix of the errors is correctly specified.\n",
       "[2] The condition number is large, 1.51e+04. This might indicate that there are\n",
       "strong multicollinearity or other numerical problems.\n",
       "\"\"\""
      ]
     },
     "execution_count": 16,
     "metadata": {},
     "output_type": "execute_result"
    }
   ],
   "source": [
    "m2 = smf.ols(\"medv ~ crim + zn + indus + chas + nox + rm + age + \\\n",
    "             dis + rad + tax+ ptratio + black + lstat\", data=df).fit()\n",
    "m2.summary()"
   ]
  },
  {
   "cell_type": "markdown",
   "id": "98e9f415-dfc2-481e-89a5-a702f076ce3b",
   "metadata": {},
   "source": [
    "#### 2. Interpret the results for rm and age, the same two variables your used above."
   ]
  },
  {
   "cell_type": "markdown",
   "id": "b2555e1e-fcc5-4d8d-9740-5ecfee418640",
   "metadata": {},
   "source": [
    "rm (average number of rooms per dwelling) has a coefficient of 3.8099, standard error of 0.418, t-statistic of 9.116, p-value of 0.000 (less than 0.05).The p-value of 0.000 for rm is statistically significant (p-value < 0.05). This indicates that, holding all other variables constant, an additional room in a dwelling is associated with an increase of approximately 3.8099(USD dollars) in the median value of owner-occupied homes (medv) in the neighborhood.\n",
    "\n",
    "age (proportion of owner-occupied units built before 1940) has a coefficient of 0.0007, standard error of 0.013, t-statistic of 0.052,\n",
    "p-value of 0.958 (greater than 0.05).The p-value of 0.985 for age is not statistically significant (p-value > 0.05). This indicates that when controlling for all other variables in the model, the proportion of owner-occupied units built before 1940 does not have a significant effect on the median value of owner-occupied homes (medv) in the neighborhood."
   ]
  },
  {
   "cell_type": "markdown",
   "id": "7da11d4f-b012-465c-aa3b-d1ac05450fd0",
   "metadata": {},
   "source": [
    "#### 3. Explain why age is now essentially 0, while it was -0.12 and highly statistically significant in Q 2. 2. Does it tell you something about how house prices are determined?"
   ]
  },
  {
   "cell_type": "markdown",
   "id": "6ac22f8b-6eb3-44d0-acb5-3eb54d7e037f",
   "metadata": {},
   "source": [
    "The change in the coefficient and significance of age between the simple linear regression and multiple regression models is due to the inclusion of additional variables. In the multiple regression model, when accounting for these factors, age no longer has a significant impact on house prices. This highlights the importance of considering multiple factors when analyzing complex relationships like house price determination."
   ]
  }
 ],
 "metadata": {
  "kernelspec": {
   "display_name": "Python 3 (ipykernel)",
   "language": "python",
   "name": "python3"
  },
  "language_info": {
   "codemirror_mode": {
    "name": "ipython",
    "version": 3
   },
   "file_extension": ".py",
   "mimetype": "text/x-python",
   "name": "python",
   "nbconvert_exporter": "python",
   "pygments_lexer": "ipython3",
   "version": "3.9.7"
  }
 },
 "nbformat": 4,
 "nbformat_minor": 5
}
