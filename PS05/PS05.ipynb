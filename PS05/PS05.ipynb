{
 "cells": [
  {
   "cell_type": "markdown",
   "id": "10837149-fdac-45ac-bd41-5b5e3136187f",
   "metadata": {},
   "source": [
    "# PS05"
   ]
  },
  {
   "cell_type": "markdown",
   "id": "69063925-4bb4-4306-b009-b6692834933d",
   "metadata": {},
   "source": [
    "## Name: Xinyu Chang"
   ]
  },
  {
   "cell_type": "markdown",
   "id": "59706c27-ba18-4668-9a77-25771a2290a5",
   "metadata": {},
   "source": [
    "---"
   ]
  },
  {
   "cell_type": "code",
   "execution_count": 56,
   "id": "4b901cd9-63cb-4d13-a687-64e884e4e9f4",
   "metadata": {},
   "outputs": [],
   "source": [
    "# import the packages\n",
    "import matplotlib.pyplot as plt\n",
    "import pandas as pd\n",
    "import statsmodels.formula.api as smf\n",
    "import seaborn as sns\n",
    "import numpy as np"
   ]
  },
  {
   "cell_type": "markdown",
   "id": "d86f2df2-a1bc-4ff3-b96f-1bb7cf179f79",
   "metadata": {},
   "source": [
    "### 1 When will we hit 2C of global warming?"
   ]
  },
  {
   "cell_type": "markdown",
   "id": "6d574a0a-d83c-4777-8658-c32d8d3c7514",
   "metadata": {},
   "source": [
    "#### 1. Load data. Ensure it looks good."
   ]
  },
  {
   "cell_type": "code",
   "execution_count": 57,
   "id": "8a14f75b-f56d-4435-9c51-9a5ad35d35be",
   "metadata": {},
   "outputs": [],
   "source": [
    "hadcrut_data = pd.read_csv(\"hadcrut-5.0.1.0-annual.csv\", sep=\",\")"
   ]
  },
  {
   "cell_type": "code",
   "execution_count": 58,
   "id": "cf47c045-593f-4327-86d0-1ae8cb10377b",
   "metadata": {},
   "outputs": [
    {
     "data": {
      "text/plain": [
       "(173, 4)"
      ]
     },
     "execution_count": 58,
     "metadata": {},
     "output_type": "execute_result"
    }
   ],
   "source": [
    "hadcrut_data.shape"
   ]
  },
  {
   "cell_type": "code",
   "execution_count": 59,
   "id": "1cb27757-3bf1-48e7-b5a9-aabe5b8afce3",
   "metadata": {},
   "outputs": [
    {
     "data": {
      "text/html": [
       "<div>\n",
       "<style scoped>\n",
       "    .dataframe tbody tr th:only-of-type {\n",
       "        vertical-align: middle;\n",
       "    }\n",
       "\n",
       "    .dataframe tbody tr th {\n",
       "        vertical-align: top;\n",
       "    }\n",
       "\n",
       "    .dataframe thead th {\n",
       "        text-align: right;\n",
       "    }\n",
       "</style>\n",
       "<table border=\"1\" class=\"dataframe\">\n",
       "  <thead>\n",
       "    <tr style=\"text-align: right;\">\n",
       "      <th></th>\n",
       "      <th>Time</th>\n",
       "      <th>Anomaly (deg C)</th>\n",
       "      <th>Lower confidence limit (2.5%)</th>\n",
       "      <th>Upper confidence limit (97.5%)</th>\n",
       "    </tr>\n",
       "  </thead>\n",
       "  <tbody>\n",
       "    <tr>\n",
       "      <th>0</th>\n",
       "      <td>1850</td>\n",
       "      <td>-0.417659</td>\n",
       "      <td>-0.589203</td>\n",
       "      <td>-0.246115</td>\n",
       "    </tr>\n",
       "    <tr>\n",
       "      <th>1</th>\n",
       "      <td>1851</td>\n",
       "      <td>-0.233350</td>\n",
       "      <td>-0.411868</td>\n",
       "      <td>-0.054832</td>\n",
       "    </tr>\n",
       "    <tr>\n",
       "      <th>2</th>\n",
       "      <td>1852</td>\n",
       "      <td>-0.229399</td>\n",
       "      <td>-0.409382</td>\n",
       "      <td>-0.049416</td>\n",
       "    </tr>\n",
       "    <tr>\n",
       "      <th>3</th>\n",
       "      <td>1853</td>\n",
       "      <td>-0.270354</td>\n",
       "      <td>-0.430009</td>\n",
       "      <td>-0.110700</td>\n",
       "    </tr>\n",
       "    <tr>\n",
       "      <th>4</th>\n",
       "      <td>1854</td>\n",
       "      <td>-0.291630</td>\n",
       "      <td>-0.432824</td>\n",
       "      <td>-0.150436</td>\n",
       "    </tr>\n",
       "  </tbody>\n",
       "</table>\n",
       "</div>"
      ],
      "text/plain": [
       "   Time  Anomaly (deg C)  Lower confidence limit (2.5%)  \\\n",
       "0  1850        -0.417659                      -0.589203   \n",
       "1  1851        -0.233350                      -0.411868   \n",
       "2  1852        -0.229399                      -0.409382   \n",
       "3  1853        -0.270354                      -0.430009   \n",
       "4  1854        -0.291630                      -0.432824   \n",
       "\n",
       "   Upper confidence limit (97.5%)  \n",
       "0                       -0.246115  \n",
       "1                       -0.054832  \n",
       "2                       -0.049416  \n",
       "3                       -0.110700  \n",
       "4                       -0.150436  "
      ]
     },
     "execution_count": 59,
     "metadata": {},
     "output_type": "execute_result"
    }
   ],
   "source": [
    "hadcrut_data.head()"
   ]
  },
  {
   "cell_type": "markdown",
   "id": "6fdb09cb-7dc7-41e1-b151-900f7a5f8b94",
   "metadata": {},
   "source": [
    "There are 173 columns and 4 rows in the dataset. The first 5 lines of data look reasonable and the data fits the type that the column defines."
   ]
  },
  {
   "cell_type": "code",
   "execution_count": 60,
   "id": "182fcd49-f192-42d5-98c0-a63ea1327414",
   "metadata": {},
   "outputs": [
    {
     "data": {
      "text/plain": [
       "Time                              0\n",
       "Anomaly (deg C)                   0\n",
       "Lower confidence limit (2.5%)     0\n",
       "Upper confidence limit (97.5%)    0\n",
       "dtype: int64"
      ]
     },
     "execution_count": 60,
     "metadata": {},
     "output_type": "execute_result"
    }
   ],
   "source": [
    "hadcrut_data.isna().sum()"
   ]
  },
  {
   "cell_type": "markdown",
   "id": "ff32a7af-c26e-4bfa-9fd2-57d7f93be361",
   "metadata": {},
   "source": [
    "There is no missing value in the dataset."
   ]
  },
  {
   "cell_type": "markdown",
   "id": "912229db-d841-4325-8031-88e032655dd3",
   "metadata": {},
   "source": [
    "#### 2. Make a plot of the temperature anomaly for all years in the dataset. Describe what you see–how has the global temperature behaved through the last 170 years?"
   ]
  },
  {
   "cell_type": "code",
   "execution_count": 61,
   "id": "7b86206d-f039-4a21-8104-a5f3bde654c0",
   "metadata": {},
   "outputs": [
    {
     "data": {
      "text/html": [
       "<div>\n",
       "<style scoped>\n",
       "    .dataframe tbody tr th:only-of-type {\n",
       "        vertical-align: middle;\n",
       "    }\n",
       "\n",
       "    .dataframe tbody tr th {\n",
       "        vertical-align: top;\n",
       "    }\n",
       "\n",
       "    .dataframe thead th {\n",
       "        text-align: right;\n",
       "    }\n",
       "</style>\n",
       "<table border=\"1\" class=\"dataframe\">\n",
       "  <thead>\n",
       "    <tr style=\"text-align: right;\">\n",
       "      <th></th>\n",
       "      <th>Time</th>\n",
       "      <th>anomaly</th>\n",
       "      <th>lower_confidence</th>\n",
       "      <th>upper_confidence</th>\n",
       "    </tr>\n",
       "  </thead>\n",
       "  <tbody>\n",
       "    <tr>\n",
       "      <th>0</th>\n",
       "      <td>1850</td>\n",
       "      <td>-0.417659</td>\n",
       "      <td>-0.589203</td>\n",
       "      <td>-0.246115</td>\n",
       "    </tr>\n",
       "    <tr>\n",
       "      <th>1</th>\n",
       "      <td>1851</td>\n",
       "      <td>-0.233350</td>\n",
       "      <td>-0.411868</td>\n",
       "      <td>-0.054832</td>\n",
       "    </tr>\n",
       "    <tr>\n",
       "      <th>2</th>\n",
       "      <td>1852</td>\n",
       "      <td>-0.229399</td>\n",
       "      <td>-0.409382</td>\n",
       "      <td>-0.049416</td>\n",
       "    </tr>\n",
       "    <tr>\n",
       "      <th>3</th>\n",
       "      <td>1853</td>\n",
       "      <td>-0.270354</td>\n",
       "      <td>-0.430009</td>\n",
       "      <td>-0.110700</td>\n",
       "    </tr>\n",
       "    <tr>\n",
       "      <th>4</th>\n",
       "      <td>1854</td>\n",
       "      <td>-0.291630</td>\n",
       "      <td>-0.432824</td>\n",
       "      <td>-0.150436</td>\n",
       "    </tr>\n",
       "    <tr>\n",
       "      <th>...</th>\n",
       "      <td>...</td>\n",
       "      <td>...</td>\n",
       "      <td>...</td>\n",
       "      <td>...</td>\n",
       "    </tr>\n",
       "    <tr>\n",
       "      <th>168</th>\n",
       "      <td>2018</td>\n",
       "      <td>0.762654</td>\n",
       "      <td>0.731052</td>\n",
       "      <td>0.794256</td>\n",
       "    </tr>\n",
       "    <tr>\n",
       "      <th>169</th>\n",
       "      <td>2019</td>\n",
       "      <td>0.891073</td>\n",
       "      <td>0.856787</td>\n",
       "      <td>0.925358</td>\n",
       "    </tr>\n",
       "    <tr>\n",
       "      <th>170</th>\n",
       "      <td>2020</td>\n",
       "      <td>0.922794</td>\n",
       "      <td>0.888212</td>\n",
       "      <td>0.957376</td>\n",
       "    </tr>\n",
       "    <tr>\n",
       "      <th>171</th>\n",
       "      <td>2021</td>\n",
       "      <td>0.761856</td>\n",
       "      <td>0.725443</td>\n",
       "      <td>0.798268</td>\n",
       "    </tr>\n",
       "    <tr>\n",
       "      <th>172</th>\n",
       "      <td>2022</td>\n",
       "      <td>0.804886</td>\n",
       "      <td>0.736509</td>\n",
       "      <td>0.873264</td>\n",
       "    </tr>\n",
       "  </tbody>\n",
       "</table>\n",
       "<p>173 rows × 4 columns</p>\n",
       "</div>"
      ],
      "text/plain": [
       "     Time   anomaly  lower_confidence  upper_confidence\n",
       "0    1850 -0.417659         -0.589203         -0.246115\n",
       "1    1851 -0.233350         -0.411868         -0.054832\n",
       "2    1852 -0.229399         -0.409382         -0.049416\n",
       "3    1853 -0.270354         -0.430009         -0.110700\n",
       "4    1854 -0.291630         -0.432824         -0.150436\n",
       "..    ...       ...               ...               ...\n",
       "168  2018  0.762654          0.731052          0.794256\n",
       "169  2019  0.891073          0.856787          0.925358\n",
       "170  2020  0.922794          0.888212          0.957376\n",
       "171  2021  0.761856          0.725443          0.798268\n",
       "172  2022  0.804886          0.736509          0.873264\n",
       "\n",
       "[173 rows x 4 columns]"
      ]
     },
     "execution_count": 61,
     "metadata": {},
     "output_type": "execute_result"
    }
   ],
   "source": [
    "# Rename the column\n",
    "new_data = hadcrut_data.rename(columns={\n",
    "    'Anomaly (deg C)': 'anomaly',\n",
    "    'Lower confidence limit (2.5%)': 'lower_confidence',\n",
    "    'Upper confidence limit (97.5%)': 'upper_confidence'\n",
    "})\n",
    "new_data"
   ]
  },
  {
   "cell_type": "code",
   "execution_count": 62,
   "id": "c21efb21-ac0f-41eb-a1eb-f739d98f9520",
   "metadata": {},
   "outputs": [
    {
     "data": {
      "image/png": "[encoded data removed]",
      "text/plain": [
       "<Figure size 864x432 with 1 Axes>"
      ]
     },
     "metadata": {
      "needs_background": "light"
     },
     "output_type": "display_data"
    }
   ],
   "source": [
    "plt.figure(figsize=(12, 6))\n",
    "plt.plot(new_data['Time'], new_data['anomaly'], label='Temperature Anomaly')\n",
    "plt.xlabel('Time')\n",
    "plt.ylabel('Temperature Anomaly (°C)')\n",
    "plt.title('Global Temperature Anomaly')\n",
    "plt.legend()\n",
    "plt.show()"
   ]
  },
  {
   "cell_type": "markdown",
   "id": "71ed7d71-f34c-475e-ad0a-04f4380f8598",
   "metadata": {},
   "source": [
    "This plot illustrates the changes in global temperature anomalies over the last 170 years. Throughout the time period, the global temperature fluctuates, but there is a distinct upward trend. Remarkably, the last 125 years show a fairly constant upward trend, highlighting the accelerated pace of global warming during this period. A particularly striking observation is the dramatic temperature increase from 1975 to 2021, as the anomaly rises from about -0.2°C to 0.8°C. "
   ]
  },
  {
   "cell_type": "markdown",
   "id": "a3764583-2369-4c58-802f-1eda807ab6bb",
   "metadata": {},
   "source": [
    "---"
   ]
  },
  {
   "cell_type": "markdown",
   "id": "4072e00f-e708-4b12-af3a-4a3d93524783",
   "metadata": {},
   "source": [
    "#### 1. Compute the baseline anomaly (for 1850-1900)."
   ]
  },
  {
   "cell_type": "code",
   "execution_count": 63,
   "id": "48bd4ff1-b381-40f5-807e-58be0076b4e5",
   "metadata": {},
   "outputs": [
    {
     "data": {
      "text/plain": [
       "-0.3565021707254903"
      ]
     },
     "execution_count": 63,
     "metadata": {},
     "output_type": "execute_result"
    }
   ],
   "source": [
    "baseline_data = new_data.loc[(new_data['Time'] <= 1900) &\n",
    "                             (new_data['Time'] >= 1850)].anomaly.mean()\n",
    "baseline_data"
   ]
  },
  {
   "cell_type": "markdown",
   "id": "19d3f726-99ff-44eb-906c-99eaacc03a37",
   "metadata": {},
   "source": [
    "The baseline anomaly for 1850 - 1900 is approximately -0.3565°C."
   ]
  },
  {
   "cell_type": "markdown",
   "id": "f4785fa5-40d5-45ae-85c8-47c4d424ce95",
   "metadata": {},
   "source": [
    "#### 2. Make a plot that shows the last 60 years of data, overlied with the regression line.In your opinion–does the regression line describe the trend well?"
   ]
  },
  {
   "cell_type": "code",
   "execution_count": 64,
   "id": "ce4e4a80-22e4-4544-8f8b-eaeb18c06e5a",
   "metadata": {},
   "outputs": [
    {
     "data": {
      "text/html": [
       "<div>\n",
       "<style scoped>\n",
       "    .dataframe tbody tr th:only-of-type {\n",
       "        vertical-align: middle;\n",
       "    }\n",
       "\n",
       "    .dataframe tbody tr th {\n",
       "        vertical-align: top;\n",
       "    }\n",
       "\n",
       "    .dataframe thead th {\n",
       "        text-align: right;\n",
       "    }\n",
       "</style>\n",
       "<table border=\"1\" class=\"dataframe\">\n",
       "  <thead>\n",
       "    <tr style=\"text-align: right;\">\n",
       "      <th></th>\n",
       "      <th>Time</th>\n",
       "      <th>anomaly</th>\n",
       "      <th>lower_confidence</th>\n",
       "      <th>upper_confidence</th>\n",
       "    </tr>\n",
       "  </thead>\n",
       "  <tbody>\n",
       "    <tr>\n",
       "      <th>113</th>\n",
       "      <td>1963</td>\n",
       "      <td>-0.036806</td>\n",
       "      <td>-0.090570</td>\n",
       "      <td>0.016958</td>\n",
       "    </tr>\n",
       "    <tr>\n",
       "      <th>114</th>\n",
       "      <td>1964</td>\n",
       "      <td>-0.305867</td>\n",
       "      <td>-0.349492</td>\n",
       "      <td>-0.262241</td>\n",
       "    </tr>\n",
       "    <tr>\n",
       "      <th>115</th>\n",
       "      <td>1965</td>\n",
       "      <td>-0.204388</td>\n",
       "      <td>-0.253574</td>\n",
       "      <td>-0.155202</td>\n",
       "    </tr>\n",
       "    <tr>\n",
       "      <th>116</th>\n",
       "      <td>1966</td>\n",
       "      <td>-0.148885</td>\n",
       "      <td>-0.198392</td>\n",
       "      <td>-0.099377</td>\n",
       "    </tr>\n",
       "    <tr>\n",
       "      <th>117</th>\n",
       "      <td>1967</td>\n",
       "      <td>-0.117516</td>\n",
       "      <td>-0.160625</td>\n",
       "      <td>-0.074408</td>\n",
       "    </tr>\n",
       "    <tr>\n",
       "      <th>118</th>\n",
       "      <td>1968</td>\n",
       "      <td>-0.168632</td>\n",
       "      <td>-0.213253</td>\n",
       "      <td>-0.124011</td>\n",
       "    </tr>\n",
       "    <tr>\n",
       "      <th>119</th>\n",
       "      <td>1969</td>\n",
       "      <td>-0.031367</td>\n",
       "      <td>-0.071865</td>\n",
       "      <td>0.009132</td>\n",
       "    </tr>\n",
       "    <tr>\n",
       "      <th>120</th>\n",
       "      <td>1970</td>\n",
       "      <td>-0.085107</td>\n",
       "      <td>-0.126081</td>\n",
       "      <td>-0.044132</td>\n",
       "    </tr>\n",
       "    <tr>\n",
       "      <th>121</th>\n",
       "      <td>1971</td>\n",
       "      <td>-0.205933</td>\n",
       "      <td>-0.244507</td>\n",
       "      <td>-0.167358</td>\n",
       "    </tr>\n",
       "    <tr>\n",
       "      <th>122</th>\n",
       "      <td>1972</td>\n",
       "      <td>-0.093827</td>\n",
       "      <td>-0.131717</td>\n",
       "      <td>-0.055937</td>\n",
       "    </tr>\n",
       "  </tbody>\n",
       "</table>\n",
       "</div>"
      ],
      "text/plain": [
       "     Time   anomaly  lower_confidence  upper_confidence\n",
       "113  1963 -0.036806         -0.090570          0.016958\n",
       "114  1964 -0.305867         -0.349492         -0.262241\n",
       "115  1965 -0.204388         -0.253574         -0.155202\n",
       "116  1966 -0.148885         -0.198392         -0.099377\n",
       "117  1967 -0.117516         -0.160625         -0.074408\n",
       "118  1968 -0.168632         -0.213253         -0.124011\n",
       "119  1969 -0.031367         -0.071865          0.009132\n",
       "120  1970 -0.085107         -0.126081         -0.044132\n",
       "121  1971 -0.205933         -0.244507         -0.167358\n",
       "122  1972 -0.093827         -0.131717         -0.055937"
      ]
     },
     "execution_count": 64,
     "metadata": {},
     "output_type": "execute_result"
    }
   ],
   "source": [
    "recent_data = new_data[(new_data['Time'] >= 1963) & (new_data['Time'] <= 2022)]\n",
    "recent_data.head(10)"
   ]
  },
  {
   "cell_type": "code",
   "execution_count": 65,
   "id": "82e6373b-1556-4570-bc0c-6a9bf0dc9b34",
   "metadata": {},
   "outputs": [
    {
     "data": {
      "image/png": "[encoded data removed]",
      "text/plain": [
       "<Figure size 432x288 with 1 Axes>"
      ]
     },
     "metadata": {
      "needs_background": "light"
     },
     "output_type": "display_data"
    }
   ],
   "source": [
    "_ = sns.regplot(x=\"Time\",\n",
    "                y=\"anomaly\",\n",
    "                scatter_kws={\"color\": \"blue\", \"alpha\": 0.3,\n",
    "                             \"edgecolor\": \"black\"},\n",
    "                line_kws={\"color\": \"red\"},\n",
    "                data=recent_data)\n",
    "\n",
    "_ = plt.title(\"Regression Plot of Time vs. Anomaly for Recent Data\")\n",
    "_ = plt.show()"
   ]
  },
  {
   "cell_type": "markdown",
   "id": "f84c6329-9cf6-4af9-9c86-17b4c1306c37",
   "metadata": {},
   "source": [
    "For my opinoin, the regression line describe the trend well because all the data spread near the regression line and the slope of the regression line fits the trend of how the data spreading in the graph. The regression line closely follow the pattern of the data points, capturing the overall upward trend in the temperature anomalies over the last 60 years (1963-2022)."
   ]
  },
  {
   "cell_type": "markdown",
   "id": "e3278d76-5b28-44fc-a98e-60477170ee3d",
   "metadata": {},
   "source": [
    "#### 3. (2pt) Keep in mind that we have a problem with this dataset: Anomaly is reported with reference to the 1961-1990 period. In order to normalize the data, create a new column that describes the temperature anomaly above the pre-industrial baseline (that is what you calculated in Q1.1 above)."
   ]
  },
  {
   "cell_type": "code",
   "execution_count": 66,
   "id": "9e1c9146-b731-4de0-a6cb-cd67a2f5c4bb",
   "metadata": {},
   "outputs": [],
   "source": [
    "def diff_value(row):\n",
    "    return row['anomaly'] - baseline_data"
   ]
  },
  {
   "cell_type": "code",
   "execution_count": 67,
   "id": "2a108195-a283-4669-892f-91f2ad8c202f",
   "metadata": {},
   "outputs": [],
   "source": [
    "def diff_year(row):\n",
    "    return row['Time'] - 2000"
   ]
  },
  {
   "cell_type": "code",
   "execution_count": 68,
   "id": "25b634eb-2749-4e7d-88fb-51dc3e83f00c",
   "metadata": {},
   "outputs": [
    {
     "data": {
      "text/html": [
       "<div>\n",
       "<style scoped>\n",
       "    .dataframe tbody tr th:only-of-type {\n",
       "        vertical-align: middle;\n",
       "    }\n",
       "\n",
       "    .dataframe tbody tr th {\n",
       "        vertical-align: top;\n",
       "    }\n",
       "\n",
       "    .dataframe thead th {\n",
       "        text-align: right;\n",
       "    }\n",
       "</style>\n",
       "<table border=\"1\" class=\"dataframe\">\n",
       "  <thead>\n",
       "    <tr style=\"text-align: right;\">\n",
       "      <th></th>\n",
       "      <th>Time</th>\n",
       "      <th>anomaly</th>\n",
       "      <th>lower_confidence</th>\n",
       "      <th>upper_confidence</th>\n",
       "      <th>Baseline_value_Diff</th>\n",
       "      <th>Time_Diff</th>\n",
       "    </tr>\n",
       "  </thead>\n",
       "  <tbody>\n",
       "    <tr>\n",
       "      <th>0</th>\n",
       "      <td>1850</td>\n",
       "      <td>-0.417659</td>\n",
       "      <td>-0.589203</td>\n",
       "      <td>-0.246115</td>\n",
       "      <td>-0.061157</td>\n",
       "      <td>-150.0</td>\n",
       "    </tr>\n",
       "    <tr>\n",
       "      <th>1</th>\n",
       "      <td>1851</td>\n",
       "      <td>-0.233350</td>\n",
       "      <td>-0.411868</td>\n",
       "      <td>-0.054832</td>\n",
       "      <td>0.123152</td>\n",
       "      <td>-149.0</td>\n",
       "    </tr>\n",
       "    <tr>\n",
       "      <th>2</th>\n",
       "      <td>1852</td>\n",
       "      <td>-0.229399</td>\n",
       "      <td>-0.409382</td>\n",
       "      <td>-0.049416</td>\n",
       "      <td>0.127103</td>\n",
       "      <td>-148.0</td>\n",
       "    </tr>\n",
       "    <tr>\n",
       "      <th>3</th>\n",
       "      <td>1853</td>\n",
       "      <td>-0.270354</td>\n",
       "      <td>-0.430009</td>\n",
       "      <td>-0.110700</td>\n",
       "      <td>0.086148</td>\n",
       "      <td>-147.0</td>\n",
       "    </tr>\n",
       "    <tr>\n",
       "      <th>4</th>\n",
       "      <td>1854</td>\n",
       "      <td>-0.291630</td>\n",
       "      <td>-0.432824</td>\n",
       "      <td>-0.150436</td>\n",
       "      <td>0.064872</td>\n",
       "      <td>-146.0</td>\n",
       "    </tr>\n",
       "    <tr>\n",
       "      <th>...</th>\n",
       "      <td>...</td>\n",
       "      <td>...</td>\n",
       "      <td>...</td>\n",
       "      <td>...</td>\n",
       "      <td>...</td>\n",
       "      <td>...</td>\n",
       "    </tr>\n",
       "    <tr>\n",
       "      <th>168</th>\n",
       "      <td>2018</td>\n",
       "      <td>0.762654</td>\n",
       "      <td>0.731052</td>\n",
       "      <td>0.794256</td>\n",
       "      <td>1.119156</td>\n",
       "      <td>18.0</td>\n",
       "    </tr>\n",
       "    <tr>\n",
       "      <th>169</th>\n",
       "      <td>2019</td>\n",
       "      <td>0.891073</td>\n",
       "      <td>0.856787</td>\n",
       "      <td>0.925358</td>\n",
       "      <td>1.247575</td>\n",
       "      <td>19.0</td>\n",
       "    </tr>\n",
       "    <tr>\n",
       "      <th>170</th>\n",
       "      <td>2020</td>\n",
       "      <td>0.922794</td>\n",
       "      <td>0.888212</td>\n",
       "      <td>0.957376</td>\n",
       "      <td>1.279296</td>\n",
       "      <td>20.0</td>\n",
       "    </tr>\n",
       "    <tr>\n",
       "      <th>171</th>\n",
       "      <td>2021</td>\n",
       "      <td>0.761856</td>\n",
       "      <td>0.725443</td>\n",
       "      <td>0.798268</td>\n",
       "      <td>1.118358</td>\n",
       "      <td>21.0</td>\n",
       "    </tr>\n",
       "    <tr>\n",
       "      <th>172</th>\n",
       "      <td>2022</td>\n",
       "      <td>0.804886</td>\n",
       "      <td>0.736509</td>\n",
       "      <td>0.873264</td>\n",
       "      <td>1.161388</td>\n",
       "      <td>22.0</td>\n",
       "    </tr>\n",
       "  </tbody>\n",
       "</table>\n",
       "<p>173 rows × 6 columns</p>\n",
       "</div>"
      ],
      "text/plain": [
       "     Time   anomaly  lower_confidence  upper_confidence  Baseline_value_Diff  \\\n",
       "0    1850 -0.417659         -0.589203         -0.246115            -0.061157   \n",
       "1    1851 -0.233350         -0.411868         -0.054832             0.123152   \n",
       "2    1852 -0.229399         -0.409382         -0.049416             0.127103   \n",
       "3    1853 -0.270354         -0.430009         -0.110700             0.086148   \n",
       "4    1854 -0.291630         -0.432824         -0.150436             0.064872   \n",
       "..    ...       ...               ...               ...                  ...   \n",
       "168  2018  0.762654          0.731052          0.794256             1.119156   \n",
       "169  2019  0.891073          0.856787          0.925358             1.247575   \n",
       "170  2020  0.922794          0.888212          0.957376             1.279296   \n",
       "171  2021  0.761856          0.725443          0.798268             1.118358   \n",
       "172  2022  0.804886          0.736509          0.873264             1.161388   \n",
       "\n",
       "     Time_Diff  \n",
       "0       -150.0  \n",
       "1       -149.0  \n",
       "2       -148.0  \n",
       "3       -147.0  \n",
       "4       -146.0  \n",
       "..         ...  \n",
       "168       18.0  \n",
       "169       19.0  \n",
       "170       20.0  \n",
       "171       21.0  \n",
       "172       22.0  \n",
       "\n",
       "[173 rows x 6 columns]"
      ]
     },
     "execution_count": 68,
     "metadata": {},
     "output_type": "execute_result"
    }
   ],
   "source": [
    "new_data['Baseline_value_Diff'] = new_data.apply(lambda row: diff_value(row),\n",
    "                                                 axis=1)\n",
    "new_data['Time_Diff'] = new_data.apply(lambda row: diff_year(row), axis=1)\n",
    "new_data"
   ]
  },
  {
   "cell_type": "markdown",
   "id": "36071051-2572-4baa-bec2-17b4a19ca053",
   "metadata": {},
   "source": [
    "By observing the table, the difference between the baseline value difference is -0.06 in year 1850."
   ]
  },
  {
   "cell_type": "markdown",
   "id": "a590254e-6d96-44f8-80fb-0d0c958ee261",
   "metadata": {},
   "source": [
    "#### 4. Estimate a linear regression model where you describe the anomaly above the preindustrial baseline (this is what you calculated in Q1.3 above) as a function of years. How large is R2? What does this number tell you?"
   ]
  },
  {
   "cell_type": "code",
   "execution_count": 69,
   "id": "109a94fd-199f-4bb8-a369-925ca4ab8168",
   "metadata": {},
   "outputs": [
    {
     "data": {
      "text/html": [
       "<div>\n",
       "<style scoped>\n",
       "    .dataframe tbody tr th:only-of-type {\n",
       "        vertical-align: middle;\n",
       "    }\n",
       "\n",
       "    .dataframe tbody tr th {\n",
       "        vertical-align: top;\n",
       "    }\n",
       "\n",
       "    .dataframe thead th {\n",
       "        text-align: right;\n",
       "    }\n",
       "</style>\n",
       "<table border=\"1\" class=\"dataframe\">\n",
       "  <thead>\n",
       "    <tr style=\"text-align: right;\">\n",
       "      <th></th>\n",
       "      <th>Time</th>\n",
       "      <th>anomaly</th>\n",
       "      <th>lower_confidence</th>\n",
       "      <th>upper_confidence</th>\n",
       "      <th>Baseline_value_Diff</th>\n",
       "      <th>Time_Diff</th>\n",
       "    </tr>\n",
       "  </thead>\n",
       "  <tbody>\n",
       "    <tr>\n",
       "      <th>112</th>\n",
       "      <td>1962</td>\n",
       "      <td>-0.064054</td>\n",
       "      <td>-0.117314</td>\n",
       "      <td>-0.010794</td>\n",
       "      <td>0.292448</td>\n",
       "      <td>-38.0</td>\n",
       "    </tr>\n",
       "    <tr>\n",
       "      <th>113</th>\n",
       "      <td>1963</td>\n",
       "      <td>-0.036806</td>\n",
       "      <td>-0.090570</td>\n",
       "      <td>0.016958</td>\n",
       "      <td>0.319696</td>\n",
       "      <td>-37.0</td>\n",
       "    </tr>\n",
       "    <tr>\n",
       "      <th>114</th>\n",
       "      <td>1964</td>\n",
       "      <td>-0.305867</td>\n",
       "      <td>-0.349492</td>\n",
       "      <td>-0.262241</td>\n",
       "      <td>0.050635</td>\n",
       "      <td>-36.0</td>\n",
       "    </tr>\n",
       "    <tr>\n",
       "      <th>115</th>\n",
       "      <td>1965</td>\n",
       "      <td>-0.204388</td>\n",
       "      <td>-0.253574</td>\n",
       "      <td>-0.155202</td>\n",
       "      <td>0.152114</td>\n",
       "      <td>-35.0</td>\n",
       "    </tr>\n",
       "    <tr>\n",
       "      <th>116</th>\n",
       "      <td>1966</td>\n",
       "      <td>-0.148885</td>\n",
       "      <td>-0.198392</td>\n",
       "      <td>-0.099377</td>\n",
       "      <td>0.207618</td>\n",
       "      <td>-34.0</td>\n",
       "    </tr>\n",
       "  </tbody>\n",
       "</table>\n",
       "</div>"
      ],
      "text/plain": [
       "     Time   anomaly  lower_confidence  upper_confidence  Baseline_value_Diff  \\\n",
       "112  1962 -0.064054         -0.117314         -0.010794             0.292448   \n",
       "113  1963 -0.036806         -0.090570          0.016958             0.319696   \n",
       "114  1964 -0.305867         -0.349492         -0.262241             0.050635   \n",
       "115  1965 -0.204388         -0.253574         -0.155202             0.152114   \n",
       "116  1966 -0.148885         -0.198392         -0.099377             0.207618   \n",
       "\n",
       "     Time_Diff  \n",
       "112      -38.0  \n",
       "113      -37.0  \n",
       "114      -36.0  \n",
       "115      -35.0  \n",
       "116      -34.0  "
      ]
     },
     "execution_count": 69,
     "metadata": {},
     "output_type": "execute_result"
    }
   ],
   "source": [
    "new_60_data = new_data.loc[(new_data['Time'] <= 2022) &\n",
    "                           (new_data['Time'] >= 1962)]\n",
    "new_60_data.head()"
   ]
  },
  {
   "cell_type": "code",
   "execution_count": 70,
   "id": "983fd2af-edf2-4a8d-9ec2-ff6ebc7b5292",
   "metadata": {},
   "outputs": [
    {
     "data": {
      "text/html": [
       "<table class=\"simpletable\">\n",
       "<caption>OLS Regression Results</caption>\n",
       "<tr>\n",
       "  <th>Dep. Variable:</th>    <td>Baseline_value_Diff</td> <th>  R-squared:         </th> <td>   0.916</td>\n",
       "</tr>\n",
       "<tr>\n",
       "  <th>Model:</th>                    <td>OLS</td>         <th>  Adj. R-squared:    </th> <td>   0.914</td>\n",
       "</tr>\n",
       "<tr>\n",
       "  <th>Method:</th>              <td>Least Squares</td>    <th>  F-statistic:       </th> <td>   642.6</td>\n",
       "</tr>\n",
       "<tr>\n",
       "  <th>Date:</th>              <td>Sun, 07 May 2023</td>   <th>  Prob (F-statistic):</th> <td>2.06e-33</td>\n",
       "</tr>\n",
       "<tr>\n",
       "  <th>Time:</th>                  <td>07:08:57</td>       <th>  Log-Likelihood:    </th> <td>  55.328</td>\n",
       "</tr>\n",
       "<tr>\n",
       "  <th>No. Observations:</th>       <td>    61</td>        <th>  AIC:               </th> <td>  -106.7</td>\n",
       "</tr>\n",
       "<tr>\n",
       "  <th>Df Residuals:</th>           <td>    59</td>        <th>  BIC:               </th> <td>  -102.4</td>\n",
       "</tr>\n",
       "<tr>\n",
       "  <th>Df Model:</th>               <td>     1</td>        <th>                     </th>     <td> </td>   \n",
       "</tr>\n",
       "<tr>\n",
       "  <th>Covariance Type:</th>       <td>nonrobust</td>      <th>                     </th>     <td> </td>   \n",
       "</tr>\n",
       "</table>\n",
       "<table class=\"simpletable\">\n",
       "<tr>\n",
       "      <td></td>         <th>coef</th>     <th>std err</th>      <th>t</th>      <th>P>|t|</th>  <th>[0.025</th>    <th>0.975]</th>  \n",
       "</tr>\n",
       "<tr>\n",
       "  <th>Intercept</th> <td>    0.8003</td> <td>    0.014</td> <td>   57.292</td> <td> 0.000</td> <td>    0.772</td> <td>    0.828</td>\n",
       "</tr>\n",
       "<tr>\n",
       "  <th>Time_Diff</th> <td>    0.0183</td> <td>    0.001</td> <td>   25.349</td> <td> 0.000</td> <td>    0.017</td> <td>    0.020</td>\n",
       "</tr>\n",
       "</table>\n",
       "<table class=\"simpletable\">\n",
       "<tr>\n",
       "  <th>Omnibus:</th>       <td> 2.185</td> <th>  Durbin-Watson:     </th> <td>   1.607</td>\n",
       "</tr>\n",
       "<tr>\n",
       "  <th>Prob(Omnibus):</th> <td> 0.335</td> <th>  Jarque-Bera (JB):  </th> <td>   1.401</td>\n",
       "</tr>\n",
       "<tr>\n",
       "  <th>Skew:</th>          <td> 0.062</td> <th>  Prob(JB):          </th> <td>   0.496</td>\n",
       "</tr>\n",
       "<tr>\n",
       "  <th>Kurtosis:</th>      <td> 2.268</td> <th>  Cond. No.          </th> <td>    21.3</td>\n",
       "</tr>\n",
       "</table><br/><br/>Notes:<br/>[1] Standard Errors assume that the covariance matrix of the errors is correctly specified."
      ],
      "text/plain": [
       "<class 'statsmodels.iolib.summary.Summary'>\n",
       "\"\"\"\n",
       "                             OLS Regression Results                            \n",
       "===============================================================================\n",
       "Dep. Variable:     Baseline_value_Diff   R-squared:                       0.916\n",
       "Model:                             OLS   Adj. R-squared:                  0.914\n",
       "Method:                  Least Squares   F-statistic:                     642.6\n",
       "Date:                 Sun, 07 May 2023   Prob (F-statistic):           2.06e-33\n",
       "Time:                         07:08:57   Log-Likelihood:                 55.328\n",
       "No. Observations:                   61   AIC:                            -106.7\n",
       "Df Residuals:                       59   BIC:                            -102.4\n",
       "Df Model:                            1                                         \n",
       "Covariance Type:             nonrobust                                         \n",
       "==============================================================================\n",
       "                 coef    std err          t      P>|t|      [0.025      0.975]\n",
       "------------------------------------------------------------------------------\n",
       "Intercept      0.8003      0.014     57.292      0.000       0.772       0.828\n",
       "Time_Diff      0.0183      0.001     25.349      0.000       0.017       0.020\n",
       "==============================================================================\n",
       "Omnibus:                        2.185   Durbin-Watson:                   1.607\n",
       "Prob(Omnibus):                  0.335   Jarque-Bera (JB):                1.401\n",
       "Skew:                           0.062   Prob(JB):                        0.496\n",
       "Kurtosis:                       2.268   Cond. No.                         21.3\n",
       "==============================================================================\n",
       "\n",
       "Notes:\n",
       "[1] Standard Errors assume that the covariance matrix of the errors is correctly specified.\n",
       "\"\"\""
      ]
     },
     "execution_count": 70,
     "metadata": {},
     "output_type": "execute_result"
    }
   ],
   "source": [
    "m1 = smf.ols(\"Baseline_value_Diff ~ Time_Diff\", data=new_60_data).fit()\n",
    "m1.summary()"
   ]
  },
  {
   "cell_type": "markdown",
   "id": "cc01de3b-1e25-45f9-a6d1-ca42c042909f",
   "metadata": {},
   "source": [
    "The R-squared value for this model is 0.916(close to 1), which means that 91.6% of the variation in the anomaly above the preindustrial baseline is explained by the linear relationship with Time Difference. In other words, 91.6% of the variation in the anomaly can be predicted by the year. This high R-squared value indicates that the model provides a good fit to the data and is useful for predicting the values of the dependent variable based on the independent variable."
   ]
  },
  {
   "cell_type": "markdown",
   "id": "c19fc2dc-0f25-4ef1-b9eb-58fff17e20eb",
   "metadata": {},
   "source": [
    "#### 5. Interpret the coefficients. What does the slope mean? Is it statistically significant?"
   ]
  },
  {
   "cell_type": "markdown",
   "id": "257743a0-8ca6-4a77-a4fb-987edcd6bd2b",
   "metadata": {},
   "source": [
    "The slope coefficient (0.0183) represents the estimated increase in the anomaly above the preindustrial baseline per year after 2000. This means that for each additional year after 2000, the anomaly above the preindustrial baseline is estimated to increase by 0.0183 degrees, on average. The coefficient is statistically significant (P < 0.05) based on the t-statistic (25.349) and the associated p-value (0.000), indicating that there is strong evidence to suggest that the global temperature has been increased in the last 60 years."
   ]
  },
  {
   "cell_type": "markdown",
   "id": "611a4c2d-43b5-4d5d-90e3-14d338be62b7",
   "metadata": {},
   "source": [
    "#### 6. What does the intercept mean if (a) you use years as is (1999, 2000, 2001, . . . )?(b) you use years relative to 2000 (-1, 0, 1, . . . )?Is it statistically significant?"
   ]
  },
  {
   "cell_type": "code",
   "execution_count": 71,
   "id": "2179dc79-e911-4393-aa29-97bb340e2644",
   "metadata": {},
   "outputs": [
    {
     "data": {
      "text/html": [
       "<table class=\"simpletable\">\n",
       "<caption>OLS Regression Results</caption>\n",
       "<tr>\n",
       "  <th>Dep. Variable:</th>    <td>Baseline_value_Diff</td> <th>  R-squared:         </th> <td>   0.916</td>\n",
       "</tr>\n",
       "<tr>\n",
       "  <th>Model:</th>                    <td>OLS</td>         <th>  Adj. R-squared:    </th> <td>   0.914</td>\n",
       "</tr>\n",
       "<tr>\n",
       "  <th>Method:</th>              <td>Least Squares</td>    <th>  F-statistic:       </th> <td>   642.6</td>\n",
       "</tr>\n",
       "<tr>\n",
       "  <th>Date:</th>              <td>Sun, 07 May 2023</td>   <th>  Prob (F-statistic):</th> <td>2.06e-33</td>\n",
       "</tr>\n",
       "<tr>\n",
       "  <th>Time:</th>                  <td>07:09:05</td>       <th>  Log-Likelihood:    </th> <td>  55.328</td>\n",
       "</tr>\n",
       "<tr>\n",
       "  <th>No. Observations:</th>       <td>    61</td>        <th>  AIC:               </th> <td>  -106.7</td>\n",
       "</tr>\n",
       "<tr>\n",
       "  <th>Df Residuals:</th>           <td>    59</td>        <th>  BIC:               </th> <td>  -102.4</td>\n",
       "</tr>\n",
       "<tr>\n",
       "  <th>Df Model:</th>               <td>     1</td>        <th>                     </th>     <td> </td>   \n",
       "</tr>\n",
       "<tr>\n",
       "  <th>Covariance Type:</th>       <td>nonrobust</td>      <th>                     </th>     <td> </td>   \n",
       "</tr>\n",
       "</table>\n",
       "<table class=\"simpletable\">\n",
       "<tr>\n",
       "      <td></td>         <th>coef</th>     <th>std err</th>      <th>t</th>      <th>P>|t|</th>  <th>[0.025</th>    <th>0.975]</th>  \n",
       "</tr>\n",
       "<tr>\n",
       "  <th>Intercept</th> <td>  -35.8214</td> <td>    1.439</td> <td>  -24.894</td> <td> 0.000</td> <td>  -38.701</td> <td>  -32.942</td>\n",
       "</tr>\n",
       "<tr>\n",
       "  <th>Time</th>      <td>    0.0183</td> <td>    0.001</td> <td>   25.349</td> <td> 0.000</td> <td>    0.017</td> <td>    0.020</td>\n",
       "</tr>\n",
       "</table>\n",
       "<table class=\"simpletable\">\n",
       "<tr>\n",
       "  <th>Omnibus:</th>       <td> 2.185</td> <th>  Durbin-Watson:     </th> <td>   1.607</td>\n",
       "</tr>\n",
       "<tr>\n",
       "  <th>Prob(Omnibus):</th> <td> 0.335</td> <th>  Jarque-Bera (JB):  </th> <td>   1.401</td>\n",
       "</tr>\n",
       "<tr>\n",
       "  <th>Skew:</th>          <td> 0.062</td> <th>  Prob(JB):          </th> <td>   0.496</td>\n",
       "</tr>\n",
       "<tr>\n",
       "  <th>Kurtosis:</th>      <td> 2.268</td> <th>  Cond. No.          </th> <td>2.25e+05</td>\n",
       "</tr>\n",
       "</table><br/><br/>Notes:<br/>[1] Standard Errors assume that the covariance matrix of the errors is correctly specified.<br/>[2] The condition number is large, 2.25e+05. This might indicate that there are<br/>strong multicollinearity or other numerical problems."
      ],
      "text/plain": [
       "<class 'statsmodels.iolib.summary.Summary'>\n",
       "\"\"\"\n",
       "                             OLS Regression Results                            \n",
       "===============================================================================\n",
       "Dep. Variable:     Baseline_value_Diff   R-squared:                       0.916\n",
       "Model:                             OLS   Adj. R-squared:                  0.914\n",
       "Method:                  Least Squares   F-statistic:                     642.6\n",
       "Date:                 Sun, 07 May 2023   Prob (F-statistic):           2.06e-33\n",
       "Time:                         07:09:05   Log-Likelihood:                 55.328\n",
       "No. Observations:                   61   AIC:                            -106.7\n",
       "Df Residuals:                       59   BIC:                            -102.4\n",
       "Df Model:                            1                                         \n",
       "Covariance Type:             nonrobust                                         \n",
       "==============================================================================\n",
       "                 coef    std err          t      P>|t|      [0.025      0.975]\n",
       "------------------------------------------------------------------------------\n",
       "Intercept    -35.8214      1.439    -24.894      0.000     -38.701     -32.942\n",
       "Time           0.0183      0.001     25.349      0.000       0.017       0.020\n",
       "==============================================================================\n",
       "Omnibus:                        2.185   Durbin-Watson:                   1.607\n",
       "Prob(Omnibus):                  0.335   Jarque-Bera (JB):                1.401\n",
       "Skew:                           0.062   Prob(JB):                        0.496\n",
       "Kurtosis:                       2.268   Cond. No.                     2.25e+05\n",
       "==============================================================================\n",
       "\n",
       "Notes:\n",
       "[1] Standard Errors assume that the covariance matrix of the errors is correctly specified.\n",
       "[2] The condition number is large, 2.25e+05. This might indicate that there are\n",
       "strong multicollinearity or other numerical problems.\n",
       "\"\"\""
      ]
     },
     "execution_count": 71,
     "metadata": {},
     "output_type": "execute_result"
    }
   ],
   "source": [
    "m2 = smf.ols(\"Baseline_value_Diff ~ Time\", data=new_60_data).fit()\n",
    "m2.summary()"
   ]
  },
  {
   "cell_type": "markdown",
   "id": "8a0c94a1-b31d-4dc9-a1ba-5ca882dab207",
   "metadata": {},
   "source": [
    "In both situations, the intercept represents the estimated value of the dependent variable (i.e., 'Baseline_value_Diff') when the independent variable (i.e., 'Time' or 'Time_Diff') is equal to zero. However, the interpretation of the intercept is slightly different in the two situations.\n",
    "\n",
    "(a) When using years as is (1999, 2000, 2001, ...), the intercept value of -35.8214 means that the estimated 'Baseline_value_Diff' is -35.8214 degree when the 'Time' variable is equal to zero(in year 0). However, in the real situation, it is really unrealistic that the average temperature is -35.8214 when the year is 0. Additionally, if we use the years as they are (1999, 2000, 2001, etc.), the intercept represents the estimated temperature anomaly above the pre-industrial baseline at year 0. However, this interpretation is not particularly meaningful or pertinent because the dataset begins in 1850 and 0 is well outside the range of data.\n",
    "\n",
    "(b) When using years relative to 2000 (-1, 0, 1, ...), the intercept value of 0.8003 means that the estimated 'Baseline_value_Diff' is 0.8003 degree when the 'Time_Diff' variable is equal to zero. Since 'Time_Diff' is the time difference between the current year and the reference year (2000), this intercept value represents the estimated baseline value of the dependent variable in the reference year (2000).\n",
    "\n",
    "To determine if the intercept is statistically significant, we can look at the p-value associated with the intercept coefficient in each regression. In both situations(p-value=0.000), the p-value are smaller than 0.05, which means that the intercept is statistically significant at the 0.05 level. This suggests that the estimated baseline value in the reference year (2000) is significantly different from zero."
   ]
  },
  {
   "cell_type": "markdown",
   "id": "a38fc883-47bf-4501-9e2f-e0cadfc74662",
   "metadata": {},
   "source": [
    "#### 7. Use the intercept and slope, and compute how much above the pre-industrial baseline is the world now, in 2022."
   ]
  },
  {
   "cell_type": "code",
   "execution_count": 72,
   "id": "cdd48d05-0c35-448c-9d49-63e92546099e",
   "metadata": {},
   "outputs": [
    {
     "data": {
      "text/plain": [
       "1.20317920895484"
      ]
     },
     "execution_count": 72,
     "metadata": {},
     "output_type": "execute_result"
    }
   ],
   "source": [
    "baseline_2022 = m1.params[0] + m1.params[1] * (2022 - 2000)\n",
    "baseline_2022"
   ]
  },
  {
   "cell_type": "markdown",
   "id": "080f5ed3-bf00-4eb2-9441-c3713d8562d4",
   "metadata": {},
   "source": [
    "In 2022, there are 1.2032 above the pre-industrial baseline."
   ]
  },
  {
   "cell_type": "markdown",
   "id": "2f09fb07-56d6-401e-b063-af5f7e718681",
   "metadata": {},
   "source": [
    "#### 8.Now use the slope and intercept to find which year will the trend hit 1.5C, and when will it hit 2C."
   ]
  },
  {
   "cell_type": "markdown",
   "id": "7ee9e56e-6407-4ba8-85aa-27092d524562",
   "metadata": {},
   "source": [
    "Based on the m1 formula: baseline value difference = 0.0183 * time difference + 0.8003. We can infer: time difference = (baseline value difference - 0.8003)/0.0183."
   ]
  },
  {
   "cell_type": "code",
   "execution_count": 73,
   "id": "042d14a7-fdee-4cce-9e50-a6c8119a4a38",
   "metadata": {},
   "outputs": [
    {
     "name": "stdout",
     "output_type": "stream",
     "text": [
      "hit 1.5C: 2038.210077934273\n",
      "hit 2C: 2065.516247891563\n"
     ]
    }
   ],
   "source": [
    "hit_1 = (1.5 - m1.params[0]) / m1.params[1] + 2000\n",
    "hit_2 = (2 - m1.params[0]) / m1.params[1] + 2000\n",
    "print(\"hit 1.5C:\",hit_1)\n",
    "print(\"hit 2C:\",hit_2)"
   ]
  },
  {
   "cell_type": "markdown",
   "id": "c939536c-fba2-4d7a-b737-a10a3c69151b",
   "metadata": {},
   "source": [
    "Approximately in 2038, the temperature anomaly will reach 1.5 degrees Celsius. Approximately in 2065, the temperature anomaly will reach 2 degrees Celsius."
   ]
  },
  {
   "cell_type": "markdown",
   "id": "2e54a511-2646-4c62-a54f-9062663db0d4",
   "metadata": {},
   "source": [
    "#### 9. Now think about these two threshold years you computed. What do you think, might the thresholds be actually crossed earlier or later than what you computed, or maybe not at all? What does it depend on? Can you improve your model to make your predictions better?"
   ]
  },
  {
   "cell_type": "markdown",
   "id": "1ffb3c45-53a8-4b49-b674-783310315104",
   "metadata": {},
   "source": [
    "Due to the impact of nonlinear factors such as feedback loops, tipping points, or unanticipated changes in human behavior or policies, it is conceivable that the temperature anomaly will surpass the 1.5C or 2C threshold earlier than anticipated. In addition, it is true that the linear regression model may not encompass the entirety of the climate system's complexity and variable interactions. Incorporating additional variables or refining the data to better account for the effects of natural variability, regional differences, and other factors that may influence the temperature anomaly is one method to improve the model's accuracy.Using more sophisticated statistical methods or machine learning algorithms that can capture nonlinear relationships or interactions between variables is another method for enhancing the model. It is essential to observe, however, that every model is merely an approximation of reality and is subject to uncertainty and error. In order to estimate the temperature trajectory and assess the risk of exceeding the 1.5C or 2C threshold, it is crucial to employ multiple models, data sources approaches.\n",
    "\n",
    "Also, there are several ways to improve the R-squared value of the linear regression model used to analyze the temperature anomaly data. One approach is to incorporate additional variables or refine the data to better account for the effects of natural variability, regional differences, and other factors that may influence the temperature anomaly. This may involve gathering more detailed or precise data on climate-related variables, or using advanced statistical techniques to better account for the complexity of the climate system."
   ]
  },
  {
   "cell_type": "markdown",
   "id": "33ffa032-5383-439f-b680-7143108f5565",
   "metadata": {},
   "source": [
    "### 2 How Is Basketball Game Score Calculated?"
   ]
  },
  {
   "cell_type": "markdown",
   "id": "101c61ff-2976-4754-be7b-5a4b52221b9f",
   "metadata": {},
   "source": [
    "#### 1. Load data (harden-21-22.csv). Do basic checks."
   ]
  },
  {
   "cell_type": "code",
   "execution_count": 74,
   "id": "83bcb070-7ca6-4160-921b-3ade127875a5",
   "metadata": {},
   "outputs": [
    {
     "data": {
      "text/html": [
       "<div>\n",
       "<style scoped>\n",
       "    .dataframe tbody tr th:only-of-type {\n",
       "        vertical-align: middle;\n",
       "    }\n",
       "\n",
       "    .dataframe tbody tr th {\n",
       "        vertical-align: top;\n",
       "    }\n",
       "\n",
       "    .dataframe thead th {\n",
       "        text-align: right;\n",
       "    }\n",
       "</style>\n",
       "<table border=\"1\" class=\"dataframe\">\n",
       "  <thead>\n",
       "    <tr style=\"text-align: right;\">\n",
       "      <th></th>\n",
       "      <th>Rk</th>\n",
       "      <th>G</th>\n",
       "      <th>Date</th>\n",
       "      <th>Age</th>\n",
       "      <th>Tm</th>\n",
       "      <th>Unnamed: 5</th>\n",
       "      <th>Opp</th>\n",
       "      <th>Unnamed: 7</th>\n",
       "      <th>GS</th>\n",
       "      <th>MP</th>\n",
       "      <th>...</th>\n",
       "      <th>DRB</th>\n",
       "      <th>TRB</th>\n",
       "      <th>AST</th>\n",
       "      <th>STL</th>\n",
       "      <th>BLK</th>\n",
       "      <th>TOV</th>\n",
       "      <th>PF</th>\n",
       "      <th>PTS</th>\n",
       "      <th>GmSc</th>\n",
       "      <th>+/-</th>\n",
       "    </tr>\n",
       "  </thead>\n",
       "  <tbody>\n",
       "    <tr>\n",
       "      <th>0</th>\n",
       "      <td>1</td>\n",
       "      <td>1.0</td>\n",
       "      <td>2021-10-19</td>\n",
       "      <td>32-054</td>\n",
       "      <td>BRK</td>\n",
       "      <td>@</td>\n",
       "      <td>MIL</td>\n",
       "      <td>L (-23)</td>\n",
       "      <td>1</td>\n",
       "      <td>30:38</td>\n",
       "      <td>...</td>\n",
       "      <td>5</td>\n",
       "      <td>8</td>\n",
       "      <td>8</td>\n",
       "      <td>1</td>\n",
       "      <td>2</td>\n",
       "      <td>4</td>\n",
       "      <td>3</td>\n",
       "      <td>20</td>\n",
       "      <td>17.6</td>\n",
       "      <td>-20</td>\n",
       "    </tr>\n",
       "    <tr>\n",
       "      <th>1</th>\n",
       "      <td>2</td>\n",
       "      <td>2.0</td>\n",
       "      <td>2021-10-22</td>\n",
       "      <td>32-057</td>\n",
       "      <td>BRK</td>\n",
       "      <td>@</td>\n",
       "      <td>PHI</td>\n",
       "      <td>W (+5)</td>\n",
       "      <td>1</td>\n",
       "      <td>38:25</td>\n",
       "      <td>...</td>\n",
       "      <td>6</td>\n",
       "      <td>7</td>\n",
       "      <td>8</td>\n",
       "      <td>2</td>\n",
       "      <td>0</td>\n",
       "      <td>5</td>\n",
       "      <td>0</td>\n",
       "      <td>20</td>\n",
       "      <td>15.6</td>\n",
       "      <td>-1</td>\n",
       "    </tr>\n",
       "    <tr>\n",
       "      <th>2</th>\n",
       "      <td>3</td>\n",
       "      <td>3.0</td>\n",
       "      <td>2021-10-24</td>\n",
       "      <td>32-059</td>\n",
       "      <td>BRK</td>\n",
       "      <td>NaN</td>\n",
       "      <td>CHO</td>\n",
       "      <td>L (-16)</td>\n",
       "      <td>1</td>\n",
       "      <td>33:09</td>\n",
       "      <td>...</td>\n",
       "      <td>5</td>\n",
       "      <td>7</td>\n",
       "      <td>8</td>\n",
       "      <td>1</td>\n",
       "      <td>1</td>\n",
       "      <td>8</td>\n",
       "      <td>5</td>\n",
       "      <td>15</td>\n",
       "      <td>6.4</td>\n",
       "      <td>-15</td>\n",
       "    </tr>\n",
       "    <tr>\n",
       "      <th>3</th>\n",
       "      <td>4</td>\n",
       "      <td>4.0</td>\n",
       "      <td>2021-10-25</td>\n",
       "      <td>32-060</td>\n",
       "      <td>BRK</td>\n",
       "      <td>NaN</td>\n",
       "      <td>WAS</td>\n",
       "      <td>W (+14)</td>\n",
       "      <td>1</td>\n",
       "      <td>30:25</td>\n",
       "      <td>...</td>\n",
       "      <td>5</td>\n",
       "      <td>6</td>\n",
       "      <td>9</td>\n",
       "      <td>1</td>\n",
       "      <td>1</td>\n",
       "      <td>2</td>\n",
       "      <td>1</td>\n",
       "      <td>14</td>\n",
       "      <td>11.9</td>\n",
       "      <td>+6</td>\n",
       "    </tr>\n",
       "    <tr>\n",
       "      <th>4</th>\n",
       "      <td>5</td>\n",
       "      <td>5.0</td>\n",
       "      <td>2021-10-27</td>\n",
       "      <td>32-062</td>\n",
       "      <td>BRK</td>\n",
       "      <td>NaN</td>\n",
       "      <td>MIA</td>\n",
       "      <td>L (-13)</td>\n",
       "      <td>1</td>\n",
       "      <td>35:36</td>\n",
       "      <td>...</td>\n",
       "      <td>7</td>\n",
       "      <td>7</td>\n",
       "      <td>7</td>\n",
       "      <td>1</td>\n",
       "      <td>1</td>\n",
       "      <td>4</td>\n",
       "      <td>3</td>\n",
       "      <td>14</td>\n",
       "      <td>10.7</td>\n",
       "      <td>-12</td>\n",
       "    </tr>\n",
       "    <tr>\n",
       "      <th>...</th>\n",
       "      <td>...</td>\n",
       "      <td>...</td>\n",
       "      <td>...</td>\n",
       "      <td>...</td>\n",
       "      <td>...</td>\n",
       "      <td>...</td>\n",
       "      <td>...</td>\n",
       "      <td>...</td>\n",
       "      <td>...</td>\n",
       "      <td>...</td>\n",
       "      <td>...</td>\n",
       "      <td>...</td>\n",
       "      <td>...</td>\n",
       "      <td>...</td>\n",
       "      <td>...</td>\n",
       "      <td>...</td>\n",
       "      <td>...</td>\n",
       "      <td>...</td>\n",
       "      <td>...</td>\n",
       "      <td>...</td>\n",
       "      <td>...</td>\n",
       "    </tr>\n",
       "    <tr>\n",
       "      <th>78</th>\n",
       "      <td>79</td>\n",
       "      <td>62.0</td>\n",
       "      <td>2022-04-03</td>\n",
       "      <td>32-220</td>\n",
       "      <td>PHI</td>\n",
       "      <td>@</td>\n",
       "      <td>CLE</td>\n",
       "      <td>W (+4)</td>\n",
       "      <td>1</td>\n",
       "      <td>40:34</td>\n",
       "      <td>...</td>\n",
       "      <td>6</td>\n",
       "      <td>10</td>\n",
       "      <td>10</td>\n",
       "      <td>0</td>\n",
       "      <td>0</td>\n",
       "      <td>4</td>\n",
       "      <td>2</td>\n",
       "      <td>21</td>\n",
       "      <td>19.9</td>\n",
       "      <td>+4</td>\n",
       "    </tr>\n",
       "    <tr>\n",
       "      <th>79</th>\n",
       "      <td>80</td>\n",
       "      <td>63.0</td>\n",
       "      <td>2022-04-05</td>\n",
       "      <td>32-222</td>\n",
       "      <td>PHI</td>\n",
       "      <td>@</td>\n",
       "      <td>IND</td>\n",
       "      <td>W (+9)</td>\n",
       "      <td>1</td>\n",
       "      <td>40:17</td>\n",
       "      <td>...</td>\n",
       "      <td>3</td>\n",
       "      <td>3</td>\n",
       "      <td>14</td>\n",
       "      <td>1</td>\n",
       "      <td>0</td>\n",
       "      <td>4</td>\n",
       "      <td>2</td>\n",
       "      <td>11</td>\n",
       "      <td>12.1</td>\n",
       "      <td>+7</td>\n",
       "    </tr>\n",
       "    <tr>\n",
       "      <th>80</th>\n",
       "      <td>81</td>\n",
       "      <td>64.0</td>\n",
       "      <td>2022-04-07</td>\n",
       "      <td>32-224</td>\n",
       "      <td>PHI</td>\n",
       "      <td>@</td>\n",
       "      <td>TOR</td>\n",
       "      <td>L (-5)</td>\n",
       "      <td>1</td>\n",
       "      <td>39:27</td>\n",
       "      <td>...</td>\n",
       "      <td>4</td>\n",
       "      <td>4</td>\n",
       "      <td>15</td>\n",
       "      <td>0</td>\n",
       "      <td>0</td>\n",
       "      <td>3</td>\n",
       "      <td>1</td>\n",
       "      <td>13</td>\n",
       "      <td>14.1</td>\n",
       "      <td>+7</td>\n",
       "    </tr>\n",
       "    <tr>\n",
       "      <th>81</th>\n",
       "      <td>82</td>\n",
       "      <td>65.0</td>\n",
       "      <td>2022-04-09</td>\n",
       "      <td>32-226</td>\n",
       "      <td>PHI</td>\n",
       "      <td>NaN</td>\n",
       "      <td>IND</td>\n",
       "      <td>W (+13)</td>\n",
       "      <td>1</td>\n",
       "      <td>38:40</td>\n",
       "      <td>...</td>\n",
       "      <td>4</td>\n",
       "      <td>4</td>\n",
       "      <td>14</td>\n",
       "      <td>1</td>\n",
       "      <td>0</td>\n",
       "      <td>5</td>\n",
       "      <td>2</td>\n",
       "      <td>22</td>\n",
       "      <td>19.8</td>\n",
       "      <td>+12</td>\n",
       "    </tr>\n",
       "    <tr>\n",
       "      <th>82</th>\n",
       "      <td>83</td>\n",
       "      <td>NaN</td>\n",
       "      <td>2022-04-10</td>\n",
       "      <td>32-227</td>\n",
       "      <td>PHI</td>\n",
       "      <td>NaN</td>\n",
       "      <td>DET</td>\n",
       "      <td>W (+12)</td>\n",
       "      <td>Inactive</td>\n",
       "      <td>Inactive</td>\n",
       "      <td>...</td>\n",
       "      <td>Inactive</td>\n",
       "      <td>Inactive</td>\n",
       "      <td>Inactive</td>\n",
       "      <td>Inactive</td>\n",
       "      <td>Inactive</td>\n",
       "      <td>Inactive</td>\n",
       "      <td>Inactive</td>\n",
       "      <td>Inactive</td>\n",
       "      <td>Inactive</td>\n",
       "      <td>Inactive</td>\n",
       "    </tr>\n",
       "  </tbody>\n",
       "</table>\n",
       "<p>83 rows × 30 columns</p>\n",
       "</div>"
      ],
      "text/plain": [
       "    Rk     G        Date     Age   Tm Unnamed: 5  Opp Unnamed: 7        GS  \\\n",
       "0    1   1.0  2021-10-19  32-054  BRK          @  MIL    L (-23)         1   \n",
       "1    2   2.0  2021-10-22  32-057  BRK          @  PHI     W (+5)         1   \n",
       "2    3   3.0  2021-10-24  32-059  BRK        NaN  CHO    L (-16)         1   \n",
       "3    4   4.0  2021-10-25  32-060  BRK        NaN  WAS    W (+14)         1   \n",
       "4    5   5.0  2021-10-27  32-062  BRK        NaN  MIA    L (-13)         1   \n",
       "..  ..   ...         ...     ...  ...        ...  ...        ...       ...   \n",
       "78  79  62.0  2022-04-03  32-220  PHI          @  CLE     W (+4)         1   \n",
       "79  80  63.0  2022-04-05  32-222  PHI          @  IND     W (+9)         1   \n",
       "80  81  64.0  2022-04-07  32-224  PHI          @  TOR     L (-5)         1   \n",
       "81  82  65.0  2022-04-09  32-226  PHI        NaN  IND    W (+13)         1   \n",
       "82  83   NaN  2022-04-10  32-227  PHI        NaN  DET    W (+12)  Inactive   \n",
       "\n",
       "          MP  ...       DRB       TRB       AST       STL       BLK       TOV  \\\n",
       "0      30:38  ...         5         8         8         1         2         4   \n",
       "1      38:25  ...         6         7         8         2         0         5   \n",
       "2      33:09  ...         5         7         8         1         1         8   \n",
       "3      30:25  ...         5         6         9         1         1         2   \n",
       "4      35:36  ...         7         7         7         1         1         4   \n",
       "..       ...  ...       ...       ...       ...       ...       ...       ...   \n",
       "78     40:34  ...         6        10        10         0         0         4   \n",
       "79     40:17  ...         3         3        14         1         0         4   \n",
       "80     39:27  ...         4         4        15         0         0         3   \n",
       "81     38:40  ...         4         4        14         1         0         5   \n",
       "82  Inactive  ...  Inactive  Inactive  Inactive  Inactive  Inactive  Inactive   \n",
       "\n",
       "          PF       PTS      GmSc       +/-  \n",
       "0          3        20      17.6       -20  \n",
       "1          0        20      15.6        -1  \n",
       "2          5        15       6.4       -15  \n",
       "3          1        14      11.9        +6  \n",
       "4          3        14      10.7       -12  \n",
       "..       ...       ...       ...       ...  \n",
       "78         2        21      19.9        +4  \n",
       "79         2        11      12.1        +7  \n",
       "80         1        13      14.1        +7  \n",
       "81         2        22      19.8       +12  \n",
       "82  Inactive  Inactive  Inactive  Inactive  \n",
       "\n",
       "[83 rows x 30 columns]"
      ]
     },
     "execution_count": 74,
     "metadata": {},
     "output_type": "execute_result"
    }
   ],
   "source": [
    "nba_data = pd.read_csv(\"harden-21-22.csv\", sep=\",\")\n",
    "nba_data"
   ]
  },
  {
   "cell_type": "code",
   "execution_count": 75,
   "id": "49f6cc38-a00f-4c0c-a378-bf6925e2db7e",
   "metadata": {},
   "outputs": [
    {
     "data": {
      "text/plain": [
       "(83, 30)"
      ]
     },
     "execution_count": 75,
     "metadata": {},
     "output_type": "execute_result"
    }
   ],
   "source": [
    "nba_data.shape"
   ]
  },
  {
   "cell_type": "code",
   "execution_count": 76,
   "id": "c49afccd-cc9f-49b1-bfec-6459773a4bf1",
   "metadata": {},
   "outputs": [
    {
     "data": {
      "text/plain": [
       "Index(['Rk', 'G', 'Date', 'Age', 'Tm', 'Unnamed: 5', 'Opp', 'Unnamed: 7', 'GS',\n",
       "       'MP', 'FG', 'FGA', 'FG%', '3P', '3PA', '3P%', 'FT', 'FTA', 'FT%', 'ORB',\n",
       "       'DRB', 'TRB', 'AST', 'STL', 'BLK', 'TOV', 'PF', 'PTS', 'GmSc', '+/-'],\n",
       "      dtype='object')"
      ]
     },
     "execution_count": 76,
     "metadata": {},
     "output_type": "execute_result"
    }
   ],
   "source": [
    "nba_data.columns"
   ]
  },
  {
   "cell_type": "code",
   "execution_count": 77,
   "id": "6b2fc147-7e76-4919-94e6-02b676e9f6b0",
   "metadata": {},
   "outputs": [
    {
     "data": {
      "text/plain": [
       "Rk             0\n",
       "G             18\n",
       "Date           0\n",
       "Age            0\n",
       "Tm             0\n",
       "Unnamed: 5    41\n",
       "Opp            0\n",
       "Unnamed: 7     0\n",
       "GS             0\n",
       "MP             0\n",
       "FG             0\n",
       "FGA            0\n",
       "FG%            0\n",
       "3P             0\n",
       "3PA            0\n",
       "3P%            0\n",
       "FT             0\n",
       "FTA            0\n",
       "FT%            1\n",
       "ORB            0\n",
       "DRB            0\n",
       "TRB            0\n",
       "AST            0\n",
       "STL            0\n",
       "BLK            0\n",
       "TOV            0\n",
       "PF             0\n",
       "PTS            0\n",
       "GmSc           0\n",
       "+/-            0\n",
       "dtype: int64"
      ]
     },
     "execution_count": 77,
     "metadata": {},
     "output_type": "execute_result"
    }
   ],
   "source": [
    "nba_data.isna().sum()"
   ]
  },
  {
   "cell_type": "markdown",
   "id": "67244ac9-550b-4a22-878a-94063583bdaa",
   "metadata": {},
   "source": [
    "There are 83 rows and 30 coumns in the dataset. The G column(season game for Harden) has a total of 18 missing values and the Unnamed: 5 column has 41 missing values."
   ]
  },
  {
   "cell_type": "markdown",
   "id": "65bff8a0-e7e2-4b8c-a8fb-3c06911fcae4",
   "metadata": {},
   "source": [
    "#### 2.These data also include games where he did not play. Find how many games did James Harden actually play in this season."
   ]
  },
  {
   "cell_type": "code",
   "execution_count": 78,
   "id": "64e168fc-1014-458a-90d2-7244c936efd4",
   "metadata": {},
   "outputs": [
    {
     "name": "stdout",
     "output_type": "stream",
     "text": [
      "Games played: 65\n"
     ]
    }
   ],
   "source": [
    "games_played = nba_data[nba_data['G'].notna()].shape[0]\n",
    "print(\"Games played:\", games_played)"
   ]
  },
  {
   "cell_type": "markdown",
   "id": "1044c1a3-426f-453c-8436-fafc8b00b879",
   "metadata": {},
   "source": [
    "Harden played 65 games in the season."
   ]
  },
  {
   "cell_type": "markdown",
   "id": "615fab15-1219-4cf4-b85d-8078f3b55434",
   "metadata": {},
   "source": [
    "#### 3. Clean the data and ensure the relevant variables are of numeric type so we can use those in the regression models. It is your task to find what is wrong with the data in its present form (it is downloaded directly from basketball-reference.com), and fix these issues."
   ]
  },
  {
   "cell_type": "code",
   "execution_count": 79,
   "id": "11d13d5d-3cc3-4f79-8e5f-432ad98845a8",
   "metadata": {},
   "outputs": [],
   "source": [
    "new_nba_data = nba_data[nba_data.G.notna()].copy()"
   ]
  },
  {
   "cell_type": "code",
   "execution_count": 80,
   "id": "9dd474d8-4e6d-4400-aec7-d91c884b9d46",
   "metadata": {},
   "outputs": [],
   "source": [
    "numeric_columns = ['GmSc', 'FGA', 'GS', 'FG', '3P', '3PA', 'FT', 'FTA',\n",
    "                   'ORB', 'DRB', 'AST', 'STL', 'BLK', 'TOV', 'PF']\n",
    "new_nba_data[numeric_columns] = new_nba_data[numeric_columns].apply(pd.to_numeric)"
   ]
  },
  {
   "cell_type": "code",
   "execution_count": 81,
   "id": "22960cd8-27dc-41d5-a1d9-4da6fee0fa02",
   "metadata": {},
   "outputs": [
    {
     "data": {
      "text/html": [
       "<div>\n",
       "<style scoped>\n",
       "    .dataframe tbody tr th:only-of-type {\n",
       "        vertical-align: middle;\n",
       "    }\n",
       "\n",
       "    .dataframe tbody tr th {\n",
       "        vertical-align: top;\n",
       "    }\n",
       "\n",
       "    .dataframe thead th {\n",
       "        text-align: right;\n",
       "    }\n",
       "</style>\n",
       "<table border=\"1\" class=\"dataframe\">\n",
       "  <thead>\n",
       "    <tr style=\"text-align: right;\">\n",
       "      <th></th>\n",
       "      <th>Rk</th>\n",
       "      <th>G</th>\n",
       "      <th>Date</th>\n",
       "      <th>Age</th>\n",
       "      <th>Tm</th>\n",
       "      <th>Unnamed: 5</th>\n",
       "      <th>Opp</th>\n",
       "      <th>Unnamed: 7</th>\n",
       "      <th>GS</th>\n",
       "      <th>MP</th>\n",
       "      <th>...</th>\n",
       "      <th>DRB</th>\n",
       "      <th>TRB</th>\n",
       "      <th>AST</th>\n",
       "      <th>STL</th>\n",
       "      <th>BLK</th>\n",
       "      <th>TOV</th>\n",
       "      <th>PF</th>\n",
       "      <th>PTS</th>\n",
       "      <th>GmSc</th>\n",
       "      <th>+/-</th>\n",
       "    </tr>\n",
       "  </thead>\n",
       "  <tbody>\n",
       "    <tr>\n",
       "      <th>0</th>\n",
       "      <td>1</td>\n",
       "      <td>1.0</td>\n",
       "      <td>2021-10-19</td>\n",
       "      <td>32-054</td>\n",
       "      <td>BRK</td>\n",
       "      <td>@</td>\n",
       "      <td>MIL</td>\n",
       "      <td>L (-23)</td>\n",
       "      <td>1</td>\n",
       "      <td>30:38</td>\n",
       "      <td>...</td>\n",
       "      <td>5</td>\n",
       "      <td>8</td>\n",
       "      <td>8</td>\n",
       "      <td>1</td>\n",
       "      <td>2</td>\n",
       "      <td>4</td>\n",
       "      <td>3</td>\n",
       "      <td>20</td>\n",
       "      <td>17.6</td>\n",
       "      <td>-20</td>\n",
       "    </tr>\n",
       "    <tr>\n",
       "      <th>1</th>\n",
       "      <td>2</td>\n",
       "      <td>2.0</td>\n",
       "      <td>2021-10-22</td>\n",
       "      <td>32-057</td>\n",
       "      <td>BRK</td>\n",
       "      <td>@</td>\n",
       "      <td>PHI</td>\n",
       "      <td>W (+5)</td>\n",
       "      <td>1</td>\n",
       "      <td>38:25</td>\n",
       "      <td>...</td>\n",
       "      <td>6</td>\n",
       "      <td>7</td>\n",
       "      <td>8</td>\n",
       "      <td>2</td>\n",
       "      <td>0</td>\n",
       "      <td>5</td>\n",
       "      <td>0</td>\n",
       "      <td>20</td>\n",
       "      <td>15.6</td>\n",
       "      <td>-1</td>\n",
       "    </tr>\n",
       "    <tr>\n",
       "      <th>2</th>\n",
       "      <td>3</td>\n",
       "      <td>3.0</td>\n",
       "      <td>2021-10-24</td>\n",
       "      <td>32-059</td>\n",
       "      <td>BRK</td>\n",
       "      <td>NaN</td>\n",
       "      <td>CHO</td>\n",
       "      <td>L (-16)</td>\n",
       "      <td>1</td>\n",
       "      <td>33:09</td>\n",
       "      <td>...</td>\n",
       "      <td>5</td>\n",
       "      <td>7</td>\n",
       "      <td>8</td>\n",
       "      <td>1</td>\n",
       "      <td>1</td>\n",
       "      <td>8</td>\n",
       "      <td>5</td>\n",
       "      <td>15</td>\n",
       "      <td>6.4</td>\n",
       "      <td>-15</td>\n",
       "    </tr>\n",
       "    <tr>\n",
       "      <th>3</th>\n",
       "      <td>4</td>\n",
       "      <td>4.0</td>\n",
       "      <td>2021-10-25</td>\n",
       "      <td>32-060</td>\n",
       "      <td>BRK</td>\n",
       "      <td>NaN</td>\n",
       "      <td>WAS</td>\n",
       "      <td>W (+14)</td>\n",
       "      <td>1</td>\n",
       "      <td>30:25</td>\n",
       "      <td>...</td>\n",
       "      <td>5</td>\n",
       "      <td>6</td>\n",
       "      <td>9</td>\n",
       "      <td>1</td>\n",
       "      <td>1</td>\n",
       "      <td>2</td>\n",
       "      <td>1</td>\n",
       "      <td>14</td>\n",
       "      <td>11.9</td>\n",
       "      <td>+6</td>\n",
       "    </tr>\n",
       "    <tr>\n",
       "      <th>4</th>\n",
       "      <td>5</td>\n",
       "      <td>5.0</td>\n",
       "      <td>2021-10-27</td>\n",
       "      <td>32-062</td>\n",
       "      <td>BRK</td>\n",
       "      <td>NaN</td>\n",
       "      <td>MIA</td>\n",
       "      <td>L (-13)</td>\n",
       "      <td>1</td>\n",
       "      <td>35:36</td>\n",
       "      <td>...</td>\n",
       "      <td>7</td>\n",
       "      <td>7</td>\n",
       "      <td>7</td>\n",
       "      <td>1</td>\n",
       "      <td>1</td>\n",
       "      <td>4</td>\n",
       "      <td>3</td>\n",
       "      <td>14</td>\n",
       "      <td>10.7</td>\n",
       "      <td>-12</td>\n",
       "    </tr>\n",
       "  </tbody>\n",
       "</table>\n",
       "<p>5 rows × 30 columns</p>\n",
       "</div>"
      ],
      "text/plain": [
       "   Rk    G        Date     Age   Tm Unnamed: 5  Opp Unnamed: 7  GS     MP  \\\n",
       "0   1  1.0  2021-10-19  32-054  BRK          @  MIL    L (-23)   1  30:38   \n",
       "1   2  2.0  2021-10-22  32-057  BRK          @  PHI     W (+5)   1  38:25   \n",
       "2   3  3.0  2021-10-24  32-059  BRK        NaN  CHO    L (-16)   1  33:09   \n",
       "3   4  4.0  2021-10-25  32-060  BRK        NaN  WAS    W (+14)   1  30:25   \n",
       "4   5  5.0  2021-10-27  32-062  BRK        NaN  MIA    L (-13)   1  35:36   \n",
       "\n",
       "   ...  DRB  TRB AST  STL  BLK TOV  PF  PTS  GmSc  +/-  \n",
       "0  ...    5    8   8    1    2   4   3   20  17.6  -20  \n",
       "1  ...    6    7   8    2    0   5   0   20  15.6   -1  \n",
       "2  ...    5    7   8    1    1   8   5   15   6.4  -15  \n",
       "3  ...    5    6   9    1    1   2   1   14  11.9   +6  \n",
       "4  ...    7    7   7    1    1   4   3   14  10.7  -12  \n",
       "\n",
       "[5 rows x 30 columns]"
      ]
     },
     "execution_count": 81,
     "metadata": {},
     "output_type": "execute_result"
    }
   ],
   "source": [
    "new_nba_data.head()"
   ]
  },
  {
   "cell_type": "markdown",
   "id": "85c5c758-b05e-4bb1-a5d9-902cd7080496",
   "metadata": {},
   "source": [
    "#### 4. Analyze the game score GmSc. What is its range? Mean? Standard deviation? Which distribution does the histogram resemble?"
   ]
  },
  {
   "cell_type": "code",
   "execution_count": 82,
   "id": "10273b4e-5b75-4b90-8b42-3db34e2f7bad",
   "metadata": {},
   "outputs": [
    {
     "name": "stdout",
     "output_type": "stream",
     "text": [
      "range: 36.699999999999996\n",
      "mean: 19.61384615384615\n",
      "standard deviation: 8.168944511861358\n",
      "min value: 1.1\n",
      "max value: 37.8\n"
     ]
    }
   ],
   "source": [
    "mean = np.mean(new_nba_data.GmSc)\n",
    "std = np.std(new_nba_data.GmSc)\n",
    "min_gmsc = new_nba_data['GmSc'].min()\n",
    "max_gmsc = new_nba_data['GmSc'].max()\n",
    "gmsc_range = np.max(new_nba_data.GmSc) - np.min(new_nba_data.GmSc)\n",
    "print(\"range:\", gmsc_range)\n",
    "print(\"mean:\", mean)\n",
    "print(\"standard deviation:\", std)\n",
    "print(\"min value:\", min_gmsc)\n",
    "print(\"max value:\", max_gmsc)"
   ]
  },
  {
   "cell_type": "markdown",
   "id": "3902b723-d573-48f7-a2c4-6e1a81582ec4",
   "metadata": {},
   "source": [
    "The range of the game score GmSc is 36.7(from 1.1 to 37.8), the mean is 19.61 and the standard deviation is 8.17."
   ]
  },
  {
   "cell_type": "code",
   "execution_count": 83,
   "id": "42408968-2cb4-4aa8-ab69-ea14f10ab68e",
   "metadata": {},
   "outputs": [
    {
     "data": {
      "image/png": "[encoded data removed]",
      "text/plain": [
       "<Figure size 432x288 with 1 Axes>"
      ]
     },
     "metadata": {
      "needs_background": "light"
     },
     "output_type": "display_data"
    }
   ],
   "source": [
    "plt.hist(new_nba_data['GmSc'], bins=10, edgecolor='black')\n",
    "plt.title('The distribution of GmSc')\n",
    "plt.xlabel(\"Game Score\")\n",
    "plt.ylabel(\"Frequency\")\n",
    "plt.show()"
   ]
  },
  {
   "cell_type": "markdown",
   "id": "df0486be-158c-4ecf-9545-05f8e399da93",
   "metadata": {},
   "source": [
    "The graph shows that the distribution of the GmSc is almost a normal distribution. The distribution is approximately normal with mean around 20 and range from almost 0 to close to 40. When the game score is 15, it has a largest frequency with the value of 12. On the other hand, when the game score is lower than 10 or higher than 35, it has a smallest frequency with the value of 2."
   ]
  },
  {
   "cell_type": "markdown",
   "id": "bdd6eefa-42c9-401f-92be-ef8be974d380",
   "metadata": {},
   "source": [
    "#### 5. First, let’s run a simple regression model explaining game score GmSc by field goal attempts FGA."
   ]
  },
  {
   "cell_type": "code",
   "execution_count": 84,
   "id": "2755078a-18a1-464d-84d2-8aea4d569cc5",
   "metadata": {},
   "outputs": [
    {
     "data": {
      "text/html": [
       "<table class=\"simpletable\">\n",
       "<caption>OLS Regression Results</caption>\n",
       "<tr>\n",
       "  <th>Dep. Variable:</th>          <td>GmSc</td>       <th>  R-squared:         </th> <td>   0.133</td>\n",
       "</tr>\n",
       "<tr>\n",
       "  <th>Model:</th>                   <td>OLS</td>       <th>  Adj. R-squared:    </th> <td>   0.119</td>\n",
       "</tr>\n",
       "<tr>\n",
       "  <th>Method:</th>             <td>Least Squares</td>  <th>  F-statistic:       </th> <td>   9.678</td>\n",
       "</tr>\n",
       "<tr>\n",
       "  <th>Date:</th>             <td>Sun, 07 May 2023</td> <th>  Prob (F-statistic):</th>  <td>0.00280</td>\n",
       "</tr>\n",
       "<tr>\n",
       "  <th>Time:</th>                 <td>07:09:46</td>     <th>  Log-Likelihood:    </th> <td> -224.11</td>\n",
       "</tr>\n",
       "<tr>\n",
       "  <th>No. Observations:</th>      <td>    65</td>      <th>  AIC:               </th> <td>   452.2</td>\n",
       "</tr>\n",
       "<tr>\n",
       "  <th>Df Residuals:</th>          <td>    63</td>      <th>  BIC:               </th> <td>   456.6</td>\n",
       "</tr>\n",
       "<tr>\n",
       "  <th>Df Model:</th>              <td>     1</td>      <th>                     </th>     <td> </td>   \n",
       "</tr>\n",
       "<tr>\n",
       "  <th>Covariance Type:</th>      <td>nonrobust</td>    <th>                     </th>     <td> </td>   \n",
       "</tr>\n",
       "</table>\n",
       "<table class=\"simpletable\">\n",
       "<tr>\n",
       "      <td></td>         <th>coef</th>     <th>std err</th>      <th>t</th>      <th>P>|t|</th>  <th>[0.025</th>    <th>0.975]</th>  \n",
       "</tr>\n",
       "<tr>\n",
       "  <th>Intercept</th> <td>    8.8748</td> <td>    3.582</td> <td>    2.477</td> <td> 0.016</td> <td>    1.716</td> <td>   16.034</td>\n",
       "</tr>\n",
       "<tr>\n",
       "  <th>FGA</th>       <td>    0.7037</td> <td>    0.226</td> <td>    3.111</td> <td> 0.003</td> <td>    0.252</td> <td>    1.156</td>\n",
       "</tr>\n",
       "</table>\n",
       "<table class=\"simpletable\">\n",
       "<tr>\n",
       "  <th>Omnibus:</th>       <td> 0.246</td> <th>  Durbin-Watson:     </th> <td>   1.902</td>\n",
       "</tr>\n",
       "<tr>\n",
       "  <th>Prob(Omnibus):</th> <td> 0.884</td> <th>  Jarque-Bera (JB):  </th> <td>   0.198</td>\n",
       "</tr>\n",
       "<tr>\n",
       "  <th>Skew:</th>          <td>-0.127</td> <th>  Prob(JB):          </th> <td>   0.906</td>\n",
       "</tr>\n",
       "<tr>\n",
       "  <th>Kurtosis:</th>      <td> 2.905</td> <th>  Cond. No.          </th> <td>    59.4</td>\n",
       "</tr>\n",
       "</table><br/><br/>Notes:<br/>[1] Standard Errors assume that the covariance matrix of the errors is correctly specified."
      ],
      "text/plain": [
       "<class 'statsmodels.iolib.summary.Summary'>\n",
       "\"\"\"\n",
       "                            OLS Regression Results                            \n",
       "==============================================================================\n",
       "Dep. Variable:                   GmSc   R-squared:                       0.133\n",
       "Model:                            OLS   Adj. R-squared:                  0.119\n",
       "Method:                 Least Squares   F-statistic:                     9.678\n",
       "Date:                Sun, 07 May 2023   Prob (F-statistic):            0.00280\n",
       "Time:                        07:09:46   Log-Likelihood:                -224.11\n",
       "No. Observations:                  65   AIC:                             452.2\n",
       "Df Residuals:                      63   BIC:                             456.6\n",
       "Df Model:                           1                                         \n",
       "Covariance Type:            nonrobust                                         \n",
       "==============================================================================\n",
       "                 coef    std err          t      P>|t|      [0.025      0.975]\n",
       "------------------------------------------------------------------------------\n",
       "Intercept      8.8748      3.582      2.477      0.016       1.716      16.034\n",
       "FGA            0.7037      0.226      3.111      0.003       0.252       1.156\n",
       "==============================================================================\n",
       "Omnibus:                        0.246   Durbin-Watson:                   1.902\n",
       "Prob(Omnibus):                  0.884   Jarque-Bera (JB):                0.198\n",
       "Skew:                          -0.127   Prob(JB):                        0.906\n",
       "Kurtosis:                       2.905   Cond. No.                         59.4\n",
       "==============================================================================\n",
       "\n",
       "Notes:\n",
       "[1] Standard Errors assume that the covariance matrix of the errors is correctly specified.\n",
       "\"\"\""
      ]
     },
     "execution_count": 84,
     "metadata": {},
     "output_type": "execute_result"
    }
   ],
   "source": [
    "m3 = smf.ols('GmSc ~ FGA', data=new_nba_data).fit()\n",
    "m3.summary()"
   ]
  },
  {
   "cell_type": "markdown",
   "id": "dce3268d-f6d1-447a-90ec-799eddc63cd4",
   "metadata": {},
   "source": [
    "(a) The intercept (β0) is 8.8748. This means that when the number of field goal attempts (FGA) is 0, the expected game score (GmSc) is 8.8748, on average. In other words, it is the baseline game score before any field goal attempts are taken into account.\n",
    "\n",
    "(b) The slope for FGA (β1) is 0.7037. This means that for each additional field goal attempt, the expected game score (GmSc) increases by 0.7037, on average. The p-value for FGA is 0.003, which is less than 0.05, indicating that the relationship between field goal attempts and game score is statistically significant. This implies that there is a positive relationship between the number of field goal attempts and the game score."
   ]
  },
  {
   "cell_type": "markdown",
   "id": "51dd7775-d869-4557-a63e-e14a2432712d",
   "metadata": {},
   "source": [
    "#### 6. Next, let’s analyse how is game score related to field goals (FG) and field goal attempts (FGA)."
   ]
  },
  {
   "cell_type": "code",
   "execution_count": 85,
   "id": "d13452e4-36bc-492e-8f3c-559d728a8155",
   "metadata": {},
   "outputs": [
    {
     "data": {
      "text/html": [
       "<table class=\"simpletable\">\n",
       "<caption>OLS Regression Results</caption>\n",
       "<tr>\n",
       "  <th>Dep. Variable:</th>          <td>GmSc</td>       <th>  R-squared:         </th> <td>   0.594</td>\n",
       "</tr>\n",
       "<tr>\n",
       "  <th>Model:</th>                   <td>OLS</td>       <th>  Adj. R-squared:    </th> <td>   0.581</td>\n",
       "</tr>\n",
       "<tr>\n",
       "  <th>Method:</th>             <td>Least Squares</td>  <th>  F-statistic:       </th> <td>   45.30</td>\n",
       "</tr>\n",
       "<tr>\n",
       "  <th>Date:</th>             <td>Sun, 07 May 2023</td> <th>  Prob (F-statistic):</th> <td>7.49e-13</td>\n",
       "</tr>\n",
       "<tr>\n",
       "  <th>Time:</th>                 <td>07:09:49</td>     <th>  Log-Likelihood:    </th> <td> -199.48</td>\n",
       "</tr>\n",
       "<tr>\n",
       "  <th>No. Observations:</th>      <td>    65</td>      <th>  AIC:               </th> <td>   405.0</td>\n",
       "</tr>\n",
       "<tr>\n",
       "  <th>Df Residuals:</th>          <td>    62</td>      <th>  BIC:               </th> <td>   411.5</td>\n",
       "</tr>\n",
       "<tr>\n",
       "  <th>Df Model:</th>              <td>     2</td>      <th>                     </th>     <td> </td>   \n",
       "</tr>\n",
       "<tr>\n",
       "  <th>Covariance Type:</th>      <td>nonrobust</td>    <th>                     </th>     <td> </td>   \n",
       "</tr>\n",
       "</table>\n",
       "<table class=\"simpletable\">\n",
       "<tr>\n",
       "      <td></td>         <th>coef</th>     <th>std err</th>      <th>t</th>      <th>P>|t|</th>  <th>[0.025</th>    <th>0.975]</th>  \n",
       "</tr>\n",
       "<tr>\n",
       "  <th>Intercept</th> <td>    8.9917</td> <td>    2.472</td> <td>    3.637</td> <td> 0.001</td> <td>    4.049</td> <td>   13.934</td>\n",
       "</tr>\n",
       "<tr>\n",
       "  <th>FG</th>        <td>    3.0427</td> <td>    0.363</td> <td>    8.383</td> <td> 0.000</td> <td>    2.317</td> <td>    3.768</td>\n",
       "</tr>\n",
       "<tr>\n",
       "  <th>FGA</th>       <td>   -0.5523</td> <td>    0.216</td> <td>   -2.553</td> <td> 0.013</td> <td>   -0.985</td> <td>   -0.120</td>\n",
       "</tr>\n",
       "</table>\n",
       "<table class=\"simpletable\">\n",
       "<tr>\n",
       "  <th>Omnibus:</th>       <td> 0.422</td> <th>  Durbin-Watson:     </th> <td>   1.943</td>\n",
       "</tr>\n",
       "<tr>\n",
       "  <th>Prob(Omnibus):</th> <td> 0.810</td> <th>  Jarque-Bera (JB):  </th> <td>   0.069</td>\n",
       "</tr>\n",
       "<tr>\n",
       "  <th>Skew:</th>          <td>-0.025</td> <th>  Prob(JB):          </th> <td>   0.966</td>\n",
       "</tr>\n",
       "<tr>\n",
       "  <th>Kurtosis:</th>      <td> 3.151</td> <th>  Cond. No.          </th> <td>    64.3</td>\n",
       "</tr>\n",
       "</table><br/><br/>Notes:<br/>[1] Standard Errors assume that the covariance matrix of the errors is correctly specified."
      ],
      "text/plain": [
       "<class 'statsmodels.iolib.summary.Summary'>\n",
       "\"\"\"\n",
       "                            OLS Regression Results                            \n",
       "==============================================================================\n",
       "Dep. Variable:                   GmSc   R-squared:                       0.594\n",
       "Model:                            OLS   Adj. R-squared:                  0.581\n",
       "Method:                 Least Squares   F-statistic:                     45.30\n",
       "Date:                Sun, 07 May 2023   Prob (F-statistic):           7.49e-13\n",
       "Time:                        07:09:49   Log-Likelihood:                -199.48\n",
       "No. Observations:                  65   AIC:                             405.0\n",
       "Df Residuals:                      62   BIC:                             411.5\n",
       "Df Model:                           2                                         \n",
       "Covariance Type:            nonrobust                                         \n",
       "==============================================================================\n",
       "                 coef    std err          t      P>|t|      [0.025      0.975]\n",
       "------------------------------------------------------------------------------\n",
       "Intercept      8.9917      2.472      3.637      0.001       4.049      13.934\n",
       "FG             3.0427      0.363      8.383      0.000       2.317       3.768\n",
       "FGA           -0.5523      0.216     -2.553      0.013      -0.985      -0.120\n",
       "==============================================================================\n",
       "Omnibus:                        0.422   Durbin-Watson:                   1.943\n",
       "Prob(Omnibus):                  0.810   Jarque-Bera (JB):                0.069\n",
       "Skew:                          -0.025   Prob(JB):                        0.966\n",
       "Kurtosis:                       3.151   Cond. No.                         64.3\n",
       "==============================================================================\n",
       "\n",
       "Notes:\n",
       "[1] Standard Errors assume that the covariance matrix of the errors is correctly specified.\n",
       "\"\"\""
      ]
     },
     "execution_count": 85,
     "metadata": {},
     "output_type": "execute_result"
    }
   ],
   "source": [
    "m4 = smf.ols('GmSc ~ FG + FGA', data=new_nba_data).fit()\n",
    "m4.summary()"
   ]
  },
  {
   "cell_type": "markdown",
   "id": "e63d587d-5bdb-4630-baf9-4b1c77d66cb2",
   "metadata": {},
   "source": [
    "(a) The interpretation of FG (Field Goals, β1) is that for each additional field goal made, the game score (GmSc) increases by approximately 3.0427 points, on average, holding FGA (Field Goal Attempts) constant. FG is statistically significant, as its p-value is less than 0.05 (P>|t| = 0.000), indicating that the relationship between FG and GmSc is not due to chance, and there is a positive relationship between the game score and field goals (FG).\n",
    "\n",
    "(b) The interpretation of FGA (Field Goal Attempts, β2) is that for each additional field goal attempt, the game score (GmSc) decreases by approximately 0.5523 points, on average, holding FG(Field Goals) constant. FGA is statistically significant, as its p-value is less than 0.05 (P>|t| = 0.013), indicating that the relationship between FGA and GmSc is not due to chance, and there is a negative relationship between the game score and Field Goal Attempts(FGA).\n",
    "\n",
    "(c) In Model 1, FGA has a positive estimate, while in Model 2, it has a negative estimate. The intuitive explanation for this is that in a simple regression (Model 1), FGA may be positively related to GmSc because, on average, more attempts lead to more points scored. However, in the multiple regression (Model 2), where the effect of FG is accounted for, the negative relationship between FGA and GmSc suggests that when controlling for the number of successful field goals, more attempts may actually be associated with a lower game score. This could be because missing more shots results in a lower shooting efficiency. The difference between interpreting slope in simple regression(Model1) and multiple regression(Model 2) lies in the fact that in multiple regression, the effect of each independent variable is estimated while controlling for the effects of other independent variables in the model. Therefore, the relationship between an independent variable and the dependent variable may change depending on the other variables included in the model.\n",
    "\n",
    "\n",
    "(d) The R-squared of Model 2 is 0.594, which indicates that approximately 59.4% of the variance in the game score can be explained by the FG and FGA variables. This is a significant improvement from the R-squared value of 0.133 in Model 1, which only included the FGA variable.Comparing the R-squared values of the two models, it is clear that Model 2 is a better fit into the regression model, as it explains a larger proportion of the variance in the game score. This suggests that the addition of the FG variable in Model 2 provides valuable information and improves the model's ability to predict game scores based on the FG and FGA variables."
   ]
  },
  {
   "cell_type": "markdown",
   "id": "5427a0a9-1a03-432d-83ea-96773cfcfc1c",
   "metadata": {},
   "source": [
    "#### 7. Now include all the independent numerical variables, i.e. FG, FGA, 3P, 3PA, FT,FTA, ORB, DRB, AST, STL, BLK, TOV, PF into the model. Estimate it, and discuss the results."
   ]
  },
  {
   "cell_type": "code",
   "execution_count": 86,
   "id": "07e77dca-82ab-4d31-aac9-c1a7a4c278c5",
   "metadata": {},
   "outputs": [
    {
     "data": {
      "text/html": [
       "<table class=\"simpletable\">\n",
       "<caption>OLS Regression Results</caption>\n",
       "<tr>\n",
       "  <th>Dep. Variable:</th>          <td>GmSc</td>       <th>  R-squared:         </th> <td>   1.000</td> \n",
       "</tr>\n",
       "<tr>\n",
       "  <th>Model:</th>                   <td>OLS</td>       <th>  Adj. R-squared:    </th> <td>   1.000</td> \n",
       "</tr>\n",
       "<tr>\n",
       "  <th>Method:</th>             <td>Least Squares</td>  <th>  F-statistic:       </th> <td>4.599e+30</td>\n",
       "</tr>\n",
       "<tr>\n",
       "  <th>Date:</th>             <td>Sun, 07 May 2023</td> <th>  Prob (F-statistic):</th>  <td>  0.00</td>  \n",
       "</tr>\n",
       "<tr>\n",
       "  <th>Time:</th>                 <td>07:09:50</td>     <th>  Log-Likelihood:    </th> <td>  2021.4</td> \n",
       "</tr>\n",
       "<tr>\n",
       "  <th>No. Observations:</th>      <td>    65</td>      <th>  AIC:               </th> <td>  -4015.</td> \n",
       "</tr>\n",
       "<tr>\n",
       "  <th>Df Residuals:</th>          <td>    51</td>      <th>  BIC:               </th> <td>  -3984.</td> \n",
       "</tr>\n",
       "<tr>\n",
       "  <th>Df Model:</th>              <td>    13</td>      <th>                     </th>     <td> </td>    \n",
       "</tr>\n",
       "<tr>\n",
       "  <th>Covariance Type:</th>      <td>nonrobust</td>    <th>                     </th>     <td> </td>    \n",
       "</tr>\n",
       "</table>\n",
       "<table class=\"simpletable\">\n",
       "<tr>\n",
       "      <td></td>         <th>coef</th>     <th>std err</th>      <th>t</th>      <th>P>|t|</th>  <th>[0.025</th>    <th>0.975]</th>  \n",
       "</tr>\n",
       "<tr>\n",
       "  <th>Intercept</th> <td>-1.599e-14</td> <td>  7.5e-15</td> <td>   -2.130</td> <td> 0.038</td> <td>-3.11e-14</td> <td> -9.2e-16</td>\n",
       "</tr>\n",
       "<tr>\n",
       "  <th>FGA</th>       <td>   -0.7000</td> <td> 4.85e-16</td> <td>-1.44e+15</td> <td> 0.000</td> <td>   -0.700</td> <td>   -0.700</td>\n",
       "</tr>\n",
       "<tr>\n",
       "  <th>FG</th>        <td>    2.4000</td> <td> 7.34e-16</td> <td> 3.27e+15</td> <td> 0.000</td> <td>    2.400</td> <td>    2.400</td>\n",
       "</tr>\n",
       "<tr>\n",
       "  <th>FT</th>        <td>    1.4000</td> <td>  1.4e-15</td> <td>    1e+15</td> <td> 0.000</td> <td>    1.400</td> <td>    1.400</td>\n",
       "</tr>\n",
       "<tr>\n",
       "  <th>FTA</th>       <td>   -0.4000</td> <td> 1.16e-15</td> <td>-3.46e+14</td> <td> 0.000</td> <td>   -0.400</td> <td>   -0.400</td>\n",
       "</tr>\n",
       "<tr>\n",
       "  <th>ORB</th>       <td>    0.7000</td> <td> 1.05e-15</td> <td> 6.64e+14</td> <td> 0.000</td> <td>    0.700</td> <td>    0.700</td>\n",
       "</tr>\n",
       "<tr>\n",
       "  <th>DRB</th>       <td>    0.3000</td> <td> 4.97e-16</td> <td> 6.03e+14</td> <td> 0.000</td> <td>    0.300</td> <td>    0.300</td>\n",
       "</tr>\n",
       "<tr>\n",
       "  <th>AST</th>       <td>    0.7000</td> <td>    4e-16</td> <td> 1.75e+15</td> <td> 0.000</td> <td>    0.700</td> <td>    0.700</td>\n",
       "</tr>\n",
       "<tr>\n",
       "  <th>STL</th>       <td>    1.0000</td> <td> 1.14e-15</td> <td> 8.77e+14</td> <td> 0.000</td> <td>    1.000</td> <td>    1.000</td>\n",
       "</tr>\n",
       "<tr>\n",
       "  <th>BLK</th>       <td>    0.7000</td> <td> 1.61e-15</td> <td> 4.35e+14</td> <td> 0.000</td> <td>    0.700</td> <td>    0.700</td>\n",
       "</tr>\n",
       "<tr>\n",
       "  <th>TOV</th>       <td>   -1.0000</td> <td> 6.73e-16</td> <td>-1.48e+15</td> <td> 0.000</td> <td>   -1.000</td> <td>   -1.000</td>\n",
       "</tr>\n",
       "<tr>\n",
       "  <th>PF</th>        <td>   -0.4000</td> <td> 8.85e-16</td> <td>-4.52e+14</td> <td> 0.000</td> <td>   -0.400</td> <td>   -0.400</td>\n",
       "</tr>\n",
       "<tr>\n",
       "  <th>Q('3P')</th>   <td>    1.0000</td> <td> 1.26e-15</td> <td> 7.96e+14</td> <td> 0.000</td> <td>    1.000</td> <td>    1.000</td>\n",
       "</tr>\n",
       "<tr>\n",
       "  <th>Q('3PA')</th>  <td>-3.331e-16</td> <td> 8.26e-16</td> <td>   -0.403</td> <td> 0.688</td> <td>-1.99e-15</td> <td> 1.32e-15</td>\n",
       "</tr>\n",
       "</table>\n",
       "<table class=\"simpletable\">\n",
       "<tr>\n",
       "  <th>Omnibus:</th>       <td> 1.986</td> <th>  Durbin-Watson:     </th> <td>   2.215</td>\n",
       "</tr>\n",
       "<tr>\n",
       "  <th>Prob(Omnibus):</th> <td> 0.371</td> <th>  Jarque-Bera (JB):  </th> <td>   1.905</td>\n",
       "</tr>\n",
       "<tr>\n",
       "  <th>Skew:</th>          <td>-0.402</td> <th>  Prob(JB):          </th> <td>   0.386</td>\n",
       "</tr>\n",
       "<tr>\n",
       "  <th>Kurtosis:</th>      <td> 2.758</td> <th>  Cond. No.          </th> <td>    182.</td>\n",
       "</tr>\n",
       "</table><br/><br/>Notes:<br/>[1] Standard Errors assume that the covariance matrix of the errors is correctly specified."
      ],
      "text/plain": [
       "<class 'statsmodels.iolib.summary.Summary'>\n",
       "\"\"\"\n",
       "                            OLS Regression Results                            \n",
       "==============================================================================\n",
       "Dep. Variable:                   GmSc   R-squared:                       1.000\n",
       "Model:                            OLS   Adj. R-squared:                  1.000\n",
       "Method:                 Least Squares   F-statistic:                 4.599e+30\n",
       "Date:                Sun, 07 May 2023   Prob (F-statistic):               0.00\n",
       "Time:                        07:09:50   Log-Likelihood:                 2021.4\n",
       "No. Observations:                  65   AIC:                            -4015.\n",
       "Df Residuals:                      51   BIC:                            -3984.\n",
       "Df Model:                          13                                         \n",
       "Covariance Type:            nonrobust                                         \n",
       "==============================================================================\n",
       "                 coef    std err          t      P>|t|      [0.025      0.975]\n",
       "------------------------------------------------------------------------------\n",
       "Intercept  -1.599e-14    7.5e-15     -2.130      0.038   -3.11e-14    -9.2e-16\n",
       "FGA           -0.7000   4.85e-16  -1.44e+15      0.000      -0.700      -0.700\n",
       "FG             2.4000   7.34e-16   3.27e+15      0.000       2.400       2.400\n",
       "FT             1.4000    1.4e-15      1e+15      0.000       1.400       1.400\n",
       "FTA           -0.4000   1.16e-15  -3.46e+14      0.000      -0.400      -0.400\n",
       "ORB            0.7000   1.05e-15   6.64e+14      0.000       0.700       0.700\n",
       "DRB            0.3000   4.97e-16   6.03e+14      0.000       0.300       0.300\n",
       "AST            0.7000      4e-16   1.75e+15      0.000       0.700       0.700\n",
       "STL            1.0000   1.14e-15   8.77e+14      0.000       1.000       1.000\n",
       "BLK            0.7000   1.61e-15   4.35e+14      0.000       0.700       0.700\n",
       "TOV           -1.0000   6.73e-16  -1.48e+15      0.000      -1.000      -1.000\n",
       "PF            -0.4000   8.85e-16  -4.52e+14      0.000      -0.400      -0.400\n",
       "Q('3P')        1.0000   1.26e-15   7.96e+14      0.000       1.000       1.000\n",
       "Q('3PA')   -3.331e-16   8.26e-16     -0.403      0.688   -1.99e-15    1.32e-15\n",
       "==============================================================================\n",
       "Omnibus:                        1.986   Durbin-Watson:                   2.215\n",
       "Prob(Omnibus):                  0.371   Jarque-Bera (JB):                1.905\n",
       "Skew:                          -0.402   Prob(JB):                        0.386\n",
       "Kurtosis:                       2.758   Cond. No.                         182.\n",
       "==============================================================================\n",
       "\n",
       "Notes:\n",
       "[1] Standard Errors assume that the covariance matrix of the errors is correctly specified.\n",
       "\"\"\""
      ]
     },
     "execution_count": 86,
     "metadata": {},
     "output_type": "execute_result"
    }
   ],
   "source": [
    "m5 = smf.ols(\"GmSc ~ FGA + FG + FT + FTA + ORB + DRB + AST + STL + BLK \\\n",
    "              + TOV + PF + Q('3P') + Q('3PA') \",\n",
    "             data=new_nba_data).fit()\n",
    "m5.summary()"
   ]
  },
  {
   "cell_type": "markdown",
   "id": "77446371-0cd9-4b22-bf46-b3a82a6fb779",
   "metadata": {},
   "source": [
    "(a) In this model, the standard errors are extremely small (close to zero), which results in very large t-values (in the order of 10^14 or 10^15). This indicates that the estimated coefficients are highly significant.\n",
    "\n",
    "(b) The R-squared of this model is 1.000, which means that 100% of the variance in the game score can be explained by the included independent variables (FG, FGA, 3P, 3PA, FT, FTA, ORB, DRB, AST, STL, BLK, TOV, PF). This tells us that the game score is calculated directly from these variables, and the model perfectly captures the relationship between the game score and the included variables.\n",
    "\n",
    "(c) The results show that the coefficient for turnover (TOV) is -1.0000, and its p-value is 0.000, which means it is statistically significant. The negative coefficient indicates that turnovers are bad for the team, as the game score (GmSc) decreases by approximately 1.0000 points, on average, holding other variables constant. This suggests that minimizing turnovers is crucial for improving a team's performance."
   ]
  },
  {
   "cell_type": "markdown",
   "id": "35202db8-0170-40f3-8cd2-dd4d37848a03",
   "metadata": {},
   "source": [
    "#### 8. (6pt) Finally, consult the game score explanation at https://www.nbastuffer.com/analytics101/game-score/. Did you recover the same formula?"
   ]
  },
  {
   "cell_type": "markdown",
   "id": "5ed71ada-0294-47ad-939c-c3afff011473",
   "metadata": {},
   "source": [
    "Yes, the formula we obtained in question 7 matches the Game Score formula provided by the NBAstuffer website. The Game Score formula, as given on the website, is:\n",
    "\n",
    "Game Score = (Points) + 0.4*(Field Goals) - 0.7*(Field Goal Attempts) - 0.4*(Free Throw Attempts - Free Throws) + 0.7*(Offensive Rebounds) + 0.3*(Defensive Rebounds) + (Steals) + 0.7*(Assists) + 0.7*(Blocked Shots) - 0.4*(Personal Fouls) - (Turnovers)\n",
    "\n",
    "Comparing the coefficients in our model (from question 7) with the formula above, we can see that they match:\n",
    "\n",
    "Points: FG * 2 + 3P * 1 + FT * 1  \n",
    "0.4 * Field Goals: 0.4 * FG  \n",
    "0.7 * Field Goal Attempts: -0.7 * FGA  \n",
    "0.4 * (Free Throw Attempts - Free Throws): -0.4 * (FTA - FT)  \n",
    "0.7 * Offensive Rebounds: 0.7 * ORB  \n",
    "0.3 * Defensive Rebounds: 0.3 * DRB  \n",
    "Steals: 1 * STL  \n",
    "0.7 * Assists: 0.7 * AST  \n",
    "0.7 * Blocked Shots: 0.7 * BLK  \n",
    "0.4 * Personal Fouls: -0.4 * PF  \n",
    "Turnovers: -1 * TOV  \n",
    "\n",
    "The coefficients for 3P (3-point shots made) and 3PA (3-point shots attempted) are also included in the model and are 1.0000 and close to 0 (-3.331e-16), respectively. However, the p-value for 3PA is 0.688, indicating that it is not statistically significant. Since 3P is already accounted for in the Points and FG variables, the model still matches the Game Score formula.\n",
    "\n",
    "\n",
    "\n",
    "\n",
    "\n",
    "\n"
   ]
  },
  {
   "cell_type": "markdown",
   "id": "2f1bbfbd-14b7-4fd9-bf70-ca1e0beb05e7",
   "metadata": {},
   "source": [
    "### 3 Interpret regression results in the literature"
   ]
  },
  {
   "cell_type": "markdown",
   "id": "e94d560e-6c31-41f4-b4c6-0468adfbcf83",
   "metadata": {},
   "source": [
    "#### 1. Do those who have a partner have better mental health (as measured by PHQ-9)? Is the effect statistically significant?"
   ]
  },
  {
   "cell_type": "markdown",
   "id": "15d58c0c-def3-4bb3-93a3-7010f148eb6d",
   "metadata": {},
   "source": [
    "Based on the table, the estimate of having a partner is -0.47, which suggests that those who have a partner have slightly better mental health as measured by the PHQ-9, since a lower PHQ-9 score indicates better mental health. However, the p-value is 0.150, which is higher than the conventional significance threshold of 0.05. This means that the effect is not statistically significant, and we cannot confidently conclude that having a partner has a significant impact on mental health."
   ]
  },
  {
   "cell_type": "markdown",
   "id": "ac121740-c8ff-4082-8b4a-efa24adaca8b",
   "metadata": {},
   "source": [
    "#### 2. What is the effect of COVID exposure? Is it improving or worsening mental health? Is the effect statistically significant?"
   ]
  },
  {
   "cell_type": "markdown",
   "id": "843dc125-0871-43dd-8942-8b88cc31bfb6",
   "metadata": {},
   "source": [
    "Based on the table, the estimate of COVID-19 exposure is 0.24. This suggests that COVID-19 exposure is associated with a worsening of mental health, as a higher PHQ-9 score indicates worse mental health. However, the p-value is 0.129, which is higher than the conventional significance threshold of 0.05. This means that the effect is not statistically significant, and we cannot confidently conclude that COVID-19 exposure has a significant impact on mental health."
   ]
  },
  {
   "cell_type": "markdown",
   "id": "45dedaa0-2fc3-47f5-a369-abc4d434bc66",
   "metadata": {},
   "source": [
    "#### 3. How is Financial distress related to mental health? Is the effect statistically significant?"
   ]
  },
  {
   "cell_type": "markdown",
   "id": "1d6c9d4d-d3fd-4eca-a7bc-16ce03571a46",
   "metadata": {},
   "source": [
    "Based on the table, the estimate of financial distress is 2.32. This suggests that financial distress is associated with a worsening of mental health, as a higher PHQ-9 score indicates worse mental health. The p-value is <0.001, which is well below the conventional significance threshold of 0.05. This means that the effect is statistically significant, and we can confidently conclude that financial distress has a significant impact on mental health."
   ]
  },
  {
   "cell_type": "markdown",
   "id": "87dafc5c-72dc-4bf1-8235-fdc98ad50259",
   "metadata": {},
   "source": [
    "### I spent 13 hours in this homework."
   ]
  }
 ],
 "metadata": {
  "kernelspec": {
   "display_name": "Python 3 (ipykernel)",
   "language": "python",
   "name": "python3"
  },
  "language_info": {
   "codemirror_mode": {
    "name": "ipython",
    "version": 3
   },
   "file_extension": ".py",
   "mimetype": "text/x-python",
   "name": "python",
   "nbconvert_exporter": "python",
   "pygments_lexer": "ipython3",
   "version": "3.9.7"
  }
 },
 "nbformat": 4,
 "nbformat_minor": 5
}
