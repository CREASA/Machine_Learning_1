{
 "cells": [
  {
   "cell_type": "markdown",
   "id": "2f886ae0-ff18-4499-9f8f-ae5c30ecf5aa",
   "metadata": {},
   "source": [
    "# PS03"
   ]
  },
  {
   "cell_type": "markdown",
   "id": "0be66a93-2f57-4bf0-b00d-b7d896a1d55c",
   "metadata": {},
   "source": [
    "## Name: Xinyu Chang"
   ]
  },
  {
   "cell_type": "code",
   "execution_count": 85,
   "id": "f2e1585f-5c13-4fa4-8196-c5f68eb2b0c7",
   "metadata": {},
   "outputs": [],
   "source": [
    "# import the packages\n",
    "import numpy as np\n",
    "import matplotlib.pyplot as plt\n",
    "import pandas as pd\n",
    "from math import comb"
   ]
  },
  {
   "cell_type": "markdown",
   "id": "483ce578-45f8-4cc9-ab03-9dfcd6668695",
   "metadata": {},
   "source": [
    "### 1 Binomial distribution"
   ]
  },
  {
   "cell_type": "markdown",
   "id": "a18de0af-110e-43df-81ed-1b681280e519",
   "metadata": {},
   "source": [
    "#### Q1. Compute the expected value of this RV EX"
   ]
  },
  {
   "cell_type": "code",
   "execution_count": 86,
   "id": "e2552798-7c55-4005-bf3a-cc9f37d9137f",
   "metadata": {},
   "outputs": [
    {
     "name": "stdout",
     "output_type": "stream",
     "text": [
      "1.7999999999999998\n"
     ]
    }
   ],
   "source": [
    "n = 3\n",
    "p = 0.6\n",
    "expected_value = p * n\n",
    "print(expected_value)"
   ]
  },
  {
   "cell_type": "markdown",
   "id": "b64dfda4-3080-4426-962c-52f77a58af18",
   "metadata": {},
   "source": [
    "The expected value of this RV E X is exactly 1.8."
   ]
  },
  {
   "cell_type": "markdown",
   "id": "e3642243-b85a-410f-bc56-eac38a9a80b1",
   "metadata": {},
   "source": [
    "#### Q2. Compute the probability your get 0, 1, 2 or 3 “successes”"
   ]
  },
  {
   "cell_type": "markdown",
   "id": "947cc73b-577d-4dac-8a44-c42f8072c4ea",
   "metadata": {},
   "source": [
    "I am using binomial cofficient functions comb in this problem."
   ]
  },
  {
   "cell_type": "code",
   "execution_count": 87,
   "id": "a059a542-385f-437f-942d-d5e51cfc7ceb",
   "metadata": {},
   "outputs": [
    {
     "name": "stdout",
     "output_type": "stream",
     "text": [
      "Probablity of getting 0 success is: 0.06400000000000002\n",
      "Probablity of getting 1 success is: 0.28800000000000003\n",
      "Probablity of getting 2 successes is: 0.43200000000000005\n",
      "Probablity of getting 3 successes is: 0.21599999999999997\n"
     ]
    }
   ],
   "source": [
    "prob_0 = comb(n, 0) * p**0 * (1-p)**(n-0)\n",
    "prob_1 = comb(n, 1) * p**1 * (1-p)**(n-1)\n",
    "prob_2 = comb(n, 2) * p**2 * (1-p)**(n-2)\n",
    "prob_3 = comb(n, 3) * p**3 * (1-p)**(n-3)\n",
    "print(\"Probablity of getting 0 success is:\", prob_0)\n",
    "print(\"Probablity of getting 1 success is:\", prob_1)\n",
    "print(\"Probablity of getting 2 successes is:\", prob_2)\n",
    "print(\"Probablity of getting 3 successes is:\", prob_3)"
   ]
  },
  {
   "cell_type": "markdown",
   "id": "c3005549-eae9-4686-bec1-0f62e9bd2d66",
   "metadata": {},
   "source": [
    "So the probabilities of getting 0, 1, 2, or 3 successes are 0.064, 0.288, 0.432, and 0.216, respectively. "
   ]
  },
  {
   "cell_type": "markdown",
   "id": "46ba4b98-3e32-4f50-827a-d4d6f3cf014e",
   "metadata": {},
   "source": [
    "#### Q3. Compute the variance of this RV Var X"
   ]
  },
  {
   "cell_type": "markdown",
   "id": "e8522a67-8c96-448c-9f1d-c0055d7d5536",
   "metadata": {},
   "source": [
    "The formula of the variance of the RV Var X can be concluded as Var(X) = E[X^2] - (E[X])^2. "
   ]
  },
  {
   "cell_type": "code",
   "execution_count": 88,
   "id": "accf3a58-3579-4de8-9e63-535ac6fe4891",
   "metadata": {},
   "outputs": [
    {
     "data": {
      "text/plain": [
       "0.7199999999999998"
      ]
     },
     "execution_count": 88,
     "metadata": {},
     "output_type": "execute_result"
    }
   ],
   "source": [
    "variance = (0.064 * 0**2 + 0.288 * 1**2 + 0.432 * 2**2 + 0.216 * 3**2) - (1.8 ** 2)\n",
    "variance"
   ]
  },
  {
   "cell_type": "markdown",
   "id": "1965df74-27f1-4853-8c02-136ddec2ff2c",
   "metadata": {},
   "source": [
    "The variance of this RV Var X is about 0.72."
   ]
  },
  {
   "cell_type": "markdown",
   "id": "94f1ac70-194c-4bc7-ab70-538ef33e639d",
   "metadata": {},
   "source": [
    "#### Q4. Pick a sample size R (1000…100,000 are good numbers) and create a sample of size R of such random values."
   ]
  },
  {
   "cell_type": "code",
   "execution_count": 89,
   "id": "da492e99-8d90-40cb-aad1-2f3907e4ec60",
   "metadata": {},
   "outputs": [
    {
     "data": {
      "text/plain": [
       "array([2, 2, 1, 0, 2, 2, 2, 1, 2, 2])"
      ]
     },
     "execution_count": 89,
     "metadata": {},
     "output_type": "execute_result"
    }
   ],
   "source": [
    "R = 1000\n",
    "sample = np.random.binomial(3, 0.6, size=R)\n",
    "sample[:10]  # just for check"
   ]
  },
  {
   "cell_type": "markdown",
   "id": "a1de7b49-e685-4533-ae71-8002e430698f",
   "metadata": {},
   "source": [
    "#### Q5. Compute the mean of your sample."
   ]
  },
  {
   "cell_type": "code",
   "execution_count": 90,
   "id": "a01051f9-fe57-469b-83a1-e010505ffd70",
   "metadata": {},
   "outputs": [
    {
     "data": {
      "text/plain": [
       "1.828"
      ]
     },
     "execution_count": 90,
     "metadata": {},
     "output_type": "execute_result"
    }
   ],
   "source": [
    "mean_sample = np.mean(sample)\n",
    "mean_sample"
   ]
  },
  {
   "cell_type": "markdown",
   "id": "de202ed7-4589-422f-979e-fa5c71e0a42e",
   "metadata": {},
   "source": [
    "The mean of the sample is 1.828 which is close to the EX value."
   ]
  },
  {
   "cell_type": "markdown",
   "id": "8d6d5198-ec02-48f4-b584-c0920dc72228",
   "metadata": {},
   "source": [
    "#### Q6. Compute the variance of your sample."
   ]
  },
  {
   "cell_type": "code",
   "execution_count": 92,
   "id": "d5856498-861d-4d3c-a7d2-692ea9c0c362",
   "metadata": {},
   "outputs": [
    {
     "data": {
      "text/plain": [
       "0.720416"
      ]
     },
     "execution_count": 92,
     "metadata": {},
     "output_type": "execute_result"
    }
   ],
   "source": [
    "var_sample = np.var(sample)\n",
    "var_sample"
   ]
  },
  {
   "cell_type": "markdown",
   "id": "f6ed436f-bdc6-4214-afde-86929ad32525",
   "metadata": {},
   "source": [
    "The variance of the sample is 0.729 which is close to the Var X value."
   ]
  },
  {
   "cell_type": "markdown",
   "id": "a4175a17-265b-4bb6-aac6-67e0f94fe83d",
   "metadata": {},
   "source": [
    "#### Q7. Compute the expected number of cases with 0, 1, 2, and 3 successes for the sample size."
   ]
  },
  {
   "cell_type": "code",
   "execution_count": 93,
   "id": "6061bc99-d6da-4e58-aca4-90ed4e616d3c",
   "metadata": {},
   "outputs": [
    {
     "name": "stdout",
     "output_type": "stream",
     "text": [
      "The expected number of cases with 0 success: 64.00000000000001\n",
      "The expected number of cases with 1 success: 288.00000000000006\n",
      "The expected number of cases with 2 success: 432.00000000000006\n",
      "The expected number of cases with 3 success: 215.99999999999997\n"
     ]
    }
   ],
   "source": [
    "success_0_EX = R * prob_0\n",
    "success_1_EX = R * prob_1\n",
    "success_2_EX = R * prob_2\n",
    "success_3_EX = R * prob_3\n",
    "print(\"The expected number of cases with 0 success:\", success_0_EX)\n",
    "print(\"The expected number of cases with 1 success:\", success_1_EX)\n",
    "print(\"The expected number of cases with 2 success:\", success_2_EX)\n",
    "print(\"The expected number of cases with 3 success:\", success_3_EX)"
   ]
  },
  {
   "cell_type": "markdown",
   "id": "aedaca65-bf2c-4a1c-b02e-8ba3f7c50df6",
   "metadata": {},
   "source": [
    "The expected number of cases with the sample size 1000 of 0, 1, 2, and 3 successes are 64, 288, 432, 216 respectively."
   ]
  },
  {
   "cell_type": "markdown",
   "id": "9e6cac66-10cf-43f4-948f-066d0802818f",
   "metadata": {},
   "source": [
    "#### Q8. Make a histogram of your sample. "
   ]
  },
  {
   "cell_type": "code",
   "execution_count": 94,
   "id": "d3b6a6ed-1f64-4af0-b1a6-fee7d5ab2d23",
   "metadata": {},
   "outputs": [
    {
     "data": {
      "image/png": "[encoded data removed]",
      "text/plain": [
       "<Figure size 432x288 with 1 Axes>"
      ]
     },
     "metadata": {
      "needs_background": "light"
     },
     "output_type": "display_data"
    }
   ],
   "source": [
    "successes = [0, 1, 2, 3]\n",
    "counts = [success_0_EX, success_1_EX, success_2_EX, success_3_EX]\n",
    "plt.hist(sample, alpha = 0.5, bins=100)\n",
    "plt.scatter(successes, counts, c=\"red\")\n",
    "plt.title(\"Distribution of the number of cases for each possible number of successes (0, 1, 2, and 3)\")\n",
    "plt.xlabel(\"Possible number of successes\")\n",
    "plt.ylabel(\"Frequency\")\n",
    "plt.show()"
   ]
  },
  {
   "cell_type": "markdown",
   "id": "8ca783ee-80dc-4f89-99dd-0d55693e1598",
   "metadata": {},
   "source": [
    "The resulting histogram shows the distribution of the sample and the expected number of cases for each possible number of successes (0, 1, 2, and 3). The histogram bars are centered at the possible values of X (0, 1, 2, and 3) and the heights of the bars represent the frequency of the sample that falls in each category. The red dots are placed closed to each bar and represent the expected proportion of the sample that falls in each category. The closer the expected numbers are to the actual frequencies in the sample, the better the match. Thus, the histogram matches the expected numbers fairly well."
   ]
  },
  {
   "cell_type": "markdown",
   "id": "d59d175c-963d-4668-b480-8208bc11f9f6",
   "metadata": {},
   "source": [
    "### 2 Log-normal distribution"
   ]
  },
  {
   "cell_type": "markdown",
   "id": "b9396258-950c-4f4d-a305-35f6962a3340",
   "metadata": {},
   "source": [
    "#### Q1. Choose your sample size S."
   ]
  },
  {
   "cell_type": "code",
   "execution_count": 115,
   "id": "c908f4d9-7aeb-4c75-ae5d-c93eb726b701",
   "metadata": {},
   "outputs": [],
   "source": [
    "S = 10000"
   ]
  },
  {
   "cell_type": "markdown",
   "id": "9a1c815f-3890-4168-9727-4a327bb41dca",
   "metadata": {},
   "source": [
    "#### Q2.  Explore the shape of the distribution."
   ]
  },
  {
   "cell_type": "code",
   "execution_count": 116,
   "id": "ca4bfdc9-1edb-4069-8ee2-bf47a485275e",
   "metadata": {},
   "outputs": [],
   "source": [
    "sample_1 = np.random.lognormal(0, 0.2, S)\n",
    "sample_2 = np.random.lognormal(0, 0.5, S)\n",
    "sample_3 = np.random.lognormal(0, 1.68, S)"
   ]
  },
  {
   "cell_type": "code",
   "execution_count": 117,
   "id": "6cbf458c-102d-4278-b50b-137508dd4f9d",
   "metadata": {},
   "outputs": [
    {
     "data": {
      "image/png": "[encoded data removed]",
      "text/plain": [
       "<Figure size 864x576 with 6 Axes>"
      ]
     },
     "metadata": {
      "needs_background": "light"
     },
     "output_type": "display_data"
    }
   ],
   "source": [
    "fig, axs = plt.subplots(2, 3, figsize=(12, 8))\n",
    "\n",
    "# Plot LN(0, 0.2)\n",
    "mu, sigma = 0, 0.2\n",
    "axs[0, 0].hist(sample_1, bins=50, density=True, alpha=0.5)\n",
    "axs[0, 0].set_title(f\"LN({mu}, {sigma})\")\n",
    "axs[0, 0].set_xlabel(\"Value\")\n",
    "axs[0, 0].set_ylabel(\"Probability Density\")\n",
    "\n",
    "axs[1, 0].hist(np.log(sample_1), bins=50, density=True, alpha=0.5)\n",
    "axs[1, 0].set_xlabel(\"log(Value)\")\n",
    "axs[1, 0].set_ylabel(\"Probability Density\")\n",
    "\n",
    "# Plot LN(0, 0.5)\n",
    "mu, sigma = 0, 0.5\n",
    "axs[0, 1].hist(sample_2, bins=50, density=True, alpha=0.5)\n",
    "axs[0, 1].set_title(f\"LN({mu}, {sigma})\")\n",
    "axs[0, 1].set_xlabel(\"Value\")\n",
    "axs[0, 1].set_ylabel(\"Probability Density\")\n",
    "\n",
    "axs[1, 1].hist(np.log(sample_2), bins=50, density=True, alpha=0.5)\n",
    "axs[1, 1].set_xlabel(\"log(Value)\")\n",
    "axs[1, 1].set_ylabel(\"Probability Density\")\n",
    "\n",
    "# Plot LN(0, 1.68)\n",
    "mu, sigma = 0, 1.68\n",
    "axs[0, 2].hist(sample_3, bins=50, density=True, alpha=0.5)\n",
    "axs[0, 2].set_title(f\"LN({mu}, {sigma})\")\n",
    "axs[0, 2].set_xlabel(\"Value\")\n",
    "axs[0, 2].set_ylabel(\"Probability Density\")\n",
    "\n",
    "axs[1, 2].hist(np.log(sample_3), bins=50, density=True, alpha=0.5)\n",
    "axs[1, 2].set_xlabel(\"log(Value)\")\n",
    "axs[1, 2].set_ylabel(\"Probability Density\")\n",
    "\n",
    "plt.tight_layout()\n",
    "plt.show()"
   ]
  },
  {
   "cell_type": "markdown",
   "id": "54053816-626c-4f19-828e-0304e6614328",
   "metadata": {},
   "source": [
    "From the linear-linear scale histograms, we can see that all three distributions are right skewed, with longer tails towards higher values. The higher of the sigma value, the more skewed of the distribution. From the log-linear scale histograms, the shapes of the distributions are almost normal distribution."
   ]
  },
  {
   "cell_type": "markdown",
   "id": "358ca886-091e-43ed-a513-3bd51240f598",
   "metadata": {},
   "source": [
    "#### Q3. Look at the histograms and tell-what do you think, which one describes the least unequal distribution, and which one the most unequal distribution?"
   ]
  },
  {
   "cell_type": "markdown",
   "id": "cd07b78c-60d8-4448-8fe5-cb05ba7b9a15",
   "metadata": {},
   "source": [
    "From the linear-linear scale histograms, we can find that the sample_3(mu_3, sigma_3 = 0, 1.68) has the most unequal distribution and the sample_1 (mu_1, sigma_1 = 0, 0.2) has the least unequal distribution. The parameter σ determines the spread, with smaller σ giving a more equal distribution and larger σ giving a more unequal one. It can be observed by graph that the sample_3 has a largest standard deviation and the sample_1 has a smallest standard deviation."
   ]
  },
  {
   "cell_type": "markdown",
   "id": "070cfe08-572c-4900-a0b0-1d194a1b1af1",
   "metadata": {},
   "source": [
    "#### Q4. Compute sample means and variance"
   ]
  },
  {
   "cell_type": "code",
   "execution_count": 118,
   "id": "0049eddd-9fcd-42e4-97f8-f64cd828e7c6",
   "metadata": {},
   "outputs": [
    {
     "name": "stdout",
     "output_type": "stream",
     "text": [
      "sample_mean_1: 1.0202853146884183\n",
      "theoretical_mean_1: 1.0202013400267558\n",
      "sample_variance_1: 0.043165713828662966\n",
      "theoretical_variance_1: 0.04247629348257031\n"
     ]
    }
   ],
   "source": [
    "sample_mean_1 = np.mean(sample_1)\n",
    "theoretical_mean_1 = np.exp(0 + 0.5 * 0.2**2)\n",
    "sample_variance_1 = np.var(sample_1)\n",
    "theoretical_variance_1 = np.exp(2*0 + 0.2**2) * (np.exp(0.2**2) - 1)\n",
    "print(\"sample_mean_1:\",sample_mean_1)\n",
    "print(\"theoretical_mean_1:\",theoretical_mean_1)\n",
    "print(\"sample_variance_1:\",sample_variance_1)\n",
    "print(\"theoretical_variance_1:\",theoretical_variance_1)"
   ]
  },
  {
   "cell_type": "code",
   "execution_count": 119,
   "id": "135c9f25-e4b3-4b9d-bab8-a907351a40a2",
   "metadata": {},
   "outputs": [
    {
     "name": "stdout",
     "output_type": "stream",
     "text": [
      "sample_mean_2: 1.1294520244613393\n",
      "theoretical_mean_2: 1.1331484530668263\n",
      "sample_variance_2: 0.36012433682343986\n",
      "theoretical_variance_2: 0.3646958540123865\n"
     ]
    }
   ],
   "source": [
    "sample_mean_2 = np.mean(sample_2)\n",
    "theoretical_mean_2 = np.exp(0 + 0.5 * 0.5**2)\n",
    "sample_variance_2 = np.var(sample_2)\n",
    "theoretical_variance_2 = np.exp(2*0 + 0.5**2) * (np.exp(0.5**2) - 1)\n",
    "print(\"sample_mean_2:\",sample_mean_2)\n",
    "print(\"theoretical_mean_2:\",theoretical_mean_2)\n",
    "print(\"sample_variance_2:\",sample_variance_2)\n",
    "print(\"theoretical_variance_2:\",theoretical_variance_2)"
   ]
  },
  {
   "cell_type": "code",
   "execution_count": 120,
   "id": "29b0d2b5-c357-47d4-86f3-1859b235876b",
   "metadata": {},
   "outputs": [
    {
     "name": "stdout",
     "output_type": "stream",
     "text": [
      "sample_mean_3: 4.314485036811766\n",
      "theoretical_mean_3: 4.1008735008239405\n",
      "sample_variance_3: 231.447823365115\n",
      "theoretical_variance_3: 265.99982369887033\n"
     ]
    }
   ],
   "source": [
    "sample_mean_3 = np.mean(sample_3)\n",
    "theoretical_mean_3 = np.exp(0 + 0.5 * 1.68**2)\n",
    "sample_variance_3 = np.var(sample_3)\n",
    "theoretical_variance_3 = np.exp(2*0 + 1.68**2) * (np.exp(1.68**2) - 1)\n",
    "print(\"sample_mean_3:\",sample_mean_3)\n",
    "print(\"theoretical_mean_3:\",theoretical_mean_3)\n",
    "print(\"sample_variance_3:\",sample_variance_3)\n",
    "print(\"theoretical_variance_3:\",theoretical_variance_3)"
   ]
  },
  {
   "cell_type": "markdown",
   "id": "0abab98a-2c60-415b-b47b-6f2855e4ee73",
   "metadata": {},
   "source": [
    "From the output, there are similar values between the sample means and variance and the theoretical mean and variance for the sample 1(mu_1, sigma_1 = 0, 0.2) and sample 2(mu_2, sigma_2 = 0, 0.5) except for the sample3(mu_3, sigma_3 = 0, 1.68). So, there is less inequality in the sample 1 and sample 2, because the theoretical and sample values are similar.However, for the sample 3, there are more inequality because there is some difference between the sample variance in sample 3 and the theoretical variance of sample 3."
   ]
  },
  {
   "cell_type": "markdown",
   "id": "c70e06f7-726d-4344-af22-05aaac8c24c4",
   "metadata": {},
   "source": [
    "#### Q5. Compute the Pareto ratio of all three samples."
   ]
  },
  {
   "cell_type": "code",
   "execution_count": 121,
   "id": "861c5183-b016-4662-9582-faeed22c54c8",
   "metadata": {},
   "outputs": [],
   "source": [
    "def pareto_ratio(data):\n",
    "    sorted_data = sorted(data, reverse=True)\n",
    "    total_sum = sum(sorted_data)\n",
    "    for i in range(99, 50, -1):\n",
    "        percentile = np.percentile(sorted_data, i)\n",
    "        ratio = sum([x for x in sorted_data if x >= percentile]) / total_sum\n",
    "        if ratio * 100 > i:\n",
    "            return (100 - i, ratio)\n",
    "    return None"
   ]
  },
  {
   "cell_type": "code",
   "execution_count": 122,
   "id": "acbeafe3-b86f-4ebd-baca-10b12287e25d",
   "metadata": {},
   "outputs": [
    {
     "data": {
      "text/plain": [
       "(47, 0.5498425305634205)"
      ]
     },
     "execution_count": 122,
     "metadata": {},
     "output_type": "execute_result"
    }
   ],
   "source": [
    "pareto_ratio(sample_1)"
   ]
  },
  {
   "cell_type": "code",
   "execution_count": 123,
   "id": "94eb99b7-6993-4576-9f6e-cc1eef1d3ead",
   "metadata": {},
   "outputs": [
    {
     "data": {
      "text/plain": [
       "(41, 0.6077202143966621)"
      ]
     },
     "execution_count": 123,
     "metadata": {},
     "output_type": "execute_result"
    }
   ],
   "source": [
    "pareto_ratio(sample_2)"
   ]
  },
  {
   "cell_type": "code",
   "execution_count": 124,
   "id": "ce33adea-357d-4d52-9f7e-b2f2c78ca42c",
   "metadata": {},
   "outputs": [
    {
     "data": {
      "text/plain": [
       "(20, 0.8089958523544851)"
      ]
     },
     "execution_count": 124,
     "metadata": {},
     "output_type": "execute_result"
    }
   ],
   "source": [
    "pareto_ratio(sample_3)"
   ]
  },
  {
   "cell_type": "markdown",
   "id": "41e2fee0-6e02-4ec2-a9c0-3d780895d6f4",
   "metadata": {},
   "source": [
    "The most unequal distribution is the sample_3, where only 20% of the population accounts for 80.9% of the total effect. This closely follows the Pareto principle, suggesting a highly skewed distribution. The most equal distribution is the sample_1, where 47% of the population is responsible for 54.8% of the total effect. This distribution is closer to an equal distribution, as the percentages are not as skewed as in the other cases.The results correspond to what I did on the the histograms."
   ]
  },
  {
   "cell_type": "markdown",
   "id": "ecfdb46c-e5b1-48ee-acd6-83212832983d",
   "metadata": {},
   "source": [
    "### 3 Inequality in data"
   ]
  },
  {
   "cell_type": "markdown",
   "id": "e61debd2-fd26-4b07-bb6b-1146198a5344",
   "metadata": {},
   "source": [
    "#### Q1.Load both datasets and do basic checks—do the values of interest (number of citations and income) look reasonable?"
   ]
  },
  {
   "cell_type": "code",
   "execution_count": 125,
   "id": "0619b971-2102-41e9-9723-2ee739101b09",
   "metadata": {},
   "outputs": [
    {
     "data": {
      "text/html": [
       "<div>\n",
       "<style scoped>\n",
       "    .dataframe tbody tr th:only-of-type {\n",
       "        vertical-align: middle;\n",
       "    }\n",
       "\n",
       "    .dataframe tbody tr th {\n",
       "        vertical-align: top;\n",
       "    }\n",
       "\n",
       "    .dataframe thead th {\n",
       "        text-align: right;\n",
       "    }\n",
       "</style>\n",
       "<table border=\"1\" class=\"dataframe\">\n",
       "  <thead>\n",
       "    <tr style=\"text-align: right;\">\n",
       "      <th></th>\n",
       "      <th>treat</th>\n",
       "      <th>age</th>\n",
       "      <th>educ</th>\n",
       "      <th>ethn</th>\n",
       "      <th>married</th>\n",
       "      <th>re74</th>\n",
       "      <th>re75</th>\n",
       "      <th>re78</th>\n",
       "      <th>u74</th>\n",
       "      <th>u75</th>\n",
       "    </tr>\n",
       "  </thead>\n",
       "  <tbody>\n",
       "    <tr>\n",
       "      <th>0</th>\n",
       "      <td>True</td>\n",
       "      <td>37</td>\n",
       "      <td>11</td>\n",
       "      <td>black</td>\n",
       "      <td>True</td>\n",
       "      <td>0.0</td>\n",
       "      <td>0.0</td>\n",
       "      <td>9930.05</td>\n",
       "      <td>True</td>\n",
       "      <td>True</td>\n",
       "    </tr>\n",
       "    <tr>\n",
       "      <th>1</th>\n",
       "      <td>True</td>\n",
       "      <td>30</td>\n",
       "      <td>12</td>\n",
       "      <td>black</td>\n",
       "      <td>False</td>\n",
       "      <td>0.0</td>\n",
       "      <td>0.0</td>\n",
       "      <td>24909.50</td>\n",
       "      <td>True</td>\n",
       "      <td>True</td>\n",
       "    </tr>\n",
       "    <tr>\n",
       "      <th>2</th>\n",
       "      <td>True</td>\n",
       "      <td>27</td>\n",
       "      <td>11</td>\n",
       "      <td>black</td>\n",
       "      <td>False</td>\n",
       "      <td>0.0</td>\n",
       "      <td>0.0</td>\n",
       "      <td>7506.15</td>\n",
       "      <td>True</td>\n",
       "      <td>True</td>\n",
       "    </tr>\n",
       "    <tr>\n",
       "      <th>3</th>\n",
       "      <td>True</td>\n",
       "      <td>33</td>\n",
       "      <td>8</td>\n",
       "      <td>black</td>\n",
       "      <td>False</td>\n",
       "      <td>0.0</td>\n",
       "      <td>0.0</td>\n",
       "      <td>289.79</td>\n",
       "      <td>True</td>\n",
       "      <td>True</td>\n",
       "    </tr>\n",
       "    <tr>\n",
       "      <th>4</th>\n",
       "      <td>True</td>\n",
       "      <td>22</td>\n",
       "      <td>9</td>\n",
       "      <td>black</td>\n",
       "      <td>False</td>\n",
       "      <td>0.0</td>\n",
       "      <td>0.0</td>\n",
       "      <td>4056.49</td>\n",
       "      <td>True</td>\n",
       "      <td>True</td>\n",
       "    </tr>\n",
       "    <tr>\n",
       "      <th>5</th>\n",
       "      <td>True</td>\n",
       "      <td>23</td>\n",
       "      <td>12</td>\n",
       "      <td>black</td>\n",
       "      <td>False</td>\n",
       "      <td>0.0</td>\n",
       "      <td>0.0</td>\n",
       "      <td>0.00</td>\n",
       "      <td>True</td>\n",
       "      <td>True</td>\n",
       "    </tr>\n",
       "    <tr>\n",
       "      <th>6</th>\n",
       "      <td>True</td>\n",
       "      <td>32</td>\n",
       "      <td>11</td>\n",
       "      <td>black</td>\n",
       "      <td>False</td>\n",
       "      <td>0.0</td>\n",
       "      <td>0.0</td>\n",
       "      <td>8472.16</td>\n",
       "      <td>True</td>\n",
       "      <td>True</td>\n",
       "    </tr>\n",
       "    <tr>\n",
       "      <th>7</th>\n",
       "      <td>True</td>\n",
       "      <td>22</td>\n",
       "      <td>16</td>\n",
       "      <td>black</td>\n",
       "      <td>False</td>\n",
       "      <td>0.0</td>\n",
       "      <td>0.0</td>\n",
       "      <td>2164.02</td>\n",
       "      <td>True</td>\n",
       "      <td>True</td>\n",
       "    </tr>\n",
       "    <tr>\n",
       "      <th>8</th>\n",
       "      <td>True</td>\n",
       "      <td>19</td>\n",
       "      <td>9</td>\n",
       "      <td>black</td>\n",
       "      <td>False</td>\n",
       "      <td>0.0</td>\n",
       "      <td>0.0</td>\n",
       "      <td>8173.91</td>\n",
       "      <td>True</td>\n",
       "      <td>True</td>\n",
       "    </tr>\n",
       "    <tr>\n",
       "      <th>9</th>\n",
       "      <td>True</td>\n",
       "      <td>21</td>\n",
       "      <td>13</td>\n",
       "      <td>black</td>\n",
       "      <td>False</td>\n",
       "      <td>0.0</td>\n",
       "      <td>0.0</td>\n",
       "      <td>17094.60</td>\n",
       "      <td>True</td>\n",
       "      <td>True</td>\n",
       "    </tr>\n",
       "  </tbody>\n",
       "</table>\n",
       "</div>"
      ],
      "text/plain": [
       "   treat  age  educ   ethn  married  re74  re75      re78   u74   u75\n",
       "0   True   37    11  black     True   0.0   0.0   9930.05  True  True\n",
       "1   True   30    12  black    False   0.0   0.0  24909.50  True  True\n",
       "2   True   27    11  black    False   0.0   0.0   7506.15  True  True\n",
       "3   True   33     8  black    False   0.0   0.0    289.79  True  True\n",
       "4   True   22     9  black    False   0.0   0.0   4056.49  True  True\n",
       "5   True   23    12  black    False   0.0   0.0      0.00  True  True\n",
       "6   True   32    11  black    False   0.0   0.0   8472.16  True  True\n",
       "7   True   22    16  black    False   0.0   0.0   2164.02  True  True\n",
       "8   True   19     9  black    False   0.0   0.0   8173.91  True  True\n",
       "9   True   21    13  black    False   0.0   0.0  17094.60  True  True"
      ]
     },
     "execution_count": 125,
     "metadata": {},
     "output_type": "execute_result"
    }
   ],
   "source": [
    "treatment_data = pd.read_csv('treatment.csv', sep = '\\t')\n",
    "treatment_data.head(10)"
   ]
  },
  {
   "cell_type": "code",
   "execution_count": 126,
   "id": "6556ab16-2a70-4023-ae7c-43a223bc4d94",
   "metadata": {},
   "outputs": [
    {
     "data": {
      "text/plain": [
       "(2675, 10)"
      ]
     },
     "execution_count": 126,
     "metadata": {},
     "output_type": "execute_result"
    }
   ],
   "source": [
    "treatment_data.shape"
   ]
  },
  {
   "cell_type": "markdown",
   "id": "7803e6c0-fa7c-407b-80d0-0f2e1dddef56",
   "metadata": {},
   "source": [
    "There are 2675 rows and 10 columns in the treatment dataset. The sample shows that the re78 variable in treatment_data represents the real income of labor market program participants in 1978, and the first 10 lines of data look reasonable and the data fits the type that the column defines."
   ]
  },
  {
   "cell_type": "code",
   "execution_count": 127,
   "id": "7af8abb1-619e-4342-8bc3-89a1fcabe9b5",
   "metadata": {},
   "outputs": [
    {
     "data": {
      "text/html": [
       "<div>\n",
       "<style scoped>\n",
       "    .dataframe tbody tr th:only-of-type {\n",
       "        vertical-align: middle;\n",
       "    }\n",
       "\n",
       "    .dataframe tbody tr th {\n",
       "        vertical-align: top;\n",
       "    }\n",
       "\n",
       "    .dataframe thead th {\n",
       "        text-align: right;\n",
       "    }\n",
       "</style>\n",
       "<table border=\"1\" class=\"dataframe\">\n",
       "  <thead>\n",
       "    <tr style=\"text-align: right;\">\n",
       "      <th></th>\n",
       "      <th>id</th>\n",
       "      <th>citations</th>\n",
       "      <th>year</th>\n",
       "    </tr>\n",
       "  </thead>\n",
       "  <tbody>\n",
       "    <tr>\n",
       "      <th>0</th>\n",
       "      <td>1926704088</td>\n",
       "      <td>10</td>\n",
       "      <td>2004</td>\n",
       "    </tr>\n",
       "    <tr>\n",
       "      <th>1</th>\n",
       "      <td>1590836146</td>\n",
       "      <td>0</td>\n",
       "      <td>1971</td>\n",
       "    </tr>\n",
       "    <tr>\n",
       "      <th>2</th>\n",
       "      <td>2035484488</td>\n",
       "      <td>3</td>\n",
       "      <td>2007</td>\n",
       "    </tr>\n",
       "    <tr>\n",
       "      <th>3</th>\n",
       "      <td>1965723909</td>\n",
       "      <td>0</td>\n",
       "      <td>2009</td>\n",
       "    </tr>\n",
       "    <tr>\n",
       "      <th>4</th>\n",
       "      <td>2021155615</td>\n",
       "      <td>42</td>\n",
       "      <td>1998</td>\n",
       "    </tr>\n",
       "    <tr>\n",
       "      <th>5</th>\n",
       "      <td>2228695328</td>\n",
       "      <td>0</td>\n",
       "      <td>2005</td>\n",
       "    </tr>\n",
       "    <tr>\n",
       "      <th>6</th>\n",
       "      <td>2197938220</td>\n",
       "      <td>0</td>\n",
       "      <td>2002</td>\n",
       "    </tr>\n",
       "    <tr>\n",
       "      <th>7</th>\n",
       "      <td>2024089647</td>\n",
       "      <td>13</td>\n",
       "      <td>1949</td>\n",
       "    </tr>\n",
       "    <tr>\n",
       "      <th>8</th>\n",
       "      <td>1893307378</td>\n",
       "      <td>60</td>\n",
       "      <td>1996</td>\n",
       "    </tr>\n",
       "    <tr>\n",
       "      <th>9</th>\n",
       "      <td>141316683</td>\n",
       "      <td>0</td>\n",
       "      <td>2005</td>\n",
       "    </tr>\n",
       "  </tbody>\n",
       "</table>\n",
       "</div>"
      ],
      "text/plain": [
       "           id  citations  year\n",
       "0  1926704088         10  2004\n",
       "1  1590836146          0  1971\n",
       "2  2035484488          3  2007\n",
       "3  1965723909          0  2009\n",
       "4  2021155615         42  1998\n",
       "5  2228695328          0  2005\n",
       "6  2197938220          0  2002\n",
       "7  2024089647         13  1949\n",
       "8  1893307378         60  1996\n",
       "9   141316683          0  2005"
      ]
     },
     "execution_count": 127,
     "metadata": {},
     "output_type": "execute_result"
    }
   ],
   "source": [
    "citations_data = pd.read_csv('mag-30k-citations.csv', sep = '\\t')\n",
    "citations_data.head(10)"
   ]
  },
  {
   "cell_type": "code",
   "execution_count": 128,
   "id": "9a0c4eee-631e-4075-ab73-452a46fc56c5",
   "metadata": {},
   "outputs": [
    {
     "data": {
      "text/plain": [
       "(30000, 3)"
      ]
     },
     "execution_count": 128,
     "metadata": {},
     "output_type": "execute_result"
    }
   ],
   "source": [
    "citations_data.shape"
   ]
  },
  {
   "cell_type": "markdown",
   "id": "e21f6da4-bd0b-4605-96fa-c4ccb29fa531",
   "metadata": {},
   "source": [
    "There are 30,000 rows and 3 columns in the mag-30k-citations dataset. The sample shows that the citations variable in citations_data represents the number of times research papers have been cited, and the first 10 lines of data look reasonable and the data fits the type that the column defines."
   ]
  },
  {
   "cell_type": "markdown",
   "id": "a298bad4-b9a5-4723-932b-508d1df96673",
   "metadata": {},
   "source": [
    "#### Q2. Show the distribution of income and citations on a histogram."
   ]
  },
  {
   "cell_type": "code",
   "execution_count": 129,
   "id": "1955d6e9-ab48-4436-90b0-914d2d47996a",
   "metadata": {},
   "outputs": [
    {
     "data": {
      "image/png": "[encoded data removed]",
      "text/plain": [
       "<Figure size 432x288 with 1 Axes>"
      ]
     },
     "metadata": {
      "needs_background": "light"
     },
     "output_type": "display_data"
    },
    {
     "data": {
      "image/png": "[encoded data removed]",
      "text/plain": [
       "<Figure size 432x288 with 1 Axes>"
      ]
     },
     "metadata": {
      "needs_background": "light"
     },
     "output_type": "display_data"
    },
    {
     "data": {
      "image/png": "[encoded data removed]",
      "text/plain": [
       "<Figure size 432x288 with 1 Axes>"
      ]
     },
     "metadata": {
      "needs_background": "light"
     },
     "output_type": "display_data"
    },
    {
     "data": {
      "image/png": "[encoded data removed]",
      "text/plain": [
       "<Figure size 432x288 with 1 Axes>"
      ]
     },
     "metadata": {
      "needs_background": "light"
     },
     "output_type": "display_data"
    }
   ],
   "source": [
    "plt.hist(treatment_data['re78'], bins=50)\n",
    "plt.title('Income Distribution')\n",
    "plt.xlabel('Real Income in 1978')\n",
    "plt.ylabel('Count')\n",
    "plt.show()\n",
    "\n",
    "plt.hist(np.log(1+treatment_data['re78']), bins=50)\n",
    "plt.title('Log Income Distribution')\n",
    "plt.xlabel('Log(1 + Real Income in 1978)')\n",
    "plt.ylabel('Count')\n",
    "plt.show()\n",
    "\n",
    "plt.hist(citations_data['citations'], bins=50)\n",
    "plt.title('Citations Distribution')\n",
    "plt.xlabel('Number of Citations')\n",
    "plt.ylabel('Count')\n",
    "plt.show()\n",
    "\n",
    "plt.hist(np.log(1+citations_data['citations']), bins=50)\n",
    "plt.title('Log Citations Distribution')\n",
    "plt.xlabel('Log(1 + Number of Citations)')\n",
    "plt.ylabel('Count')\n",
    "plt.show()"
   ]
  },
  {
   "cell_type": "markdown",
   "id": "e29dfe1d-5389-41ed-b3eb-0c36a5783d84",
   "metadata": {},
   "source": [
    "The Income distribution graph and the Citation distribution histogram reveal that both the income and citation distributions are significantly right skewed. For the Log income distribtuion graph and the log citations distribution graph, the log income distribution graph appears to be more symmetric although the value of log income of 0 is high, the reason maybe caused by a high number of low income populaton or non income population.However, the log citations distribution is a pareto distribution that has a highly skewed distribution."
   ]
  },
  {
   "cell_type": "markdown",
   "id": "a98cbe57-f996-48a6-98ff-053e540bfe85",
   "metadata": {},
   "source": [
    "#### Q3. Compute sample mean and standard deviation for both datasets."
   ]
  },
  {
   "cell_type": "code",
   "execution_count": 130,
   "id": "62c7a2a8-a566-4676-853a-c6dbb23a99af",
   "metadata": {},
   "outputs": [
    {
     "name": "stdout",
     "output_type": "stream",
     "text": [
      "Income Mean: 20502.37607865417\n",
      "Income Standard Deviation: 15629.597534767552\n",
      "\n",
      "Citations Mean: 15.605633333333333\n",
      "Citations Standard Deviation: 79.1767834759606\n",
      "\n"
     ]
    }
   ],
   "source": [
    "income_mean = np.mean(treatment_data['re78'])\n",
    "income_std = np.std(treatment_data['re78'])\n",
    "print('Income Mean:', income_mean)\n",
    "print('Income Standard Deviation:', income_std)\n",
    "print()\n",
    "\n",
    "citations_mean = np.mean(citations_data['citations'])\n",
    "citations_std = np.std(citations_data['citations'])\n",
    "print('Citations Mean:', citations_mean)\n",
    "print('Citations Standard Deviation:', citations_std)\n",
    "print()"
   ]
  },
  {
   "cell_type": "markdown",
   "id": "b27df81d-3aa4-4185-bbf9-ee50b547dd0e",
   "metadata": {},
   "source": [
    "The mean of income is 20502.38, and the standard deviation is 15629.60.  \n",
    "The mean of citations is 15.61, and the standard deviation is 79.18.  \n",
    "When comparing the mean and standard deviation of each dataset, the standard deviation is approximately 1.3 times smaller than the mean, indicating a moderate level of inequality in the dataset. However, for the citation dataset, the standard deviation is approximately 5.3 times larger than the mean, indicating a high level of inequality in the dataset."
   ]
  },
  {
   "cell_type": "markdown",
   "id": "36d24079-de40-4c2b-b24f-e653c57c6832",
   "metadata": {},
   "source": [
    "#### Q4. Compute the Pareto ratio for both distributions."
   ]
  },
  {
   "cell_type": "code",
   "execution_count": 131,
   "id": "a16997ae-80f5-4d17-8f89-ce957b56eade",
   "metadata": {},
   "outputs": [
    {
     "data": {
      "text/plain": [
       "(37, 0.6474562618876838)"
      ]
     },
     "execution_count": 131,
     "metadata": {},
     "output_type": "execute_result"
    }
   ],
   "source": [
    "pareto_ratio(treatment_data['re78'])"
   ]
  },
  {
   "cell_type": "markdown",
   "id": "6b427893-da32-40d2-8b53-6c3829e90736",
   "metadata": {},
   "source": [
    "For the treatment data, this pareto ratio indicates that top 37% of the population is responsible for 64.7% of the total effect (i.e., total income). This indicates an unequal distribution but not as extreme as the 80/20 rule."
   ]
  },
  {
   "cell_type": "code",
   "execution_count": 132,
   "id": "c84c8760-6096-43c6-bb3d-b4d08e7788c7",
   "metadata": {},
   "outputs": [
    {
     "data": {
      "text/plain": [
       "(17, 0.8325220166222027)"
      ]
     },
     "execution_count": 132,
     "metadata": {},
     "output_type": "execute_result"
    }
   ],
   "source": [
    "pareto_ratio(citations_data['citations'])"
   ]
  },
  {
   "cell_type": "markdown",
   "id": "8d72ccd7-9c4a-47ad-9f9a-188047e4151d",
   "metadata": {},
   "source": [
    "For the citations dataset, 17% of the papers are responsible for 83.3% of the total citations. This distribution is more unequal and closely follows the Pareto principle."
   ]
  },
  {
   "cell_type": "markdown",
   "id": "853de52a-1705-4ff7-a8ab-8f8e318e9b40",
   "metadata": {},
   "source": [
    "### 4 Variance of mean"
   ]
  },
  {
   "cell_type": "markdown",
   "id": "92874829-bfb2-49c6-867d-286903e17689",
   "metadata": {},
   "source": [
    "#### Q1. Pick your number of repetitions R."
   ]
  },
  {
   "cell_type": "code",
   "execution_count": 133,
   "id": "56e38b09-c849-40d5-8f75-104a0fb68132",
   "metadata": {},
   "outputs": [],
   "source": [
    "R = 100000"
   ]
  },
  {
   "cell_type": "markdown",
   "id": "a17b6c71-0b32-44bd-95c3-78bb7229d053",
   "metadata": {},
   "source": [
    "#### Q2. Now do R times in a loop: create a single realization of this RV."
   ]
  },
  {
   "cell_type": "code",
   "execution_count": 134,
   "id": "86c42887-09d1-41bd-af89-51bed331cb09",
   "metadata": {},
   "outputs": [],
   "source": [
    "S = 1\n",
    "N = 3\n",
    "p = 0.6\n",
    "pair_means = np.empty(shape=R)\n",
    "for i in range(R):\n",
    "  x = np.random.binomial(N, p, size=S)\n",
    "  pair_means[i] = np.mean(x)"
   ]
  },
  {
   "cell_type": "markdown",
   "id": "117ab90f-0b3c-4d45-a633-88496d50dd62",
   "metadata": {},
   "source": [
    "#### Q3. Compute variance of your sample."
   ]
  },
  {
   "cell_type": "code",
   "execution_count": 135,
   "id": "dea1cdc3-d86a-4454-a952-a0e1784cc29d",
   "metadata": {},
   "outputs": [
    {
     "data": {
      "text/plain": [
       "0.7172084375"
      ]
     },
     "execution_count": 135,
     "metadata": {},
     "output_type": "execute_result"
    }
   ],
   "source": [
    "var_sample = np.var(pair_means)\n",
    "var_sample"
   ]
  },
  {
   "cell_type": "markdown",
   "id": "f2405a07-0e94-4335-8b25-d89127cadefe",
   "metadata": {},
   "source": [
    "The variance of my sample is 0.72."
   ]
  },
  {
   "cell_type": "markdown",
   "id": "794f324d-8948-409e-8a82-d30950542d88",
   "metadata": {},
   "source": [
    "#### Q4. Now do a loop of R again, but this time create a pair of realizations (S = 2)."
   ]
  },
  {
   "cell_type": "code",
   "execution_count": 136,
   "id": "a2f802fb-c900-4d50-a8cf-4ae5ea33bcf5",
   "metadata": {},
   "outputs": [],
   "source": [
    "S = 2\n",
    "pair_means_ = np.empty(shape=R)\n",
    "for i in range(R):\n",
    "  x = np.random.binomial(N, p, size=S)\n",
    "  pair_means[i] = np.mean(x)"
   ]
  },
  {
   "cell_type": "markdown",
   "id": "d875d87a-8f25-4597-b835-17194585fa29",
   "metadata": {},
   "source": [
    "#### Q5. Compute variance of your pair means."
   ]
  },
  {
   "cell_type": "code",
   "execution_count": 137,
   "id": "73a60382-af16-4b18-b3e0-db0e149bfd83",
   "metadata": {},
   "outputs": [
    {
     "data": {
      "text/plain": [
       "0.359855999375"
      ]
     },
     "execution_count": 137,
     "metadata": {},
     "output_type": "execute_result"
    }
   ],
   "source": [
    "var_pair_means = np.var(pair_means)\n",
    "var_pair_means"
   ]
  },
  {
   "cell_type": "markdown",
   "id": "245c7bcd-9817-4a14-8dcd-4d6e03fcdcb1",
   "metadata": {},
   "source": [
    "The variance of the pair mean is 0.36."
   ]
  },
  {
   "cell_type": "markdown",
   "id": "d75dddf3-e150-4dc0-ba63-1a75199e28e1",
   "metadata": {},
   "source": [
    "#### Q6. Repeat with S = 10-tuples (each time create 10 realizations in the loop and compute mean) and with S = 100-tuples."
   ]
  },
  {
   "cell_type": "code",
   "execution_count": 138,
   "id": "d7975b30-36df-4cbe-a5e8-1ae3776e8e1b",
   "metadata": {},
   "outputs": [],
   "source": [
    "S = 10\n",
    "ten_pair_means = np.empty(shape=R)\n",
    "for i in range(R):\n",
    "  x = np.random.binomial(N, p, size=S)\n",
    "  ten_pair_means[i] = np.mean(x)\n",
    "\n",
    "S = 100\n",
    "hundred_pair_means = np.empty(shape=R)\n",
    "for i in range(R):\n",
    "  x = np.random.binomial(N, p, size=S)\n",
    "  hundred_pair_means[i] = np.mean(x)\n",
    "\n",
    "var_ten_tuple_means = np.var(ten_pair_means)\n",
    "var_hundred_tuple_means = np.var(hundred_pair_means)"
   ]
  },
  {
   "cell_type": "code",
   "execution_count": 139,
   "id": "1d144a34-7885-46b3-bbf7-6cfef86a5b90",
   "metadata": {},
   "outputs": [
    {
     "data": {
      "text/plain": [
       "0.07137869502399999"
      ]
     },
     "execution_count": 139,
     "metadata": {},
     "output_type": "execute_result"
    }
   ],
   "source": [
    "var_ten_tuple_means"
   ]
  },
  {
   "cell_type": "markdown",
   "id": "3f0881d4-9435-4131-b8a8-033385baf405",
   "metadata": {},
   "source": [
    "The variance with S = 10 tuples is 0.071."
   ]
  },
  {
   "cell_type": "code",
   "execution_count": 141,
   "id": "0a8a744c-84aa-4b5a-9fdf-2f4387231109",
   "metadata": {},
   "outputs": [
    {
     "data": {
      "text/plain": [
       "0.0072020443640000015"
      ]
     },
     "execution_count": 141,
     "metadata": {},
     "output_type": "execute_result"
    }
   ],
   "source": [
    "var_hundred_tuple_means"
   ]
  },
  {
   "cell_type": "markdown",
   "id": "cd48e6f6-77a5-4039-a896-3f39bada7874",
   "metadata": {},
   "source": [
    "The variance with S = 100 tuples is 0.0072."
   ]
  },
  {
   "cell_type": "markdown",
   "id": "f5525827-b6d5-4ef3-a1e8-c42fdb721c92",
   "metadata": {},
   "source": [
    "#### Q7. Explain why variance of mean gets smaller when sample size S gets larger."
   ]
  },
  {
   "cell_type": "markdown",
   "id": "c197938d-5eb8-47c2-9d35-fd8fc781713c",
   "metadata": {},
   "source": [
    "One method to consider it is through the concept of \"precision\" in estimating the actual population mean.The sample mean is an estimate of the true population mean when a population is sampled. Due to the fact that our sample is a subset of the population, there will be some uncertainty or \"error\" in our estimate of the population mean.This error is quantified by the variance of the sample mean, which quantifies the amount by which sample means from various samples would vary if we repeatedly drew new samples from the same population.As the sample size S increases, each individual observation has a diminishing effect on the sample mean. In other words, the mean of the sample becomes more stable and less susceptible to random fluctuations in the data. This implies that the variance of the sample mean decreases as sample size increases, as the sources of variability in the sample mean diminish."
   ]
  },
  {
   "cell_type": "markdown",
   "id": "a6422a53-7bc7-4902-ae53-f6aff0d05d5f",
   "metadata": {},
   "source": [
    "#### I spent almost 8 hours in this PS."
   ]
  }
 ],
 "metadata": {
  "kernelspec": {
   "display_name": "Python 3 (ipykernel)",
   "language": "python",
   "name": "python3"
  },
  "language_info": {
   "codemirror_mode": {
    "name": "ipython",
    "version": 3
   },
   "file_extension": ".py",
   "mimetype": "text/x-python",
   "name": "python",
   "nbconvert_exporter": "python",
   "pygments_lexer": "ipython3",
   "version": "3.9.7"
  }
 },
 "nbformat": 4,
 "nbformat_minor": 5
}
