{
 "cells": [
  {
   "cell_type": "markdown",
   "id": "1d098f37-5cef-4a7d-bb80-600a72bc37c4",
   "metadata": {},
   "source": [
    "# PS 07"
   ]
  },
  {
   "cell_type": "markdown",
   "id": "43b3ce10-f1ae-480b-9793-0b842757690d",
   "metadata": {
    "tags": []
   },
   "source": [
    "## Name: Xinyu Chang"
   ]
  },
  {
   "cell_type": "markdown",
   "id": "b8278d04-57c1-497f-9f35-fd852dce3f23",
   "metadata": {},
   "source": [
    "---"
   ]
  },
  {
   "cell_type": "code",
   "execution_count": 63,
   "id": "ef3f3da8-fe64-4772-9d1a-3ecbfe89e1b5",
   "metadata": {},
   "outputs": [],
   "source": [
    "# import the packages\n",
    "import pandas as pd\n",
    "import numpy as np\n",
    "import matplotlib.pyplot as plt\n",
    "from sklearn.linear_model import LogisticRegression\n",
    "from sklearn.model_selection import train_test_split\n",
    "from sklearn.metrics import confusion_matrix, accuracy_score, precision_score, recall_score, f1_score\n",
    "from sklearn.neighbors import KNeighborsClassifier\n",
    "from sklearn.tree import DecisionTreeClassifier"
   ]
  },
  {
   "cell_type": "markdown",
   "id": "45772110-1169-44fc-83f9-804b267b60a1",
   "metadata": {},
   "source": [
    "## 1 Prepare data"
   ]
  },
  {
   "cell_type": "markdown",
   "id": "109aaf27-cb53-4d94-8b5d-ebd37f429c84",
   "metadata": {},
   "source": [
    "#### 1. Load data. The data should contain 303 rows, and 11 columns"
   ]
  },
  {
   "cell_type": "code",
   "execution_count": 64,
   "id": "216089d5-4c26-4db4-bc88-7627d4f55b92",
   "metadata": {},
   "outputs": [
    {
     "data": {
      "text/html": [
       "<div>\n",
       "<style scoped>\n",
       "    .dataframe tbody tr th:only-of-type {\n",
       "        vertical-align: middle;\n",
       "    }\n",
       "\n",
       "    .dataframe tbody tr th {\n",
       "        vertical-align: top;\n",
       "    }\n",
       "\n",
       "    .dataframe thead th {\n",
       "        text-align: right;\n",
       "    }\n",
       "</style>\n",
       "<table border=\"1\" class=\"dataframe\">\n",
       "  <thead>\n",
       "    <tr style=\"text-align: right;\">\n",
       "      <th></th>\n",
       "      <th>age</th>\n",
       "      <th>sex</th>\n",
       "      <th>cp</th>\n",
       "      <th>trtbps</th>\n",
       "      <th>chol</th>\n",
       "      <th>fbs</th>\n",
       "      <th>restecg</th>\n",
       "      <th>thalachh</th>\n",
       "      <th>exng</th>\n",
       "      <th>caa</th>\n",
       "      <th>output</th>\n",
       "    </tr>\n",
       "  </thead>\n",
       "  <tbody>\n",
       "    <tr>\n",
       "      <th>0</th>\n",
       "      <td>63</td>\n",
       "      <td>1</td>\n",
       "      <td>3</td>\n",
       "      <td>145</td>\n",
       "      <td>233</td>\n",
       "      <td>1</td>\n",
       "      <td>0</td>\n",
       "      <td>150</td>\n",
       "      <td>0</td>\n",
       "      <td>0</td>\n",
       "      <td>1</td>\n",
       "    </tr>\n",
       "    <tr>\n",
       "      <th>1</th>\n",
       "      <td>37</td>\n",
       "      <td>1</td>\n",
       "      <td>2</td>\n",
       "      <td>130</td>\n",
       "      <td>250</td>\n",
       "      <td>0</td>\n",
       "      <td>1</td>\n",
       "      <td>187</td>\n",
       "      <td>0</td>\n",
       "      <td>0</td>\n",
       "      <td>1</td>\n",
       "    </tr>\n",
       "    <tr>\n",
       "      <th>2</th>\n",
       "      <td>41</td>\n",
       "      <td>0</td>\n",
       "      <td>1</td>\n",
       "      <td>130</td>\n",
       "      <td>204</td>\n",
       "      <td>0</td>\n",
       "      <td>0</td>\n",
       "      <td>172</td>\n",
       "      <td>0</td>\n",
       "      <td>0</td>\n",
       "      <td>1</td>\n",
       "    </tr>\n",
       "    <tr>\n",
       "      <th>3</th>\n",
       "      <td>56</td>\n",
       "      <td>1</td>\n",
       "      <td>1</td>\n",
       "      <td>120</td>\n",
       "      <td>236</td>\n",
       "      <td>0</td>\n",
       "      <td>1</td>\n",
       "      <td>178</td>\n",
       "      <td>0</td>\n",
       "      <td>0</td>\n",
       "      <td>1</td>\n",
       "    </tr>\n",
       "    <tr>\n",
       "      <th>4</th>\n",
       "      <td>57</td>\n",
       "      <td>0</td>\n",
       "      <td>0</td>\n",
       "      <td>120</td>\n",
       "      <td>354</td>\n",
       "      <td>0</td>\n",
       "      <td>1</td>\n",
       "      <td>163</td>\n",
       "      <td>1</td>\n",
       "      <td>0</td>\n",
       "      <td>1</td>\n",
       "    </tr>\n",
       "    <tr>\n",
       "      <th>...</th>\n",
       "      <td>...</td>\n",
       "      <td>...</td>\n",
       "      <td>...</td>\n",
       "      <td>...</td>\n",
       "      <td>...</td>\n",
       "      <td>...</td>\n",
       "      <td>...</td>\n",
       "      <td>...</td>\n",
       "      <td>...</td>\n",
       "      <td>...</td>\n",
       "      <td>...</td>\n",
       "    </tr>\n",
       "    <tr>\n",
       "      <th>298</th>\n",
       "      <td>57</td>\n",
       "      <td>0</td>\n",
       "      <td>0</td>\n",
       "      <td>140</td>\n",
       "      <td>241</td>\n",
       "      <td>0</td>\n",
       "      <td>1</td>\n",
       "      <td>123</td>\n",
       "      <td>1</td>\n",
       "      <td>0</td>\n",
       "      <td>0</td>\n",
       "    </tr>\n",
       "    <tr>\n",
       "      <th>299</th>\n",
       "      <td>45</td>\n",
       "      <td>1</td>\n",
       "      <td>3</td>\n",
       "      <td>110</td>\n",
       "      <td>264</td>\n",
       "      <td>0</td>\n",
       "      <td>1</td>\n",
       "      <td>132</td>\n",
       "      <td>0</td>\n",
       "      <td>0</td>\n",
       "      <td>0</td>\n",
       "    </tr>\n",
       "    <tr>\n",
       "      <th>300</th>\n",
       "      <td>68</td>\n",
       "      <td>1</td>\n",
       "      <td>0</td>\n",
       "      <td>144</td>\n",
       "      <td>193</td>\n",
       "      <td>1</td>\n",
       "      <td>1</td>\n",
       "      <td>141</td>\n",
       "      <td>0</td>\n",
       "      <td>2</td>\n",
       "      <td>0</td>\n",
       "    </tr>\n",
       "    <tr>\n",
       "      <th>301</th>\n",
       "      <td>57</td>\n",
       "      <td>1</td>\n",
       "      <td>0</td>\n",
       "      <td>130</td>\n",
       "      <td>131</td>\n",
       "      <td>0</td>\n",
       "      <td>1</td>\n",
       "      <td>115</td>\n",
       "      <td>1</td>\n",
       "      <td>1</td>\n",
       "      <td>0</td>\n",
       "    </tr>\n",
       "    <tr>\n",
       "      <th>302</th>\n",
       "      <td>57</td>\n",
       "      <td>0</td>\n",
       "      <td>1</td>\n",
       "      <td>130</td>\n",
       "      <td>236</td>\n",
       "      <td>0</td>\n",
       "      <td>0</td>\n",
       "      <td>174</td>\n",
       "      <td>0</td>\n",
       "      <td>1</td>\n",
       "      <td>0</td>\n",
       "    </tr>\n",
       "  </tbody>\n",
       "</table>\n",
       "<p>303 rows × 11 columns</p>\n",
       "</div>"
      ],
      "text/plain": [
       "     age  sex  cp  trtbps  chol  fbs  restecg  thalachh  exng  caa  output\n",
       "0     63    1   3     145   233    1        0       150     0    0       1\n",
       "1     37    1   2     130   250    0        1       187     0    0       1\n",
       "2     41    0   1     130   204    0        0       172     0    0       1\n",
       "3     56    1   1     120   236    0        1       178     0    0       1\n",
       "4     57    0   0     120   354    0        1       163     1    0       1\n",
       "..   ...  ...  ..     ...   ...  ...      ...       ...   ...  ...     ...\n",
       "298   57    0   0     140   241    0        1       123     1    0       0\n",
       "299   45    1   3     110   264    0        1       132     0    0       0\n",
       "300   68    1   0     144   193    1        1       141     0    2       0\n",
       "301   57    1   0     130   131    0        1       115     1    1       0\n",
       "302   57    0   1     130   236    0        0       174     0    1       0\n",
       "\n",
       "[303 rows x 11 columns]"
      ]
     },
     "execution_count": 64,
     "metadata": {},
     "output_type": "execute_result"
    }
   ],
   "source": [
    "heart = pd.read_csv(\"heart.csv.bz2\", sep=',')\n",
    "heart_df = heart.drop(columns=['slp', 'oldpeak', 'thall'])\n",
    "heart_df"
   ]
  },
  {
   "cell_type": "code",
   "execution_count": 65,
   "id": "cb1c5e98-3a93-46fd-a153-5583ab060a28",
   "metadata": {},
   "outputs": [
    {
     "data": {
      "text/plain": [
       "(303, 11)"
      ]
     },
     "execution_count": 65,
     "metadata": {},
     "output_type": "execute_result"
    }
   ],
   "source": [
    "heart_df.shape"
   ]
  },
  {
   "cell_type": "markdown",
   "id": "007fdb20-7547-428c-8f9b-32579bee6040",
   "metadata": {},
   "source": [
    "There are 303 rows and 11 coulumns in the dataset."
   ]
  },
  {
   "cell_type": "markdown",
   "id": "1c4bb9e9-bd03-4481-bba3-17b49b312a35",
   "metadata": {},
   "source": [
    "#### 2. Do some basic checks. \n",
    "#### a. Do we have any missing values? "
   ]
  },
  {
   "cell_type": "code",
   "execution_count": 66,
   "id": "1115723b-b652-43f4-822c-357534f6aea0",
   "metadata": {},
   "outputs": [
    {
     "data": {
      "text/plain": [
       "age         0\n",
       "sex         0\n",
       "cp          0\n",
       "trtbps      0\n",
       "chol        0\n",
       "fbs         0\n",
       "restecg     0\n",
       "thalachh    0\n",
       "exng        0\n",
       "caa         0\n",
       "output      0\n",
       "dtype: int64"
      ]
     },
     "execution_count": 66,
     "metadata": {},
     "output_type": "execute_result"
    }
   ],
   "source": [
    "heart_df.isna().sum()"
   ]
  },
  {
   "cell_type": "markdown",
   "id": "6a435fff-4098-44ce-b912-a7266cbcd1e6",
   "metadata": {},
   "source": [
    "There are no missing values."
   ]
  },
  {
   "cell_type": "markdown",
   "id": "a615f0b1-fb73-4090-843d-eb2eeeed3bac",
   "metadata": {},
   "source": [
    "#### b. What are the data types? "
   ]
  },
  {
   "cell_type": "code",
   "execution_count": 67,
   "id": "11102321-b1cd-422e-a9b8-4e7577d3c685",
   "metadata": {},
   "outputs": [
    {
     "data": {
      "text/plain": [
       "age         int64\n",
       "sex         int64\n",
       "cp          int64\n",
       "trtbps      int64\n",
       "chol        int64\n",
       "fbs         int64\n",
       "restecg     int64\n",
       "thalachh    int64\n",
       "exng        int64\n",
       "caa         int64\n",
       "output      int64\n",
       "dtype: object"
      ]
     },
     "execution_count": 67,
     "metadata": {},
     "output_type": "execute_result"
    }
   ],
   "source": [
    "heart_df.dtypes"
   ]
  },
  {
   "cell_type": "markdown",
   "id": "90c196e1-71fb-488d-9fa0-1b9f0869dd0b",
   "metadata": {},
   "source": [
    "The data type is \"int64\" for all columns."
   ]
  },
  {
   "cell_type": "markdown",
   "id": "dbe3905a-a087-4c6a-b943-9d7190099bba",
   "metadata": {},
   "source": [
    "#### c. What are ranges of numeric variables, and possible values of categorical variables? "
   ]
  },
  {
   "cell_type": "code",
   "execution_count": 68,
   "id": "ee796175-376d-4623-b10a-c3fbb3acd316",
   "metadata": {},
   "outputs": [
    {
     "data": {
      "text/html": [
       "<div>\n",
       "<style scoped>\n",
       "    .dataframe tbody tr th:only-of-type {\n",
       "        vertical-align: middle;\n",
       "    }\n",
       "\n",
       "    .dataframe tbody tr th {\n",
       "        vertical-align: top;\n",
       "    }\n",
       "\n",
       "    .dataframe thead th {\n",
       "        text-align: right;\n",
       "    }\n",
       "</style>\n",
       "<table border=\"1\" class=\"dataframe\">\n",
       "  <thead>\n",
       "    <tr style=\"text-align: right;\">\n",
       "      <th></th>\n",
       "      <th>age</th>\n",
       "      <th>sex</th>\n",
       "      <th>cp</th>\n",
       "      <th>trtbps</th>\n",
       "      <th>chol</th>\n",
       "      <th>fbs</th>\n",
       "      <th>restecg</th>\n",
       "      <th>thalachh</th>\n",
       "      <th>exng</th>\n",
       "      <th>caa</th>\n",
       "      <th>output</th>\n",
       "    </tr>\n",
       "  </thead>\n",
       "  <tbody>\n",
       "    <tr>\n",
       "      <th>count</th>\n",
       "      <td>303.000000</td>\n",
       "      <td>303.000000</td>\n",
       "      <td>303.000000</td>\n",
       "      <td>303.000000</td>\n",
       "      <td>303.000000</td>\n",
       "      <td>303.000000</td>\n",
       "      <td>303.000000</td>\n",
       "      <td>303.000000</td>\n",
       "      <td>303.000000</td>\n",
       "      <td>303.000000</td>\n",
       "      <td>303.000000</td>\n",
       "    </tr>\n",
       "    <tr>\n",
       "      <th>mean</th>\n",
       "      <td>54.366337</td>\n",
       "      <td>0.683168</td>\n",
       "      <td>0.966997</td>\n",
       "      <td>131.623762</td>\n",
       "      <td>246.264026</td>\n",
       "      <td>0.148515</td>\n",
       "      <td>0.528053</td>\n",
       "      <td>149.646865</td>\n",
       "      <td>0.326733</td>\n",
       "      <td>0.729373</td>\n",
       "      <td>0.544554</td>\n",
       "    </tr>\n",
       "    <tr>\n",
       "      <th>std</th>\n",
       "      <td>9.082101</td>\n",
       "      <td>0.466011</td>\n",
       "      <td>1.032052</td>\n",
       "      <td>17.538143</td>\n",
       "      <td>51.830751</td>\n",
       "      <td>0.356198</td>\n",
       "      <td>0.525860</td>\n",
       "      <td>22.905161</td>\n",
       "      <td>0.469794</td>\n",
       "      <td>1.022606</td>\n",
       "      <td>0.498835</td>\n",
       "    </tr>\n",
       "    <tr>\n",
       "      <th>min</th>\n",
       "      <td>29.000000</td>\n",
       "      <td>0.000000</td>\n",
       "      <td>0.000000</td>\n",
       "      <td>94.000000</td>\n",
       "      <td>126.000000</td>\n",
       "      <td>0.000000</td>\n",
       "      <td>0.000000</td>\n",
       "      <td>71.000000</td>\n",
       "      <td>0.000000</td>\n",
       "      <td>0.000000</td>\n",
       "      <td>0.000000</td>\n",
       "    </tr>\n",
       "    <tr>\n",
       "      <th>25%</th>\n",
       "      <td>47.500000</td>\n",
       "      <td>0.000000</td>\n",
       "      <td>0.000000</td>\n",
       "      <td>120.000000</td>\n",
       "      <td>211.000000</td>\n",
       "      <td>0.000000</td>\n",
       "      <td>0.000000</td>\n",
       "      <td>133.500000</td>\n",
       "      <td>0.000000</td>\n",
       "      <td>0.000000</td>\n",
       "      <td>0.000000</td>\n",
       "    </tr>\n",
       "    <tr>\n",
       "      <th>50%</th>\n",
       "      <td>55.000000</td>\n",
       "      <td>1.000000</td>\n",
       "      <td>1.000000</td>\n",
       "      <td>130.000000</td>\n",
       "      <td>240.000000</td>\n",
       "      <td>0.000000</td>\n",
       "      <td>1.000000</td>\n",
       "      <td>153.000000</td>\n",
       "      <td>0.000000</td>\n",
       "      <td>0.000000</td>\n",
       "      <td>1.000000</td>\n",
       "    </tr>\n",
       "    <tr>\n",
       "      <th>75%</th>\n",
       "      <td>61.000000</td>\n",
       "      <td>1.000000</td>\n",
       "      <td>2.000000</td>\n",
       "      <td>140.000000</td>\n",
       "      <td>274.500000</td>\n",
       "      <td>0.000000</td>\n",
       "      <td>1.000000</td>\n",
       "      <td>166.000000</td>\n",
       "      <td>1.000000</td>\n",
       "      <td>1.000000</td>\n",
       "      <td>1.000000</td>\n",
       "    </tr>\n",
       "    <tr>\n",
       "      <th>max</th>\n",
       "      <td>77.000000</td>\n",
       "      <td>1.000000</td>\n",
       "      <td>3.000000</td>\n",
       "      <td>200.000000</td>\n",
       "      <td>564.000000</td>\n",
       "      <td>1.000000</td>\n",
       "      <td>2.000000</td>\n",
       "      <td>202.000000</td>\n",
       "      <td>1.000000</td>\n",
       "      <td>4.000000</td>\n",
       "      <td>1.000000</td>\n",
       "    </tr>\n",
       "  </tbody>\n",
       "</table>\n",
       "</div>"
      ],
      "text/plain": [
       "              age         sex          cp      trtbps        chol         fbs  \\\n",
       "count  303.000000  303.000000  303.000000  303.000000  303.000000  303.000000   \n",
       "mean    54.366337    0.683168    0.966997  131.623762  246.264026    0.148515   \n",
       "std      9.082101    0.466011    1.032052   17.538143   51.830751    0.356198   \n",
       "min     29.000000    0.000000    0.000000   94.000000  126.000000    0.000000   \n",
       "25%     47.500000    0.000000    0.000000  120.000000  211.000000    0.000000   \n",
       "50%     55.000000    1.000000    1.000000  130.000000  240.000000    0.000000   \n",
       "75%     61.000000    1.000000    2.000000  140.000000  274.500000    0.000000   \n",
       "max     77.000000    1.000000    3.000000  200.000000  564.000000    1.000000   \n",
       "\n",
       "          restecg    thalachh        exng         caa      output  \n",
       "count  303.000000  303.000000  303.000000  303.000000  303.000000  \n",
       "mean     0.528053  149.646865    0.326733    0.729373    0.544554  \n",
       "std      0.525860   22.905161    0.469794    1.022606    0.498835  \n",
       "min      0.000000   71.000000    0.000000    0.000000    0.000000  \n",
       "25%      0.000000  133.500000    0.000000    0.000000    0.000000  \n",
       "50%      1.000000  153.000000    0.000000    0.000000    1.000000  \n",
       "75%      1.000000  166.000000    1.000000    1.000000    1.000000  \n",
       "max      2.000000  202.000000    1.000000    4.000000    1.000000  "
      ]
     },
     "execution_count": 68,
     "metadata": {},
     "output_type": "execute_result"
    }
   ],
   "source": [
    "heart_df.describe()"
   ]
  },
  {
   "cell_type": "markdown",
   "id": "1b1753b9-f902-4619-8981-61f9060994c6",
   "metadata": {},
   "source": [
    "**Numeric variables:**  \n",
    "age: 29 - 77 years  \n",
    "trtbps: 94 - 200 mm Hg  \n",
    "chol: 126 - 564 mg/dl  \n",
    "thalachh: 71 - 202 (maximum heart rate achieved)  \n",
    "\n",
    "**Categorical variables:**  \n",
    "sex: {0, 1} (0 = female; 1 = male)  \n",
    "cp: {0, 1, 2, 3} (chest pain type)  \n",
    "fbs: {0, 1} (fasting blood sugar > 120 mg/dl, 1 = true; 0 = false)  \n",
    "restecg: {0, 1, 2} (resting electrocardiographic results)  \n",
    "exng: {0, 1} (exercise induced angina, 1 = yes; 0 = no)  \n",
    "caa: {0, 1, 2, 3, 4} (number of major vessels)  \n",
    "output: {0, 1} (0: did not have a heart attack, 1: had a heart attack)  \n"
   ]
  },
  {
   "cell_type": "markdown",
   "id": "35a7f8f6-61f1-4464-a2c5-19f35debcd0a",
   "metadata": {},
   "source": [
    "#### d. What is the percentage of heart attack among these patients?"
   ]
  },
  {
   "cell_type": "code",
   "execution_count": 69,
   "id": "136364c1-7808-45ac-b59d-8e1e8963e6da",
   "metadata": {},
   "outputs": [
    {
     "data": {
      "text/plain": [
       "54.45544554455446"
      ]
     },
     "execution_count": 69,
     "metadata": {},
     "output_type": "execute_result"
    }
   ],
   "source": [
    "heart_attack_per = heart_df['output'].mean() * 100\n",
    "heart_attack_per"
   ]
  },
  {
   "cell_type": "markdown",
   "id": "858286a3-c80a-4c8f-8647-da11cf5da72b",
   "metadata": {},
   "source": [
    "The percentage of the heart attck among these patients is 54.46%."
   ]
  },
  {
   "cell_type": "markdown",
   "id": "fcfb3f62-7d8d-48b1-b6ed-a7328614c010",
   "metadata": {},
   "source": [
    "#### e.Compare the values with the documentation and comment what do you see."
   ]
  },
  {
   "cell_type": "code",
   "execution_count": 70,
   "id": "c3c55c4c-21c3-4192-a30d-69d965b431c8",
   "metadata": {},
   "outputs": [
    {
     "data": {
      "text/plain": [
       "0    143\n",
       "2     87\n",
       "1     50\n",
       "3     23\n",
       "Name: cp, dtype: int64"
      ]
     },
     "execution_count": 70,
     "metadata": {},
     "output_type": "execute_result"
    }
   ],
   "source": [
    "heart_df.cp.value_counts()"
   ]
  },
  {
   "cell_type": "markdown",
   "id": "94250125-f732-4315-8cbc-6d00edd01e4c",
   "metadata": {},
   "source": [
    "Compared with the documentation, the values I got are different. The documentation contains the chest pain type (1: typical angina, 2: atypical angina, 3: non-anginal pain, 4: asymptomatic). However, I got the value for (0: 143; 1: 50; 2: 87; 3: 23, not include the 4.)"
   ]
  },
  {
   "cell_type": "code",
   "execution_count": 71,
   "id": "aa2acac0-ae4c-4897-9bec-8a5f53db8889",
   "metadata": {},
   "outputs": [
    {
     "data": {
      "text/plain": [
       "1    207\n",
       "0     96\n",
       "Name: sex, dtype: int64"
      ]
     },
     "execution_count": 71,
     "metadata": {},
     "output_type": "execute_result"
    }
   ],
   "source": [
    "heart_df.sex.value_counts()"
   ]
  },
  {
   "cell_type": "markdown",
   "id": "fa0215aa-825d-44fb-9ff6-86f59cd15d0c",
   "metadata": {},
   "source": [
    "Compared with the documentation, the values I got are the same one. The documentation contains the sex of the patient (1 = male; 0 = female), which is the same as I got(1: 207; 0: 96)."
   ]
  },
  {
   "cell_type": "code",
   "execution_count": 72,
   "id": "c8479d4f-d121-4bf0-9f42-4b2b93487aec",
   "metadata": {},
   "outputs": [
    {
     "data": {
      "text/plain": [
       "0    258\n",
       "1     45\n",
       "Name: fbs, dtype: int64"
      ]
     },
     "execution_count": 72,
     "metadata": {},
     "output_type": "execute_result"
    }
   ],
   "source": [
    "heart_df.fbs.value_counts()"
   ]
  },
  {
   "cell_type": "markdown",
   "id": "4b68efbd-d547-4dda-9cb7-317f20ec828a",
   "metadata": {},
   "source": [
    "Compared with the documentation, the values I got are the same one. The documentation contains (fasting blood sugar > 120 mg/dl) (1 = true; 0 = false), which is the same as I got(0 :258; 1: 45)."
   ]
  },
  {
   "cell_type": "code",
   "execution_count": 73,
   "id": "820a1450-e7a3-43cf-a0fe-de37e6ff6c68",
   "metadata": {},
   "outputs": [
    {
     "data": {
      "text/plain": [
       "1    152\n",
       "0    147\n",
       "2      4\n",
       "Name: restecg, dtype: int64"
      ]
     },
     "execution_count": 73,
     "metadata": {},
     "output_type": "execute_result"
    }
   ],
   "source": [
    "heart_df.restecg.value_counts()"
   ]
  },
  {
   "cell_type": "markdown",
   "id": "a7c67da0-f7a8-42ca-8990-81700789b765",
   "metadata": {},
   "source": [
    "Compared with the documentation, the values I got are the same one. The documentation contains resting electrocardiographic results. 0: normal; 1: having ST-T wave abnormality (T wave inversions and/or ST elevation or depression of > 0.05 mV); 2: showing probable or definite left ventricular hypertrophy by Estes’ criteria, which is the same as I got(0 : 147; 1: 152; 2: 4)."
   ]
  },
  {
   "cell_type": "code",
   "execution_count": 74,
   "id": "7e17f6f7-478e-45d6-a11f-d724319e785b",
   "metadata": {},
   "outputs": [
    {
     "data": {
      "text/plain": [
       "0    204\n",
       "1     99\n",
       "Name: exng, dtype: int64"
      ]
     },
     "execution_count": 74,
     "metadata": {},
     "output_type": "execute_result"
    }
   ],
   "source": [
    "heart_df.exng.value_counts()"
   ]
  },
  {
   "cell_type": "markdown",
   "id": "e25e7f45-8765-42be-a523-8924f0e52421",
   "metadata": {},
   "source": [
    "Compared with the documentation, the values I got are the same one. The documentation contains exercise induced angina (1 = yes; 0 = no), which is the same as I got(0 : 204; 1: 99)."
   ]
  },
  {
   "cell_type": "code",
   "execution_count": 75,
   "id": "3494082b-0e10-4fd9-b0ba-c6c300cfd43c",
   "metadata": {},
   "outputs": [
    {
     "data": {
      "text/plain": [
       "0    175\n",
       "1     65\n",
       "2     38\n",
       "3     20\n",
       "4      5\n",
       "Name: caa, dtype: int64"
      ]
     },
     "execution_count": 75,
     "metadata": {},
     "output_type": "execute_result"
    }
   ],
   "source": [
    "heart_df.caa.value_counts()"
   ]
  },
  {
   "cell_type": "markdown",
   "id": "91d530a5-6466-470d-b2c0-4dc34a737cb1",
   "metadata": {},
   "source": [
    "Compared with the documentation, the values I got are the different one. The documentation contains number of major vessels (0-3), while I got (0 : 175; 1: 65; 2: 38; 3: 20; 4:5)."
   ]
  },
  {
   "cell_type": "code",
   "execution_count": 76,
   "id": "b8338f41-0775-43d9-bbdc-f7c44ac331ed",
   "metadata": {},
   "outputs": [
    {
     "data": {
      "text/plain": [
       "1    165\n",
       "0    138\n",
       "Name: output, dtype: int64"
      ]
     },
     "execution_count": 76,
     "metadata": {},
     "output_type": "execute_result"
    }
   ],
   "source": [
    "heart_df.output.value_counts()"
   ]
  },
  {
   "cell_type": "markdown",
   "id": "d1de26b6-45fb-42c5-85c2-c96ac6f23a71",
   "metadata": {},
   "source": [
    "Compared with the documentation, the values I got are the same one. The documentation contains (0: did not have a heart attack, 1: had a heart attack), which is the same as I got(0 : 138; 1: 165)."
   ]
  },
  {
   "cell_type": "markdown",
   "id": "580b40ae-59b2-483b-8821-476ce3520d48",
   "metadata": {},
   "source": [
    "#### 3.You probably noticed that all the above variables are coded as numbers. However, not all of these are in fact of numeric (interval, ratio) measure type. Which variables above are inherently non numeric (nominal or ordinal)?"
   ]
  },
  {
   "cell_type": "markdown",
   "id": "f5a5e907-981f-4ea1-8b44-d02dc9f165bd",
   "metadata": {},
   "source": [
    "**Nominal Variables: These variables are categorical with no inherent order or priority.**\n",
    "\n",
    "sex: This is a binary categorical variable, where 1 represents male and 0 represents female. There's no order between male and female. \n",
    "\n",
    "fbs: This is also a binary categorical variable, representing whether fasting blood sugar is > 120 mg/dl (1 = true; 0 = false).  \n",
    "\n",
    "exng: Another binary categorical variable indicating the presence of exercise-induced angina (1 = yes; 0 = no).  \n",
    "\n",
    "output: The output variable is binary, where 1 indicates a person had a heart attack and 0 indicates they did not.  \n",
    "\n",
    "**Ordinal Variables: These variables are categorical but have an inherent order.**  \n",
    "\n",
    "cp: Chest pain type is an ordinal variable, where the types of chest pain are ordered as 1: typical angina, 2: atypical angina, 3: non-anginal pain, 4: asymptomatic.  \n",
    "\n",
    "restecg: Resting electrocardiographic results can also be seen as ordinal, as the values progress from normal to probable or definite left ventricular hypertrophy.  \n",
    "\n",
    "caa: The number of major vessels (0-3) can be seen as ordinal. Although it's coded numerically, the numbers represent categories that have an inherent order (more vessels could indicate a higher risk).  "
   ]
  },
  {
   "cell_type": "markdown",
   "id": "f7032e1b-88c9-4738-81b4-4c9fb4f7e24b",
   "metadata": {},
   "source": [
    "#### 4. Construct the outcome vector y and the design matrix X. It should include all explanatory variable (but not output!). The variables that are inherently categorical should be converted to categorical. How many columns do you get?"
   ]
  },
  {
   "cell_type": "code",
   "execution_count": 77,
   "id": "167c1d56-862d-4f1e-aa4f-5cae747dc86c",
   "metadata": {},
   "outputs": [],
   "source": [
    "categorical_cols = ['sex', 'cp', 'fbs', 'restecg', 'exng', 'caa']\n",
    "for col in categorical_cols:\n",
    "    heart_df[col] = heart_df[col].astype('str')"
   ]
  },
  {
   "cell_type": "code",
   "execution_count": 78,
   "id": "9e9882be-164c-4593-9012-ed238b83cdab",
   "metadata": {},
   "outputs": [
    {
     "data": {
      "text/html": [
       "<div>\n",
       "<style scoped>\n",
       "    .dataframe tbody tr th:only-of-type {\n",
       "        vertical-align: middle;\n",
       "    }\n",
       "\n",
       "    .dataframe tbody tr th {\n",
       "        vertical-align: top;\n",
       "    }\n",
       "\n",
       "    .dataframe thead th {\n",
       "        text-align: right;\n",
       "    }\n",
       "</style>\n",
       "<table border=\"1\" class=\"dataframe\">\n",
       "  <thead>\n",
       "    <tr style=\"text-align: right;\">\n",
       "      <th></th>\n",
       "      <th>age</th>\n",
       "      <th>sex</th>\n",
       "      <th>cp</th>\n",
       "      <th>trtbps</th>\n",
       "      <th>chol</th>\n",
       "      <th>fbs</th>\n",
       "      <th>restecg</th>\n",
       "      <th>thalachh</th>\n",
       "      <th>exng</th>\n",
       "      <th>caa</th>\n",
       "      <th>output</th>\n",
       "    </tr>\n",
       "  </thead>\n",
       "  <tbody>\n",
       "    <tr>\n",
       "      <th>0</th>\n",
       "      <td>63</td>\n",
       "      <td>1</td>\n",
       "      <td>3</td>\n",
       "      <td>145</td>\n",
       "      <td>233</td>\n",
       "      <td>1</td>\n",
       "      <td>0</td>\n",
       "      <td>150</td>\n",
       "      <td>0</td>\n",
       "      <td>0</td>\n",
       "      <td>1</td>\n",
       "    </tr>\n",
       "    <tr>\n",
       "      <th>1</th>\n",
       "      <td>37</td>\n",
       "      <td>1</td>\n",
       "      <td>2</td>\n",
       "      <td>130</td>\n",
       "      <td>250</td>\n",
       "      <td>0</td>\n",
       "      <td>1</td>\n",
       "      <td>187</td>\n",
       "      <td>0</td>\n",
       "      <td>0</td>\n",
       "      <td>1</td>\n",
       "    </tr>\n",
       "    <tr>\n",
       "      <th>2</th>\n",
       "      <td>41</td>\n",
       "      <td>0</td>\n",
       "      <td>1</td>\n",
       "      <td>130</td>\n",
       "      <td>204</td>\n",
       "      <td>0</td>\n",
       "      <td>0</td>\n",
       "      <td>172</td>\n",
       "      <td>0</td>\n",
       "      <td>0</td>\n",
       "      <td>1</td>\n",
       "    </tr>\n",
       "    <tr>\n",
       "      <th>3</th>\n",
       "      <td>56</td>\n",
       "      <td>1</td>\n",
       "      <td>1</td>\n",
       "      <td>120</td>\n",
       "      <td>236</td>\n",
       "      <td>0</td>\n",
       "      <td>1</td>\n",
       "      <td>178</td>\n",
       "      <td>0</td>\n",
       "      <td>0</td>\n",
       "      <td>1</td>\n",
       "    </tr>\n",
       "    <tr>\n",
       "      <th>4</th>\n",
       "      <td>57</td>\n",
       "      <td>0</td>\n",
       "      <td>0</td>\n",
       "      <td>120</td>\n",
       "      <td>354</td>\n",
       "      <td>0</td>\n",
       "      <td>1</td>\n",
       "      <td>163</td>\n",
       "      <td>1</td>\n",
       "      <td>0</td>\n",
       "      <td>1</td>\n",
       "    </tr>\n",
       "  </tbody>\n",
       "</table>\n",
       "</div>"
      ],
      "text/plain": [
       "   age sex cp  trtbps  chol fbs restecg  thalachh exng caa  output\n",
       "0   63   1  3     145   233   1       0       150    0   0       1\n",
       "1   37   1  2     130   250   0       1       187    0   0       1\n",
       "2   41   0  1     130   204   0       0       172    0   0       1\n",
       "3   56   1  1     120   236   0       1       178    0   0       1\n",
       "4   57   0  0     120   354   0       1       163    1   0       1"
      ]
     },
     "execution_count": 78,
     "metadata": {},
     "output_type": "execute_result"
    }
   ],
   "source": [
    "heart_df.head()"
   ]
  },
  {
   "cell_type": "code",
   "execution_count": 79,
   "id": "8933d0a2-96a5-437c-94d3-d49e4bf4385f",
   "metadata": {},
   "outputs": [
    {
     "data": {
      "text/plain": [
       "age          int64\n",
       "sex         object\n",
       "cp          object\n",
       "trtbps       int64\n",
       "chol         int64\n",
       "fbs         object\n",
       "restecg     object\n",
       "thalachh     int64\n",
       "exng        object\n",
       "caa         object\n",
       "output       int64\n",
       "dtype: object"
      ]
     },
     "execution_count": 79,
     "metadata": {},
     "output_type": "execute_result"
    }
   ],
   "source": [
    "heart_df.dtypes"
   ]
  },
  {
   "cell_type": "code",
   "execution_count": 80,
   "id": "f987475b-688b-4c86-aac0-a3eeb1fa6685",
   "metadata": {},
   "outputs": [],
   "source": [
    "X = heart_df[['cp', 'fbs', 'restecg', 'exng', 'age', 'sex', 'trtbps', 'chol', 'thalachh', 'caa']]"
   ]
  },
  {
   "cell_type": "code",
   "execution_count": 81,
   "id": "4a019e52-e1c7-4739-bb7e-669340059ba1",
   "metadata": {},
   "outputs": [],
   "source": [
    "y = heart_df['output']"
   ]
  },
  {
   "cell_type": "code",
   "execution_count": 82,
   "id": "76e1ef8e-1d75-45e8-8362-2e8bd4b9bb82",
   "metadata": {},
   "outputs": [
    {
     "data": {
      "text/plain": [
       "16"
      ]
     },
     "execution_count": 82,
     "metadata": {},
     "output_type": "execute_result"
    }
   ],
   "source": [
    "X = pd.get_dummies(X, drop_first=True)\n",
    "X.shape[1]"
   ]
  },
  {
   "cell_type": "markdown",
   "id": "ec2ebd21-5da5-492b-9c21-ed1b408986ec",
   "metadata": {},
   "source": [
    "There are 16 columns I get."
   ]
  },
  {
   "cell_type": "code",
   "execution_count": 83,
   "id": "f5d3a31a-3fb5-4858-9932-2f03880eb665",
   "metadata": {},
   "outputs": [
    {
     "data": {
      "text/html": [
       "<div>\n",
       "<style scoped>\n",
       "    .dataframe tbody tr th:only-of-type {\n",
       "        vertical-align: middle;\n",
       "    }\n",
       "\n",
       "    .dataframe tbody tr th {\n",
       "        vertical-align: top;\n",
       "    }\n",
       "\n",
       "    .dataframe thead th {\n",
       "        text-align: right;\n",
       "    }\n",
       "</style>\n",
       "<table border=\"1\" class=\"dataframe\">\n",
       "  <thead>\n",
       "    <tr style=\"text-align: right;\">\n",
       "      <th></th>\n",
       "      <th>age</th>\n",
       "      <th>trtbps</th>\n",
       "      <th>chol</th>\n",
       "      <th>thalachh</th>\n",
       "      <th>cp_1</th>\n",
       "      <th>cp_2</th>\n",
       "      <th>cp_3</th>\n",
       "      <th>fbs_1</th>\n",
       "      <th>restecg_1</th>\n",
       "      <th>restecg_2</th>\n",
       "      <th>exng_1</th>\n",
       "      <th>sex_1</th>\n",
       "      <th>caa_1</th>\n",
       "      <th>caa_2</th>\n",
       "      <th>caa_3</th>\n",
       "      <th>caa_4</th>\n",
       "    </tr>\n",
       "  </thead>\n",
       "  <tbody>\n",
       "    <tr>\n",
       "      <th>0</th>\n",
       "      <td>63</td>\n",
       "      <td>145</td>\n",
       "      <td>233</td>\n",
       "      <td>150</td>\n",
       "      <td>0</td>\n",
       "      <td>0</td>\n",
       "      <td>1</td>\n",
       "      <td>1</td>\n",
       "      <td>0</td>\n",
       "      <td>0</td>\n",
       "      <td>0</td>\n",
       "      <td>1</td>\n",
       "      <td>0</td>\n",
       "      <td>0</td>\n",
       "      <td>0</td>\n",
       "      <td>0</td>\n",
       "    </tr>\n",
       "    <tr>\n",
       "      <th>1</th>\n",
       "      <td>37</td>\n",
       "      <td>130</td>\n",
       "      <td>250</td>\n",
       "      <td>187</td>\n",
       "      <td>0</td>\n",
       "      <td>1</td>\n",
       "      <td>0</td>\n",
       "      <td>0</td>\n",
       "      <td>1</td>\n",
       "      <td>0</td>\n",
       "      <td>0</td>\n",
       "      <td>1</td>\n",
       "      <td>0</td>\n",
       "      <td>0</td>\n",
       "      <td>0</td>\n",
       "      <td>0</td>\n",
       "    </tr>\n",
       "    <tr>\n",
       "      <th>2</th>\n",
       "      <td>41</td>\n",
       "      <td>130</td>\n",
       "      <td>204</td>\n",
       "      <td>172</td>\n",
       "      <td>1</td>\n",
       "      <td>0</td>\n",
       "      <td>0</td>\n",
       "      <td>0</td>\n",
       "      <td>0</td>\n",
       "      <td>0</td>\n",
       "      <td>0</td>\n",
       "      <td>0</td>\n",
       "      <td>0</td>\n",
       "      <td>0</td>\n",
       "      <td>0</td>\n",
       "      <td>0</td>\n",
       "    </tr>\n",
       "    <tr>\n",
       "      <th>3</th>\n",
       "      <td>56</td>\n",
       "      <td>120</td>\n",
       "      <td>236</td>\n",
       "      <td>178</td>\n",
       "      <td>1</td>\n",
       "      <td>0</td>\n",
       "      <td>0</td>\n",
       "      <td>0</td>\n",
       "      <td>1</td>\n",
       "      <td>0</td>\n",
       "      <td>0</td>\n",
       "      <td>1</td>\n",
       "      <td>0</td>\n",
       "      <td>0</td>\n",
       "      <td>0</td>\n",
       "      <td>0</td>\n",
       "    </tr>\n",
       "    <tr>\n",
       "      <th>4</th>\n",
       "      <td>57</td>\n",
       "      <td>120</td>\n",
       "      <td>354</td>\n",
       "      <td>163</td>\n",
       "      <td>0</td>\n",
       "      <td>0</td>\n",
       "      <td>0</td>\n",
       "      <td>0</td>\n",
       "      <td>1</td>\n",
       "      <td>0</td>\n",
       "      <td>1</td>\n",
       "      <td>0</td>\n",
       "      <td>0</td>\n",
       "      <td>0</td>\n",
       "      <td>0</td>\n",
       "      <td>0</td>\n",
       "    </tr>\n",
       "  </tbody>\n",
       "</table>\n",
       "</div>"
      ],
      "text/plain": [
       "   age  trtbps  chol  thalachh  cp_1  cp_2  cp_3  fbs_1  restecg_1  restecg_2  \\\n",
       "0   63     145   233       150     0     0     1      1          0          0   \n",
       "1   37     130   250       187     0     1     0      0          1          0   \n",
       "2   41     130   204       172     1     0     0      0          0          0   \n",
       "3   56     120   236       178     1     0     0      0          1          0   \n",
       "4   57     120   354       163     0     0     0      0          1          0   \n",
       "\n",
       "   exng_1  sex_1  caa_1  caa_2  caa_3  caa_4  \n",
       "0       0      1      0      0      0      0  \n",
       "1       0      1      0      0      0      0  \n",
       "2       0      0      0      0      0      0  \n",
       "3       0      1      0      0      0      0  \n",
       "4       1      0      0      0      0      0  "
      ]
     },
     "execution_count": 83,
     "metadata": {},
     "output_type": "execute_result"
    }
   ],
   "source": [
    "X.head()"
   ]
  },
  {
   "cell_type": "markdown",
   "id": "1ce3cef4-c30d-4c6f-bb9f-aa505f9772fa",
   "metadata": {},
   "source": [
    "#### 5. Split data (both y and X) into work and testing chunks (80/20). Do not look at the testing chunk."
   ]
  },
  {
   "cell_type": "code",
   "execution_count": 84,
   "id": "5a761980-b318-4cc9-abe8-64057b5671d4",
   "metadata": {},
   "outputs": [],
   "source": [
    "X_work, X_test, y_work, y_test = train_test_split(X, y, test_size=0.2, random_state=32)"
   ]
  },
  {
   "cell_type": "code",
   "execution_count": 85,
   "id": "0f182bb4-c53d-4095-b27a-a81fbf699ec6",
   "metadata": {},
   "outputs": [
    {
     "data": {
      "text/html": [
       "<div>\n",
       "<style scoped>\n",
       "    .dataframe tbody tr th:only-of-type {\n",
       "        vertical-align: middle;\n",
       "    }\n",
       "\n",
       "    .dataframe tbody tr th {\n",
       "        vertical-align: top;\n",
       "    }\n",
       "\n",
       "    .dataframe thead th {\n",
       "        text-align: right;\n",
       "    }\n",
       "</style>\n",
       "<table border=\"1\" class=\"dataframe\">\n",
       "  <thead>\n",
       "    <tr style=\"text-align: right;\">\n",
       "      <th></th>\n",
       "      <th>age</th>\n",
       "      <th>trtbps</th>\n",
       "      <th>chol</th>\n",
       "      <th>thalachh</th>\n",
       "      <th>cp_1</th>\n",
       "      <th>cp_2</th>\n",
       "      <th>cp_3</th>\n",
       "      <th>fbs_1</th>\n",
       "      <th>restecg_1</th>\n",
       "      <th>restecg_2</th>\n",
       "      <th>exng_1</th>\n",
       "      <th>sex_1</th>\n",
       "      <th>caa_1</th>\n",
       "      <th>caa_2</th>\n",
       "      <th>caa_3</th>\n",
       "      <th>caa_4</th>\n",
       "    </tr>\n",
       "  </thead>\n",
       "  <tbody>\n",
       "    <tr>\n",
       "      <th>134</th>\n",
       "      <td>41</td>\n",
       "      <td>126</td>\n",
       "      <td>306</td>\n",
       "      <td>163</td>\n",
       "      <td>1</td>\n",
       "      <td>0</td>\n",
       "      <td>0</td>\n",
       "      <td>0</td>\n",
       "      <td>1</td>\n",
       "      <td>0</td>\n",
       "      <td>0</td>\n",
       "      <td>0</td>\n",
       "      <td>0</td>\n",
       "      <td>0</td>\n",
       "      <td>0</td>\n",
       "      <td>0</td>\n",
       "    </tr>\n",
       "    <tr>\n",
       "      <th>273</th>\n",
       "      <td>58</td>\n",
       "      <td>100</td>\n",
       "      <td>234</td>\n",
       "      <td>156</td>\n",
       "      <td>0</td>\n",
       "      <td>0</td>\n",
       "      <td>0</td>\n",
       "      <td>0</td>\n",
       "      <td>1</td>\n",
       "      <td>0</td>\n",
       "      <td>0</td>\n",
       "      <td>1</td>\n",
       "      <td>1</td>\n",
       "      <td>0</td>\n",
       "      <td>0</td>\n",
       "      <td>0</td>\n",
       "    </tr>\n",
       "    <tr>\n",
       "      <th>268</th>\n",
       "      <td>54</td>\n",
       "      <td>122</td>\n",
       "      <td>286</td>\n",
       "      <td>116</td>\n",
       "      <td>0</td>\n",
       "      <td>0</td>\n",
       "      <td>0</td>\n",
       "      <td>0</td>\n",
       "      <td>0</td>\n",
       "      <td>0</td>\n",
       "      <td>1</td>\n",
       "      <td>1</td>\n",
       "      <td>0</td>\n",
       "      <td>1</td>\n",
       "      <td>0</td>\n",
       "      <td>0</td>\n",
       "    </tr>\n",
       "    <tr>\n",
       "      <th>201</th>\n",
       "      <td>60</td>\n",
       "      <td>125</td>\n",
       "      <td>258</td>\n",
       "      <td>141</td>\n",
       "      <td>0</td>\n",
       "      <td>0</td>\n",
       "      <td>0</td>\n",
       "      <td>0</td>\n",
       "      <td>0</td>\n",
       "      <td>0</td>\n",
       "      <td>1</td>\n",
       "      <td>1</td>\n",
       "      <td>1</td>\n",
       "      <td>0</td>\n",
       "      <td>0</td>\n",
       "      <td>0</td>\n",
       "    </tr>\n",
       "    <tr>\n",
       "      <th>213</th>\n",
       "      <td>61</td>\n",
       "      <td>145</td>\n",
       "      <td>307</td>\n",
       "      <td>146</td>\n",
       "      <td>0</td>\n",
       "      <td>0</td>\n",
       "      <td>0</td>\n",
       "      <td>0</td>\n",
       "      <td>0</td>\n",
       "      <td>0</td>\n",
       "      <td>1</td>\n",
       "      <td>0</td>\n",
       "      <td>0</td>\n",
       "      <td>0</td>\n",
       "      <td>0</td>\n",
       "      <td>0</td>\n",
       "    </tr>\n",
       "  </tbody>\n",
       "</table>\n",
       "</div>"
      ],
      "text/plain": [
       "     age  trtbps  chol  thalachh  cp_1  cp_2  cp_3  fbs_1  restecg_1  \\\n",
       "134   41     126   306       163     1     0     0      0          1   \n",
       "273   58     100   234       156     0     0     0      0          1   \n",
       "268   54     122   286       116     0     0     0      0          0   \n",
       "201   60     125   258       141     0     0     0      0          0   \n",
       "213   61     145   307       146     0     0     0      0          0   \n",
       "\n",
       "     restecg_2  exng_1  sex_1  caa_1  caa_2  caa_3  caa_4  \n",
       "134          0       0      0      0      0      0      0  \n",
       "273          0       0      1      1      0      0      0  \n",
       "268          0       1      1      0      1      0      0  \n",
       "201          0       1      1      1      0      0      0  \n",
       "213          0       1      0      0      0      0      0  "
      ]
     },
     "execution_count": 85,
     "metadata": {},
     "output_type": "execute_result"
    }
   ],
   "source": [
    "X_work.shape[0], X_test.shape[0]\n",
    "X_work.head()"
   ]
  },
  {
   "cell_type": "markdown",
   "id": "dc5d96b3-c15f-4778-ae02-9e54f5b967da",
   "metadata": {},
   "source": [
    "#### 6. Save your test data (both y and X to a file to be used later. Delete all datasets that contain the testing data from memory. This includes the original data frame, X, and y, and the test data itself."
   ]
  },
  {
   "cell_type": "code",
   "execution_count": 86,
   "id": "6ac5cf63-c16a-4cfb-aaa3-7e474ba46be3",
   "metadata": {},
   "outputs": [],
   "source": [
    "X_test.to_csv('X_test.csv', index=False)\n",
    "y_test.to_csv('y_test.csv', index=False)"
   ]
  },
  {
   "cell_type": "code",
   "execution_count": 87,
   "id": "3dfc470e-d8c7-4e81-8fba-a7328a3d3bd1",
   "metadata": {},
   "outputs": [],
   "source": [
    "del X, y, X_test, y_test, heart_df"
   ]
  },
  {
   "cell_type": "markdown",
   "id": "2e5db0b4-5d20-41e7-b361-a59da9202b29",
   "metadata": {},
   "source": [
    "#### 7. Split your work data into training and validation chunks (80/20)."
   ]
  },
  {
   "cell_type": "code",
   "execution_count": 88,
   "id": "b925225a-8cd2-452a-a4c9-11e3f037c711",
   "metadata": {},
   "outputs": [],
   "source": [
    "X_train, X_val, y_train, y_val = train_test_split(X_work, y_work, test_size=0.2, random_state=50)"
   ]
  },
  {
   "cell_type": "code",
   "execution_count": 89,
   "id": "91affc0d-7203-4b60-8bcf-d85d398b9f35",
   "metadata": {},
   "outputs": [
    {
     "data": {
      "text/html": [
       "<div>\n",
       "<style scoped>\n",
       "    .dataframe tbody tr th:only-of-type {\n",
       "        vertical-align: middle;\n",
       "    }\n",
       "\n",
       "    .dataframe tbody tr th {\n",
       "        vertical-align: top;\n",
       "    }\n",
       "\n",
       "    .dataframe thead th {\n",
       "        text-align: right;\n",
       "    }\n",
       "</style>\n",
       "<table border=\"1\" class=\"dataframe\">\n",
       "  <thead>\n",
       "    <tr style=\"text-align: right;\">\n",
       "      <th></th>\n",
       "      <th>age</th>\n",
       "      <th>trtbps</th>\n",
       "      <th>chol</th>\n",
       "      <th>thalachh</th>\n",
       "      <th>cp_1</th>\n",
       "      <th>cp_2</th>\n",
       "      <th>cp_3</th>\n",
       "      <th>fbs_1</th>\n",
       "      <th>restecg_1</th>\n",
       "      <th>restecg_2</th>\n",
       "      <th>exng_1</th>\n",
       "      <th>sex_1</th>\n",
       "      <th>caa_1</th>\n",
       "      <th>caa_2</th>\n",
       "      <th>caa_3</th>\n",
       "      <th>caa_4</th>\n",
       "    </tr>\n",
       "  </thead>\n",
       "  <tbody>\n",
       "    <tr>\n",
       "      <th>101</th>\n",
       "      <td>59</td>\n",
       "      <td>178</td>\n",
       "      <td>270</td>\n",
       "      <td>145</td>\n",
       "      <td>0</td>\n",
       "      <td>0</td>\n",
       "      <td>1</td>\n",
       "      <td>0</td>\n",
       "      <td>0</td>\n",
       "      <td>0</td>\n",
       "      <td>0</td>\n",
       "      <td>1</td>\n",
       "      <td>0</td>\n",
       "      <td>0</td>\n",
       "      <td>0</td>\n",
       "      <td>0</td>\n",
       "    </tr>\n",
       "    <tr>\n",
       "      <th>188</th>\n",
       "      <td>50</td>\n",
       "      <td>140</td>\n",
       "      <td>233</td>\n",
       "      <td>163</td>\n",
       "      <td>0</td>\n",
       "      <td>1</td>\n",
       "      <td>0</td>\n",
       "      <td>0</td>\n",
       "      <td>1</td>\n",
       "      <td>0</td>\n",
       "      <td>0</td>\n",
       "      <td>1</td>\n",
       "      <td>1</td>\n",
       "      <td>0</td>\n",
       "      <td>0</td>\n",
       "      <td>0</td>\n",
       "    </tr>\n",
       "    <tr>\n",
       "      <th>210</th>\n",
       "      <td>57</td>\n",
       "      <td>128</td>\n",
       "      <td>229</td>\n",
       "      <td>150</td>\n",
       "      <td>0</td>\n",
       "      <td>1</td>\n",
       "      <td>0</td>\n",
       "      <td>0</td>\n",
       "      <td>0</td>\n",
       "      <td>0</td>\n",
       "      <td>0</td>\n",
       "      <td>1</td>\n",
       "      <td>1</td>\n",
       "      <td>0</td>\n",
       "      <td>0</td>\n",
       "      <td>0</td>\n",
       "    </tr>\n",
       "    <tr>\n",
       "      <th>242</th>\n",
       "      <td>64</td>\n",
       "      <td>145</td>\n",
       "      <td>212</td>\n",
       "      <td>132</td>\n",
       "      <td>0</td>\n",
       "      <td>0</td>\n",
       "      <td>0</td>\n",
       "      <td>0</td>\n",
       "      <td>0</td>\n",
       "      <td>0</td>\n",
       "      <td>0</td>\n",
       "      <td>1</td>\n",
       "      <td>0</td>\n",
       "      <td>1</td>\n",
       "      <td>0</td>\n",
       "      <td>0</td>\n",
       "    </tr>\n",
       "    <tr>\n",
       "      <th>83</th>\n",
       "      <td>52</td>\n",
       "      <td>152</td>\n",
       "      <td>298</td>\n",
       "      <td>178</td>\n",
       "      <td>0</td>\n",
       "      <td>0</td>\n",
       "      <td>1</td>\n",
       "      <td>1</td>\n",
       "      <td>1</td>\n",
       "      <td>0</td>\n",
       "      <td>0</td>\n",
       "      <td>1</td>\n",
       "      <td>0</td>\n",
       "      <td>0</td>\n",
       "      <td>0</td>\n",
       "      <td>0</td>\n",
       "    </tr>\n",
       "  </tbody>\n",
       "</table>\n",
       "</div>"
      ],
      "text/plain": [
       "     age  trtbps  chol  thalachh  cp_1  cp_2  cp_3  fbs_1  restecg_1  \\\n",
       "101   59     178   270       145     0     0     1      0          0   \n",
       "188   50     140   233       163     0     1     0      0          1   \n",
       "210   57     128   229       150     0     1     0      0          0   \n",
       "242   64     145   212       132     0     0     0      0          0   \n",
       "83    52     152   298       178     0     0     1      1          1   \n",
       "\n",
       "     restecg_2  exng_1  sex_1  caa_1  caa_2  caa_3  caa_4  \n",
       "101          0       0      1      0      0      0      0  \n",
       "188          0       0      1      1      0      0      0  \n",
       "210          0       0      1      1      0      0      0  \n",
       "242          0       0      1      0      1      0      0  \n",
       "83           0       0      1      0      0      0      0  "
      ]
     },
     "execution_count": 89,
     "metadata": {},
     "output_type": "execute_result"
    }
   ],
   "source": [
    "X_train.shape[0], X_val.shape[0]\n",
    "X_train.head()"
   ]
  },
  {
   "cell_type": "markdown",
   "id": "0008e9eb-083c-4872-ad09-ac18b4fcc16f",
   "metadata": {},
   "source": [
    "## 2 Logistic regression"
   ]
  },
  {
   "cell_type": "markdown",
   "id": "33f8c8db-a9d5-4b31-a01c-b98a33c35f95",
   "metadata": {},
   "source": [
    "#### 1. What do you think, which measure–precision, recall, or F-score–will be most relevant in order to make this model more applicable in medicine? Explain! Below, you will compare models based on both accuracy and the measure you suggest here."
   ]
  },
  {
   "cell_type": "markdown",
   "id": "5b246c64-45ed-42a6-ba13-e1a6ab4c1040",
   "metadata": {},
   "source": [
    "When applying machine learning models to the field of medicine, particularly for critical conditions like heart attacks, we want to ensure the model catches as many true positive cases as possible, because a false negative (a patient having a heart attack, but the model says they are not) could potentially lead to loss of life. However, if we only focus on recall, a naive model might predict every case as positive, which will yield perfect recall but is practically useless, since it would also mean a lot of false positives (patients diagnosed with a heart attack, when they are not actually having one). False positives can lead to unnecessary treatments, increased healthcare costs, and psychological stress for patients.\n",
    "\n",
    "So we need to strike a balance between detecting true positives (high recall) and avoiding false positives (high precision). This is where the F-score becomes relevant. The F-score is the harmonic mean of precision and recall, providing a balance between the two. It penalizes extreme values, so a model with high recall but low precision, or vice versa, would get a low F-score."
   ]
  },
  {
   "cell_type": "markdown",
   "id": "15185397-3caa-40b5-8746-5aa4c8844e50",
   "metadata": {},
   "source": [
    "#### 2. First, imagine we create a very simple model (“naive model”) that predicts everyone the same result (attack or no attack), whichever category is more common in data (the majority category).How would the confusion matrix of this model look like? What are the corresponding accuracy, precision and recall? Show this confusion matrix and explain!Note: you should not fit any model here, you are able to compute these all these values manually with just a calculator!"
   ]
  },
  {
   "cell_type": "code",
   "execution_count": 90,
   "id": "81ce6ca5-2eec-4580-b408-7664cded66f3",
   "metadata": {},
   "outputs": [
    {
     "data": {
      "text/plain": [
       "1    134\n",
       "0    108\n",
       "Name: output, dtype: int64"
      ]
     },
     "execution_count": 90,
     "metadata": {},
     "output_type": "execute_result"
    }
   ],
   "source": [
    "y_work.value_counts()"
   ]
  },
  {
   "cell_type": "markdown",
   "id": "9a016504-e3e0-4136-92bb-438780609aab",
   "metadata": {},
   "source": [
    "| || |\n",
    "| -------- | ------------: | ------:|\n",
    "|| Predict no heart attack | Predict heart attack |\n",
    "| Actual no heart attack | 0 | 108 |\n",
    "| Actual heart attack | 0 | 134 |"
   ]
  },
  {
   "cell_type": "markdown",
   "id": "ef0ead5a-5db7-492b-9604-e2fac7b7daf4",
   "metadata": {},
   "source": [
    "This matrix suggests that the naive model always predicts a heart attack, as that is the majority category.\n",
    "\n",
    "Here's what the different terms mean:\n",
    "\n",
    "True Positives (TP): These are cases in which we predicted yes (heart attack), and the actual was also yes (heart attack).  \n",
    "True Negatives (TN): We predicted no, and the actual was no.  \n",
    "False Positives (FP): We predicted yes, but the actual was no. Also known as \"Type I error.\"  \n",
    "False Negatives (FN): We predicted no, but the actual was yes. Also known as \"Type II error.\"  \n",
    "Given the confusion matrix, the quantities are:\n",
    "\n",
    "TP = 134 (We predicted heart attack and it was a heart attack)  \n",
    "TN = 0 (We predicted no heart attack and there were no heart attack)  \n",
    "FP = 108 (We predicted heart attack but there were no heart attack)  \n",
    "FN = 0 (We predicted no heart attack but it was a heart attack)  \n",
    "\n",
    "\n",
    "The model never correctly predicts \"no attack\" because it always predicts \"attack\".The model incorrectly predicts \"attack\" for all patients who don't have a heart attack, leading to a large number of false alarms.The model correctly identifies all actual heart attack cases because it always predicts \"attack\", but this is not very useful because it doesn't differentiate between patients who are at risk and those who aren't."
   ]
  },
  {
   "cell_type": "markdown",
   "id": "5eb8789c-122f-4ef8-b8c3-2c99a7d0298b",
   "metadata": {},
   "source": [
    "**Accuracy = TP / (TP + FN + FP + TN) = 134 / (134 + 0 + 108 + 0) ≈ 0.55  \n",
    "Precision = TP / (TP + FP) = 134 / (134 + 108) ≈  0.55  \n",
    "Recall = TP / (TP + FN) = 134 / (134 + 0) = 1      \n",
    "F-score = 2 / (1 / Precision) +(1 / Recall) ≈ 0.7128**    \n",
    "\n",
    "\n",
    "Accuracy represents how often the model's predictions are correct. In this case, it means that about 55% of the time, the model correctly identifies whether a patient will have a heart attack. Precision tells us how reliable the model's positive predictions are. In this context, if the model predicts a patient is going to have a heart attack, it's correct approximately 55% of the time. Recall measures how well the model identifies actual positive cases. A recall of 1 means that the model identifies 100% of patients who will have a heart attack. The F1 score is 0.7128, which is higher than both the accuracy and precision. It indicates that despite a rather low accuracy and precision, the model is doing a fairly good job at balancing precision and recall."
   ]
  },
  {
   "cell_type": "markdown",
   "id": "2baebdea-073d-44ae-b0f4-ecfce3c352a4",
   "metadata": {},
   "source": [
    "#### 3.  Construct a logistic regression model in sklearn and fit it with your training data"
   ]
  },
  {
   "cell_type": "code",
   "execution_count": 91,
   "id": "d768a5b5-9ced-45fd-b6cf-31d50ce40f01",
   "metadata": {},
   "outputs": [
    {
     "data": {
      "text/plain": [
       "LogisticRegression(max_iter=1000)"
      ]
     },
     "execution_count": 91,
     "metadata": {},
     "output_type": "execute_result"
    }
   ],
   "source": [
    "m1 = LogisticRegression(max_iter=1000)\n",
    "m1.fit(X_train, y_train)"
   ]
  },
  {
   "cell_type": "markdown",
   "id": "666f8f40-4305-4d10-9974-3807da6f0fe3",
   "metadata": {},
   "source": [
    "#### 4.  Use your validation data to predict the outcome—that is, whether someone has heart attack or not. Print out the first 10 labels. Which values denote attack, which ones non-attack?"
   ]
  },
  {
   "cell_type": "code",
   "execution_count": 92,
   "id": "62a332b9-f29f-4ac7-8343-6ae10810634a",
   "metadata": {},
   "outputs": [
    {
     "data": {
      "text/plain": [
       "array([0, 1, 0, 1, 1, 1, 1, 1, 0, 1])"
      ]
     },
     "execution_count": 92,
     "metadata": {},
     "output_type": "execute_result"
    }
   ],
   "source": [
    "predict = m1.predict(X_val)\n",
    "predict[:10]"
   ]
  },
  {
   "cell_type": "markdown",
   "id": "bfde622a-8404-47b8-a531-c734ce7c95c6",
   "metadata": {},
   "source": [
    "In the case of a binary logistic regression, 0 usually denotes 'no heart attack' and 1 denotes 'heart attack'"
   ]
  },
  {
   "cell_type": "markdown",
   "id": "46e61194-25fa-4891-85e2-6138fbf147bc",
   "metadata": {},
   "source": [
    "#### 5. Display the confusion matrix."
   ]
  },
  {
   "cell_type": "code",
   "execution_count": 93,
   "id": "c853231d-4050-4da6-9da5-7b6a021ae836",
   "metadata": {},
   "outputs": [
    {
     "data": {
      "text/plain": [
       "array([[17,  5],\n",
       "       [ 2, 25]])"
      ]
     },
     "execution_count": 93,
     "metadata": {},
     "output_type": "execute_result"
    }
   ],
   "source": [
    "cm = confusion_matrix(y_val, predict)\n",
    "cm"
   ]
  },
  {
   "cell_type": "markdown",
   "id": "c9fcdddc-06e2-42e0-b83d-96bb0e8e130f",
   "metadata": {},
   "source": [
    "#### 6.Compute and display accuracy and the measure you suggested in 1. How do these results compare to the naive model?"
   ]
  },
  {
   "cell_type": "code",
   "execution_count": 94,
   "id": "90686ea7-9987-4bba-bb11-91b5d635d95d",
   "metadata": {},
   "outputs": [
    {
     "data": {
      "text/plain": [
       "0.8571428571428571"
      ]
     },
     "execution_count": 94,
     "metadata": {},
     "output_type": "execute_result"
    }
   ],
   "source": [
    "accuracy = accuracy_score(y_val, predict)\n",
    "accuracy"
   ]
  },
  {
   "cell_type": "code",
   "execution_count": 95,
   "id": "364119a7-7d11-4768-bb16-f7647e5f2463",
   "metadata": {},
   "outputs": [
    {
     "data": {
      "text/plain": [
       "0.8771929824561403"
      ]
     },
     "execution_count": 95,
     "metadata": {},
     "output_type": "execute_result"
    }
   ],
   "source": [
    "f_score = f1_score(y_val, predict)\n",
    "f_score"
   ]
  },
  {
   "cell_type": "markdown",
   "id": "de73abdc-333f-4842-b4df-72443a7c0f64",
   "metadata": {},
   "source": [
    "Accuracy: The logistic regression model has an accuracy of about 0.8571, which is significantly higher than the naive model's accuracy of about 0.55. This shows that the logistic regression model correctly identifies a greater proportion of cases, considering both attacks and non-attacks.\n",
    "\n",
    "F - score:The logistic model's F1 score is about 0.877, which indicates a strong balance between precision and recall. Again, this is an improvement over the naive model's F1 score of 0.7128."
   ]
  },
  {
   "cell_type": "markdown",
   "id": "d3f85b6d-acd5-4d0f-aa1e-3583e2085171",
   "metadata": {},
   "source": [
    "## 3 Other ML methods"
   ]
  },
  {
   "cell_type": "markdown",
   "id": "398c1080-6321-4038-aa70-5a9babc80d45",
   "metadata": {},
   "source": [
    "### 3.1 Nearest Neighbors"
   ]
  },
  {
   "cell_type": "markdown",
   "id": "f2aa36ef-6069-47a1-8e0f-78de3061e67c",
   "metadata": {},
   "source": [
    "#### 1. Loop over different number of neighbors k (from a single neighbor to all data points). For each k value:\n",
    "#### • train the model on training data and\n",
    "#### • compute the performance (accuracy and your suggested measure) on training data\n",
    "#### • compute the performance (accuracy and your suggested measure) on validation data\n",
    "#### • store the performance value(s)"
   ]
  },
  {
   "cell_type": "code",
   "execution_count": 96,
   "id": "21bede98-94cb-4c8b-b4fa-291cffb8e845",
   "metadata": {},
   "outputs": [],
   "source": [
    "train_accuracy_values = []\n",
    "train_f1_values = []\n",
    "val_accuracy_values = []\n",
    "val_f1_values = []\n",
    "\n",
    "for k in range(1, len(X_train)+1):\n",
    "    knn = KNeighborsClassifier(n_neighbors=k)\n",
    "    knn.fit(X_train, y_train)\n",
    "\n",
    "    train_pred = knn.predict(X_train)\n",
    "    train_accuracy = accuracy_score(y_train, train_pred)\n",
    "    train_f1 = f1_score(y_train, train_pred)\n",
    "    train_accuracy_values.append(train_accuracy)\n",
    "    train_f1_values.append(train_f1)\n",
    "\n",
    "    val_pred = knn.predict(X_val)\n",
    "    val_accuracy = accuracy_score(y_val, val_pred)\n",
    "    val_f1 = f1_score(y_val, val_pred)\n",
    "    val_accuracy_values.append(val_accuracy)\n",
    "    val_f1_values.append(val_f1)"
   ]
  },
  {
   "cell_type": "markdown",
   "id": "6f6200f7-edb3-481f-bead-0280a464d046",
   "metadata": {},
   "source": [
    "#### 2. Make a plot where you show both the training and validation performance as a function of k."
   ]
  },
  {
   "cell_type": "code",
   "execution_count": 97,
   "id": "4e62e224-e7b7-40b0-b226-6151b236839b",
   "metadata": {},
   "outputs": [],
   "source": [
    "k_values = range(1, len(X_train)+1)"
   ]
  },
  {
   "cell_type": "code",
   "execution_count": 98,
   "id": "ca0e48e2-9573-4754-a465-753a69fcc7bc",
   "metadata": {},
   "outputs": [
    {
     "data": {
      "image/png": "[encoded data removed]",
      "text/plain": [
       "<Figure size 720x432 with 1 Axes>"
      ]
     },
     "metadata": {
      "needs_background": "light"
     },
     "output_type": "display_data"
    }
   ],
   "source": [
    "_ = plt.figure(figsize=(10, 6))\n",
    "_ = plt.plot(k_values, train_accuracy_values, label='Training Accuracy')\n",
    "_ = plt.plot(k_values, val_accuracy_values, label='Validation Accuracy')\n",
    "_ = plt.plot(k_values, train_f1_values, label='Training F1 Score')\n",
    "_ = plt.plot(k_values, val_f1_values, label='Validation F1 Score')\n",
    "_ = plt.xlabel('Number of Neighbors (k)')\n",
    "_ = plt.ylabel('Metric Value')\n",
    "_ = plt.title('k-NN: Accuracy and F1 Score for varying number of neighbors')\n",
    "_ = plt.legend()\n",
    "_ = plt.show()"
   ]
  },
  {
   "cell_type": "markdown",
   "id": "90204ffa-590e-4437-822d-aa156b95a23a",
   "metadata": {},
   "source": [
    "#### 3. Find the k value that gives you the best performance (both accuracy and your suggested measure).How good measures do you get? How do they compare with the naive model? How do they compare with logistic regression?"
   ]
  },
  {
   "cell_type": "code",
   "execution_count": 99,
   "id": "b7e6c042-8b77-4135-a384-8414241a72f0",
   "metadata": {},
   "outputs": [
    {
     "data": {
      "text/plain": [
       "17"
      ]
     },
     "execution_count": 99,
     "metadata": {},
     "output_type": "execute_result"
    }
   ],
   "source": [
    "best_k_acc = val_accuracy_values.index(max(val_accuracy_values)) + 1\n",
    "best_k_acc"
   ]
  },
  {
   "cell_type": "code",
   "execution_count": 100,
   "id": "f48d671e-7849-426e-9bf1-781adc9555ad",
   "metadata": {},
   "outputs": [
    {
     "data": {
      "text/plain": [
       "17"
      ]
     },
     "execution_count": 100,
     "metadata": {},
     "output_type": "execute_result"
    }
   ],
   "source": [
    "best_k_f1 = val_f1_values.index(max(val_f1_values)) + 1\n",
    "best_k_f1"
   ]
  },
  {
   "cell_type": "code",
   "execution_count": 101,
   "id": "25441aff-3625-4b48-ae46-4349a7773b26",
   "metadata": {},
   "outputs": [
    {
     "name": "stdout",
     "output_type": "stream",
     "text": [
      "Best accuracy:  0.6938775510204082\n",
      "Best F1 score:  0.7457627118644067\n"
     ]
    }
   ],
   "source": [
    "print(\"Best accuracy: \", val_accuracy_values[best_k_acc - 1])\n",
    "print(\"Best F1 score: \", val_f1_values[best_k_f1 - 1])"
   ]
  },
  {
   "cell_type": "markdown",
   "id": "afc9bc19-894c-4a46-baf0-6f0cdc381243",
   "metadata": {},
   "source": [
    "The k value that gives me the best performance are 17(for accuracy score) and 17(for F-score) respectively. I got the best score is 69.39% for the accuracy score and 74.58% for the F1 score. Compared with the naive model, the accuracy score(69.39%) I got in the KNN model is higher than that of in the naive model(55%) and the F1 score I got in the naive model(71.28%) is lower than that of in KNN model(with 74.58%). \n",
    "\n",
    "Compared with the logistic regression model, the accuracy score(69.39%) I got in the KNN model is lower than that of in the logistic regression model(85.71%) and the F1 score of the KNN model(74.58%) is also lower than that of in the logistic regression model (with 87.72%). "
   ]
  },
  {
   "cell_type": "markdown",
   "id": "f945e1b8-8f88-498b-bb79-2fea0973f38e",
   "metadata": {},
   "source": [
    "#### 4.Which k values (if any) are overfitting, which ones underfitting? Why do the model performance measure flatten out when k is very large?"
   ]
  },
  {
   "cell_type": "markdown",
   "id": "5b385bbb-df38-45ed-abc9-45278c3be1da",
   "metadata": {},
   "source": [
    "From the combined graph of accuracy and F1 score, it's evident that the optimal number of neighbors (k) is 17 for both metrics. When k is less than 17, overfitting occurs, indicated by high performance on the training data and poor performance on validation data, implying a failure to generalize well to unseen data. However, as k increases to between 17 and 140, the model exhibits a decrease in overfitting. The training and validation performances become more similar, even though the training performance remains slightly higher, suggesting a mild overfitting situation. When k exceeds 140, both the training and validation performances follow a similar trend, and the accuracy is lower than the accuracy before k = 140 which is indicative of underfitting. This suggests that the model lacks complexity or capacity to capture the patterns in the data, leading to poor performance both during training and on unseen data.\n",
    "\n",
    "As the value of k increases, the decision boundary (in case of a k-Nearest Neighbors model, for example) becomes smoother and less flexible. The model starts considering more points in the prediction and becomes less sensitive to the noise in individual data points. This can lead to better generalization on unseen data, improving validation performance.However, after a certain point, increasing k may lead the model to become too generalized. It starts taking into account points that are too far away and less similar to the prediction point, which can reduce its ability to capture the underlying pattern in the data. When k is very large, the model essentially considers all points in the dataset for each prediction, which means the prediction becomes constant and does not depend on the input, leading to a flat performance measure. "
   ]
  },
  {
   "cell_type": "markdown",
   "id": "ec6f3ece-ea5a-4ce6-8b90-3162014aa132",
   "metadata": {},
   "source": [
    "### 3.2 Decision trees"
   ]
  },
  {
   "cell_type": "markdown",
   "id": "caa37c8e-2b70-403a-94ac-292d18f3b437",
   "metadata": {},
   "source": [
    "#### 1.Loop over different values of max depth, from 1 to 10. For each max depth value:\n",
    "#### • train the model on training data and . . .\n",
    "#### • . . . compute the performance (accuracy and your suggested measure) on training data\n",
    "#### • compute the performance (accuracy and your suggested measure) on validation data\n",
    "#### • store the performance value(s) in a list or arrya"
   ]
  },
  {
   "cell_type": "code",
   "execution_count": 102,
   "id": "62de4ec2-21f8-4deb-9bad-bd09d9d74bd6",
   "metadata": {},
   "outputs": [],
   "source": [
    "train_accuracy_values = []\n",
    "val_accuracy_values = []\n",
    "train_f1_values = []\n",
    "val_f1_values = []\n",
    "\n",
    "for depth in range(1, 11):\n",
    "    dt = DecisionTreeClassifier(max_depth=depth, random_state=0)\n",
    "    dt.fit(X_train, y_train)\n",
    "    \n",
    "    train_pred = dt.predict(X_train)\n",
    "    train_accuracy = accuracy_score(y_train, train_pred)\n",
    "    train_f1 = f1_score(y_train, train_pred)\n",
    "    \n",
    "    val_pred = dt.predict(X_val)\n",
    "    val_accuracy = accuracy_score(y_val, val_pred)\n",
    "    val_f1 = f1_score(y_val, val_pred)\n",
    "    \n",
    "    train_accuracy_values.append(train_accuracy)\n",
    "    val_accuracy_values.append(val_accuracy)\n",
    "    train_f1_values.append(train_f1)\n",
    "    val_f1_values.append(val_f1)"
   ]
  },
  {
   "cell_type": "markdown",
   "id": "2b7edb5a-bf18-4956-b13b-d69d8e0758cb",
   "metadata": {},
   "source": [
    "#### 2. Make a plot where you show both the training and validation performance as a function of k"
   ]
  },
  {
   "cell_type": "code",
   "execution_count": 103,
   "id": "8cc0da93-1fa2-4fcf-8dd8-cd2ff57ca8e7",
   "metadata": {},
   "outputs": [],
   "source": [
    "depth_values = list(range(1, 11))"
   ]
  },
  {
   "cell_type": "code",
   "execution_count": 105,
   "id": "34fc5d82-5fc0-477d-b50d-227a9d5257bc",
   "metadata": {},
   "outputs": [
    {
     "data": {
      "image/png": "[encoded data removed]",
      "text/plain": [
       "<Figure size 864x432 with 1 Axes>"
      ]
     },
     "metadata": {
      "needs_background": "light"
     },
     "output_type": "display_data"
    }
   ],
   "source": [
    "_ = plt.figure(figsize=(12, 6))\n",
    "_ = plt.plot(depth_values, train_accuracy_values, label='Training Accuracy')\n",
    "_ = plt.plot(depth_values, val_accuracy_values, label='Validation Accuracy')\n",
    "_ = plt.plot(depth_values, train_f1_values, label='Training F1 Score')\n",
    "_ = plt.plot(depth_values, val_f1_values, label='Validation F1 Score')\n",
    "_ = plt.xlabel('Max depth')\n",
    "_ = plt.ylabel('Metric Value')\n",
    "_ = plt.title('Metrics as a function of max depth')\n",
    "_ = plt.legend()\n",
    "_ = plt.show()"
   ]
  },
  {
   "cell_type": "markdown",
   "id": "4ff49a07-5773-4a43-9fdf-a6d4598f60cf",
   "metadata": {},
   "source": [
    "#### 3. Find the k value that gives you the best performance (both accuracy and your suggested measure).How good measures do you get? How do they compare with the naive model? How do they compare with logistic regression?"
   ]
  },
  {
   "cell_type": "code",
   "execution_count": 106,
   "id": "ad7c3ade-a969-44dc-a9dd-941b30a51b60",
   "metadata": {},
   "outputs": [
    {
     "data": {
      "text/plain": [
       "2"
      ]
     },
     "execution_count": 106,
     "metadata": {},
     "output_type": "execute_result"
    }
   ],
   "source": [
    "best_depth_acc = val_accuracy_values.index(max(val_accuracy_values)) + 1\n",
    "best_depth_acc"
   ]
  },
  {
   "cell_type": "code",
   "execution_count": 107,
   "id": "36f2c941-400a-46e6-ba39-40158be75eca",
   "metadata": {},
   "outputs": [
    {
     "data": {
      "text/plain": [
       "2"
      ]
     },
     "execution_count": 107,
     "metadata": {},
     "output_type": "execute_result"
    }
   ],
   "source": [
    "best_depth_f1 = val_f1_values.index(max(val_f1_values)) + 1\n",
    "best_depth_f1"
   ]
  },
  {
   "cell_type": "code",
   "execution_count": 108,
   "id": "71ac09f3-7abe-4244-9299-ed3d88d443a1",
   "metadata": {},
   "outputs": [
    {
     "data": {
      "text/plain": [
       "0.7346938775510204"
      ]
     },
     "execution_count": 108,
     "metadata": {},
     "output_type": "execute_result"
    }
   ],
   "source": [
    "max(val_accuracy_values)"
   ]
  },
  {
   "cell_type": "code",
   "execution_count": 109,
   "id": "092c4285-b022-48ca-a518-e8fb5194bef2",
   "metadata": {},
   "outputs": [
    {
     "data": {
      "text/plain": [
       "0.7999999999999999"
      ]
     },
     "execution_count": 109,
     "metadata": {},
     "output_type": "execute_result"
    }
   ],
   "source": [
    "max(val_f1_values)"
   ]
  },
  {
   "cell_type": "markdown",
   "id": "a231864d-dc24-4c12-a17b-54c7adaeb200",
   "metadata": {},
   "source": [
    "The k value that gives me the best performance are 2(accuracy score) and 2(F-score) respectively. I got the best score is 73.47% for the accuracy score and 80% for the F1 score. Compared with the naive model, the accuracy score (73.47%) I got in the decision tree model is higher than that of in the naive model(55%).The F1 score is higher than that of in naive model(71.28%).Compared with the logistic regression model, the accuracy score I got in the decision tree model(73.47%) is smaller than that of in logistic regression model(85.71%) and the F1 score of the decision tree model(80%) is also smaller than that of in logistic regression model(with 87.72%)."
   ]
  },
  {
   "cell_type": "markdown",
   "id": "7eab8363-47c2-4d33-9e2d-70860a38b04b",
   "metadata": {},
   "source": [
    "#### 4. Which k values (if any) are overfitting, which ones underfitting?"
   ]
  },
  {
   "cell_type": "markdown",
   "id": "51b3e2ec-9754-47ed-bbfb-073ea4c940da",
   "metadata": {},
   "source": [
    "From the plot, we can see that the training accuracy and training F score is almost always higher than the validation score, but at the point where the tree has a max depth of 2 and 3, the difference between the training accuracy and F score and validation accuracy and F score begin to get very large. The validation accuracy and validation F score are decreasing but the training accuracy and F score are increasing. So I might say moving over 2,3 max depth it shows an apparent overfitting phenomenon. However, there are some places that the accuracy and F-score graph might hard to distinguish, which is hard to figure out which one is overfitting or underfitting. This could be due to the model learning the noise and outliers in the training data rather than the underlying pattern, making it perform poorly on unseen data."
   ]
  },
  {
   "cell_type": "markdown",
   "id": "d2b3841a-cac1-4f2e-8165-248591c4aabc",
   "metadata": {},
   "source": [
    "#### 5. Out of the models you tried–logistic, k-NN, and trees–which is the best model in terms of validation accuracy? How much was the accuracy over what the naive model gave you?"
   ]
  },
  {
   "cell_type": "markdown",
   "id": "2de784ad-b9d0-4862-8053-9a1975f57da3",
   "metadata": {},
   "source": [
    "Based on the validation accuracy scores, the best model among logistic regression, k-NN, and decision trees is the logistic regression model with an accuracy of 0.8571.\n",
    "\n",
    "In this case, the logistic regression model shows an accuracy improvement of approximately 0.3071 over the naive model.      \n",
    "(accuracy_improvement = logistic_accuracy - naive_accuracy = 0.8571 - 0.55 = 0.3071)"
   ]
  },
  {
   "cell_type": "markdown",
   "id": "20d36e55-559c-46a0-867a-9797ad5ae071",
   "metadata": {},
   "source": [
    "## 4 How confident are we in the results?"
   ]
  },
  {
   "cell_type": "markdown",
   "id": "2feebc0d-77da-4b42-a819-06f095509a60",
   "metadata": {},
   "source": [
    "#### 1. Predict the probability of having a heart attack Pr(output = 1|x) for everyone in data. Print out the first 10 probabilities. Note: print only probability for heart attack, not probability of non–heart attack!"
   ]
  },
  {
   "cell_type": "code",
   "execution_count": 110,
   "id": "a432f8bd-d6d0-4b7b-85e5-f55a90da21fe",
   "metadata": {},
   "outputs": [
    {
     "name": "stdout",
     "output_type": "stream",
     "text": [
      "[0.26730149 0.52952177 0.22258646 0.84586159 0.93322552 0.55377932\n",
      " 0.86102685 0.86939687 0.3325201  0.71420138]\n"
     ]
    }
   ],
   "source": [
    "probabilities = m1.predict_proba(X_val)[:, 1]\n",
    "print(probabilities[:10])"
   ]
  },
  {
   "cell_type": "markdown",
   "id": "b6026ef5-4161-456b-b0ce-446306ab23a1",
   "metadata": {},
   "source": [
    "#### 2. make a histogram of your predictions. What do you see–are the predicted probabilities more extreme (either 0 or 1) or in the middle (around 0.5)?"
   ]
  },
  {
   "cell_type": "code",
   "execution_count": 111,
   "id": "baf79406-6669-413b-9a22-c38aca39af80",
   "metadata": {},
   "outputs": [
    {
     "data": {
      "image/png": "[encoded data removed]",
      "text/plain": [
       "<Figure size 432x288 with 1 Axes>"
      ]
     },
     "metadata": {
      "needs_background": "light"
     },
     "output_type": "display_data"
    }
   ],
   "source": [
    "plt.hist(probabilities, bins=10, edgecolor='black')\n",
    "plt.xlabel('Predicted Probability')\n",
    "plt.ylabel('Count')\n",
    "plt.title('Histogram of Predicted Probabilities')\n",
    "plt.show()"
   ]
  },
  {
   "cell_type": "markdown",
   "id": "a453a570-de35-4ee0-ae2e-bcf28fede6c1",
   "metadata": {},
   "source": [
    "We can see that the predicted probabilities are more extreme(most count with the predicted probabilities of 0.0-0.2 and 0.8-1.0), and we can see two distinct peaks in my histogram, each at these values. However, I would not say the \"model\" is confident. There is a number of cases where near 0.5-0.6. A peak at 1 represents cases where the model is very confident that a heart attack will occur. A peak at 0.5 represents cases where the model is unsure whether a heart attack will occur or not. There are a bunch of cases where the model is not really confident."
   ]
  },
  {
   "cell_type": "markdown",
   "id": "09d3ede9-4aa6-4207-a801-d8986cfa7902",
   "metadata": {},
   "source": [
    "#### 3. Why does predicted probability around 0.5 indicate that the results are uncertain?"
   ]
  },
  {
   "cell_type": "markdown",
   "id": "a987d822-8c23-478e-ac7d-1d6d9b7539a5",
   "metadata": {},
   "source": [
    "In logistic regression, the predicted probability is the model's estimate of the likelihood of an observation belonging to a particular class (in this case, the probability of having a heart attack). The model assigns a probability value between 0 and 1 for each observation.\n",
    "\n",
    "If the predicted probability is around 0.5, it indicates that the model is unsure or less certain about the classification. A probability of 0.5 implies that the model considers both classes to be equally likely for the given observation. This could be due to the presence of features or patterns in the data that make it challenging for the model to confidently assign a class.\n",
    "\n",
    "In summary, when the predicted probabilities are centered around 0.5, it suggests uncertainty in the model's classification decision, indicating that the results are less certain or more ambiguous."
   ]
  },
  {
   "cell_type": "markdown",
   "id": "c4e48f61-70bf-4d84-a562-7807923acc73",
   "metadata": {},
   "source": [
    "## 5 Final model goodness"
   ]
  },
  {
   "cell_type": "markdown",
   "id": "adbec647-6383-4e70-a0a3-a042a87a3fda",
   "metadata": {},
   "source": [
    "#### 1. Take your best model, the one you used in Question 4. But now fit it with complete work data, not just with your training data."
   ]
  },
  {
   "cell_type": "code",
   "execution_count": 112,
   "id": "b2cb8961-9a71-432e-a6f9-15315e7a202c",
   "metadata": {},
   "outputs": [],
   "source": [
    "m1 = LogisticRegression(max_iter=1000)"
   ]
  },
  {
   "cell_type": "code",
   "execution_count": 113,
   "id": "87fedb97-2a61-4469-be5f-8ab88680f083",
   "metadata": {},
   "outputs": [
    {
     "data": {
      "text/plain": [
       "LogisticRegression(max_iter=1000)"
      ]
     },
     "execution_count": 113,
     "metadata": {},
     "output_type": "execute_result"
    }
   ],
   "source": [
    "m1.fit(X_work, y_work)"
   ]
  },
  {
   "cell_type": "markdown",
   "id": "f339ee5c-d896-4a56-b9bf-4af8e0e955f2",
   "metadata": {},
   "source": [
    "#### 2. Load your test data, the one you saved earlier. Use the test data to compute test accuracy. This is your final model performance measure. Show it!"
   ]
  },
  {
   "cell_type": "code",
   "execution_count": 114,
   "id": "03176043-a868-4964-a3ac-88b15fc3baf4",
   "metadata": {},
   "outputs": [],
   "source": [
    "X_test = pd.read_csv('X_test.csv')\n",
    "y_test = pd.read_csv('y_test.csv')"
   ]
  },
  {
   "cell_type": "code",
   "execution_count": 115,
   "id": "4db4017a-4b8c-4543-b6dc-ec54255d47b0",
   "metadata": {},
   "outputs": [
    {
     "data": {
      "text/plain": [
       "array([0, 0, 1, 1, 1, 1, 0, 0, 1, 1, 0, 1, 0, 0, 1, 0, 1, 0, 1, 0, 1, 1,\n",
       "       0, 0, 0, 0, 0, 0, 0, 1, 1, 1, 1, 1, 0, 1, 1, 1, 1, 0, 1, 1, 1, 1,\n",
       "       1, 0, 1, 1, 1, 1, 0, 1, 0, 1, 1, 0, 1, 1, 0, 1, 1])"
      ]
     },
     "execution_count": 115,
     "metadata": {},
     "output_type": "execute_result"
    }
   ],
   "source": [
    "y_pred = m1.predict(X_test)\n",
    "y_pred"
   ]
  },
  {
   "cell_type": "code",
   "execution_count": 116,
   "id": "34e38c1a-76e4-4e0f-b22e-0e4d6b972393",
   "metadata": {},
   "outputs": [
    {
     "data": {
      "text/plain": [
       "0.8360655737704918"
      ]
     },
     "execution_count": 116,
     "metadata": {},
     "output_type": "execute_result"
    }
   ],
   "source": [
    "accuracy = accuracy_score(y_test, y_pred)\n",
    "accuracy"
   ]
  },
  {
   "cell_type": "markdown",
   "id": "e70588b0-cedc-4709-981d-745922007b48",
   "metadata": {},
   "source": [
    "The test accuracy I got is 0.8361 here."
   ]
  },
  {
   "cell_type": "markdown",
   "id": "0dc29859-be84-4987-b6ee-03f435b5bc48",
   "metadata": {},
   "source": [
    "### I spent almost 12 hours in this problem set."
   ]
  }
 ],
 "metadata": {
  "kernelspec": {
   "display_name": "Python 3 (ipykernel)",
   "language": "python",
   "name": "python3"
  },
  "language_info": {
   "codemirror_mode": {
    "name": "ipython",
    "version": 3
   },
   "file_extension": ".py",
   "mimetype": "text/x-python",
   "name": "python",
   "nbconvert_exporter": "python",
   "pygments_lexer": "ipython3",
   "version": "3.9.7"
  }
 },
 "nbformat": 4,
 "nbformat_minor": 5
}
