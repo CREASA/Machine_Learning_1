{
 "cells": [
  {
   "cell_type": "markdown",
   "id": "462aac2f-ce5c-4314-bcbf-2c9b4ed6c401",
   "metadata": {},
   "source": [
    "# PS 08"
   ]
  },
  {
   "cell_type": "markdown",
   "id": "5145d555-0df7-4f00-bcb0-6b7ae4dedacb",
   "metadata": {},
   "source": [
    "## Name: Xinyu Chang"
   ]
  },
  {
   "cell_type": "markdown",
   "id": "26fa8226-39cf-4985-98ac-83363b2ed3b9",
   "metadata": {},
   "source": [
    "---"
   ]
  },
  {
   "cell_type": "code",
   "execution_count": 1,
   "id": "049fb258-671d-4f9e-95e9-dd7fe382670e",
   "metadata": {},
   "outputs": [],
   "source": [
    "# import the packages\n",
    "import pandas as pd\n",
    "from sklearn.linear_model import LogisticRegression\n",
    "from sklearn.model_selection import train_test_split, cross_val_score\n",
    "from sklearn.metrics import confusion_matrix, accuracy_score, f1_score, recall_score\n",
    "from sklearn.neighbors import KNeighborsClassifier\n",
    "from sklearn.tree import DecisionTreeClassifier"
   ]
  },
  {
   "cell_type": "markdown",
   "id": "9b0f1a5c-9a83-4a78-b693-ea5a2c335773",
   "metadata": {},
   "source": [
    "## 1 Is COMPAS fair?"
   ]
  },
  {
   "cell_type": "markdown",
   "id": "dc0ab660-c7a7-42ff-b9c3-614dea9740dc",
   "metadata": {},
   "source": [
    "### 1.1 Load and prepare"
   ]
  },
  {
   "cell_type": "markdown",
   "id": "0544f625-9e6a-4e1a-b974-f8a614df0ba1",
   "metadata": {},
   "source": [
    "#### 1. Load the COMPAS data, and perform the basic checks."
   ]
  },
  {
   "cell_type": "code",
   "execution_count": 2,
   "id": "ae085fca-ce50-4af8-9014-d945d1a5e908",
   "metadata": {},
   "outputs": [
    {
     "data": {
      "text/html": [
       "<div>\n",
       "<style scoped>\n",
       "    .dataframe tbody tr th:only-of-type {\n",
       "        vertical-align: middle;\n",
       "    }\n",
       "\n",
       "    .dataframe tbody tr th {\n",
       "        vertical-align: top;\n",
       "    }\n",
       "\n",
       "    .dataframe thead th {\n",
       "        text-align: right;\n",
       "    }\n",
       "</style>\n",
       "<table border=\"1\" class=\"dataframe\">\n",
       "  <thead>\n",
       "    <tr style=\"text-align: right;\">\n",
       "      <th></th>\n",
       "      <th>age</th>\n",
       "      <th>c_charge_degree</th>\n",
       "      <th>race</th>\n",
       "      <th>age_cat</th>\n",
       "      <th>sex</th>\n",
       "      <th>priors_count</th>\n",
       "      <th>decile_score</th>\n",
       "      <th>two_year_recid</th>\n",
       "    </tr>\n",
       "  </thead>\n",
       "  <tbody>\n",
       "    <tr>\n",
       "      <th>0</th>\n",
       "      <td>69</td>\n",
       "      <td>F</td>\n",
       "      <td>Other</td>\n",
       "      <td>Greater than 45</td>\n",
       "      <td>Male</td>\n",
       "      <td>0</td>\n",
       "      <td>1</td>\n",
       "      <td>0</td>\n",
       "    </tr>\n",
       "    <tr>\n",
       "      <th>1</th>\n",
       "      <td>34</td>\n",
       "      <td>F</td>\n",
       "      <td>African-American</td>\n",
       "      <td>25 - 45</td>\n",
       "      <td>Male</td>\n",
       "      <td>0</td>\n",
       "      <td>3</td>\n",
       "      <td>1</td>\n",
       "    </tr>\n",
       "    <tr>\n",
       "      <th>2</th>\n",
       "      <td>24</td>\n",
       "      <td>F</td>\n",
       "      <td>African-American</td>\n",
       "      <td>Less than 25</td>\n",
       "      <td>Male</td>\n",
       "      <td>4</td>\n",
       "      <td>4</td>\n",
       "      <td>1</td>\n",
       "    </tr>\n",
       "    <tr>\n",
       "      <th>3</th>\n",
       "      <td>44</td>\n",
       "      <td>M</td>\n",
       "      <td>Other</td>\n",
       "      <td>25 - 45</td>\n",
       "      <td>Male</td>\n",
       "      <td>0</td>\n",
       "      <td>1</td>\n",
       "      <td>0</td>\n",
       "    </tr>\n",
       "    <tr>\n",
       "      <th>4</th>\n",
       "      <td>41</td>\n",
       "      <td>F</td>\n",
       "      <td>Caucasian</td>\n",
       "      <td>25 - 45</td>\n",
       "      <td>Male</td>\n",
       "      <td>14</td>\n",
       "      <td>6</td>\n",
       "      <td>1</td>\n",
       "    </tr>\n",
       "    <tr>\n",
       "      <th>...</th>\n",
       "      <td>...</td>\n",
       "      <td>...</td>\n",
       "      <td>...</td>\n",
       "      <td>...</td>\n",
       "      <td>...</td>\n",
       "      <td>...</td>\n",
       "      <td>...</td>\n",
       "      <td>...</td>\n",
       "    </tr>\n",
       "    <tr>\n",
       "      <th>6167</th>\n",
       "      <td>23</td>\n",
       "      <td>F</td>\n",
       "      <td>African-American</td>\n",
       "      <td>Less than 25</td>\n",
       "      <td>Male</td>\n",
       "      <td>0</td>\n",
       "      <td>7</td>\n",
       "      <td>0</td>\n",
       "    </tr>\n",
       "    <tr>\n",
       "      <th>6168</th>\n",
       "      <td>23</td>\n",
       "      <td>F</td>\n",
       "      <td>African-American</td>\n",
       "      <td>Less than 25</td>\n",
       "      <td>Male</td>\n",
       "      <td>0</td>\n",
       "      <td>3</td>\n",
       "      <td>0</td>\n",
       "    </tr>\n",
       "    <tr>\n",
       "      <th>6169</th>\n",
       "      <td>57</td>\n",
       "      <td>F</td>\n",
       "      <td>Other</td>\n",
       "      <td>Greater than 45</td>\n",
       "      <td>Male</td>\n",
       "      <td>0</td>\n",
       "      <td>1</td>\n",
       "      <td>0</td>\n",
       "    </tr>\n",
       "    <tr>\n",
       "      <th>6170</th>\n",
       "      <td>33</td>\n",
       "      <td>M</td>\n",
       "      <td>African-American</td>\n",
       "      <td>25 - 45</td>\n",
       "      <td>Female</td>\n",
       "      <td>3</td>\n",
       "      <td>2</td>\n",
       "      <td>0</td>\n",
       "    </tr>\n",
       "    <tr>\n",
       "      <th>6171</th>\n",
       "      <td>23</td>\n",
       "      <td>F</td>\n",
       "      <td>Hispanic</td>\n",
       "      <td>Less than 25</td>\n",
       "      <td>Female</td>\n",
       "      <td>2</td>\n",
       "      <td>4</td>\n",
       "      <td>1</td>\n",
       "    </tr>\n",
       "  </tbody>\n",
       "</table>\n",
       "<p>6172 rows × 8 columns</p>\n",
       "</div>"
      ],
      "text/plain": [
       "      age c_charge_degree              race          age_cat     sex  \\\n",
       "0      69               F             Other  Greater than 45    Male   \n",
       "1      34               F  African-American          25 - 45    Male   \n",
       "2      24               F  African-American     Less than 25    Male   \n",
       "3      44               M             Other          25 - 45    Male   \n",
       "4      41               F         Caucasian          25 - 45    Male   \n",
       "...   ...             ...               ...              ...     ...   \n",
       "6167   23               F  African-American     Less than 25    Male   \n",
       "6168   23               F  African-American     Less than 25    Male   \n",
       "6169   57               F             Other  Greater than 45    Male   \n",
       "6170   33               M  African-American          25 - 45  Female   \n",
       "6171   23               F          Hispanic     Less than 25  Female   \n",
       "\n",
       "      priors_count  decile_score  two_year_recid  \n",
       "0                0             1               0  \n",
       "1                0             3               1  \n",
       "2                4             4               1  \n",
       "3                0             1               0  \n",
       "4               14             6               1  \n",
       "...            ...           ...             ...  \n",
       "6167             0             7               0  \n",
       "6168             0             3               0  \n",
       "6169             0             1               0  \n",
       "6170             3             2               0  \n",
       "6171             2             4               1  \n",
       "\n",
       "[6172 rows x 8 columns]"
      ]
     },
     "execution_count": 2,
     "metadata": {},
     "output_type": "execute_result"
    }
   ],
   "source": [
    "compas = pd.read_csv(\"compas-score-data.csv.bz2\", sep='\\t')\n",
    "compas"
   ]
  },
  {
   "cell_type": "code",
   "execution_count": 3,
   "id": "e7c4a59f-e3cc-447b-ad02-41d3952c7612",
   "metadata": {},
   "outputs": [
    {
     "data": {
      "text/plain": [
       "(6172, 8)"
      ]
     },
     "execution_count": 3,
     "metadata": {},
     "output_type": "execute_result"
    }
   ],
   "source": [
    "compas.shape"
   ]
  },
  {
   "cell_type": "code",
   "execution_count": 4,
   "id": "2a911167-8c12-46b0-aa3d-bfcf6d8f1636",
   "metadata": {},
   "outputs": [
    {
     "data": {
      "text/plain": [
       "age                0\n",
       "c_charge_degree    0\n",
       "race               0\n",
       "age_cat            0\n",
       "sex                0\n",
       "priors_count       0\n",
       "decile_score       0\n",
       "two_year_recid     0\n",
       "dtype: int64"
      ]
     },
     "execution_count": 4,
     "metadata": {},
     "output_type": "execute_result"
    }
   ],
   "source": [
    "compas.isna().sum()"
   ]
  },
  {
   "cell_type": "code",
   "execution_count": 5,
   "id": "e5af6263-7540-4574-9830-d51ea2c64456",
   "metadata": {},
   "outputs": [
    {
     "data": {
      "text/plain": [
       "age                 int64\n",
       "c_charge_degree    object\n",
       "race               object\n",
       "age_cat            object\n",
       "sex                object\n",
       "priors_count        int64\n",
       "decile_score        int64\n",
       "two_year_recid      int64\n",
       "dtype: object"
      ]
     },
     "execution_count": 5,
     "metadata": {},
     "output_type": "execute_result"
    }
   ],
   "source": [
    "compas.dtypes"
   ]
  },
  {
   "cell_type": "code",
   "execution_count": 6,
   "id": "0eea5f7e-1362-4e68-a7bc-02e7cb329e09",
   "metadata": {},
   "outputs": [
    {
     "data": {
      "text/html": [
       "<div>\n",
       "<style scoped>\n",
       "    .dataframe tbody tr th:only-of-type {\n",
       "        vertical-align: middle;\n",
       "    }\n",
       "\n",
       "    .dataframe tbody tr th {\n",
       "        vertical-align: top;\n",
       "    }\n",
       "\n",
       "    .dataframe thead th {\n",
       "        text-align: right;\n",
       "    }\n",
       "</style>\n",
       "<table border=\"1\" class=\"dataframe\">\n",
       "  <thead>\n",
       "    <tr style=\"text-align: right;\">\n",
       "      <th></th>\n",
       "      <th>age</th>\n",
       "      <th>priors_count</th>\n",
       "      <th>decile_score</th>\n",
       "      <th>two_year_recid</th>\n",
       "    </tr>\n",
       "  </thead>\n",
       "  <tbody>\n",
       "    <tr>\n",
       "      <th>count</th>\n",
       "      <td>6172.000000</td>\n",
       "      <td>6172.000000</td>\n",
       "      <td>6172.000000</td>\n",
       "      <td>6172.000000</td>\n",
       "    </tr>\n",
       "    <tr>\n",
       "      <th>mean</th>\n",
       "      <td>34.534511</td>\n",
       "      <td>3.246436</td>\n",
       "      <td>4.418503</td>\n",
       "      <td>0.455120</td>\n",
       "    </tr>\n",
       "    <tr>\n",
       "      <th>std</th>\n",
       "      <td>11.730938</td>\n",
       "      <td>4.743770</td>\n",
       "      <td>2.839463</td>\n",
       "      <td>0.498022</td>\n",
       "    </tr>\n",
       "    <tr>\n",
       "      <th>min</th>\n",
       "      <td>18.000000</td>\n",
       "      <td>0.000000</td>\n",
       "      <td>1.000000</td>\n",
       "      <td>0.000000</td>\n",
       "    </tr>\n",
       "    <tr>\n",
       "      <th>25%</th>\n",
       "      <td>25.000000</td>\n",
       "      <td>0.000000</td>\n",
       "      <td>2.000000</td>\n",
       "      <td>0.000000</td>\n",
       "    </tr>\n",
       "    <tr>\n",
       "      <th>50%</th>\n",
       "      <td>31.000000</td>\n",
       "      <td>1.000000</td>\n",
       "      <td>4.000000</td>\n",
       "      <td>0.000000</td>\n",
       "    </tr>\n",
       "    <tr>\n",
       "      <th>75%</th>\n",
       "      <td>42.000000</td>\n",
       "      <td>4.000000</td>\n",
       "      <td>7.000000</td>\n",
       "      <td>1.000000</td>\n",
       "    </tr>\n",
       "    <tr>\n",
       "      <th>max</th>\n",
       "      <td>96.000000</td>\n",
       "      <td>38.000000</td>\n",
       "      <td>10.000000</td>\n",
       "      <td>1.000000</td>\n",
       "    </tr>\n",
       "  </tbody>\n",
       "</table>\n",
       "</div>"
      ],
      "text/plain": [
       "               age  priors_count  decile_score  two_year_recid\n",
       "count  6172.000000   6172.000000   6172.000000     6172.000000\n",
       "mean     34.534511      3.246436      4.418503        0.455120\n",
       "std      11.730938      4.743770      2.839463        0.498022\n",
       "min      18.000000      0.000000      1.000000        0.000000\n",
       "25%      25.000000      0.000000      2.000000        0.000000\n",
       "50%      31.000000      1.000000      4.000000        0.000000\n",
       "75%      42.000000      4.000000      7.000000        1.000000\n",
       "max      96.000000     38.000000     10.000000        1.000000"
      ]
     },
     "execution_count": 6,
     "metadata": {},
     "output_type": "execute_result"
    }
   ],
   "source": [
    "compas.describe()"
   ]
  },
  {
   "cell_type": "markdown",
   "id": "143f2128-5e12-4b52-8138-bcdfcda8d241",
   "metadata": {},
   "source": [
    "There are 6172 rows and 8 columns in the current dataset. There are no missing values in the current dataset. The data types are int64 for \"age\", \"priors_count\", \"decile_score\", and \"two_year_recid\" and the data types are object for \"c_charge_degree\", \"race\", \"age_cat\", and \"sex\". It seems reasonable for the mean, std, min, max for the numeric variables(age, priors_count, decile_score and two_year_recid)."
   ]
  },
  {
   "cell_type": "markdown",
   "id": "267463c5-6f7b-4807-80ab-3811e75e72b3",
   "metadata": {},
   "source": [
    "#### 2. Filter the data to keep only Caucasian and African-Americans.All the tasks below are about these two races only, there are just too few other offenders."
   ]
  },
  {
   "cell_type": "code",
   "execution_count": 7,
   "id": "82e20f92-506b-49f4-8bd2-eedcd7a64ed2",
   "metadata": {},
   "outputs": [
    {
     "data": {
      "text/html": [
       "<div>\n",
       "<style scoped>\n",
       "    .dataframe tbody tr th:only-of-type {\n",
       "        vertical-align: middle;\n",
       "    }\n",
       "\n",
       "    .dataframe tbody tr th {\n",
       "        vertical-align: top;\n",
       "    }\n",
       "\n",
       "    .dataframe thead th {\n",
       "        text-align: right;\n",
       "    }\n",
       "</style>\n",
       "<table border=\"1\" class=\"dataframe\">\n",
       "  <thead>\n",
       "    <tr style=\"text-align: right;\">\n",
       "      <th></th>\n",
       "      <th>age</th>\n",
       "      <th>c_charge_degree</th>\n",
       "      <th>race</th>\n",
       "      <th>age_cat</th>\n",
       "      <th>sex</th>\n",
       "      <th>priors_count</th>\n",
       "      <th>decile_score</th>\n",
       "      <th>two_year_recid</th>\n",
       "    </tr>\n",
       "  </thead>\n",
       "  <tbody>\n",
       "    <tr>\n",
       "      <th>1</th>\n",
       "      <td>34</td>\n",
       "      <td>F</td>\n",
       "      <td>African-American</td>\n",
       "      <td>25 - 45</td>\n",
       "      <td>Male</td>\n",
       "      <td>0</td>\n",
       "      <td>3</td>\n",
       "      <td>1</td>\n",
       "    </tr>\n",
       "    <tr>\n",
       "      <th>2</th>\n",
       "      <td>24</td>\n",
       "      <td>F</td>\n",
       "      <td>African-American</td>\n",
       "      <td>Less than 25</td>\n",
       "      <td>Male</td>\n",
       "      <td>4</td>\n",
       "      <td>4</td>\n",
       "      <td>1</td>\n",
       "    </tr>\n",
       "    <tr>\n",
       "      <th>4</th>\n",
       "      <td>41</td>\n",
       "      <td>F</td>\n",
       "      <td>Caucasian</td>\n",
       "      <td>25 - 45</td>\n",
       "      <td>Male</td>\n",
       "      <td>14</td>\n",
       "      <td>6</td>\n",
       "      <td>1</td>\n",
       "    </tr>\n",
       "    <tr>\n",
       "      <th>6</th>\n",
       "      <td>39</td>\n",
       "      <td>M</td>\n",
       "      <td>Caucasian</td>\n",
       "      <td>25 - 45</td>\n",
       "      <td>Female</td>\n",
       "      <td>0</td>\n",
       "      <td>1</td>\n",
       "      <td>0</td>\n",
       "    </tr>\n",
       "    <tr>\n",
       "      <th>7</th>\n",
       "      <td>27</td>\n",
       "      <td>F</td>\n",
       "      <td>Caucasian</td>\n",
       "      <td>25 - 45</td>\n",
       "      <td>Male</td>\n",
       "      <td>0</td>\n",
       "      <td>4</td>\n",
       "      <td>0</td>\n",
       "    </tr>\n",
       "    <tr>\n",
       "      <th>...</th>\n",
       "      <td>...</td>\n",
       "      <td>...</td>\n",
       "      <td>...</td>\n",
       "      <td>...</td>\n",
       "      <td>...</td>\n",
       "      <td>...</td>\n",
       "      <td>...</td>\n",
       "      <td>...</td>\n",
       "    </tr>\n",
       "    <tr>\n",
       "      <th>6165</th>\n",
       "      <td>30</td>\n",
       "      <td>M</td>\n",
       "      <td>African-American</td>\n",
       "      <td>25 - 45</td>\n",
       "      <td>Male</td>\n",
       "      <td>0</td>\n",
       "      <td>2</td>\n",
       "      <td>1</td>\n",
       "    </tr>\n",
       "    <tr>\n",
       "      <th>6166</th>\n",
       "      <td>20</td>\n",
       "      <td>F</td>\n",
       "      <td>African-American</td>\n",
       "      <td>Less than 25</td>\n",
       "      <td>Male</td>\n",
       "      <td>0</td>\n",
       "      <td>9</td>\n",
       "      <td>0</td>\n",
       "    </tr>\n",
       "    <tr>\n",
       "      <th>6167</th>\n",
       "      <td>23</td>\n",
       "      <td>F</td>\n",
       "      <td>African-American</td>\n",
       "      <td>Less than 25</td>\n",
       "      <td>Male</td>\n",
       "      <td>0</td>\n",
       "      <td>7</td>\n",
       "      <td>0</td>\n",
       "    </tr>\n",
       "    <tr>\n",
       "      <th>6168</th>\n",
       "      <td>23</td>\n",
       "      <td>F</td>\n",
       "      <td>African-American</td>\n",
       "      <td>Less than 25</td>\n",
       "      <td>Male</td>\n",
       "      <td>0</td>\n",
       "      <td>3</td>\n",
       "      <td>0</td>\n",
       "    </tr>\n",
       "    <tr>\n",
       "      <th>6170</th>\n",
       "      <td>33</td>\n",
       "      <td>M</td>\n",
       "      <td>African-American</td>\n",
       "      <td>25 - 45</td>\n",
       "      <td>Female</td>\n",
       "      <td>3</td>\n",
       "      <td>2</td>\n",
       "      <td>0</td>\n",
       "    </tr>\n",
       "  </tbody>\n",
       "</table>\n",
       "<p>5278 rows × 8 columns</p>\n",
       "</div>"
      ],
      "text/plain": [
       "      age c_charge_degree              race       age_cat     sex  \\\n",
       "1      34               F  African-American       25 - 45    Male   \n",
       "2      24               F  African-American  Less than 25    Male   \n",
       "4      41               F         Caucasian       25 - 45    Male   \n",
       "6      39               M         Caucasian       25 - 45  Female   \n",
       "7      27               F         Caucasian       25 - 45    Male   \n",
       "...   ...             ...               ...           ...     ...   \n",
       "6165   30               M  African-American       25 - 45    Male   \n",
       "6166   20               F  African-American  Less than 25    Male   \n",
       "6167   23               F  African-American  Less than 25    Male   \n",
       "6168   23               F  African-American  Less than 25    Male   \n",
       "6170   33               M  African-American       25 - 45  Female   \n",
       "\n",
       "      priors_count  decile_score  two_year_recid  \n",
       "1                0             3               1  \n",
       "2                4             4               1  \n",
       "4               14             6               1  \n",
       "6                0             1               0  \n",
       "7                0             4               0  \n",
       "...            ...           ...             ...  \n",
       "6165             0             2               1  \n",
       "6166             0             9               0  \n",
       "6167             0             7               0  \n",
       "6168             0             3               0  \n",
       "6170             3             2               0  \n",
       "\n",
       "[5278 rows x 8 columns]"
      ]
     },
     "execution_count": 7,
     "metadata": {},
     "output_type": "execute_result"
    }
   ],
   "source": [
    "new_compas = compas[compas['race'].isin(['Caucasian', 'African-American'])]\n",
    "new_compas"
   ]
  },
  {
   "cell_type": "code",
   "execution_count": 8,
   "id": "1926c196-1c77-4a7f-8253-fabe6bcd2467",
   "metadata": {},
   "outputs": [
    {
     "data": {
      "text/plain": [
       "African-American    3175\n",
       "Caucasian           2103\n",
       "Name: race, dtype: int64"
      ]
     },
     "execution_count": 8,
     "metadata": {},
     "output_type": "execute_result"
    }
   ],
   "source": [
    "new_compas.race.value_counts()"
   ]
  },
  {
   "cell_type": "markdown",
   "id": "85708ec9-bc52-4372-a2a2-921ad437344c",
   "metadata": {},
   "source": [
    "#### 3. Create a new dummy variable based off of COMPAS risk score (decile_score), which indicates if an individual was classified as low risk (score 1-4) or high risk (score 5-10).Hint: you can do it in different ways but for technical reasons related the tasks below, the best way to do it is to create a variable “high score”, that takes values 1 (decile score 5 and above) and 0 (decile score 1-4)."
   ]
  },
  {
   "cell_type": "code",
   "execution_count": 9,
   "id": "0481f4c0-9d1b-4360-aa0d-397517c40d40",
   "metadata": {},
   "outputs": [
    {
     "data": {
      "text/html": [
       "<div>\n",
       "<style scoped>\n",
       "    .dataframe tbody tr th:only-of-type {\n",
       "        vertical-align: middle;\n",
       "    }\n",
       "\n",
       "    .dataframe tbody tr th {\n",
       "        vertical-align: top;\n",
       "    }\n",
       "\n",
       "    .dataframe thead th {\n",
       "        text-align: right;\n",
       "    }\n",
       "</style>\n",
       "<table border=\"1\" class=\"dataframe\">\n",
       "  <thead>\n",
       "    <tr style=\"text-align: right;\">\n",
       "      <th></th>\n",
       "      <th>age</th>\n",
       "      <th>c_charge_degree</th>\n",
       "      <th>race</th>\n",
       "      <th>age_cat</th>\n",
       "      <th>sex</th>\n",
       "      <th>priors_count</th>\n",
       "      <th>decile_score</th>\n",
       "      <th>two_year_recid</th>\n",
       "      <th>high_score</th>\n",
       "    </tr>\n",
       "  </thead>\n",
       "  <tbody>\n",
       "    <tr>\n",
       "      <th>1</th>\n",
       "      <td>34</td>\n",
       "      <td>F</td>\n",
       "      <td>African-American</td>\n",
       "      <td>25 - 45</td>\n",
       "      <td>Male</td>\n",
       "      <td>0</td>\n",
       "      <td>3</td>\n",
       "      <td>1</td>\n",
       "      <td>0</td>\n",
       "    </tr>\n",
       "    <tr>\n",
       "      <th>2</th>\n",
       "      <td>24</td>\n",
       "      <td>F</td>\n",
       "      <td>African-American</td>\n",
       "      <td>Less than 25</td>\n",
       "      <td>Male</td>\n",
       "      <td>4</td>\n",
       "      <td>4</td>\n",
       "      <td>1</td>\n",
       "      <td>0</td>\n",
       "    </tr>\n",
       "    <tr>\n",
       "      <th>4</th>\n",
       "      <td>41</td>\n",
       "      <td>F</td>\n",
       "      <td>Caucasian</td>\n",
       "      <td>25 - 45</td>\n",
       "      <td>Male</td>\n",
       "      <td>14</td>\n",
       "      <td>6</td>\n",
       "      <td>1</td>\n",
       "      <td>1</td>\n",
       "    </tr>\n",
       "    <tr>\n",
       "      <th>6</th>\n",
       "      <td>39</td>\n",
       "      <td>M</td>\n",
       "      <td>Caucasian</td>\n",
       "      <td>25 - 45</td>\n",
       "      <td>Female</td>\n",
       "      <td>0</td>\n",
       "      <td>1</td>\n",
       "      <td>0</td>\n",
       "      <td>0</td>\n",
       "    </tr>\n",
       "    <tr>\n",
       "      <th>7</th>\n",
       "      <td>27</td>\n",
       "      <td>F</td>\n",
       "      <td>Caucasian</td>\n",
       "      <td>25 - 45</td>\n",
       "      <td>Male</td>\n",
       "      <td>0</td>\n",
       "      <td>4</td>\n",
       "      <td>0</td>\n",
       "      <td>0</td>\n",
       "    </tr>\n",
       "    <tr>\n",
       "      <th>...</th>\n",
       "      <td>...</td>\n",
       "      <td>...</td>\n",
       "      <td>...</td>\n",
       "      <td>...</td>\n",
       "      <td>...</td>\n",
       "      <td>...</td>\n",
       "      <td>...</td>\n",
       "      <td>...</td>\n",
       "      <td>...</td>\n",
       "    </tr>\n",
       "    <tr>\n",
       "      <th>6165</th>\n",
       "      <td>30</td>\n",
       "      <td>M</td>\n",
       "      <td>African-American</td>\n",
       "      <td>25 - 45</td>\n",
       "      <td>Male</td>\n",
       "      <td>0</td>\n",
       "      <td>2</td>\n",
       "      <td>1</td>\n",
       "      <td>0</td>\n",
       "    </tr>\n",
       "    <tr>\n",
       "      <th>6166</th>\n",
       "      <td>20</td>\n",
       "      <td>F</td>\n",
       "      <td>African-American</td>\n",
       "      <td>Less than 25</td>\n",
       "      <td>Male</td>\n",
       "      <td>0</td>\n",
       "      <td>9</td>\n",
       "      <td>0</td>\n",
       "      <td>1</td>\n",
       "    </tr>\n",
       "    <tr>\n",
       "      <th>6167</th>\n",
       "      <td>23</td>\n",
       "      <td>F</td>\n",
       "      <td>African-American</td>\n",
       "      <td>Less than 25</td>\n",
       "      <td>Male</td>\n",
       "      <td>0</td>\n",
       "      <td>7</td>\n",
       "      <td>0</td>\n",
       "      <td>1</td>\n",
       "    </tr>\n",
       "    <tr>\n",
       "      <th>6168</th>\n",
       "      <td>23</td>\n",
       "      <td>F</td>\n",
       "      <td>African-American</td>\n",
       "      <td>Less than 25</td>\n",
       "      <td>Male</td>\n",
       "      <td>0</td>\n",
       "      <td>3</td>\n",
       "      <td>0</td>\n",
       "      <td>0</td>\n",
       "    </tr>\n",
       "    <tr>\n",
       "      <th>6170</th>\n",
       "      <td>33</td>\n",
       "      <td>M</td>\n",
       "      <td>African-American</td>\n",
       "      <td>25 - 45</td>\n",
       "      <td>Female</td>\n",
       "      <td>3</td>\n",
       "      <td>2</td>\n",
       "      <td>0</td>\n",
       "      <td>0</td>\n",
       "    </tr>\n",
       "  </tbody>\n",
       "</table>\n",
       "<p>5278 rows × 9 columns</p>\n",
       "</div>"
      ],
      "text/plain": [
       "      age c_charge_degree              race       age_cat     sex  \\\n",
       "1      34               F  African-American       25 - 45    Male   \n",
       "2      24               F  African-American  Less than 25    Male   \n",
       "4      41               F         Caucasian       25 - 45    Male   \n",
       "6      39               M         Caucasian       25 - 45  Female   \n",
       "7      27               F         Caucasian       25 - 45    Male   \n",
       "...   ...             ...               ...           ...     ...   \n",
       "6165   30               M  African-American       25 - 45    Male   \n",
       "6166   20               F  African-American  Less than 25    Male   \n",
       "6167   23               F  African-American  Less than 25    Male   \n",
       "6168   23               F  African-American  Less than 25    Male   \n",
       "6170   33               M  African-American       25 - 45  Female   \n",
       "\n",
       "      priors_count  decile_score  two_year_recid  high_score  \n",
       "1                0             3               1           0  \n",
       "2                4             4               1           0  \n",
       "4               14             6               1           1  \n",
       "6                0             1               0           0  \n",
       "7                0             4               0           0  \n",
       "...            ...           ...             ...         ...  \n",
       "6165             0             2               1           0  \n",
       "6166             0             9               0           1  \n",
       "6167             0             7               0           1  \n",
       "6168             0             3               0           0  \n",
       "6170             3             2               0           0  \n",
       "\n",
       "[5278 rows x 9 columns]"
      ]
     },
     "execution_count": 9,
     "metadata": {},
     "output_type": "execute_result"
    }
   ],
   "source": [
    "new_compas = new_compas.copy()\n",
    "new_compas['high_score'] = new_compas['decile_score'].apply(lambda x: 1 if x >= 5 else 0)\n",
    "new_compas"
   ]
  },
  {
   "cell_type": "code",
   "execution_count": 10,
   "id": "0238110b-2e48-477e-aad6-4f4eabf55913",
   "metadata": {},
   "outputs": [
    {
     "data": {
      "text/plain": [
       "0    2753\n",
       "1    2525\n",
       "Name: high_score, dtype: int64"
      ]
     },
     "execution_count": 10,
     "metadata": {},
     "output_type": "execute_result"
    }
   ],
   "source": [
    "new_compas.high_score.value_counts()"
   ]
  },
  {
   "cell_type": "markdown",
   "id": "061c6cbd-40dc-4d2d-8f9b-ca0ca16409ab",
   "metadata": {},
   "source": [
    "#### 4. Now analyze the offenders across this new risk category:"
   ]
  },
  {
   "cell_type": "markdown",
   "id": "38f92652-ba84-4d43-84af-6671afcedac0",
   "metadata": {},
   "source": [
    "#### (a) What is the recidivism rate (percentage of offenders who re-commit the crime) for lowrisk and high-risk individuals?"
   ]
  },
  {
   "cell_type": "code",
   "execution_count": 11,
   "id": "22b7edd0-02eb-4617-942e-49a38f5bd8e3",
   "metadata": {},
   "outputs": [
    {
     "data": {
      "text/plain": [
       "high_score\n",
       "0    0.320015\n",
       "1    0.634455\n",
       "Name: two_year_recid, dtype: float64"
      ]
     },
     "execution_count": 11,
     "metadata": {},
     "output_type": "execute_result"
    }
   ],
   "source": [
    "new_compas.groupby('high_score')['two_year_recid'].mean()"
   ]
  },
  {
   "cell_type": "markdown",
   "id": "e4425e63-5d75-4472-9558-8a85f977bf15",
   "metadata": {},
   "source": [
    "The recidivism rate (percentage of offenders who re-commit the crime) for lowrisk individuals is 32% and the recidivism rate (percentage of offenders who re-commit the crime) for high-risk individuals is 63.4%."
   ]
  },
  {
   "cell_type": "markdown",
   "id": "de4883e9-73fa-4551-bdfa-6113f29cabb9",
   "metadata": {},
   "source": [
    "#### (b) What are the recidivism rates for African-Americans and Caucasians? Hint: 39% for Caucasians."
   ]
  },
  {
   "cell_type": "code",
   "execution_count": 12,
   "id": "a7fecd92-9c09-4d5a-b7c6-9e36be8178d7",
   "metadata": {},
   "outputs": [
    {
     "data": {
      "text/plain": [
       "race\n",
       "African-American    0.52315\n",
       "Caucasian           0.39087\n",
       "Name: two_year_recid, dtype: float64"
      ]
     },
     "execution_count": 12,
     "metadata": {},
     "output_type": "execute_result"
    }
   ],
   "source": [
    "new_compas.groupby('race')['two_year_recid'].mean()"
   ]
  },
  {
   "cell_type": "markdown",
   "id": "eadeeb7c-3ea6-413b-a85e-7f31170ca12c",
   "metadata": {},
   "source": [
    "The recidivism rates for African-Americans is 52.3% and the recidivism rates for Caucasians is 39%."
   ]
  },
  {
   "cell_type": "markdown",
   "id": "8fda2fed-f339-4a9f-855e-2b0c3d8f801c",
   "metadata": {},
   "source": [
    "#### 5.Create a confusion matrix (CM) comparing COMPAS predictions for recidivism (low risk/high risk you created above) and the actual two-year recidivism and interpret the results. In order to be on the same page, let’s call recidivists “positives”. Note: you do not have to predict anything here. COMPAS has made the prediction for you, this is the high risk variable you created in 3. See the referred articles about the controversy around COMPAS methodology."
   ]
  },
  {
   "cell_type": "code",
   "execution_count": 13,
   "id": "c921f297-5b77-48c9-9cd3-27011bc1a552",
   "metadata": {},
   "outputs": [
    {
     "data": {
      "text/plain": [
       "array([[1872,  923],\n",
       "       [ 881, 1602]])"
      ]
     },
     "execution_count": 13,
     "metadata": {},
     "output_type": "execute_result"
    }
   ],
   "source": [
    "cm = confusion_matrix(new_compas['two_year_recid'], new_compas['high_score'])\n",
    "cm"
   ]
  },
  {
   "cell_type": "markdown",
   "id": "905d8b38-6ff1-492a-9286-b209ffebe29f",
   "metadata": {},
   "source": [
    "In this case, the classifier is the COMPAS system, and the confusion matrix is comparing the COMPAS predictions for recidivism (high risk/low risk) with the actual two-year recidivism data. We can interpret the numbers in the confusion matrix as follows:\n",
    "\n",
    "True Negatives (TN): These are the cases where COMPAS correctly predicted that the individual would not recidivate within two years (1872 cases).Predict the non-positives and actual result is non-positives.\n",
    "\n",
    "False Positives (FP): These are the cases where COMPAS incorrectly predicted that the individual would recidivate within two years, but they did not (923 cases).Predict the positives and actual result is non-positives.\n",
    "\n",
    "False Negatives (FN): These are the cases where COMPAS incorrectly predicted that the individual would not recidivate within two years, but they did (881 cases).Predict the non-positives and actual result is positives.\n",
    "\n",
    "True Positives (TP): These are the cases where COMPAS correctly predicted that the individual would recidivate within two years (1602 cases).Predict the positives and actual result is positives."
   ]
  },
  {
   "cell_type": "markdown",
   "id": "0d54cf33-7db7-4d85-8d8b-b7356211cc9d",
   "metadata": {},
   "source": [
    "#### 6.Discuss the CM. What is accuracy? What percentage of low-risk individuals are wrongly classified as high risk? What about the way around? We did not talk about FPR and FNR in class, but you can consult Lecture Notes, section 6.1.1 Confusion matrix and related concepts."
   ]
  },
  {
   "cell_type": "code",
   "execution_count": 14,
   "id": "bfa524fb-d216-40a1-8cc6-1166d80c4c43",
   "metadata": {},
   "outputs": [
    {
     "data": {
      "text/plain": [
       "0.6582038651004168"
      ]
     },
     "execution_count": 14,
     "metadata": {},
     "output_type": "execute_result"
    }
   ],
   "source": [
    "# accuracy\n",
    "accuracy = accuracy_score(new_compas['two_year_recid'], new_compas['high_score'])\n",
    "accuracy"
   ]
  },
  {
   "cell_type": "code",
   "execution_count": 15,
   "id": "fbad63b7-a79b-4800-83e6-2dc1fbe7bd6e",
   "metadata": {},
   "outputs": [
    {
     "data": {
      "text/plain": [
       "0.639776357827476"
      ]
     },
     "execution_count": 15,
     "metadata": {},
     "output_type": "execute_result"
    }
   ],
   "source": [
    "# F score\n",
    "F_score = f1_score(new_compas['two_year_recid'], new_compas['high_score'])\n",
    "F_score"
   ]
  },
  {
   "cell_type": "code",
   "execution_count": 16,
   "id": "782a2271-45be-4bfc-a278-8f07b63de2b6",
   "metadata": {},
   "outputs": [
    {
     "data": {
      "text/plain": [
       "0.3302325581395349"
      ]
     },
     "execution_count": 16,
     "metadata": {},
     "output_type": "execute_result"
    }
   ],
   "source": [
    "# percentage of low-risk individuals are wrongly classified as high risk\n",
    "FPR = 923 / (923 + 1872)\n",
    "FPR"
   ]
  },
  {
   "cell_type": "code",
   "execution_count": 17,
   "id": "716bebb1-1fd6-4f02-b4e0-4d61a9ccf0b4",
   "metadata": {},
   "outputs": [
    {
     "data": {
      "text/plain": [
       "0.35481272654047524"
      ]
     },
     "execution_count": 17,
     "metadata": {},
     "output_type": "execute_result"
    }
   ],
   "source": [
    "# percentage of high-risk individuals are wrongly classified as low risk\n",
    "FNR = 881 / (881 + 1602)\n",
    "FNR"
   ]
  },
  {
   "cell_type": "markdown",
   "id": "dff15408-4b3c-4364-a0f0-0d228eafb462",
   "metadata": {},
   "source": [
    "The accuracy is 65.8%. The percentage of low-risk individuals are wrongly classified as high risk is 33%(FPR). The percentage of high-risk individuals are wrongly classified as low risk is 35%(FNR). "
   ]
  },
  {
   "cell_type": "markdown",
   "id": "fecdb2b4-6ee1-4db7-9b69-8e457c49b232",
   "metadata": {},
   "source": [
    "#### Would you feel comfortable having a judge to use COMPAS to inform sentencing guidelines?"
   ]
  },
  {
   "cell_type": "markdown",
   "id": "263de974-640d-4996-a877-ac1bc04e3c32",
   "metadata": {},
   "source": [
    "I feel not comfortable having a judge to use COMPAS to inform sentencing guidelines. Given the data and the study by Kleinberg et al., it seems that the use of COMPAS or similar predictive tools could potentially improve outcomes in the criminal justice system. However, this does not come without concerns. In the context of recidivism prediction, a high FPR means that a significant number of individuals who did not recidivate were predicted to do so, potentially leading to unnecessary interventions or restrictions. A high FNR means that a significant number of individuals who did recidivate were not predicted to do so, indicating missed opportunities for interventions that might have prevented recidivism. There is a higher percentage of people who are predicted not recidivate but recidivate than the percentage of people are predicted recidivate but not recidivate. Falsely predicted the person who recidivate will be more harmful than falsely predicted the person who will not recidivate. The error rates in classification, and the potential for these errors to result in unfair outcomes, is a significant issue. Additionally, there are broader concerns about transparency and potential biases in the algorithm. So, while there could be benefits, it's crucial that such tools are used with a clear understanding of their limitations and with safeguards in place to prevent unfair treatment. "
   ]
  },
  {
   "cell_type": "markdown",
   "id": "362c4590-70ca-4cbc-b8a0-ff9b8c9e3db3",
   "metadata": {},
   "source": [
    "#### What do you think, how well can judges perform the same task without COMPAS’s help? Are they better or worse?"
   ]
  },
  {
   "cell_type": "markdown",
   "id": "406c916c-6f7e-4cfe-8b89-054e737c5c3c",
   "metadata": {},
   "source": [
    "I think it is hard to say how well can judges perform the same task without COMPAS’s help, and are they better or worse. On one hand, the study by Kleinberg et al. suggests that machine learning tools like COMPAS might potentially outperform human judges in certain respects, for instance, in minimizing jail populations without increasing crime rates. On the other hand, the study also notes that judges might consider a broader set of variables than what the algorithm focuses on although judeges may also have some personal bias, indicating that human decision-making may have advantages in capturing complex, multifaceted considerations. "
   ]
  },
  {
   "cell_type": "markdown",
   "id": "d7daa4ff-7126-4a11-86a2-240060f77c76",
   "metadata": {},
   "source": [
    "#### At what point would the error/misclassification risk be acceptable for you? Do you think the acceptable error rate should be the same for human judges and for algorithms?"
   ]
  },
  {
   "cell_type": "markdown",
   "id": "a25ae8ef-ce84-4726-980d-280651238892",
   "metadata": {},
   "source": [
    "In my personal perspective, I think the error/misclassification should be lower than 15 percent. I think we should hold algorithms to a higher standard of accuracy because they lack the ability to consider the unique circumstances of each case in the way a human judge can. In terms of the problem whether the acceptable error rate should be the same for human judges and for algorithms, in my personal perspective, because algorithms are designed by humans and trained on human-generated data, they can reflect human biases and should be held to the same standard."
   ]
  },
  {
   "cell_type": "markdown",
   "id": "4bf1257c-513f-4dff-b81c-3bcc73a56e20",
   "metadata": {},
   "source": [
    "### 1.2 Analysis by race"
   ]
  },
  {
   "cell_type": "markdown",
   "id": "f0d98b5d-2870-4e26-98eb-7f5425a0ce46",
   "metadata": {},
   "source": [
    "#### Now we perform the fairness analysis by race. Does the model treat Caucasians and AfricanAmericans in a similar fashion?\n",
    "#### 1. Compute the recidivism rate separately for high-risk and low risk African-Americans and Caucasians. Hint: High risk AA = 65%."
   ]
  },
  {
   "cell_type": "code",
   "execution_count": 18,
   "id": "bb55cf69-52eb-4c01-92ca-6bfcd201cedb",
   "metadata": {},
   "outputs": [
    {
     "data": {
      "text/plain": [
       "race              high_score\n",
       "African-American  0             0.351412\n",
       "                  1             0.649535\n",
       "Caucasian         0             0.289979\n",
       "                  1             0.594828\n",
       "Name: two_year_recid, dtype: float64"
      ]
     },
     "execution_count": 18,
     "metadata": {},
     "output_type": "execute_result"
    }
   ],
   "source": [
    "new_compas.groupby(['race', 'high_score'])['two_year_recid'].mean()"
   ]
  },
  {
   "cell_type": "markdown",
   "id": "a1afaea0-4c7b-4864-bb4d-06833743a33e",
   "metadata": {},
   "source": [
    "The recidivism rate for high-risk for African-Americans and Caucasians are 65% and 59% respectively. The recidivism rate for low-risk for African-Americans and Caucasians are 35% and 29% respectively."
   ]
  },
  {
   "cell_type": "markdown",
   "id": "b5b510d6-4ce2-457f-b49e-dd14f8ea3fc5",
   "metadata": {},
   "source": [
    "#### 2. Comment the results in the previous point. How similar are the rates for the the lowrisk Caucasians and low-risk African Americans? For the high-risk Caucasians and high-risk African Americans? Do you see a racial disparity here? If yes, which group is it favoring? Based on these figures, do you think COMPAS is fair?"
   ]
  },
  {
   "cell_type": "markdown",
   "id": "e5a07937-4794-4c39-9dd3-c22570aea51d",
   "metadata": {},
   "source": [
    "The recidivism rates provided indicate that for both high-risk and low-risk groups, African-Americans have a slightly higher recidivism rate than Caucasians.\n",
    "\n",
    "High-risk group: African-Americans (65%), Caucasians (59%)  \n",
    "Low-risk group: African-Americans (35%), Caucasians (29%)  \n",
    "\n",
    "The difference between the recidivism rates of African-Americans and Caucasians in the high-risk group is 6 percentage points (65% - 59%). In the low-risk group, the difference is also 6 percentage points (35% - 29%). I think it is unfair for the COMPAS. From a purely numerical perspective, the rates for both high-risk and low-risk groups are not identical, but the difference in both cases is the same (6 percentage points). However, when it comes to the question of racial disparity and fairness, it's important to consider these rates in the context of the larger social, historical, and systemic factors that can influence recidivism. The COMPAS system is predicting more African-Americans to be high-risk compared to Caucasians, and these groups actually have a similar risk of recidivism, this could potentially be a sign of racial bias in the system. It implies the Caucasians is favored. is could be seen as a violation of the concept of group fairness, which requires that similar groups (in terms of the outcome of interest) are treated similarly by the system. On the other hand, the concept of individual fairness requires that similar individuals are treated similarly. If African-Americans who are similar to Caucasians in terms of their risk factors for recidivism are being more frequently or harshly labeled as high-risk by COMPAS, this could be seen as a violation of individual fairness."
   ]
  },
  {
   "cell_type": "markdown",
   "id": "ba6a2cc3-43e0-4f31-8c30-3a2c7be88a0b",
   "metadata": {},
   "source": [
    "#### 3. Now repeat your confusion matrix calculation and analysis from 1.1.5. But this time do it separately for African-Americans and for Caucasians:"
   ]
  },
  {
   "cell_type": "code",
   "execution_count": 19,
   "id": "8ec8fb4f-4f41-4885-9098-b9424ff47401",
   "metadata": {},
   "outputs": [
    {
     "data": {
      "text/html": [
       "<div>\n",
       "<style scoped>\n",
       "    .dataframe tbody tr th:only-of-type {\n",
       "        vertical-align: middle;\n",
       "    }\n",
       "\n",
       "    .dataframe tbody tr th {\n",
       "        vertical-align: top;\n",
       "    }\n",
       "\n",
       "    .dataframe thead th {\n",
       "        text-align: right;\n",
       "    }\n",
       "</style>\n",
       "<table border=\"1\" class=\"dataframe\">\n",
       "  <thead>\n",
       "    <tr style=\"text-align: right;\">\n",
       "      <th></th>\n",
       "      <th>age</th>\n",
       "      <th>c_charge_degree</th>\n",
       "      <th>race</th>\n",
       "      <th>age_cat</th>\n",
       "      <th>sex</th>\n",
       "      <th>priors_count</th>\n",
       "      <th>decile_score</th>\n",
       "      <th>two_year_recid</th>\n",
       "      <th>high_score</th>\n",
       "    </tr>\n",
       "  </thead>\n",
       "  <tbody>\n",
       "    <tr>\n",
       "      <th>1</th>\n",
       "      <td>34</td>\n",
       "      <td>F</td>\n",
       "      <td>African-American</td>\n",
       "      <td>25 - 45</td>\n",
       "      <td>Male</td>\n",
       "      <td>0</td>\n",
       "      <td>3</td>\n",
       "      <td>1</td>\n",
       "      <td>0</td>\n",
       "    </tr>\n",
       "    <tr>\n",
       "      <th>2</th>\n",
       "      <td>24</td>\n",
       "      <td>F</td>\n",
       "      <td>African-American</td>\n",
       "      <td>Less than 25</td>\n",
       "      <td>Male</td>\n",
       "      <td>4</td>\n",
       "      <td>4</td>\n",
       "      <td>1</td>\n",
       "      <td>0</td>\n",
       "    </tr>\n",
       "    <tr>\n",
       "      <th>8</th>\n",
       "      <td>23</td>\n",
       "      <td>M</td>\n",
       "      <td>African-American</td>\n",
       "      <td>Less than 25</td>\n",
       "      <td>Male</td>\n",
       "      <td>3</td>\n",
       "      <td>6</td>\n",
       "      <td>1</td>\n",
       "      <td>1</td>\n",
       "    </tr>\n",
       "    <tr>\n",
       "      <th>10</th>\n",
       "      <td>41</td>\n",
       "      <td>F</td>\n",
       "      <td>African-American</td>\n",
       "      <td>25 - 45</td>\n",
       "      <td>Male</td>\n",
       "      <td>0</td>\n",
       "      <td>4</td>\n",
       "      <td>0</td>\n",
       "      <td>0</td>\n",
       "    </tr>\n",
       "    <tr>\n",
       "      <th>12</th>\n",
       "      <td>31</td>\n",
       "      <td>F</td>\n",
       "      <td>African-American</td>\n",
       "      <td>25 - 45</td>\n",
       "      <td>Male</td>\n",
       "      <td>7</td>\n",
       "      <td>3</td>\n",
       "      <td>1</td>\n",
       "      <td>0</td>\n",
       "    </tr>\n",
       "    <tr>\n",
       "      <th>...</th>\n",
       "      <td>...</td>\n",
       "      <td>...</td>\n",
       "      <td>...</td>\n",
       "      <td>...</td>\n",
       "      <td>...</td>\n",
       "      <td>...</td>\n",
       "      <td>...</td>\n",
       "      <td>...</td>\n",
       "      <td>...</td>\n",
       "    </tr>\n",
       "    <tr>\n",
       "      <th>6165</th>\n",
       "      <td>30</td>\n",
       "      <td>M</td>\n",
       "      <td>African-American</td>\n",
       "      <td>25 - 45</td>\n",
       "      <td>Male</td>\n",
       "      <td>0</td>\n",
       "      <td>2</td>\n",
       "      <td>1</td>\n",
       "      <td>0</td>\n",
       "    </tr>\n",
       "    <tr>\n",
       "      <th>6166</th>\n",
       "      <td>20</td>\n",
       "      <td>F</td>\n",
       "      <td>African-American</td>\n",
       "      <td>Less than 25</td>\n",
       "      <td>Male</td>\n",
       "      <td>0</td>\n",
       "      <td>9</td>\n",
       "      <td>0</td>\n",
       "      <td>1</td>\n",
       "    </tr>\n",
       "    <tr>\n",
       "      <th>6167</th>\n",
       "      <td>23</td>\n",
       "      <td>F</td>\n",
       "      <td>African-American</td>\n",
       "      <td>Less than 25</td>\n",
       "      <td>Male</td>\n",
       "      <td>0</td>\n",
       "      <td>7</td>\n",
       "      <td>0</td>\n",
       "      <td>1</td>\n",
       "    </tr>\n",
       "    <tr>\n",
       "      <th>6168</th>\n",
       "      <td>23</td>\n",
       "      <td>F</td>\n",
       "      <td>African-American</td>\n",
       "      <td>Less than 25</td>\n",
       "      <td>Male</td>\n",
       "      <td>0</td>\n",
       "      <td>3</td>\n",
       "      <td>0</td>\n",
       "      <td>0</td>\n",
       "    </tr>\n",
       "    <tr>\n",
       "      <th>6170</th>\n",
       "      <td>33</td>\n",
       "      <td>M</td>\n",
       "      <td>African-American</td>\n",
       "      <td>25 - 45</td>\n",
       "      <td>Female</td>\n",
       "      <td>3</td>\n",
       "      <td>2</td>\n",
       "      <td>0</td>\n",
       "      <td>0</td>\n",
       "    </tr>\n",
       "  </tbody>\n",
       "</table>\n",
       "<p>3175 rows × 9 columns</p>\n",
       "</div>"
      ],
      "text/plain": [
       "      age c_charge_degree              race       age_cat     sex  \\\n",
       "1      34               F  African-American       25 - 45    Male   \n",
       "2      24               F  African-American  Less than 25    Male   \n",
       "8      23               M  African-American  Less than 25    Male   \n",
       "10     41               F  African-American       25 - 45    Male   \n",
       "12     31               F  African-American       25 - 45    Male   \n",
       "...   ...             ...               ...           ...     ...   \n",
       "6165   30               M  African-American       25 - 45    Male   \n",
       "6166   20               F  African-American  Less than 25    Male   \n",
       "6167   23               F  African-American  Less than 25    Male   \n",
       "6168   23               F  African-American  Less than 25    Male   \n",
       "6170   33               M  African-American       25 - 45  Female   \n",
       "\n",
       "      priors_count  decile_score  two_year_recid  high_score  \n",
       "1                0             3               1           0  \n",
       "2                4             4               1           0  \n",
       "8                3             6               1           1  \n",
       "10               0             4               0           0  \n",
       "12               7             3               1           0  \n",
       "...            ...           ...             ...         ...  \n",
       "6165             0             2               1           0  \n",
       "6166             0             9               0           1  \n",
       "6167             0             7               0           1  \n",
       "6168             0             3               0           0  \n",
       "6170             3             2               0           0  \n",
       "\n",
       "[3175 rows x 9 columns]"
      ]
     },
     "execution_count": 19,
     "metadata": {},
     "output_type": "execute_result"
    }
   ],
   "source": [
    "aa = new_compas[new_compas['race'] == 'African-American']\n",
    "aa"
   ]
  },
  {
   "cell_type": "code",
   "execution_count": 20,
   "id": "4f9ac3b4-b20a-498f-a8cb-50b1a58dd7d3",
   "metadata": {},
   "outputs": [
    {
     "data": {
      "text/html": [
       "<div>\n",
       "<style scoped>\n",
       "    .dataframe tbody tr th:only-of-type {\n",
       "        vertical-align: middle;\n",
       "    }\n",
       "\n",
       "    .dataframe tbody tr th {\n",
       "        vertical-align: top;\n",
       "    }\n",
       "\n",
       "    .dataframe thead th {\n",
       "        text-align: right;\n",
       "    }\n",
       "</style>\n",
       "<table border=\"1\" class=\"dataframe\">\n",
       "  <thead>\n",
       "    <tr style=\"text-align: right;\">\n",
       "      <th></th>\n",
       "      <th>age</th>\n",
       "      <th>c_charge_degree</th>\n",
       "      <th>race</th>\n",
       "      <th>age_cat</th>\n",
       "      <th>sex</th>\n",
       "      <th>priors_count</th>\n",
       "      <th>decile_score</th>\n",
       "      <th>two_year_recid</th>\n",
       "      <th>high_score</th>\n",
       "    </tr>\n",
       "  </thead>\n",
       "  <tbody>\n",
       "    <tr>\n",
       "      <th>4</th>\n",
       "      <td>41</td>\n",
       "      <td>F</td>\n",
       "      <td>Caucasian</td>\n",
       "      <td>25 - 45</td>\n",
       "      <td>Male</td>\n",
       "      <td>14</td>\n",
       "      <td>6</td>\n",
       "      <td>1</td>\n",
       "      <td>1</td>\n",
       "    </tr>\n",
       "    <tr>\n",
       "      <th>6</th>\n",
       "      <td>39</td>\n",
       "      <td>M</td>\n",
       "      <td>Caucasian</td>\n",
       "      <td>25 - 45</td>\n",
       "      <td>Female</td>\n",
       "      <td>0</td>\n",
       "      <td>1</td>\n",
       "      <td>0</td>\n",
       "      <td>0</td>\n",
       "    </tr>\n",
       "    <tr>\n",
       "      <th>7</th>\n",
       "      <td>27</td>\n",
       "      <td>F</td>\n",
       "      <td>Caucasian</td>\n",
       "      <td>25 - 45</td>\n",
       "      <td>Male</td>\n",
       "      <td>0</td>\n",
       "      <td>4</td>\n",
       "      <td>0</td>\n",
       "      <td>0</td>\n",
       "    </tr>\n",
       "    <tr>\n",
       "      <th>9</th>\n",
       "      <td>37</td>\n",
       "      <td>M</td>\n",
       "      <td>Caucasian</td>\n",
       "      <td>25 - 45</td>\n",
       "      <td>Female</td>\n",
       "      <td>0</td>\n",
       "      <td>1</td>\n",
       "      <td>0</td>\n",
       "      <td>0</td>\n",
       "    </tr>\n",
       "    <tr>\n",
       "      <th>11</th>\n",
       "      <td>47</td>\n",
       "      <td>F</td>\n",
       "      <td>Caucasian</td>\n",
       "      <td>Greater than 45</td>\n",
       "      <td>Female</td>\n",
       "      <td>1</td>\n",
       "      <td>1</td>\n",
       "      <td>1</td>\n",
       "      <td>0</td>\n",
       "    </tr>\n",
       "    <tr>\n",
       "      <th>...</th>\n",
       "      <td>...</td>\n",
       "      <td>...</td>\n",
       "      <td>...</td>\n",
       "      <td>...</td>\n",
       "      <td>...</td>\n",
       "      <td>...</td>\n",
       "      <td>...</td>\n",
       "      <td>...</td>\n",
       "      <td>...</td>\n",
       "    </tr>\n",
       "    <tr>\n",
       "      <th>6148</th>\n",
       "      <td>36</td>\n",
       "      <td>M</td>\n",
       "      <td>Caucasian</td>\n",
       "      <td>25 - 45</td>\n",
       "      <td>Male</td>\n",
       "      <td>0</td>\n",
       "      <td>1</td>\n",
       "      <td>0</td>\n",
       "      <td>0</td>\n",
       "    </tr>\n",
       "    <tr>\n",
       "      <th>6151</th>\n",
       "      <td>32</td>\n",
       "      <td>F</td>\n",
       "      <td>Caucasian</td>\n",
       "      <td>25 - 45</td>\n",
       "      <td>Male</td>\n",
       "      <td>0</td>\n",
       "      <td>2</td>\n",
       "      <td>0</td>\n",
       "      <td>0</td>\n",
       "    </tr>\n",
       "    <tr>\n",
       "      <th>6153</th>\n",
       "      <td>30</td>\n",
       "      <td>M</td>\n",
       "      <td>Caucasian</td>\n",
       "      <td>25 - 45</td>\n",
       "      <td>Female</td>\n",
       "      <td>2</td>\n",
       "      <td>1</td>\n",
       "      <td>1</td>\n",
       "      <td>0</td>\n",
       "    </tr>\n",
       "    <tr>\n",
       "      <th>6158</th>\n",
       "      <td>23</td>\n",
       "      <td>F</td>\n",
       "      <td>Caucasian</td>\n",
       "      <td>Less than 25</td>\n",
       "      <td>Male</td>\n",
       "      <td>0</td>\n",
       "      <td>8</td>\n",
       "      <td>0</td>\n",
       "      <td>1</td>\n",
       "    </tr>\n",
       "    <tr>\n",
       "      <th>6164</th>\n",
       "      <td>21</td>\n",
       "      <td>M</td>\n",
       "      <td>Caucasian</td>\n",
       "      <td>Less than 25</td>\n",
       "      <td>Male</td>\n",
       "      <td>0</td>\n",
       "      <td>6</td>\n",
       "      <td>1</td>\n",
       "      <td>1</td>\n",
       "    </tr>\n",
       "  </tbody>\n",
       "</table>\n",
       "<p>2103 rows × 9 columns</p>\n",
       "</div>"
      ],
      "text/plain": [
       "      age c_charge_degree       race          age_cat     sex  priors_count  \\\n",
       "4      41               F  Caucasian          25 - 45    Male            14   \n",
       "6      39               M  Caucasian          25 - 45  Female             0   \n",
       "7      27               F  Caucasian          25 - 45    Male             0   \n",
       "9      37               M  Caucasian          25 - 45  Female             0   \n",
       "11     47               F  Caucasian  Greater than 45  Female             1   \n",
       "...   ...             ...        ...              ...     ...           ...   \n",
       "6148   36               M  Caucasian          25 - 45    Male             0   \n",
       "6151   32               F  Caucasian          25 - 45    Male             0   \n",
       "6153   30               M  Caucasian          25 - 45  Female             2   \n",
       "6158   23               F  Caucasian     Less than 25    Male             0   \n",
       "6164   21               M  Caucasian     Less than 25    Male             0   \n",
       "\n",
       "      decile_score  two_year_recid  high_score  \n",
       "4                6               1           1  \n",
       "6                1               0           0  \n",
       "7                4               0           0  \n",
       "9                1               0           0  \n",
       "11               1               1           0  \n",
       "...            ...             ...         ...  \n",
       "6148             1               0           0  \n",
       "6151             2               0           0  \n",
       "6153             1               1           0  \n",
       "6158             8               0           1  \n",
       "6164             6               1           1  \n",
       "\n",
       "[2103 rows x 9 columns]"
      ]
     },
     "execution_count": 20,
     "metadata": {},
     "output_type": "execute_result"
    }
   ],
   "source": [
    "c = new_compas[new_compas['race'] == 'Caucasian']\n",
    "c"
   ]
  },
  {
   "cell_type": "code",
   "execution_count": 21,
   "id": "9c783c18-6da8-4db5-b5ba-8fb4abc8ae42",
   "metadata": {},
   "outputs": [
    {
     "data": {
      "text/plain": [
       "array([[ 873,  641],\n",
       "       [ 473, 1188]])"
      ]
     },
     "execution_count": 21,
     "metadata": {},
     "output_type": "execute_result"
    }
   ],
   "source": [
    "cm_aa = confusion_matrix(aa['two_year_recid'], aa['high_score'])\n",
    "cm_aa"
   ]
  },
  {
   "cell_type": "code",
   "execution_count": 22,
   "id": "a1142c15-48ae-466d-91ca-bb90a894143b",
   "metadata": {},
   "outputs": [
    {
     "data": {
      "text/plain": [
       "array([[999, 282],\n",
       "       [408, 414]])"
      ]
     },
     "execution_count": 22,
     "metadata": {},
     "output_type": "execute_result"
    }
   ],
   "source": [
    "cm_c = confusion_matrix(c['two_year_recid'], c['high_score'])\n",
    "cm_c"
   ]
  },
  {
   "cell_type": "markdown",
   "id": "aed6328d-3765-4645-9471-ff288b0b39bd",
   "metadata": {},
   "source": [
    "#### (a) How accurate is the COMPAS classification for African-Americans and for Caucasians?"
   ]
  },
  {
   "cell_type": "code",
   "execution_count": 23,
   "id": "b0276faf-be31-4604-8c31-3f168d7f2737",
   "metadata": {},
   "outputs": [
    {
     "data": {
      "text/plain": [
       "0.6491338582677165"
      ]
     },
     "execution_count": 23,
     "metadata": {},
     "output_type": "execute_result"
    }
   ],
   "source": [
    "accuracy_aa = accuracy_score(aa['two_year_recid'], aa['high_score'])\n",
    "accuracy_aa"
   ]
  },
  {
   "cell_type": "code",
   "execution_count": 24,
   "id": "5a55b0a6-563e-42dd-80c5-2dc821be5969",
   "metadata": {},
   "outputs": [
    {
     "data": {
      "text/plain": [
       "0.6718972895863052"
      ]
     },
     "execution_count": 24,
     "metadata": {},
     "output_type": "execute_result"
    }
   ],
   "source": [
    "accuracy_c = accuracy_score(c['two_year_recid'], c['high_score'])\n",
    "accuracy_c"
   ]
  },
  {
   "cell_type": "markdown",
   "id": "8bdbe909-332f-414d-98e5-2abc0bae3d14",
   "metadata": {},
   "source": [
    "The accuracy of the COMPAS classification for African-Americans and for Caucasians are 64.9% and 67.2% respectively."
   ]
  },
  {
   "cell_type": "markdown",
   "id": "1b1f6e96-7088-4e5f-af5f-24d9950ab8c0",
   "metadata": {},
   "source": [
    "#### (b) What are the false positive rates (false recidivism rates) FPR?"
   ]
  },
  {
   "cell_type": "code",
   "execution_count": 25,
   "id": "72b8b166-e374-412c-a16a-9cf0015a05da",
   "metadata": {},
   "outputs": [
    {
     "data": {
      "text/plain": [
       "(0.4233817701453104, 0.22014051522248243)"
      ]
     },
     "execution_count": 25,
     "metadata": {},
     "output_type": "execute_result"
    }
   ],
   "source": [
    "FPR_aa = 641 / (641 + 873)\n",
    "FPR_c = 282 / (282 + 999)\n",
    "FPR_aa, FPR_c"
   ]
  },
  {
   "cell_type": "markdown",
   "id": "c15cc443-8976-4a09-9907-5b6de57d4bf5",
   "metadata": {},
   "source": [
    "The false positive rates (false recidivism rates) FPR for African-Americans and for Caucasians are 42.3% and 22% respectively."
   ]
  },
  {
   "cell_type": "markdown",
   "id": "3ff1da5c-d7c5-4240-9c85-2418d7f3ce9d",
   "metadata": {},
   "source": [
    "#### (c) The false negative rates (false no-recidivism rates) FNR?\n",
    "#### Hint: FPR for Caucasians is 0.22, FNR for African-Americans is 0.28"
   ]
  },
  {
   "cell_type": "code",
   "execution_count": 26,
   "id": "2b52b096-4526-4f3d-8fd3-7f19c63b7406",
   "metadata": {},
   "outputs": [
    {
     "data": {
      "text/plain": [
       "(0.2847682119205298, 0.49635036496350365)"
      ]
     },
     "execution_count": 26,
     "metadata": {},
     "output_type": "execute_result"
    }
   ],
   "source": [
    "FNR_aa = 473 / (473 + 1188)\n",
    "FNR_c = 408 / (408 + 414)\n",
    "FNR_aa, FNR_c"
   ]
  },
  {
   "cell_type": "markdown",
   "id": "5ed653f0-8ada-42e5-b5df-fe17c4026026",
   "metadata": {},
   "source": [
    "The false negative rates (false no-recidivism rates) FNR for African-Americans and for Caucasians are 28.5% and 49.6% respectively."
   ]
  },
  {
   "cell_type": "markdown",
   "id": "a48e75b6-650d-4ad4-8f9f-5c44c9e3fe4b",
   "metadata": {},
   "source": [
    "#### 4. If you have done this correctly, you will find that COMPAS’s percentage of correctly categorized individuals (accuracy) is fairly similar for African-Americans and Caucasians, but that false positive rates and false negative rates are different. In your opinion, is the COMPAS algorithm “fair”? Justify your answer."
   ]
  },
  {
   "cell_type": "markdown",
   "id": "8d97a05d-e96c-4737-ac16-cb9a30d1c8f1",
   "metadata": {},
   "source": [
    "Accuracy refers to the proportion of true results (both true positives and true negatives) in the total number of cases examined. In this case, COMPAS has a slightly higher accuracy for Caucasians (67.2%) than for African-Americans (64.9%). This difference, while not large, suggests that COMPAS's predictions are slightly more likely to be correct for Caucasians. The false positive rate (FPR) refers to the proportion of negative events that are incorrectly classified as positive. Here, the false positive rate is much higher for African-Americans (42.3%) than for Caucasians (22%). This means that African-Americans are much more likely to be incorrectly labeled as high risk (recidivist) by COMPAS compared to Caucasians. The false negative rate (FNR) refers to the proportion of positive events that are incorrectly classified as negative. In this case, the false negative rate is higher for Caucasians (49.6%) than for African-Americans (28.5%). This means that Caucasians are more likely to be incorrectly labeled as low risk (non-recidivist) by COMPAS.\n",
    "\n",
    "The different rates of false positives and false negatives can have significant real-world impacts. A high false positive rate for African-Americans could lead to unjust outcomes, such as unnecessary incarceration or harsher sentences. Conversely, a high false negative rate for Caucasians could mean that individuals who pose a higher risk of reoffending are not being appropriately identified and managed.\n",
    "\n",
    "Given these disparities in false positive and false negative rates, we can argue that the COMPAS algorithm is not fair, even though its overall accuracy is similar for both groups. This is because the algorithm's errors disproportionately impact different racial groups in different ways, which can contribute to systemic biases and inequalities. However, it's also worth noting that the COMPAS algorithm is not solely responsible for these disparities. The algorithm is trained on historical data, which can reflect and perpetuate existing biases in the criminal justice system. Therefore, addressing these issues may require broader systemic changes, in addition to improving the fairness of predictive algorithms like COMPAS."
   ]
  },
  {
   "cell_type": "markdown",
   "id": "32dc0f48-d29c-45d5-9090-07149312276b",
   "metadata": {},
   "source": [
    "#### 5. Does your answer in 4 align with your answer in 2? Explain! Hint: This is not a trick question. If you read the first two recommended readings, you will find that people disagree how you define fairness. Your answer will not be graded on which side you take, but on your justification."
   ]
  },
  {
   "cell_type": "markdown",
   "id": "eff22f44-d371-4721-8325-96f7139fb47d",
   "metadata": {},
   "source": [
    "Yes, my answer to this question aligns with the answer provided in question 2. The key point in both answers is that there are observed disparities in the COMPAS algorithm's predictions across different racial groups, but these disparities alone do not necessarily mean the algorithm is unfair. In question 2, I mentioned that the COMPAS system shows higher recidivism rates for African-Americans compared to Caucasians in both low-risk and high-risk groups. However, I also pointed out that these differences could be due to a wide range of factors, including socioeconomic factors, systemic discrimination, or differences in policing practices, among others. Similarly, in this question, I noted that the COMPAS algorithm shows different false positive and false negative rates for African-Americans and Caucasians, but this does not automatically mean the algorithm is unfair. The algorithm's errors disproportionately impact different racial groups, but these errors may be reflecting existing biases in the criminal justice system rather than biases inherent in the algorithm itself. In both cases, the key issue is not just the presence of disparities, but the reasons behind these disparities and their real-world impacts. As I mentioned in both answers, determining whether the COMPAS algorithm is \"fair\" requires a more nuanced understanding of these issues. The recommended readings by Kleinberg et al. discuss the complexities of defining fairness in algorithms. They highlight that there can be inherent trade-offs in trying to make an algorithm fair according to different definitions of fairness. For example, an algorithm might be fair in terms of its overall accuracy across different groups, but unfair in terms of its false positive or false negative rates. This is a reflection of the fact that fairness is a multifaceted concept, and achieving fairness according to one definition can sometimes lead to unfairness according to another definition. In conclusion, the question of whether the COMPAS algorithm is fair cannot be definitively answered based solely on the observed disparities. It requires a deeper understanding of the causes and impacts of these disparities, as well as a thoughtful consideration of what we mean by \"fairness\" in this context.\n",
    "\n",
    "We also need to consider the concept of fairness in algorithmic decision-making often revolves around two main paradigms: individual fairness and group fairness. Individual fairness requires that similar individuals are treated similarly. In the context of the COMPAS algorithm, this would mean that two individuals with similar criminal histories and other relevant characteristics should have similar recidivism risk scores, regardless of their race. Group fairness, on the other hand, requires that certain outcomes are balanced across different demographic groups. In this context, it could mean that the rates of false positives and false negatives in recidivism predictions should be approximately equal for African-Americans and Caucasians. The contradiction between individual and group fairness can be seen in the results I presented above. The COMPAS algorithm may be relatively fair from an individual fairness perspective, as it has similar accuracy rates for African-Americans and Caucasians. This suggests that it treats similar individuals similarly, at least in terms of its overall predictive accuracy. However, the algorithm appears to be less fair from a group fairness perspective, as it has significantly different false positive and false negative rates for African-Americans and Caucasians. This means that the errors it makes are not equally distributed across these two groups, which can lead to systemic biases and unfair outcomes.This contradiction underscores the inherent complexities and trade-offs in achieving algorithmic fairness. Depending on how we define fairness, the same algorithm can be seen as both fair and unfair. It also highlights the need for a careful and nuanced approach to developing and evaluating predictive algorithms like COMPAS, with a focus on both individual and group fairness."
   ]
  },
  {
   "cell_type": "markdown",
   "id": "564a5487-5ccd-4a1a-b15e-6dfc157b6021",
   "metadata": {},
   "source": [
    "## 2 Can you beat COMPAS?"
   ]
  },
  {
   "cell_type": "markdown",
   "id": "ce411227-34d3-47f4-999a-347f9ccb2022",
   "metadata": {},
   "source": [
    "### 2.1 Create the model"
   ]
  },
  {
   "cell_type": "markdown",
   "id": "20d66f2b-780d-47e7-a00a-fc3164b3d34c",
   "metadata": {},
   "source": [
    "#### Create such a model. We want to avoid explicit race and gender bias, hence you do not want to include gender and race in order to avoid it. Finally, let’s analyze the performance of the model by cross-validation.More detailed tasks are here:\n",
    "#### 1.Before we start: what do you think, what is an appropriate model performance measure here? A, P, R, F or something else, such as FPR or FNR? Maybe you want to report multiple measures? Explain!"
   ]
  },
  {
   "cell_type": "markdown",
   "id": "c48b9bb0-23e7-4649-acb9-59c67b72aeaa",
   "metadata": {},
   "source": [
    "The F-score is a performance metric that considers both precision (P) and recall (R), which makes it a balanced measure when I care equally about both of these aspects. In the context of predicting recidivism, precision would be the proportion of individuals who actually reoffended among all those predicted to reoffend, while recall would be the proportion of individuals who reoffended and were correctly predicted to do so out of all individuals who actually reoffended. The F1-score is the harmonic mean of precision and recall, and it tends towards the smaller value of the two. This means that a good F1-score requires both good precision and good recall. On the other hand, the Accuracy (A) might not be a good measure in this case if the classes are imbalanced (i.e., if there are many more non-recidivists than recidivists). Accuracy could be high just by predicting the majority class. The False Positive Rate (FPR) and False Negative Rate (FNR) are useful for examining specific types of errors. For instance, if it's much worse to incorrectly predict that someone will reoffend when they won't (false positive), I would want a low FPR. If it's much worse to incorrectly predict that someone won't reoffend when they will (false negative), I would want a low FNR. By focusing on the F1-score, I am implicitly assuming that these two types of errors are equally bad, which might not be the case."
   ]
  },
  {
   "cell_type": "markdown",
   "id": "e4e5229f-7fa0-4225-960d-82c79b018a08",
   "metadata": {},
   "source": [
    "#### 2.you should not use variable decile score that originates from COMPAS model. Why?"
   ]
  },
  {
   "cell_type": "markdown",
   "id": "a4338917-41fc-4052-ac2a-fc7d6c2aaab7",
   "metadata": {},
   "source": [
    "The decile score is a direct output of the COMPAS model, which is proprietary and has been criticized for its lack of transparency, potential bias. The exact formula used to calculate the decile score is proprietary information owned by Northpointe, the company that created COMPAS. This means it's not possible to fully understand how the score is calculated, which factors are considered, and how much weight is given to each factor. This lack of transparency can make it difficult to validate the accuracy, fairness, or bias of the score. Including it as a feature in my model would introduce that same lack of transparency and potential bias. I want my model to be independent and to rely on its own features. Relying heavily on the decile score might result in overlooking other important factors in a person's situation or background that aren't captured by the COMPAS algorithm."
   ]
  },
  {
   "cell_type": "markdown",
   "id": "697208b4-c025-4cee-b053-0ed3188b3f11",
   "metadata": {},
   "source": [
    "#### 3.Now it is time to do the modeling. Create a logistic regression model that contains all explanatory variables you have in data into the model. (Some of these you have to convert to dummies). Do not include the variables discussed above, do not include race and gender in this model to avoid explicit gender/racial bias.Use 10-fold cross-validation (CV) to compute its relevant performance measure(s) you discussed above. Some basic code for CV is in Python Notes 13.2 Cross Validation background explanations are in the ISLR book Section 5.1 Cross-Validation."
   ]
  },
  {
   "cell_type": "code",
   "execution_count": 27,
   "id": "eb873f19-8e87-4340-8316-a27e4812edae",
   "metadata": {},
   "outputs": [
    {
     "data": {
      "text/html": [
       "<div>\n",
       "<style scoped>\n",
       "    .dataframe tbody tr th:only-of-type {\n",
       "        vertical-align: middle;\n",
       "    }\n",
       "\n",
       "    .dataframe tbody tr th {\n",
       "        vertical-align: top;\n",
       "    }\n",
       "\n",
       "    .dataframe thead th {\n",
       "        text-align: right;\n",
       "    }\n",
       "</style>\n",
       "<table border=\"1\" class=\"dataframe\">\n",
       "  <thead>\n",
       "    <tr style=\"text-align: right;\">\n",
       "      <th></th>\n",
       "      <th>age</th>\n",
       "      <th>priors_count</th>\n",
       "      <th>two_year_recid</th>\n",
       "      <th>high_score</th>\n",
       "      <th>c_charge_degree_F</th>\n",
       "      <th>c_charge_degree_M</th>\n",
       "      <th>age_cat_25 - 45</th>\n",
       "      <th>age_cat_Greater than 45</th>\n",
       "      <th>age_cat_Less than 25</th>\n",
       "    </tr>\n",
       "  </thead>\n",
       "  <tbody>\n",
       "    <tr>\n",
       "      <th>1</th>\n",
       "      <td>34</td>\n",
       "      <td>0</td>\n",
       "      <td>1</td>\n",
       "      <td>0</td>\n",
       "      <td>1</td>\n",
       "      <td>0</td>\n",
       "      <td>1</td>\n",
       "      <td>0</td>\n",
       "      <td>0</td>\n",
       "    </tr>\n",
       "    <tr>\n",
       "      <th>2</th>\n",
       "      <td>24</td>\n",
       "      <td>4</td>\n",
       "      <td>1</td>\n",
       "      <td>0</td>\n",
       "      <td>1</td>\n",
       "      <td>0</td>\n",
       "      <td>0</td>\n",
       "      <td>0</td>\n",
       "      <td>1</td>\n",
       "    </tr>\n",
       "    <tr>\n",
       "      <th>4</th>\n",
       "      <td>41</td>\n",
       "      <td>14</td>\n",
       "      <td>1</td>\n",
       "      <td>1</td>\n",
       "      <td>1</td>\n",
       "      <td>0</td>\n",
       "      <td>1</td>\n",
       "      <td>0</td>\n",
       "      <td>0</td>\n",
       "    </tr>\n",
       "    <tr>\n",
       "      <th>6</th>\n",
       "      <td>39</td>\n",
       "      <td>0</td>\n",
       "      <td>0</td>\n",
       "      <td>0</td>\n",
       "      <td>0</td>\n",
       "      <td>1</td>\n",
       "      <td>1</td>\n",
       "      <td>0</td>\n",
       "      <td>0</td>\n",
       "    </tr>\n",
       "    <tr>\n",
       "      <th>7</th>\n",
       "      <td>27</td>\n",
       "      <td>0</td>\n",
       "      <td>0</td>\n",
       "      <td>0</td>\n",
       "      <td>1</td>\n",
       "      <td>0</td>\n",
       "      <td>1</td>\n",
       "      <td>0</td>\n",
       "      <td>0</td>\n",
       "    </tr>\n",
       "    <tr>\n",
       "      <th>...</th>\n",
       "      <td>...</td>\n",
       "      <td>...</td>\n",
       "      <td>...</td>\n",
       "      <td>...</td>\n",
       "      <td>...</td>\n",
       "      <td>...</td>\n",
       "      <td>...</td>\n",
       "      <td>...</td>\n",
       "      <td>...</td>\n",
       "    </tr>\n",
       "    <tr>\n",
       "      <th>6165</th>\n",
       "      <td>30</td>\n",
       "      <td>0</td>\n",
       "      <td>1</td>\n",
       "      <td>0</td>\n",
       "      <td>0</td>\n",
       "      <td>1</td>\n",
       "      <td>1</td>\n",
       "      <td>0</td>\n",
       "      <td>0</td>\n",
       "    </tr>\n",
       "    <tr>\n",
       "      <th>6166</th>\n",
       "      <td>20</td>\n",
       "      <td>0</td>\n",
       "      <td>0</td>\n",
       "      <td>1</td>\n",
       "      <td>1</td>\n",
       "      <td>0</td>\n",
       "      <td>0</td>\n",
       "      <td>0</td>\n",
       "      <td>1</td>\n",
       "    </tr>\n",
       "    <tr>\n",
       "      <th>6167</th>\n",
       "      <td>23</td>\n",
       "      <td>0</td>\n",
       "      <td>0</td>\n",
       "      <td>1</td>\n",
       "      <td>1</td>\n",
       "      <td>0</td>\n",
       "      <td>0</td>\n",
       "      <td>0</td>\n",
       "      <td>1</td>\n",
       "    </tr>\n",
       "    <tr>\n",
       "      <th>6168</th>\n",
       "      <td>23</td>\n",
       "      <td>0</td>\n",
       "      <td>0</td>\n",
       "      <td>0</td>\n",
       "      <td>1</td>\n",
       "      <td>0</td>\n",
       "      <td>0</td>\n",
       "      <td>0</td>\n",
       "      <td>1</td>\n",
       "    </tr>\n",
       "    <tr>\n",
       "      <th>6170</th>\n",
       "      <td>33</td>\n",
       "      <td>3</td>\n",
       "      <td>0</td>\n",
       "      <td>0</td>\n",
       "      <td>0</td>\n",
       "      <td>1</td>\n",
       "      <td>1</td>\n",
       "      <td>0</td>\n",
       "      <td>0</td>\n",
       "    </tr>\n",
       "  </tbody>\n",
       "</table>\n",
       "<p>5278 rows × 9 columns</p>\n",
       "</div>"
      ],
      "text/plain": [
       "      age  priors_count  two_year_recid  high_score  c_charge_degree_F  \\\n",
       "1      34             0               1           0                  1   \n",
       "2      24             4               1           0                  1   \n",
       "4      41            14               1           1                  1   \n",
       "6      39             0               0           0                  0   \n",
       "7      27             0               0           0                  1   \n",
       "...   ...           ...             ...         ...                ...   \n",
       "6165   30             0               1           0                  0   \n",
       "6166   20             0               0           1                  1   \n",
       "6167   23             0               0           1                  1   \n",
       "6168   23             0               0           0                  1   \n",
       "6170   33             3               0           0                  0   \n",
       "\n",
       "      c_charge_degree_M  age_cat_25 - 45  age_cat_Greater than 45  \\\n",
       "1                     0                1                        0   \n",
       "2                     0                0                        0   \n",
       "4                     0                1                        0   \n",
       "6                     1                1                        0   \n",
       "7                     0                1                        0   \n",
       "...                 ...              ...                      ...   \n",
       "6165                  1                1                        0   \n",
       "6166                  0                0                        0   \n",
       "6167                  0                0                        0   \n",
       "6168                  0                0                        0   \n",
       "6170                  1                1                        0   \n",
       "\n",
       "      age_cat_Less than 25  \n",
       "1                        0  \n",
       "2                        1  \n",
       "4                        0  \n",
       "6                        0  \n",
       "7                        0  \n",
       "...                    ...  \n",
       "6165                     0  \n",
       "6166                     1  \n",
       "6167                     1  \n",
       "6168                     1  \n",
       "6170                     0  \n",
       "\n",
       "[5278 rows x 9 columns]"
      ]
     },
     "execution_count": 27,
     "metadata": {},
     "output_type": "execute_result"
    }
   ],
   "source": [
    "new_df = new_compas.drop(columns=['race', 'sex', 'decile_score'])\n",
    "new_df = pd.get_dummies(new_df)\n",
    "new_df"
   ]
  },
  {
   "cell_type": "code",
   "execution_count": 28,
   "id": "ddcb03b1-ce46-4f33-9eaa-375ef110ceae",
   "metadata": {},
   "outputs": [],
   "source": [
    "X = new_df.drop(columns='two_year_recid')\n",
    "# Best model to save it\n",
    "Xbest = X\n",
    "y = new_df['two_year_recid'] "
   ]
  },
  {
   "cell_type": "code",
   "execution_count": 29,
   "id": "c3529a5c-50ba-4818-98ab-e226f2fd8278",
   "metadata": {},
   "outputs": [],
   "source": [
    "m_best = LogisticRegression(max_iter=5000)\n",
    "_ = m_best.fit(X,y)"
   ]
  },
  {
   "cell_type": "code",
   "execution_count": 30,
   "id": "a4827cd1-f5d9-40e2-8749-dd10babd4cb4",
   "metadata": {},
   "outputs": [
    {
     "data": {
      "text/plain": [
       "0.6414062288345379"
      ]
     },
     "execution_count": 30,
     "metadata": {},
     "output_type": "execute_result"
    }
   ],
   "source": [
    "cv = cross_val_score(m_best, X, y, cv=10, scoring=\"f1\").mean()\n",
    "cv"
   ]
  },
  {
   "cell_type": "markdown",
   "id": "496922d8-df32-4ae9-b479-730723f74146",
   "metadata": {},
   "source": [
    "#### 4. Experiment with different models to find the best model according to your performance indicator. Try trees and k-NN, you may also include other types of models. Include/exclude different variables. You may also do feature engineering, e.g. create a different set of age groups, include variables like age2, age3, interaction effects, etc. But do not include race and gender.Report what did you try (no need to report the full results of all of your unsuccessful attempts), and your best model’s performance. Did you got better results or worse results than COMPAS?"
   ]
  },
  {
   "cell_type": "code",
   "execution_count": 31,
   "id": "6b1f9719-a8c2-48d4-b04d-575666319e28",
   "metadata": {},
   "outputs": [
    {
     "name": "stdout",
     "output_type": "stream",
     "text": [
      "K= 1 and F score(10 fold cv) 0.5662547032588329\n",
      "K= 5 and F score(10 fold cv) 0.595021716471606\n",
      "K= 9 and F score(10 fold cv) 0.6126383225082133\n",
      "K= 13 and F score(10 fold cv) 0.6255880944898505\n",
      "K= 17 and F score(10 fold cv) 0.6249634502676934\n",
      "K= 21 and F score(10 fold cv) 0.6261101316216522\n",
      "K= 25 and F score(10 fold cv) 0.6347230588177404\n",
      "K= 29 and F score(10 fold cv) 0.6376736377345582\n",
      "K= 33 and F score(10 fold cv) 0.6328562599223322\n",
      "K= 37 and F score(10 fold cv) 0.6329048965149129\n",
      "K= 41 and F score(10 fold cv) 0.6363734081136888\n",
      "K= 45 and F score(10 fold cv) 0.6366159119253659\n",
      "K= 49 and F score(10 fold cv) 0.6370140303640658\n",
      "K= 53 and F score(10 fold cv) 0.6341151428384012\n",
      "K= 57 and F score(10 fold cv) 0.6345006442054597\n",
      "K= 61 and F score(10 fold cv) 0.6332443767480986\n",
      "K= 65 and F score(10 fold cv) 0.6331095883942304\n",
      "K= 69 and F score(10 fold cv) 0.6369255483620962\n",
      "K= 73 and F score(10 fold cv) 0.6306892166460489\n",
      "K= 77 and F score(10 fold cv) 0.6323030062134353\n",
      "K= 81 and F score(10 fold cv) 0.6296598857831027\n",
      "K= 85 and F score(10 fold cv) 0.6311187872564172\n",
      "K= 89 and F score(10 fold cv) 0.6300770814664682\n",
      "K= 93 and F score(10 fold cv) 0.6328645554052287\n",
      "K= 97 and F score(10 fold cv) 0.6317525460687279\n"
     ]
    }
   ],
   "source": [
    "ks = range(1, 100, 4)\n",
    "for k in ks:\n",
    "    m = KNeighborsClassifier(k)\n",
    "    cv = cross_val_score(m, X, y, cv=10, scoring=\"f1\").mean()\n",
    "    print(\"K=\", k, \"and F score(10 fold cv)\", cv)"
   ]
  },
  {
   "cell_type": "code",
   "execution_count": 32,
   "id": "fd51e5fc-2ed8-42da-9e99-fcdb1d6b0a71",
   "metadata": {},
   "outputs": [
    {
     "name": "stdout",
     "output_type": "stream",
     "text": [
      "Layer = 1 and F score(10 fold cv) 0.6398977065560275\n",
      "Layer = 5 and F score(10 fold cv) 0.63138920554349\n",
      "Layer = 9 and F score(10 fold cv) 0.614816262385073\n",
      "Layer = 13 and F score(10 fold cv) 0.593428740856074\n",
      "Layer = 17 and F score(10 fold cv) 0.5807679194167163\n",
      "Layer = 21 and F score(10 fold cv) 0.5794976063642338\n",
      "Layer = 25 and F score(10 fold cv) 0.5797625301931094\n",
      "Layer = 29 and F score(10 fold cv) 0.5809157523344426\n",
      "Layer = 33 and F score(10 fold cv) 0.580129653186626\n",
      "Layer = 37 and F score(10 fold cv) 0.5811809996026168\n",
      "Layer = 41 and F score(10 fold cv) 0.5810310154660768\n",
      "Layer = 45 and F score(10 fold cv) 0.581368633920249\n",
      "Layer = 49 and F score(10 fold cv) 0.5802476159062684\n",
      "Layer = 53 and F score(10 fold cv) 0.5812519510568308\n",
      "Layer = 57 and F score(10 fold cv) 0.5810071099955472\n",
      "Layer = 61 and F score(10 fold cv) 0.5819611388135171\n",
      "Layer = 65 and F score(10 fold cv) 0.5807050748592404\n",
      "Layer = 69 and F score(10 fold cv) 0.5806476857603524\n",
      "Layer = 73 and F score(10 fold cv) 0.5801750003733932\n",
      "Layer = 77 and F score(10 fold cv) 0.5808397111869149\n",
      "Layer = 81 and F score(10 fold cv) 0.5818768575311288\n",
      "Layer = 85 and F score(10 fold cv) 0.5809122757209054\n",
      "Layer = 89 and F score(10 fold cv) 0.5799537238240808\n",
      "Layer = 93 and F score(10 fold cv) 0.5798304797174996\n",
      "Layer = 97 and F score(10 fold cv) 0.5809201998608903\n"
     ]
    }
   ],
   "source": [
    "layers = range(1, 100, 4)\n",
    "for layer in layers:\n",
    "    m = DecisionTreeClassifier(max_depth=layer)\n",
    "    cv = cross_val_score(m, X, y, cv=10, scoring=\"f1\").mean()\n",
    "    print(\"Layer =\", layer, \"and F score(10 fold cv)\", cv)"
   ]
  },
  {
   "cell_type": "code",
   "execution_count": 33,
   "id": "4d9b747b-a702-4164-bc14-b3ab8d975485",
   "metadata": {},
   "outputs": [],
   "source": [
    "new_df['age2'] = pd.cut(new_df['age'],bins=[0,20,40,60,80], \n",
    "                                 labels=[\"0-20\",\"20-40\",\"40-60\",\"60-80\"])"
   ]
  },
  {
   "cell_type": "code",
   "execution_count": 34,
   "id": "33b246ab-b519-4ac8-a1c7-b63c77f43bd9",
   "metadata": {},
   "outputs": [
    {
     "data": {
      "text/html": [
       "<div>\n",
       "<style scoped>\n",
       "    .dataframe tbody tr th:only-of-type {\n",
       "        vertical-align: middle;\n",
       "    }\n",
       "\n",
       "    .dataframe tbody tr th {\n",
       "        vertical-align: top;\n",
       "    }\n",
       "\n",
       "    .dataframe thead th {\n",
       "        text-align: right;\n",
       "    }\n",
       "</style>\n",
       "<table border=\"1\" class=\"dataframe\">\n",
       "  <thead>\n",
       "    <tr style=\"text-align: right;\">\n",
       "      <th></th>\n",
       "      <th>age</th>\n",
       "      <th>priors_count</th>\n",
       "      <th>two_year_recid</th>\n",
       "      <th>high_score</th>\n",
       "      <th>c_charge_degree_F</th>\n",
       "      <th>c_charge_degree_M</th>\n",
       "      <th>age_cat_25 - 45</th>\n",
       "      <th>age_cat_Greater than 45</th>\n",
       "      <th>age_cat_Less than 25</th>\n",
       "      <th>age2_0-20</th>\n",
       "      <th>age2_20-40</th>\n",
       "      <th>age2_40-60</th>\n",
       "      <th>age2_60-80</th>\n",
       "    </tr>\n",
       "  </thead>\n",
       "  <tbody>\n",
       "    <tr>\n",
       "      <th>1</th>\n",
       "      <td>34</td>\n",
       "      <td>0</td>\n",
       "      <td>1</td>\n",
       "      <td>0</td>\n",
       "      <td>1</td>\n",
       "      <td>0</td>\n",
       "      <td>1</td>\n",
       "      <td>0</td>\n",
       "      <td>0</td>\n",
       "      <td>0</td>\n",
       "      <td>1</td>\n",
       "      <td>0</td>\n",
       "      <td>0</td>\n",
       "    </tr>\n",
       "    <tr>\n",
       "      <th>2</th>\n",
       "      <td>24</td>\n",
       "      <td>4</td>\n",
       "      <td>1</td>\n",
       "      <td>0</td>\n",
       "      <td>1</td>\n",
       "      <td>0</td>\n",
       "      <td>0</td>\n",
       "      <td>0</td>\n",
       "      <td>1</td>\n",
       "      <td>0</td>\n",
       "      <td>1</td>\n",
       "      <td>0</td>\n",
       "      <td>0</td>\n",
       "    </tr>\n",
       "    <tr>\n",
       "      <th>4</th>\n",
       "      <td>41</td>\n",
       "      <td>14</td>\n",
       "      <td>1</td>\n",
       "      <td>1</td>\n",
       "      <td>1</td>\n",
       "      <td>0</td>\n",
       "      <td>1</td>\n",
       "      <td>0</td>\n",
       "      <td>0</td>\n",
       "      <td>0</td>\n",
       "      <td>0</td>\n",
       "      <td>1</td>\n",
       "      <td>0</td>\n",
       "    </tr>\n",
       "    <tr>\n",
       "      <th>6</th>\n",
       "      <td>39</td>\n",
       "      <td>0</td>\n",
       "      <td>0</td>\n",
       "      <td>0</td>\n",
       "      <td>0</td>\n",
       "      <td>1</td>\n",
       "      <td>1</td>\n",
       "      <td>0</td>\n",
       "      <td>0</td>\n",
       "      <td>0</td>\n",
       "      <td>1</td>\n",
       "      <td>0</td>\n",
       "      <td>0</td>\n",
       "    </tr>\n",
       "    <tr>\n",
       "      <th>7</th>\n",
       "      <td>27</td>\n",
       "      <td>0</td>\n",
       "      <td>0</td>\n",
       "      <td>0</td>\n",
       "      <td>1</td>\n",
       "      <td>0</td>\n",
       "      <td>1</td>\n",
       "      <td>0</td>\n",
       "      <td>0</td>\n",
       "      <td>0</td>\n",
       "      <td>1</td>\n",
       "      <td>0</td>\n",
       "      <td>0</td>\n",
       "    </tr>\n",
       "    <tr>\n",
       "      <th>...</th>\n",
       "      <td>...</td>\n",
       "      <td>...</td>\n",
       "      <td>...</td>\n",
       "      <td>...</td>\n",
       "      <td>...</td>\n",
       "      <td>...</td>\n",
       "      <td>...</td>\n",
       "      <td>...</td>\n",
       "      <td>...</td>\n",
       "      <td>...</td>\n",
       "      <td>...</td>\n",
       "      <td>...</td>\n",
       "      <td>...</td>\n",
       "    </tr>\n",
       "    <tr>\n",
       "      <th>6165</th>\n",
       "      <td>30</td>\n",
       "      <td>0</td>\n",
       "      <td>1</td>\n",
       "      <td>0</td>\n",
       "      <td>0</td>\n",
       "      <td>1</td>\n",
       "      <td>1</td>\n",
       "      <td>0</td>\n",
       "      <td>0</td>\n",
       "      <td>0</td>\n",
       "      <td>1</td>\n",
       "      <td>0</td>\n",
       "      <td>0</td>\n",
       "    </tr>\n",
       "    <tr>\n",
       "      <th>6166</th>\n",
       "      <td>20</td>\n",
       "      <td>0</td>\n",
       "      <td>0</td>\n",
       "      <td>1</td>\n",
       "      <td>1</td>\n",
       "      <td>0</td>\n",
       "      <td>0</td>\n",
       "      <td>0</td>\n",
       "      <td>1</td>\n",
       "      <td>1</td>\n",
       "      <td>0</td>\n",
       "      <td>0</td>\n",
       "      <td>0</td>\n",
       "    </tr>\n",
       "    <tr>\n",
       "      <th>6167</th>\n",
       "      <td>23</td>\n",
       "      <td>0</td>\n",
       "      <td>0</td>\n",
       "      <td>1</td>\n",
       "      <td>1</td>\n",
       "      <td>0</td>\n",
       "      <td>0</td>\n",
       "      <td>0</td>\n",
       "      <td>1</td>\n",
       "      <td>0</td>\n",
       "      <td>1</td>\n",
       "      <td>0</td>\n",
       "      <td>0</td>\n",
       "    </tr>\n",
       "    <tr>\n",
       "      <th>6168</th>\n",
       "      <td>23</td>\n",
       "      <td>0</td>\n",
       "      <td>0</td>\n",
       "      <td>0</td>\n",
       "      <td>1</td>\n",
       "      <td>0</td>\n",
       "      <td>0</td>\n",
       "      <td>0</td>\n",
       "      <td>1</td>\n",
       "      <td>0</td>\n",
       "      <td>1</td>\n",
       "      <td>0</td>\n",
       "      <td>0</td>\n",
       "    </tr>\n",
       "    <tr>\n",
       "      <th>6170</th>\n",
       "      <td>33</td>\n",
       "      <td>3</td>\n",
       "      <td>0</td>\n",
       "      <td>0</td>\n",
       "      <td>0</td>\n",
       "      <td>1</td>\n",
       "      <td>1</td>\n",
       "      <td>0</td>\n",
       "      <td>0</td>\n",
       "      <td>0</td>\n",
       "      <td>1</td>\n",
       "      <td>0</td>\n",
       "      <td>0</td>\n",
       "    </tr>\n",
       "  </tbody>\n",
       "</table>\n",
       "<p>5278 rows × 13 columns</p>\n",
       "</div>"
      ],
      "text/plain": [
       "      age  priors_count  two_year_recid  high_score  c_charge_degree_F  \\\n",
       "1      34             0               1           0                  1   \n",
       "2      24             4               1           0                  1   \n",
       "4      41            14               1           1                  1   \n",
       "6      39             0               0           0                  0   \n",
       "7      27             0               0           0                  1   \n",
       "...   ...           ...             ...         ...                ...   \n",
       "6165   30             0               1           0                  0   \n",
       "6166   20             0               0           1                  1   \n",
       "6167   23             0               0           1                  1   \n",
       "6168   23             0               0           0                  1   \n",
       "6170   33             3               0           0                  0   \n",
       "\n",
       "      c_charge_degree_M  age_cat_25 - 45  age_cat_Greater than 45  \\\n",
       "1                     0                1                        0   \n",
       "2                     0                0                        0   \n",
       "4                     0                1                        0   \n",
       "6                     1                1                        0   \n",
       "7                     0                1                        0   \n",
       "...                 ...              ...                      ...   \n",
       "6165                  1                1                        0   \n",
       "6166                  0                0                        0   \n",
       "6167                  0                0                        0   \n",
       "6168                  0                0                        0   \n",
       "6170                  1                1                        0   \n",
       "\n",
       "      age_cat_Less than 25  age2_0-20  age2_20-40  age2_40-60  age2_60-80  \n",
       "1                        0          0           1           0           0  \n",
       "2                        1          0           1           0           0  \n",
       "4                        0          0           0           1           0  \n",
       "6                        0          0           1           0           0  \n",
       "7                        0          0           1           0           0  \n",
       "...                    ...        ...         ...         ...         ...  \n",
       "6165                     0          0           1           0           0  \n",
       "6166                     1          1           0           0           0  \n",
       "6167                     1          0           1           0           0  \n",
       "6168                     1          0           1           0           0  \n",
       "6170                     0          0           1           0           0  \n",
       "\n",
       "[5278 rows x 13 columns]"
      ]
     },
     "execution_count": 34,
     "metadata": {},
     "output_type": "execute_result"
    }
   ],
   "source": [
    "new_df = pd.get_dummies(new_df)\n",
    "new_df"
   ]
  },
  {
   "cell_type": "code",
   "execution_count": 35,
   "id": "9f9b719a-a912-4593-adfa-89591c1bf01a",
   "metadata": {},
   "outputs": [],
   "source": [
    "X = new_df.drop(columns='two_year_recid')\n",
    "y = new_df['two_year_recid']"
   ]
  },
  {
   "cell_type": "code",
   "execution_count": 36,
   "id": "2d00e744-5799-4805-bdc6-d595bb4442c0",
   "metadata": {},
   "outputs": [
    {
     "name": "stdout",
     "output_type": "stream",
     "text": [
      "K= 1 and F score(10 fold cv) 0.566700448868809\n",
      "K= 5 and F score(10 fold cv) 0.5937619745900877\n",
      "K= 9 and F score(10 fold cv) 0.6128427190081109\n",
      "K= 13 and F score(10 fold cv) 0.6261518583489329\n",
      "K= 17 and F score(10 fold cv) 0.6239904771457854\n",
      "K= 21 and F score(10 fold cv) 0.6264829273593937\n",
      "K= 25 and F score(10 fold cv) 0.6335216049541755\n",
      "K= 29 and F score(10 fold cv) 0.6365741032402531\n",
      "K= 33 and F score(10 fold cv) 0.632765256222257\n",
      "K= 37 and F score(10 fold cv) 0.6317203147744092\n",
      "K= 41 and F score(10 fold cv) 0.6349913472653548\n",
      "K= 45 and F score(10 fold cv) 0.636740235947862\n",
      "K= 49 and F score(10 fold cv) 0.636260436938554\n",
      "K= 53 and F score(10 fold cv) 0.6330374402303988\n",
      "K= 57 and F score(10 fold cv) 0.6344815077723621\n",
      "K= 61 and F score(10 fold cv) 0.6317320712478389\n",
      "K= 65 and F score(10 fold cv) 0.6316803512587806\n",
      "K= 69 and F score(10 fold cv) 0.6342862104187091\n",
      "K= 73 and F score(10 fold cv) 0.6314376116008296\n",
      "K= 77 and F score(10 fold cv) 0.6304667714583602\n",
      "K= 81 and F score(10 fold cv) 0.628048780686284\n",
      "K= 85 and F score(10 fold cv) 0.6312857093479068\n",
      "K= 89 and F score(10 fold cv) 0.6293872141457968\n",
      "K= 93 and F score(10 fold cv) 0.6305747858507671\n",
      "K= 97 and F score(10 fold cv) 0.6308059958739577\n"
     ]
    }
   ],
   "source": [
    "ks = range(1, 100, 4)\n",
    "for k in ks:\n",
    "    m = KNeighborsClassifier(k)\n",
    "    cv = cross_val_score(m, X, y, cv=10, scoring=\"f1\").mean()\n",
    "    print(\"K=\", k, \"and F score(10 fold cv)\", cv)"
   ]
  },
  {
   "cell_type": "code",
   "execution_count": 37,
   "id": "245e3101-989e-4836-aa89-88d793f18892",
   "metadata": {},
   "outputs": [
    {
     "name": "stdout",
     "output_type": "stream",
     "text": [
      "Layer = 1 and F score(10 fold cv) 0.6398977065560275\n",
      "Layer = 5 and F score(10 fold cv) 0.63138920554349\n",
      "Layer = 9 and F score(10 fold cv) 0.614217808635628\n",
      "Layer = 13 and F score(10 fold cv) 0.5923697599017614\n",
      "Layer = 17 and F score(10 fold cv) 0.5795221889864605\n",
      "Layer = 21 and F score(10 fold cv) 0.5805778193337429\n",
      "Layer = 25 and F score(10 fold cv) 0.5810845232183992\n",
      "Layer = 29 and F score(10 fold cv) 0.5829374849259948\n",
      "Layer = 33 and F score(10 fold cv) 0.5814870251450841\n",
      "Layer = 37 and F score(10 fold cv) 0.5804138870164666\n",
      "Layer = 41 and F score(10 fold cv) 0.5808736880617889\n",
      "Layer = 45 and F score(10 fold cv) 0.5833761318706888\n",
      "Layer = 49 and F score(10 fold cv) 0.5792397006433938\n",
      "Layer = 53 and F score(10 fold cv) 0.581512064470935\n",
      "Layer = 57 and F score(10 fold cv) 0.5807945151201441\n",
      "Layer = 61 and F score(10 fold cv) 0.5809470292967145\n",
      "Layer = 65 and F score(10 fold cv) 0.5817312212266443\n",
      "Layer = 69 and F score(10 fold cv) 0.5818874982503021\n",
      "Layer = 73 and F score(10 fold cv) 0.5818597926652844\n",
      "Layer = 77 and F score(10 fold cv) 0.5828329079848473\n",
      "Layer = 81 and F score(10 fold cv) 0.5810440273149599\n",
      "Layer = 85 and F score(10 fold cv) 0.5810719561471815\n",
      "Layer = 89 and F score(10 fold cv) 0.57905783461521\n",
      "Layer = 93 and F score(10 fold cv) 0.5816986438824693\n",
      "Layer = 97 and F score(10 fold cv) 0.5813298621366162\n"
     ]
    }
   ],
   "source": [
    "layers = range(1, 100, 4)\n",
    "for layer in layers:\n",
    "    m = DecisionTreeClassifier(max_depth=layer)\n",
    "    cv = cross_val_score(m, X, y, cv=10, scoring=\"f1\").mean()\n",
    "    print(\"Layer =\", layer, \"and F score(10 fold cv)\", cv)"
   ]
  },
  {
   "cell_type": "markdown",
   "id": "cd6207ac-88c5-468a-a901-938c1363a2f9",
   "metadata": {},
   "source": [
    "I tried the decision tree model and KNN model for this question. I also do feature engineering, e.g. create a different set of age\n",
    "groups, include variables like $\\mathit{age}^2$. \n",
    "\n",
    "When I didn't include the \"$\\mathit{age}^2$\" in the model, the best model performance I got is:    \n",
    "KNN model: K= 29 and F score(10 fold cv) is 0.6376736377345582     \n",
    "Decision tree model: Layer = 1 and F score(10 fold cv) is 0.6398977065560275    \n",
    "\n",
    "When I include the \"$\\mathit{age}^2$\" in the model, the best model performance I got is:      \n",
    "KNN model: K= 45 and F score(10 fold cv) is 0.636740235947862  \n",
    "Decision tree model: Layer = 1 and F score(10 fold cv) is 0.6398977065560275    \n",
    " \n",
    "So the best F score(10 fold cv) I got is 0.6414062288345379 of the logistic regression model, and the F score of the COMPAS model is 0.6398(see above 1.1.6).\n",
    "\n",
    "Compared with the F sore I got in the COMPAS model, my model is 0.0016 higher than that of in the COMPAS model, so my model is better than the COMPAS model."
   ]
  },
  {
   "cell_type": "markdown",
   "id": "df618ae6-d4af-48d1-b4c9-05d3ed22c05b",
   "metadata": {},
   "source": [
    "### 2.2 Is your model more fair?"
   ]
  },
  {
   "cell_type": "markdown",
   "id": "d7ed8ca0-64ae-4f7d-8357-1f938b6fc7ce",
   "metadata": {},
   "source": [
    "#### Finally, is your best model any better than COMPAS in terms of fairness? Let’s use your model to predict recidivism for everyone and see if your FPR and FNR for African-Americans and Caucasians are now similar. Let’s ignore the testing-training split below and just do all predictions and training on all data."
   ]
  },
  {
   "cell_type": "markdown",
   "id": "118d7614-824b-4638-8d6b-8bdf795f0865",
   "metadata": {},
   "source": [
    "#### 1.Now use your best model to predict the two-year recidivism risk, and compute the percentage of the predicted low-risk and high-risk individuals who recidivate, by race (replicate 1.2-1). Is your model more or less fair than COMPAS?"
   ]
  },
  {
   "cell_type": "code",
   "execution_count": 38,
   "id": "5cfe4d05-f7c2-44ec-8254-e2f0209397f3",
   "metadata": {},
   "outputs": [],
   "source": [
    "m = LogisticRegression(max_iter=5000)\n",
    "_ = m.fit(Xbest,y)\n",
    "predicted_recid = m.predict(Xbest)\n",
    "new_compas[\"predicted_recid\"]= predicted_recid"
   ]
  },
  {
   "cell_type": "code",
   "execution_count": 39,
   "id": "4a61a314-d819-4426-a73d-aa79fd5bac60",
   "metadata": {},
   "outputs": [
    {
     "name": "stdout",
     "output_type": "stream",
     "text": [
      "race              predicted_recid\n",
      "African-American  0                  0.338677\n",
      "                  1                  0.687723\n",
      "Caucasian         0                  0.299016\n",
      "                  1                  0.633218\n",
      "Name: two_year_recid, dtype: float64\n"
     ]
    }
   ],
   "source": [
    "recidivism_rates = new_compas.groupby(['race', 'predicted_recid'])['two_year_recid'].mean()\n",
    "print(recidivism_rates)"
   ]
  },
  {
   "cell_type": "markdown",
   "id": "780bfdd4-e6e7-4c09-942a-b535dcfeae93",
   "metadata": {},
   "source": [
    "**From the COMPAS model:**\n",
    "\n",
    "For African-Americans with a high_score of 0 (low risk), the recidivism rate is 35.14%.  \n",
    "For African-Americans with a high_score of 1 (high risk), the recidivism rate is 64.95%.  \n",
    "For Caucasians with a high_score of 0 (low risk), the recidivism rate is 28.99%.  \n",
    "For Caucasians with a high_score of 1 (high risk), the recidivism rate is 59.48%.  \n",
    "\n",
    "**From my model:**\n",
    "\n",
    "For African-Americans with a high_score of 0 (low risk), the recidivism rate is 33.87%.  \n",
    "For African-Americans with a high_score of 1 (high risk), the recidivism rate is 68.77%.  \n",
    "For Caucasians with a high_score of 0 (low risk), the recidivism rate is 29.9%.  \n",
    "For Caucasians with a high_score of 1 (high risk), the recidivism rate is 63.32%.  \n",
    "\n",
    "**Group Fairness:** Group fairness looks at the equality of outcomes across different demographic groups. In this case, group fairness would mean that the recidivism rates for low-risk and high-risk scores should be similar for both African-Americans and Caucasians in each model. In the COMPAS model, the recidivism rate for low-risk African-Americans is 35.14%, and for low-risk Caucasians, it's 28.99%. The difference is 6.15 percentage points. For high-risk scores, the recidivism rate is 64.95% for African-Americans and 59.48% for Caucasians, a difference of 5.47 percentage points. In my model, the recidivism rate for low-risk African-Americans is 33.87%, and for low-risk Caucasians, it's 29.9%, a difference of 3.97 percentage points. For high-risk scores, the recidivism rate is 68.77% for African-Americans and 63.32% for Caucasians, a difference of 5.45 percentage points. From the perspective of group fairness, my model shows a smaller disparity in recidivism rates for low-risk scores between the two races compared to the COMPAS model, which could indicate that my model is more fair in this aspect. The disparity for high-risk scores is nearly the same in both models.\n",
    "\n",
    "**Individual Fairness:** Individual fairness suggests that similar individuals should receive similar outcomes. This would mean that two individuals with similar criminal histories and other relevant characteristics should receive similar risk scores, regardless of their race. Since individual fairness focuses on the treatment of similar individuals, it's harder to evaluate from the provided aggregate data. However, based on the data we do have, both models are consistent in that individuals labeled as high-risk have a higher rate of recidivism than those labeled as low-risk. The larger gap in recidivism rates between low-risk and high-risk individuals in my model could suggest that it is more effective at identifying individuals who are truly at a higher risk of recidivism. However, this would need to be confirmed with more detailed, individual-level data.\n",
    "\n",
    "In summary, my model appears to show slightly better group fairness for low-risk scores, while both models are similar in terms of high-risk scores. Individual fairness is harder to evaluate, but both models show consistent patterns. "
   ]
  },
  {
   "cell_type": "markdown",
   "id": "5728bcb3-7434-4039-ba65-45ea4ea77009",
   "metadata": {},
   "source": [
    "#### 2.Compute FPR and FNR by race (replicate 1.2-3 the FNR/FPR question). Is your model more or less fair than COMPAS?"
   ]
  },
  {
   "cell_type": "code",
   "execution_count": 40,
   "id": "dc406010-4a1d-4064-a52f-94f90786000e",
   "metadata": {},
   "outputs": [
    {
     "data": {
      "text/html": [
       "<div>\n",
       "<style scoped>\n",
       "    .dataframe tbody tr th:only-of-type {\n",
       "        vertical-align: middle;\n",
       "    }\n",
       "\n",
       "    .dataframe tbody tr th {\n",
       "        vertical-align: top;\n",
       "    }\n",
       "\n",
       "    .dataframe thead th {\n",
       "        text-align: right;\n",
       "    }\n",
       "</style>\n",
       "<table border=\"1\" class=\"dataframe\">\n",
       "  <thead>\n",
       "    <tr style=\"text-align: right;\">\n",
       "      <th></th>\n",
       "      <th>age</th>\n",
       "      <th>c_charge_degree</th>\n",
       "      <th>race</th>\n",
       "      <th>age_cat</th>\n",
       "      <th>sex</th>\n",
       "      <th>priors_count</th>\n",
       "      <th>decile_score</th>\n",
       "      <th>two_year_recid</th>\n",
       "      <th>high_score</th>\n",
       "      <th>predicted_recid</th>\n",
       "    </tr>\n",
       "  </thead>\n",
       "  <tbody>\n",
       "    <tr>\n",
       "      <th>1</th>\n",
       "      <td>34</td>\n",
       "      <td>F</td>\n",
       "      <td>African-American</td>\n",
       "      <td>25 - 45</td>\n",
       "      <td>Male</td>\n",
       "      <td>0</td>\n",
       "      <td>3</td>\n",
       "      <td>1</td>\n",
       "      <td>0</td>\n",
       "      <td>0</td>\n",
       "    </tr>\n",
       "    <tr>\n",
       "      <th>2</th>\n",
       "      <td>24</td>\n",
       "      <td>F</td>\n",
       "      <td>African-American</td>\n",
       "      <td>Less than 25</td>\n",
       "      <td>Male</td>\n",
       "      <td>4</td>\n",
       "      <td>4</td>\n",
       "      <td>1</td>\n",
       "      <td>0</td>\n",
       "      <td>1</td>\n",
       "    </tr>\n",
       "    <tr>\n",
       "      <th>8</th>\n",
       "      <td>23</td>\n",
       "      <td>M</td>\n",
       "      <td>African-American</td>\n",
       "      <td>Less than 25</td>\n",
       "      <td>Male</td>\n",
       "      <td>3</td>\n",
       "      <td>6</td>\n",
       "      <td>1</td>\n",
       "      <td>1</td>\n",
       "      <td>1</td>\n",
       "    </tr>\n",
       "    <tr>\n",
       "      <th>10</th>\n",
       "      <td>41</td>\n",
       "      <td>F</td>\n",
       "      <td>African-American</td>\n",
       "      <td>25 - 45</td>\n",
       "      <td>Male</td>\n",
       "      <td>0</td>\n",
       "      <td>4</td>\n",
       "      <td>0</td>\n",
       "      <td>0</td>\n",
       "      <td>0</td>\n",
       "    </tr>\n",
       "    <tr>\n",
       "      <th>12</th>\n",
       "      <td>31</td>\n",
       "      <td>F</td>\n",
       "      <td>African-American</td>\n",
       "      <td>25 - 45</td>\n",
       "      <td>Male</td>\n",
       "      <td>7</td>\n",
       "      <td>3</td>\n",
       "      <td>1</td>\n",
       "      <td>0</td>\n",
       "      <td>1</td>\n",
       "    </tr>\n",
       "    <tr>\n",
       "      <th>...</th>\n",
       "      <td>...</td>\n",
       "      <td>...</td>\n",
       "      <td>...</td>\n",
       "      <td>...</td>\n",
       "      <td>...</td>\n",
       "      <td>...</td>\n",
       "      <td>...</td>\n",
       "      <td>...</td>\n",
       "      <td>...</td>\n",
       "      <td>...</td>\n",
       "    </tr>\n",
       "    <tr>\n",
       "      <th>6165</th>\n",
       "      <td>30</td>\n",
       "      <td>M</td>\n",
       "      <td>African-American</td>\n",
       "      <td>25 - 45</td>\n",
       "      <td>Male</td>\n",
       "      <td>0</td>\n",
       "      <td>2</td>\n",
       "      <td>1</td>\n",
       "      <td>0</td>\n",
       "      <td>0</td>\n",
       "    </tr>\n",
       "    <tr>\n",
       "      <th>6166</th>\n",
       "      <td>20</td>\n",
       "      <td>F</td>\n",
       "      <td>African-American</td>\n",
       "      <td>Less than 25</td>\n",
       "      <td>Male</td>\n",
       "      <td>0</td>\n",
       "      <td>9</td>\n",
       "      <td>0</td>\n",
       "      <td>1</td>\n",
       "      <td>1</td>\n",
       "    </tr>\n",
       "    <tr>\n",
       "      <th>6167</th>\n",
       "      <td>23</td>\n",
       "      <td>F</td>\n",
       "      <td>African-American</td>\n",
       "      <td>Less than 25</td>\n",
       "      <td>Male</td>\n",
       "      <td>0</td>\n",
       "      <td>7</td>\n",
       "      <td>0</td>\n",
       "      <td>1</td>\n",
       "      <td>1</td>\n",
       "    </tr>\n",
       "    <tr>\n",
       "      <th>6168</th>\n",
       "      <td>23</td>\n",
       "      <td>F</td>\n",
       "      <td>African-American</td>\n",
       "      <td>Less than 25</td>\n",
       "      <td>Male</td>\n",
       "      <td>0</td>\n",
       "      <td>3</td>\n",
       "      <td>0</td>\n",
       "      <td>0</td>\n",
       "      <td>0</td>\n",
       "    </tr>\n",
       "    <tr>\n",
       "      <th>6170</th>\n",
       "      <td>33</td>\n",
       "      <td>M</td>\n",
       "      <td>African-American</td>\n",
       "      <td>25 - 45</td>\n",
       "      <td>Female</td>\n",
       "      <td>3</td>\n",
       "      <td>2</td>\n",
       "      <td>0</td>\n",
       "      <td>0</td>\n",
       "      <td>0</td>\n",
       "    </tr>\n",
       "  </tbody>\n",
       "</table>\n",
       "<p>3175 rows × 10 columns</p>\n",
       "</div>"
      ],
      "text/plain": [
       "      age c_charge_degree              race       age_cat     sex  \\\n",
       "1      34               F  African-American       25 - 45    Male   \n",
       "2      24               F  African-American  Less than 25    Male   \n",
       "8      23               M  African-American  Less than 25    Male   \n",
       "10     41               F  African-American       25 - 45    Male   \n",
       "12     31               F  African-American       25 - 45    Male   \n",
       "...   ...             ...               ...           ...     ...   \n",
       "6165   30               M  African-American       25 - 45    Male   \n",
       "6166   20               F  African-American  Less than 25    Male   \n",
       "6167   23               F  African-American  Less than 25    Male   \n",
       "6168   23               F  African-American  Less than 25    Male   \n",
       "6170   33               M  African-American       25 - 45  Female   \n",
       "\n",
       "      priors_count  decile_score  two_year_recid  high_score  predicted_recid  \n",
       "1                0             3               1           0                0  \n",
       "2                4             4               1           0                1  \n",
       "8                3             6               1           1                1  \n",
       "10               0             4               0           0                0  \n",
       "12               7             3               1           0                1  \n",
       "...            ...           ...             ...         ...              ...  \n",
       "6165             0             2               1           0                0  \n",
       "6166             0             9               0           1                1  \n",
       "6167             0             7               0           1                1  \n",
       "6168             0             3               0           0                0  \n",
       "6170             3             2               0           0                0  \n",
       "\n",
       "[3175 rows x 10 columns]"
      ]
     },
     "execution_count": 40,
     "metadata": {},
     "output_type": "execute_result"
    }
   ],
   "source": [
    "aa = new_compas[new_compas['race'] == 'African-American']\n",
    "aa"
   ]
  },
  {
   "cell_type": "code",
   "execution_count": 41,
   "id": "96c63807-c801-4965-a267-358c2f446ce7",
   "metadata": {},
   "outputs": [
    {
     "data": {
      "text/html": [
       "<div>\n",
       "<style scoped>\n",
       "    .dataframe tbody tr th:only-of-type {\n",
       "        vertical-align: middle;\n",
       "    }\n",
       "\n",
       "    .dataframe tbody tr th {\n",
       "        vertical-align: top;\n",
       "    }\n",
       "\n",
       "    .dataframe thead th {\n",
       "        text-align: right;\n",
       "    }\n",
       "</style>\n",
       "<table border=\"1\" class=\"dataframe\">\n",
       "  <thead>\n",
       "    <tr style=\"text-align: right;\">\n",
       "      <th></th>\n",
       "      <th>age</th>\n",
       "      <th>c_charge_degree</th>\n",
       "      <th>race</th>\n",
       "      <th>age_cat</th>\n",
       "      <th>sex</th>\n",
       "      <th>priors_count</th>\n",
       "      <th>decile_score</th>\n",
       "      <th>two_year_recid</th>\n",
       "      <th>high_score</th>\n",
       "      <th>predicted_recid</th>\n",
       "    </tr>\n",
       "  </thead>\n",
       "  <tbody>\n",
       "    <tr>\n",
       "      <th>4</th>\n",
       "      <td>41</td>\n",
       "      <td>F</td>\n",
       "      <td>Caucasian</td>\n",
       "      <td>25 - 45</td>\n",
       "      <td>Male</td>\n",
       "      <td>14</td>\n",
       "      <td>6</td>\n",
       "      <td>1</td>\n",
       "      <td>1</td>\n",
       "      <td>1</td>\n",
       "    </tr>\n",
       "    <tr>\n",
       "      <th>6</th>\n",
       "      <td>39</td>\n",
       "      <td>M</td>\n",
       "      <td>Caucasian</td>\n",
       "      <td>25 - 45</td>\n",
       "      <td>Female</td>\n",
       "      <td>0</td>\n",
       "      <td>1</td>\n",
       "      <td>0</td>\n",
       "      <td>0</td>\n",
       "      <td>0</td>\n",
       "    </tr>\n",
       "    <tr>\n",
       "      <th>7</th>\n",
       "      <td>27</td>\n",
       "      <td>F</td>\n",
       "      <td>Caucasian</td>\n",
       "      <td>25 - 45</td>\n",
       "      <td>Male</td>\n",
       "      <td>0</td>\n",
       "      <td>4</td>\n",
       "      <td>0</td>\n",
       "      <td>0</td>\n",
       "      <td>0</td>\n",
       "    </tr>\n",
       "    <tr>\n",
       "      <th>9</th>\n",
       "      <td>37</td>\n",
       "      <td>M</td>\n",
       "      <td>Caucasian</td>\n",
       "      <td>25 - 45</td>\n",
       "      <td>Female</td>\n",
       "      <td>0</td>\n",
       "      <td>1</td>\n",
       "      <td>0</td>\n",
       "      <td>0</td>\n",
       "      <td>0</td>\n",
       "    </tr>\n",
       "    <tr>\n",
       "      <th>11</th>\n",
       "      <td>47</td>\n",
       "      <td>F</td>\n",
       "      <td>Caucasian</td>\n",
       "      <td>Greater than 45</td>\n",
       "      <td>Female</td>\n",
       "      <td>1</td>\n",
       "      <td>1</td>\n",
       "      <td>1</td>\n",
       "      <td>0</td>\n",
       "      <td>0</td>\n",
       "    </tr>\n",
       "    <tr>\n",
       "      <th>...</th>\n",
       "      <td>...</td>\n",
       "      <td>...</td>\n",
       "      <td>...</td>\n",
       "      <td>...</td>\n",
       "      <td>...</td>\n",
       "      <td>...</td>\n",
       "      <td>...</td>\n",
       "      <td>...</td>\n",
       "      <td>...</td>\n",
       "      <td>...</td>\n",
       "    </tr>\n",
       "    <tr>\n",
       "      <th>6148</th>\n",
       "      <td>36</td>\n",
       "      <td>M</td>\n",
       "      <td>Caucasian</td>\n",
       "      <td>25 - 45</td>\n",
       "      <td>Male</td>\n",
       "      <td>0</td>\n",
       "      <td>1</td>\n",
       "      <td>0</td>\n",
       "      <td>0</td>\n",
       "      <td>0</td>\n",
       "    </tr>\n",
       "    <tr>\n",
       "      <th>6151</th>\n",
       "      <td>32</td>\n",
       "      <td>F</td>\n",
       "      <td>Caucasian</td>\n",
       "      <td>25 - 45</td>\n",
       "      <td>Male</td>\n",
       "      <td>0</td>\n",
       "      <td>2</td>\n",
       "      <td>0</td>\n",
       "      <td>0</td>\n",
       "      <td>0</td>\n",
       "    </tr>\n",
       "    <tr>\n",
       "      <th>6153</th>\n",
       "      <td>30</td>\n",
       "      <td>M</td>\n",
       "      <td>Caucasian</td>\n",
       "      <td>25 - 45</td>\n",
       "      <td>Female</td>\n",
       "      <td>2</td>\n",
       "      <td>1</td>\n",
       "      <td>1</td>\n",
       "      <td>0</td>\n",
       "      <td>0</td>\n",
       "    </tr>\n",
       "    <tr>\n",
       "      <th>6158</th>\n",
       "      <td>23</td>\n",
       "      <td>F</td>\n",
       "      <td>Caucasian</td>\n",
       "      <td>Less than 25</td>\n",
       "      <td>Male</td>\n",
       "      <td>0</td>\n",
       "      <td>8</td>\n",
       "      <td>0</td>\n",
       "      <td>1</td>\n",
       "      <td>1</td>\n",
       "    </tr>\n",
       "    <tr>\n",
       "      <th>6164</th>\n",
       "      <td>21</td>\n",
       "      <td>M</td>\n",
       "      <td>Caucasian</td>\n",
       "      <td>Less than 25</td>\n",
       "      <td>Male</td>\n",
       "      <td>0</td>\n",
       "      <td>6</td>\n",
       "      <td>1</td>\n",
       "      <td>1</td>\n",
       "      <td>1</td>\n",
       "    </tr>\n",
       "  </tbody>\n",
       "</table>\n",
       "<p>2103 rows × 10 columns</p>\n",
       "</div>"
      ],
      "text/plain": [
       "      age c_charge_degree       race          age_cat     sex  priors_count  \\\n",
       "4      41               F  Caucasian          25 - 45    Male            14   \n",
       "6      39               M  Caucasian          25 - 45  Female             0   \n",
       "7      27               F  Caucasian          25 - 45    Male             0   \n",
       "9      37               M  Caucasian          25 - 45  Female             0   \n",
       "11     47               F  Caucasian  Greater than 45  Female             1   \n",
       "...   ...             ...        ...              ...     ...           ...   \n",
       "6148   36               M  Caucasian          25 - 45    Male             0   \n",
       "6151   32               F  Caucasian          25 - 45    Male             0   \n",
       "6153   30               M  Caucasian          25 - 45  Female             2   \n",
       "6158   23               F  Caucasian     Less than 25    Male             0   \n",
       "6164   21               M  Caucasian     Less than 25    Male             0   \n",
       "\n",
       "      decile_score  two_year_recid  high_score  predicted_recid  \n",
       "4                6               1           1                1  \n",
       "6                1               0           0                0  \n",
       "7                4               0           0                0  \n",
       "9                1               0           0                0  \n",
       "11               1               1           0                0  \n",
       "...            ...             ...         ...              ...  \n",
       "6148             1               0           0                0  \n",
       "6151             2               0           0                0  \n",
       "6153             1               1           0                0  \n",
       "6158             8               0           1                1  \n",
       "6164             6               1           1                1  \n",
       "\n",
       "[2103 rows x 10 columns]"
      ]
     },
     "execution_count": 41,
     "metadata": {},
     "output_type": "execute_result"
    }
   ],
   "source": [
    "c = new_compas[new_compas['race'] == 'Caucasian']\n",
    "c"
   ]
  },
  {
   "cell_type": "code",
   "execution_count": 42,
   "id": "9a9b4526-4996-4e84-9106-c7ff5cf6fcbe",
   "metadata": {},
   "outputs": [
    {
     "data": {
      "text/plain": [
       "array([[ 990,  524],\n",
       "       [ 507, 1154]])"
      ]
     },
     "execution_count": 42,
     "metadata": {},
     "output_type": "execute_result"
    }
   ],
   "source": [
    "cm_aa = confusion_matrix(aa['two_year_recid'], aa['predicted_recid'])\n",
    "cm_aa"
   ]
  },
  {
   "cell_type": "code",
   "execution_count": 43,
   "id": "b189bc58-cdfe-4382-8943-a2418dda2443",
   "metadata": {},
   "outputs": [
    {
     "data": {
      "text/plain": [
       "array([[1069,  212],\n",
       "       [ 456,  366]])"
      ]
     },
     "execution_count": 43,
     "metadata": {},
     "output_type": "execute_result"
    }
   ],
   "source": [
    "cm_c = confusion_matrix(c['two_year_recid'], c['predicted_recid'])\n",
    "cm_c"
   ]
  },
  {
   "cell_type": "code",
   "execution_count": 44,
   "id": "8ed45b59-7fa6-4d21-aa30-c5849cbb3d6a",
   "metadata": {},
   "outputs": [
    {
     "data": {
      "text/plain": [
       "0.6752755905511811"
      ]
     },
     "execution_count": 44,
     "metadata": {},
     "output_type": "execute_result"
    }
   ],
   "source": [
    "accuracy_aa = accuracy_score(aa['two_year_recid'], aa['predicted_recid'])\n",
    "accuracy_aa"
   ]
  },
  {
   "cell_type": "code",
   "execution_count": 45,
   "id": "61323367-e0ff-4b41-a3eb-678189b08d75",
   "metadata": {},
   "outputs": [
    {
     "data": {
      "text/plain": [
       "0.6823585354255824"
      ]
     },
     "execution_count": 45,
     "metadata": {},
     "output_type": "execute_result"
    }
   ],
   "source": [
    "accuracy_c = accuracy_score(c['two_year_recid'], c['predicted_recid'])\n",
    "accuracy_c"
   ]
  },
  {
   "cell_type": "code",
   "execution_count": 46,
   "id": "65f58f61-dd53-49ff-9ac2-d90f30d01acc",
   "metadata": {},
   "outputs": [],
   "source": [
    "tn_aa, fp_aa, fn_aa, tp_aa = cm_aa.ravel()\n",
    "tn_c, fp_c, fn_c, tp_c = cm_c.ravel()"
   ]
  },
  {
   "cell_type": "code",
   "execution_count": 47,
   "id": "202130f8-698f-4160-828e-9aec1c149457",
   "metadata": {},
   "outputs": [
    {
     "data": {
      "text/plain": [
       "(0.34610303830911493, 0.16549570647931303)"
      ]
     },
     "execution_count": 47,
     "metadata": {},
     "output_type": "execute_result"
    }
   ],
   "source": [
    "FPR_aa = fp_aa / (fp_aa + tn_aa)\n",
    "FPR_c = fp_c / (fp_c + tn_c)\n",
    "FPR_aa, FPR_c"
   ]
  },
  {
   "cell_type": "code",
   "execution_count": 48,
   "id": "0969339f-6c32-47aa-abc8-9febccc19e9e",
   "metadata": {},
   "outputs": [
    {
     "data": {
      "text/plain": [
       "(0.30523780854906685, 0.5547445255474452)"
      ]
     },
     "execution_count": 48,
     "metadata": {},
     "output_type": "execute_result"
    }
   ],
   "source": [
    "FNR_aa = fn_aa / (fn_aa + tp_aa)\n",
    "FNR_c = fn_c / (fn_c + tp_c)\n",
    "FNR_aa, FNR_c"
   ]
  },
  {
   "cell_type": "markdown",
   "id": "0fdbc84c-ed1a-49b1-9ca7-baa5526abe80",
   "metadata": {},
   "source": [
    "**For the COMPAS model:**  \n",
    "The FPR for African-Americans is 42.3% and for Caucasians is 22%.  \n",
    "The FNR for African-Americans is 28.5% and for Caucasians is 49.6%.  \n",
    "\n",
    "**For my model:**   \n",
    "The FPR for African-Americans is 34.61% and for Caucasians is 16.55%.  \n",
    "The FNR for African-Americans is 30.52% and for Caucasians is 55.47%.  \n",
    "\n",
    "**Group Fairness:** From a group fairness perspective, we would want the FPR and FNR to be similar for both races in each model.\n",
    "\n",
    "In the COMPAS model, the difference in FPR between African-Americans and Caucasians is 20.3 percentage points (42.3% - 22%), and the difference in FNR is 21.1 percentage points (49.6% - 28.5%).\n",
    "\n",
    "In my model, the difference in FPR between African-Americans and Caucasians is 18.06 percentage points (34.61% - 16.55%), and the difference in FNR is 24.95 percentage points (55.47% - 30.52%).\n",
    "\n",
    "From a group fairness perspective, my model appears to be more fair in terms of FPR, as the disparity between the races is smaller than in the COMPAS model. However, the disparity in FNR is slightly larger in my model compared to the COMPAS model.\n",
    "\n",
    "\n",
    "**Individual Fairness:** From the perspective of individual fairness, which aims to ensure similar individuals are treated similarly, the evaluation is more nuanced:\n",
    "\n",
    "While my model has lower FPRs, suggesting it is better at avoiding wrongful high risk predictions for individuals, it has a higher FNR for African-Americans and Caucasians. This means my model may be more likely to underestimate the risk of recidivism for African-Americans and Caucasians, potentially overlooking individuals who may benefit from interventions. We do not have treatment information here, but we can see that given the score AA-s have higher re-offence probabilities. So There are good arguments for not treating similar individuals in a similar manner. From a individual fairness perspective, compas model appears to be more fair."
   ]
  },
  {
   "cell_type": "markdown",
   "id": "584c52d6-d90b-49d0-8e97-36f54ad1368a",
   "metadata": {},
   "source": [
    "#### 3.Interpret your results from 2.2.1 and 2.2.2, and explain whether your model is any better (or worse) than COMPAS in terms of fairness."
   ]
  },
  {
   "cell_type": "markdown",
   "id": "9496722d-0e03-4fc2-973a-465ae111fab7",
   "metadata": {},
   "source": [
    "**Group Fairness:** My model seems to perform better than COMPAS in terms of group fairness. This is indicated by the smaller disparity in recidivism rates between different racial groups (African-Americans and Caucasians) in my model compared to COMPAS. In particular, my model has a lower False Positive Rate (FPR) for both African-Americans and Caucasians and a smaller disparity in FPR between these groups compared to COMPAS. This is a positive aspect of group fairness as it suggests that my model is less likely to unfairly label individuals as high risk.\n",
    "\n",
    "**Individual Fairness:** The results are more nuanced from the perspective of individual fairness. While my model generally maintains a consistent trend in that individuals labeled as high risk have a higher rate of recidivism than those labeled as low risk, there's a potential concern that my model might be underestimating the risk of recidivism for African-Americans and Caucasians (as indicated by a higher False Negative Rate, FNR, for African-Americans and Caucasians in my model compared to COMPAS). This could mean that individuals who could benefit from interventions are being overlooked, which could be a challenge in terms of individual fairness.\n",
    "\n",
    "In conclusion, my model seems to be more fair than COMPAS in terms of group fairness, but faces some challenges in terms of individual fairness. "
   ]
  },
  {
   "cell_type": "markdown",
   "id": "2d4d948f-4b73-442c-9a20-2a2b5bc29f94",
   "metadata": {
    "tags": []
   },
   "source": [
    "## Finally \n",
    "### I spent 14 hours in this problem set. Thanks for your help this quarter."
   ]
  }
 ],
 "metadata": {
  "kernelspec": {
   "display_name": "Python 3 (ipykernel)",
   "language": "python",
   "name": "python3"
  },
  "language_info": {
   "codemirror_mode": {
    "name": "ipython",
    "version": 3
   },
   "file_extension": ".py",
   "mimetype": "text/x-python",
   "name": "python",
   "nbconvert_exporter": "python",
   "pygments_lexer": "ipython3",
   "version": "3.9.7"
  },
  "toc-autonumbering": false
 },
 "nbformat": 4,
 "nbformat_minor": 5
}
